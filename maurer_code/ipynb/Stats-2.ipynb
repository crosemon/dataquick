{
 "metadata": {
  "name": ""
 },
 "nbformat": 3,
 "nbformat_minor": 0,
 "worksheets": [
  {
   "cells": [
    {
     "cell_type": "markdown",
     "metadata": {},
     "source": [
      "### Dataquick sales and assessor data - County-level descriptive statistics for Bay Area\n",
      "\n",
      "Sam Maurer - maurer@berkeley.edu - last updated Aug 19, 2014\n",
      "\n",
      "."
     ]
    },
    {
     "cell_type": "code",
     "collapsed": false,
     "input": [
      "import psycopg2\n",
      "import json\n",
      "import numpy as np\n",
      "import time"
     ],
     "language": "python",
     "metadata": {},
     "outputs": [],
     "prompt_number": 1
    },
    {
     "cell_type": "code",
     "collapsed": false,
     "input": [
      "# Connect to the database\n",
      "conn_string = \"host='localhost' dbname='dataquick' user='smmaurer' password=''\"\n",
      "conn = psycopg2.connect(conn_string)\n",
      "cur = conn.cursor()"
     ],
     "language": "python",
     "metadata": {},
     "outputs": [],
     "prompt_number": 141
    },
    {
     "cell_type": "code",
     "collapsed": false,
     "input": [
      "# County name and mm_fips_muni_code\n",
      "\n",
      "cty = [{'fips': 1,  'name': 'Alameda'},\n",
      "       {'fips': 13, 'name': 'Contra Costa'},\n",
      "       {'fips': 41, 'name': 'Marin'},\n",
      "       {'fips': 55, 'name': 'Napa'},\n",
      "       {'fips': 75, 'name': 'San Francisco'},\n",
      "       {'fips': 81, 'name': 'San Mateo'},\n",
      "       {'fips': 85, 'name': 'Santa Clara'},\n",
      "       {'fips': 95, 'name': 'Solano'},\n",
      "       {'fips': 97, 'name': 'Sonoma'}]"
     ],
     "language": "python",
     "metadata": {},
     "outputs": [],
     "prompt_number": 4
    },
    {
     "cell_type": "code",
     "collapsed": false,
     "input": [],
     "language": "python",
     "metadata": {},
     "outputs": [],
     "prompt_number": 52
    },
    {
     "cell_type": "code",
     "collapsed": false,
     "input": [
      "# Function for printing full stats - ORIGINAL WITHOUT USE FILTERS\n",
      "# - for numeric data types\n",
      "\n",
      "def full_stats(var, title, table=\"assessor\", extendedquery=\"\", querydescrip=\"\"):\n",
      "\n",
      "    t0 = time.time()\n",
      "    conn.commit()\n",
      "    \n",
      "    print table.upper() + \" table\"\n",
      "    print title + \" - \" + var.upper() + querydescrip\n",
      "    print\n",
      "    \n",
      "    for c in cty:\n",
      "        cur.execute(\"SELECT \"+var+\" FROM master.\"+table+\" \" +\n",
      "                    \"WHERE mm_fips_muni_code = %s\"+extendedquery, (c['fips'],))\n",
      "        out = cur.fetchall()\n",
      "        \n",
      "        # One of the fields uses floats to store int values -\n",
      "        #   we need to cast missing values to NaN and convert to ints\n",
      "        if var == 'sa_condition_code':\n",
      "            out1 = np.floor(np.array(out, dtype=np.float))\n",
      "            \n",
      "        else:\n",
      "            out1 = np.array(out)\n",
      "            \n",
      "        out2 = out1[out1>0]\n",
      "        pct = round(np.shape(out2)[0]*100.0/np.shape(out1)[0],1)\n",
      "        \n",
      "        print c['name'].upper()\n",
      "        print \"nonzero values:\", np.shape(out2)[0], \"or\", pct, \"%\"\n",
      "        \n",
      "        if (np.shape(out2)[0] > 0):\n",
      "            print \"min:\", np.amin(out2), \"// 25th pct:\", np.percentile(out2, 25), \\\n",
      "                \"// median:\", np.median(out2), \"// 75th pct:\", np.percentile(out2, 75), \\\n",
      "                \"// max:\", np.amax(out2)\n",
      "        print\n",
      "    \n",
      "    print int(round(time.time()-t0)), \"seconds\""
     ],
     "language": "python",
     "metadata": {},
     "outputs": [
      {
       "output_type": "stream",
       "stream": "stdout",
       "text": [
        "\n"
       ]
      }
     ],
     "prompt_number": 131
    },
    {
     "cell_type": "code",
     "collapsed": false,
     "input": [
      "# Filter for residential use codes\n",
      "\n",
      "def full_stats_residential(var, title, table=\"assessor\"):\n",
      "\n",
      "    extendedquery = \" AND left(use_code_std,1)='R'\"\n",
      "    querydescrip = \" - Filtered for use code R\"\n",
      "    \n",
      "    full_stats(var, title, table, extendedquery, querydescrip)"
     ],
     "language": "python",
     "metadata": {},
     "outputs": [],
     "prompt_number": 94
    },
    {
     "cell_type": "code",
     "collapsed": false,
     "input": [
      "# Filter for arms-length transactions\n",
      "\n",
      "def full_stats_armslength(var, title, table=\"assessor\"):\n",
      "\n",
      "    extendedquery = \" AND sr_arms_length_flag='1'\"\n",
      "    querydescrip = \" - Filtered for arms-length code of 1\"\n",
      "    \n",
      "    full_stats(var, title, table, extendedquery, querydescrip)"
     ],
     "language": "python",
     "metadata": {},
     "outputs": [],
     "prompt_number": 134
    },
    {
     "cell_type": "code",
     "collapsed": false,
     "input": [
      "# Function for printing abbreviated stats\n",
      "# - for string data types\n",
      "\n",
      "def basic_stats(var, title, table=\"assessor\"):\n",
      "\n",
      "    t0 = time.time()\n",
      "    conn.commit()\n",
      "    \n",
      "    print table.upper() + \" table\"\n",
      "    print title + \" - \" + var.upper()\n",
      "    print\n",
      "    \n",
      "    for c in cty:\n",
      "        cur.execute(\"SELECT \"+var+\" FROM master.\"+table+\" \" +\n",
      "                    \"WHERE mm_fips_muni_code = %s\", (c['fips'],))\n",
      "        out1 = np.array(cur.fetchall())\n",
      "        out2 = out1[out1!='']\n",
      "        \n",
      "        # one field uses 'U' for unknown rather than a missing value\n",
      "        if var == \"sa_site_mail_same\":\n",
      "            out2 = out1[out1!='U']\n",
      "            \n",
      "        pct = round(np.shape(out2)[0]*100.0/np.shape(out1)[0],1)\n",
      "        \n",
      "        print c['name'].upper()\n",
      "        print \"non-missing values:\", np.shape(out2)[0], \"or\", pct, \"%\"\n",
      "        print\n",
      "    \n",
      "    print int(round(time.time()-t0)), \"seconds\"\n"
     ],
     "language": "python",
     "metadata": {},
     "outputs": [],
     "prompt_number": 95
    },
    {
     "cell_type": "markdown",
     "metadata": {},
     "source": [
      "### Stats for current assessor table"
     ]
    },
    {
     "cell_type": "code",
     "collapsed": false,
     "input": [
      "t0 = time.time()\n",
      "conn.commit()\n",
      "\n",
      "print \"Total record counts for current assessor table\"\n",
      "print\n",
      "\n",
      "for c in cty:\n",
      "    cur.execute(\"SELECT count(sa_property_id) FROM master.assessor \" +\n",
      "                \"WHERE mm_fips_muni_code=%s\", (c['fips'],))\n",
      "    count = cur.fetchall()[0][0]\n",
      "    print c['name'], \"=\", count\n",
      "    c['count'] = count\n",
      "\n",
      "print\n",
      "print int(round(time.time()-t0)), \"seconds\""
     ],
     "language": "python",
     "metadata": {},
     "outputs": [
      {
       "output_type": "stream",
       "stream": "stdout",
       "text": [
        "Total record counts for current assessor table\n",
        "\n",
        "Alameda"
       ]
      },
      {
       "output_type": "stream",
       "stream": "stdout",
       "text": [
        " = 448183\n",
        "Contra Costa"
       ]
      },
      {
       "output_type": "stream",
       "stream": "stdout",
       "text": [
        " = 371421\n",
        "Marin"
       ]
      },
      {
       "output_type": "stream",
       "stream": "stdout",
       "text": [
        " = 96739\n",
        "Napa = 51867\n",
        "San Francisco"
       ]
      },
      {
       "output_type": "stream",
       "stream": "stdout",
       "text": [
        " = 206396\n",
        "San Mateo"
       ]
      },
      {
       "output_type": "stream",
       "stream": "stdout",
       "text": [
        " = 221791\n",
        "Santa Clara"
       ]
      },
      {
       "output_type": "stream",
       "stream": "stdout",
       "text": [
        " = 478210\n",
        "Solano"
       ]
      },
      {
       "output_type": "stream",
       "stream": "stdout",
       "text": [
        " = 143335\n",
        "Sonoma"
       ]
      },
      {
       "output_type": "stream",
       "stream": "stdout",
       "text": [
        " = 188567\n",
        "\n",
        "2 seconds\n"
       ]
      }
     ],
     "prompt_number": 8
    },
    {
     "cell_type": "code",
     "collapsed": false,
     "input": [
      "t0 = time.time()\n",
      "conn.commit()\n",
      "\n",
      "codes = ['A','C','I','M','R','V']\n",
      "\n",
      "print \"Record counts by use code\"\n",
      "print\n",
      "\n",
      "for c in cty:\n",
      "    print c['name'].upper()\n",
      "    cur.execute(\"SELECT use_code_std FROM master.assessor \" +\n",
      "                \"WHERE mm_fips_muni_code = %s\", (c['fips'],))\n",
      "    out1 = np.array(cur.fetchall())\n",
      "\n",
      "    for u in codes:    \n",
      "        out2 = out1[np.char.startswith(out1, u)]\n",
      "        pct = round(np.shape(out2)[0]*100.0/np.shape(out1)[0],1)        \n",
      "        print u+\":\", np.shape(out2)[0], \"or\", pct, \"%\"            \n",
      "        c[u] = np.shape(out2)[0]\n",
      "\n",
      "    print\n",
      "\n",
      "print \"//\", int(round(time.time()-t0)), \"seconds\""
     ],
     "language": "python",
     "metadata": {},
     "outputs": [
      {
       "output_type": "stream",
       "stream": "stdout",
       "text": [
        "Record counts by use code\n",
        "\n",
        "ALAMEDA\n",
        "A:"
       ]
      },
      {
       "output_type": "stream",
       "stream": "stdout",
       "text": [
        " 1294 or 0.3 %\n",
        "C:"
       ]
      },
      {
       "output_type": "stream",
       "stream": "stdout",
       "text": [
        " 14449 or 3.2 %\n",
        "I:"
       ]
      },
      {
       "output_type": "stream",
       "stream": "stdout",
       "text": [
        " 6894 or 1.5 %\n",
        "M:"
       ]
      },
      {
       "output_type": "stream",
       "stream": "stdout",
       "text": [
        " 14450 or 3.2 %\n",
        "R:"
       ]
      },
      {
       "output_type": "stream",
       "stream": "stdout",
       "text": [
        " 398543 or 88.9 %\n",
        "V:"
       ]
      },
      {
       "output_type": "stream",
       "stream": "stdout",
       "text": [
        " 11759 or 2.6 %\n",
        "\n",
        "CONTRA COSTA\n",
        "A:"
       ]
      },
      {
       "output_type": "stream",
       "stream": "stdout",
       "text": [
        " 1505 or 0.4 %\n",
        "C:"
       ]
      },
      {
       "output_type": "stream",
       "stream": "stdout",
       "text": [
        " 12081 or 3.3 %\n",
        "I:"
       ]
      },
      {
       "output_type": "stream",
       "stream": "stdout",
       "text": [
        " 1662 or 0.4 %\n",
        "M:"
       ]
      },
      {
       "output_type": "stream",
       "stream": "stdout",
       "text": [
        " 9643 or 2.6 %\n",
        "R:"
       ]
      },
      {
       "output_type": "stream",
       "stream": "stdout",
       "text": [
        " 330806 or 89.1 %\n",
        "V:"
       ]
      },
      {
       "output_type": "stream",
       "stream": "stdout",
       "text": [
        " 13736 or 3.7 %\n",
        "\n",
        "MARIN\n",
        "A:"
       ]
      },
      {
       "output_type": "stream",
       "stream": "stdout",
       "text": [
        " 217 or 0.2 %\n",
        "C:"
       ]
      },
      {
       "output_type": "stream",
       "stream": "stdout",
       "text": [
        " 3343 or 3.5 %\n",
        "I:"
       ]
      },
      {
       "output_type": "stream",
       "stream": "stdout",
       "text": [
        " 566 or 0.6 %\n",
        "M:"
       ]
      },
      {
       "output_type": "stream",
       "stream": "stdout",
       "text": [
        " 5177 or 5.4 %\n",
        "R:"
       ]
      },
      {
       "output_type": "stream",
       "stream": "stdout",
       "text": [
        " 80776 or 83.5 %\n",
        "V:"
       ]
      },
      {
       "output_type": "stream",
       "stream": "stdout",
       "text": [
        " 6623 or 6.8 %\n",
        "\n",
        "NAPA\n",
        "A:"
       ]
      },
      {
       "output_type": "stream",
       "stream": "stdout",
       "text": [
        " 2334 or 4.5 %\n",
        "C: 2077 or 4.0 %\n",
        "I:"
       ]
      },
      {
       "output_type": "stream",
       "stream": "stdout",
       "text": [
        " 733 or 1.4 %\n",
        "M: 296 or 0.6 %\n",
        "R:"
       ]
      },
      {
       "output_type": "stream",
       "stream": "stdout",
       "text": [
        " 40321 or 77.7 %\n",
        "V: 5807 or 11.2 %\n",
        "\n",
        "SAN FRANCISCO\n",
        "A:"
       ]
      },
      {
       "output_type": "stream",
       "stream": "stdout",
       "text": [
        " 0 or 0.0 %\n",
        "C:"
       ]
      },
      {
       "output_type": "stream",
       "stream": "stdout",
       "text": [
        " 11048 or 5.4 %\n",
        "I:"
       ]
      },
      {
       "output_type": "stream",
       "stream": "stdout",
       "text": [
        " 2400 or 1.2 %\n",
        "M:"
       ]
      },
      {
       "output_type": "stream",
       "stream": "stdout",
       "text": [
        " 1616 or 0.8 %\n",
        "R:"
       ]
      },
      {
       "output_type": "stream",
       "stream": "stdout",
       "text": [
        " 185223 or 89.7 %\n",
        "V:"
       ]
      },
      {
       "output_type": "stream",
       "stream": "stdout",
       "text": [
        " 5406 or 2.6 %\n",
        "\n",
        "SAN MATEO\n",
        "A:"
       ]
      },
      {
       "output_type": "stream",
       "stream": "stdout",
       "text": [
        " 504 or 0.2 %\n",
        "C:"
       ]
      },
      {
       "output_type": "stream",
       "stream": "stdout",
       "text": [
        " 6852 or 3.1 %\n",
        "I:"
       ]
      },
      {
       "output_type": "stream",
       "stream": "stdout",
       "text": [
        " 2964 or 1.3 %\n",
        "M:"
       ]
      },
      {
       "output_type": "stream",
       "stream": "stdout",
       "text": [
        " 2899 or 1.3 %\n",
        "R:"
       ]
      },
      {
       "output_type": "stream",
       "stream": "stdout",
       "text": [
        " 196404 or 88.6 %\n",
        "V:"
       ]
      },
      {
       "output_type": "stream",
       "stream": "stdout",
       "text": [
        " 11482 or 5.2 %\n",
        "\n",
        "SANTA CLARA\n",
        "A:"
       ]
      },
      {
       "output_type": "stream",
       "stream": "stdout",
       "text": [
        " 6304 or 1.3 %\n",
        "C:"
       ]
      },
      {
       "output_type": "stream",
       "stream": "stdout",
       "text": [
        " 13417 or 2.8 %\n",
        "I:"
       ]
      },
      {
       "output_type": "stream",
       "stream": "stdout",
       "text": [
        " 6077 or 1.3 %\n",
        "M:"
       ]
      },
      {
       "output_type": "stream",
       "stream": "stdout",
       "text": [
        " 3189 or 0.7 %\n",
        "R:"
       ]
      },
      {
       "output_type": "stream",
       "stream": "stdout",
       "text": [
        " 434986 or 91.0 %\n",
        "V:"
       ]
      },
      {
       "output_type": "stream",
       "stream": "stdout",
       "text": [
        " 8527 or 1.8 %\n",
        "\n",
        "SOLANO\n",
        "A:"
       ]
      },
      {
       "output_type": "stream",
       "stream": "stdout",
       "text": [
        " 3174 or 2.2 %\n",
        "C:"
       ]
      },
      {
       "output_type": "stream",
       "stream": "stdout",
       "text": [
        " 3238 or 2.3 %\n",
        "I:"
       ]
      },
      {
       "output_type": "stream",
       "stream": "stdout",
       "text": [
        " 1101 or 0.8 %\n",
        "M:"
       ]
      },
      {
       "output_type": "stream",
       "stream": "stdout",
       "text": [
        " 8095 or 5.6 %\n",
        "R:"
       ]
      },
      {
       "output_type": "stream",
       "stream": "stdout",
       "text": [
        " 121907 or 85.1 %\n",
        "V:"
       ]
      },
      {
       "output_type": "stream",
       "stream": "stdout",
       "text": [
        " 5498 or 3.8 %\n",
        "\n",
        "SONOMA\n",
        "A:"
       ]
      },
      {
       "output_type": "stream",
       "stream": "stdout",
       "text": [
        " 8821 or 4.7 %\n",
        "C:"
       ]
      },
      {
       "output_type": "stream",
       "stream": "stdout",
       "text": [
        " 7594 or 4.0 %\n",
        "I:"
       ]
      },
      {
       "output_type": "stream",
       "stream": "stdout",
       "text": [
        " 1729 or 0.9 %\n",
        "M:"
       ]
      },
      {
       "output_type": "stream",
       "stream": "stdout",
       "text": [
        " 5046 or 2.7 %\n",
        "R:"
       ]
      },
      {
       "output_type": "stream",
       "stream": "stdout",
       "text": [
        " 148698 or 78.9 %\n",
        "V:"
       ]
      },
      {
       "output_type": "stream",
       "stream": "stdout",
       "text": [
        " 16279 or 8.6 %\n",
        "\n",
        "// 25 seconds\n"
       ]
      }
     ],
     "prompt_number": 12
    },
    {
     "cell_type": "code",
     "collapsed": false,
     "input": [
      "full_stats(\"SA_NBR_RMS\", \"Number of rooms\")"
     ],
     "language": "python",
     "metadata": {},
     "outputs": [
      {
       "output_type": "stream",
       "stream": "stdout",
       "text": [
        "Number of rooms - SA_NBR_RMS\n",
        "\n",
        "ALAMEDA"
       ]
      },
      {
       "output_type": "stream",
       "stream": "stdout",
       "text": [
        "\n",
        "nonzero values: 363776 or 81.2 %\n",
        "min: 1 // 25th pct: 5.0 // median: 6.0 // 75th pct: "
       ]
      },
      {
       "output_type": "stream",
       "stream": "stdout",
       "text": [
        "8.0 // max: 999\n",
        "\n",
        "CONTRA COSTA"
       ]
      },
      {
       "output_type": "stream",
       "stream": "stdout",
       "text": [
        "\n",
        "nonzero values: 331338 or 89.2 %\n",
        "min: 1 // 25th pct: 6.0 // median: 8.0 // 75th pct: "
       ]
      },
      {
       "output_type": "stream",
       "stream": "stdout",
       "text": [
        "10.0 // max: 1408\n",
        "\n",
        "MARIN"
       ]
      },
      {
       "output_type": "stream",
       "stream": "stdout",
       "text": [
        "\n",
        "nonzero values: 20758 or 21.5 %\n",
        "min: 1 // 25th pct: 5.0 // median: 6.0 // 75th pct: 7.0 // max: 77\n",
        "\n",
        "NAPA"
       ]
      },
      {
       "output_type": "stream",
       "stream": "stdout",
       "text": [
        "\n",
        "nonzero values: 31143 or 60.0 %\n",
        "min: 1 // 25th pct: 5.0 // median: 6.0 // 75th pct: 7.0 // max: 96\n",
        "\n",
        "SAN FRANCISCO"
       ]
      },
      {
       "output_type": "stream",
       "stream": "stdout",
       "text": [
        "\n",
        "nonzero values: 176601 or 85.6 %\n",
        "min: 1 // 25th pct: 5.0 // median: 6.0 // 75th pct: 9.0 // max: 3606\n",
        "\n",
        "SAN MATEO"
       ]
      },
      {
       "output_type": "stream",
       "stream": "stdout",
       "text": [
        "\n",
        "nonzero values: 193517 or 87.3 %\n",
        "min: 1 // 25th pct: 5.0 // median: 6.0 // 75th pct: 8.0 // max: 3606\n",
        "\n",
        "SANTA CLARA"
       ]
      },
      {
       "output_type": "stream",
       "stream": "stdout",
       "text": [
        "\n",
        "nonzero values: 414231 or 86.6 %\n",
        "min: 1 // 25th pct: 6.0 // median: 7.0 // 75th pct: "
       ]
      },
      {
       "output_type": "stream",
       "stream": "stdout",
       "text": [
        "8.0 // max: 99\n",
        "\n",
        "SOLANO"
       ]
      },
      {
       "output_type": "stream",
       "stream": "stdout",
       "text": [
        "\n",
        "nonzero values: 106978 or 74.6 %\n",
        "min: 1 // 25th pct: 6.0 // median: 7.0 // 75th pct: 9.0 // max: 60\n",
        "\n",
        "SONOMA"
       ]
      },
      {
       "output_type": "stream",
       "stream": "stdout",
       "text": [
        "\n",
        "nonzero values: 135941 or 72.1 %\n",
        "min: 1 // 25th pct: 4.0 // median: 6.0 // 75th pct: 7.0 // max: 97\n",
        "\n",
        "19 seconds\n"
       ]
      }
     ],
     "prompt_number": 22
    },
    {
     "cell_type": "code",
     "collapsed": false,
     "input": [
      "full_stats_residential(\"SA_NBR_RMS\", \"Number of rooms\")"
     ],
     "language": "python",
     "metadata": {},
     "outputs": [
      {
       "output_type": "stream",
       "stream": "stdout",
       "text": [
        "Number of rooms - SA_NBR_RMS - Filtered for use code R\n",
        "\n",
        "ALAMEDA"
       ]
      },
      {
       "output_type": "stream",
       "stream": "stdout",
       "text": [
        "\n",
        "nonzero values: 361141 or 90.6 %\n",
        "min: 1 // 25th pct: 5.0 // median: 6.0 // 75th pct: "
       ]
      },
      {
       "output_type": "stream",
       "stream": "stdout",
       "text": [
        "8.0 // max: 999\n",
        "\n",
        "CONTRA COSTA"
       ]
      },
      {
       "output_type": "stream",
       "stream": "stdout",
       "text": [
        "\n",
        "nonzero values: 327021 or 98.9 %\n",
        "min: 1 // 25th pct: 6.0 // median: 8.0 // 75th pct: "
       ]
      },
      {
       "output_type": "stream",
       "stream": "stdout",
       "text": [
        "10.0 // max: 1008\n",
        "\n",
        "MARIN"
       ]
      },
      {
       "output_type": "stream",
       "stream": "stdout",
       "text": [
        "\n",
        "nonzero values: 20639 or 25.6 %\n",
        "min: 1 // 25th pct: 5.0 // median: 6.0 // 75th pct: 7.0 // max: 77\n",
        "\n",
        "NAPA"
       ]
      },
      {
       "output_type": "stream",
       "stream": "stdout",
       "text": [
        "\n",
        "nonzero values: 30031 or 74.5 %\n",
        "min: 1 // 25th pct: 5.0 // median: 6.0 // 75th pct: 7.0 // max: 96\n",
        "\n",
        "SAN FRANCISCO"
       ]
      },
      {
       "output_type": "stream",
       "stream": "stdout",
       "text": [
        "\n",
        "nonzero values: 164925 or 89.0 %\n",
        "min: 1 // 25th pct: 5.0 // median: 6.0 // 75th pct: 8.0 // max: 1792\n",
        "\n",
        "SAN MATEO"
       ]
      },
      {
       "output_type": "stream",
       "stream": "stdout",
       "text": [
        "\n",
        "nonzero values: 192696 or 98.1 %\n",
        "min: 1 // 25th pct: 5.0 // median: 6.0 // 75th pct: 8.0 // max: 3606\n",
        "\n",
        "SANTA CLARA"
       ]
      },
      {
       "output_type": "stream",
       "stream": "stdout",
       "text": [
        "\n",
        "nonzero values: 413205 or 95.0 %\n",
        "min: 1 // 25th pct: 6.0 // median: 7.0 // 75th pct: "
       ]
      },
      {
       "output_type": "stream",
       "stream": "stdout",
       "text": [
        "8.0 // max: 99\n",
        "\n",
        "SOLANO"
       ]
      },
      {
       "output_type": "stream",
       "stream": "stdout",
       "text": [
        "\n",
        "nonzero values: 106611 or 87.5 %\n",
        "min: 1 // 25th pct: 6.0 // median: 7.0 // 75th pct: 9.0 // max: 47\n",
        "\n",
        "SONOMA"
       ]
      },
      {
       "output_type": "stream",
       "stream": "stdout",
       "text": [
        "\n",
        "nonzero values: 131553 or 88.5 %\n",
        "min: 1 // 25th pct: 4.0 // median: 6.0 // 75th pct: 7.0 // max: 97\n",
        "\n",
        "18 seconds\n"
       ]
      }
     ],
     "prompt_number": 25
    },
    {
     "cell_type": "code",
     "collapsed": false,
     "input": [
      "full_stats(\"SA_NBR_BEDRMS\", \"Number of bedrooms\")"
     ],
     "language": "python",
     "metadata": {},
     "outputs": [
      {
       "output_type": "stream",
       "stream": "stdout",
       "text": [
        "Number of bedrooms - SA_NBR_BEDRMS\n",
        "\n",
        "ALAMEDA"
       ]
      },
      {
       "output_type": "stream",
       "stream": "stdout",
       "text": [
        "\n",
        "nonzero values: 380186 or 84.8 %\n",
        "min: 1 // 25th pct: 2.0 // median: 3.0 // 75th pct: 4.0 // max: "
       ]
      },
      {
       "output_type": "stream",
       "stream": "stdout",
       "text": [
        "980\n",
        "\n",
        "CONTRA COSTA"
       ]
      },
      {
       "output_type": "stream",
       "stream": "stdout",
       "text": [
        "\n",
        "nonzero values: 322462 or 86.8 %\n",
        "min: 1 // 25th pct: 3.0 // median: 3.0 // 75th pct: 4.0 // max: 33\n",
        "\n",
        "MARIN"
       ]
      },
      {
       "output_type": "stream",
       "stream": "stdout",
       "text": [
        "\n",
        "nonzero values: 78913 or 81.6 %\n",
        "min: 1 // 25th pct: 3.0 // median: 3.0 // 75th pct: 4.0 // max: 84\n",
        "\n",
        "NAPA"
       ]
      },
      {
       "output_type": "stream",
       "stream": "stdout",
       "text": [
        "\n",
        "nonzero values: 37629 or 72.5 %\n",
        "min: 1 // 25th pct: 3.0 // median: 3.0 // 75th pct: 4.0 // max: 182\n",
        "\n",
        "SAN FRANCISCO"
       ]
      },
      {
       "output_type": "stream",
       "stream": "stdout",
       "text": [
        "\n",
        "nonzero values: 93685 or 45.4 %\n",
        "min: 1 // 25th pct: 2.0 // median: 2.0 // 75th pct: 3.0 // max: 3800\n",
        "\n",
        "SAN MATEO"
       ]
      },
      {
       "output_type": "stream",
       "stream": "stdout",
       "text": [
        "\n",
        "nonzero values: 192669 or 86.9 %\n",
        "min: 1 // 25th pct: 2.0 // median: 3.0 // 75th pct: 4.0 // max: 1589\n",
        "\n",
        "SANTA CLARA"
       ]
      },
      {
       "output_type": "stream",
       "stream": "stdout",
       "text": [
        "\n",
        "nonzero values: 414171 or 86.6 %\n",
        "min: 1 // 25th pct: 3.0 // median: 3.0 // 75th pct: "
       ]
      },
      {
       "output_type": "stream",
       "stream": "stdout",
       "text": [
        "4.0 // max: 99\n",
        "\n",
        "SOLANO"
       ]
      },
      {
       "output_type": "stream",
       "stream": "stdout",
       "text": [
        "\n",
        "nonzero values: 118156 or 82.4 %\n",
        "min: 1 // 25th pct: 3.0 // median: 3.0 // 75th pct: 4.0 // max: 10\n",
        "\n",
        "SONOMA"
       ]
      },
      {
       "output_type": "stream",
       "stream": "stdout",
       "text": [
        "\n",
        "nonzero values: 136578 or 72.4 %\n",
        "min: 1 // 25th pct: 2.0 // median: 3.0 // 75th pct: 3.0 // max: 176\n",
        "\n",
        "18 seconds\n"
       ]
      }
     ],
     "prompt_number": 31
    },
    {
     "cell_type": "code",
     "collapsed": false,
     "input": [
      "full_stats(\"SA_NBR_UNITS\", \"Number of units\")"
     ],
     "language": "python",
     "metadata": {},
     "outputs": [
      {
       "output_type": "stream",
       "stream": "stdout",
       "text": [
        "Number of units - SA_NBR_UNITS\n",
        "\n",
        "ALAMEDA"
       ]
      },
      {
       "output_type": "stream",
       "stream": "stdout",
       "text": [
        "\n",
        "nonzero values: 390202 or 87.1 %\n",
        "min: 1 // 25th pct: 1.0 // median: 1.0 // 75th pct: 1.0 // max: 7126\n",
        "\n",
        "CONTRA COSTA"
       ]
      },
      {
       "output_type": "stream",
       "stream": "stdout",
       "text": [
        "\n",
        "nonzero values: 308734 or 83.1 %\n",
        "min: 1 // 25th pct: 1.0 // median: 1.0 // 75th pct: 1.0 // max: 8000\n",
        "\n",
        "MARIN"
       ]
      },
      {
       "output_type": "stream",
       "stream": "stdout",
       "text": [
        "\n",
        "nonzero values: 76445 or 79.0 %\n",
        "min: 1 // 25th pct: 1.0 // median: 1.0 // 75th pct: 1.0 // max: 254\n",
        "\n",
        "NAPA"
       ]
      },
      {
       "output_type": "stream",
       "stream": "stdout",
       "text": [
        "\n",
        "nonzero values: 29805 or 57.5 %\n",
        "min: 1 // 25th pct: 1.0 // median: 1.0 // 75th pct: 1.0 // max: 99\n",
        "\n",
        "SAN FRANCISCO"
       ]
      },
      {
       "output_type": "stream",
       "stream": "stdout",
       "text": [
        "\n",
        "nonzero values: 173832 or 84.2 %\n",
        "min: 1 // 25th pct: 1.0 // median: 1.0 // 75th pct: 1.0 // max: 4000\n",
        "\n",
        "SAN MATEO"
       ]
      },
      {
       "output_type": "stream",
       "stream": "stdout",
       "text": [
        "\n",
        "nonzero values: 189040 or 85.2 %\n",
        "min: 1 // 25th pct: 1.0 // median: 1.0 // 75th pct: 1.0 // max: 6515\n",
        "\n",
        "SANTA CLARA"
       ]
      },
      {
       "output_type": "stream",
       "stream": "stdout",
       "text": [
        "\n",
        "nonzero values: 427126 or 89.3 %\n",
        "min: 1 // 25th pct: 1.0 // median: 1.0 // 75th pct: 1.0 // max: 9100\n",
        "\n",
        "SOLANO"
       ]
      },
      {
       "output_type": "stream",
       "stream": "stdout",
       "text": [
        "\n",
        "nonzero values: 111989 or 78.1 %\n",
        "min: 1 // 25th pct: 1.0 // median: 1.0 // 75th pct: 1.0 // max: 396\n",
        "\n",
        "SONOMA"
       ]
      },
      {
       "output_type": "stream",
       "stream": "stdout",
       "text": [
        "\n",
        "nonzero values: 151804 or 80.5 %\n",
        "min: 1 // 25th pct: 1.0 // median: 1.0 // 75th pct: 1.0 // max: 988\n",
        "\n",
        "19 seconds\n"
       ]
      }
     ],
     "prompt_number": 17
    },
    {
     "cell_type": "code",
     "collapsed": false,
     "input": [
      "full_stats_residential(\"SA_NBR_UNITS\", \"Number of units\")"
     ],
     "language": "python",
     "metadata": {},
     "outputs": [
      {
       "output_type": "stream",
       "stream": "stdout",
       "text": [
        "Number of units - SA_NBR_UNITS - Filtered for use code R\n",
        "\n",
        "ALAMEDA"
       ]
      },
      {
       "output_type": "stream",
       "stream": "stdout",
       "text": [
        "\n",
        "nonzero values: 375916 or 94.3 %\n",
        "min: 1 // 25th pct: 1.0 // median: 1.0 // 75th pct: 1.0 // max: 5827\n",
        "\n",
        "CONTRA COSTA"
       ]
      },
      {
       "output_type": "stream",
       "stream": "stdout",
       "text": [
        "\n",
        "nonzero values: 304700 or 92.1 %\n",
        "min: 1 // 25th pct: 1.0 // median: 1.0 // 75th pct: 1.0 // max: 8000\n",
        "\n",
        "MARIN"
       ]
      },
      {
       "output_type": "stream",
       "stream": "stdout",
       "text": [
        "\n",
        "nonzero values: 74783 or 92.6 %\n",
        "min: 1 // 25th pct: 1.0 // median: 1.0 // 75th pct: 1.0 // max: 254\n",
        "\n",
        "NAPA"
       ]
      },
      {
       "output_type": "stream",
       "stream": "stdout",
       "text": [
        "\n",
        "nonzero values: 29278 or 72.6 %\n",
        "min: 1 // 25th pct: 1.0 // median: 1.0 // 75th pct: 1.0 // max: 99\n",
        "\n",
        "SAN FRANCISCO"
       ]
      },
      {
       "output_type": "stream",
       "stream": "stdout",
       "text": [
        "\n",
        "nonzero values: 157171 or 84.9 %\n",
        "min: 1 // 25th pct: 1.0 // median: 1.0 // 75th pct: 1.0 // max: 986\n",
        "\n",
        "SAN MATEO"
       ]
      },
      {
       "output_type": "stream",
       "stream": "stdout",
       "text": [
        "\n",
        "nonzero values: 187811 or 95.6 %\n",
        "min: 1 // 25th pct: 1.0 // median: 1.0 // 75th pct: 1.0 // max: 6515\n",
        "\n",
        "SANTA CLARA"
       ]
      },
      {
       "output_type": "stream",
       "stream": "stdout",
       "text": [
        "\n",
        "nonzero values: 410396 or 94.3 %\n",
        "min: 1 // 25th pct: 1.0 // median: 1.0 // 75th pct: 1.0 // max: 9100\n",
        "\n",
        "SOLANO"
       ]
      },
      {
       "output_type": "stream",
       "stream": "stdout",
       "text": [
        "\n",
        "nonzero values: 111569 or 91.5 %\n",
        "min: 1 // 25th pct: 1.0 // median: 1.0 // 75th pct: 1.0 // max: 396\n",
        "\n",
        "SONOMA"
       ]
      },
      {
       "output_type": "stream",
       "stream": "stdout",
       "text": [
        "\n",
        "nonzero values: 138295 or 93.0 %\n",
        "min: 1 // 25th pct: 1.0 // median: 1.0 // 75th pct: 1.0 // max: 492\n",
        "\n",
        "18 seconds\n"
       ]
      }
     ],
     "prompt_number": 27
    },
    {
     "cell_type": "code",
     "collapsed": false,
     "input": [
      "full_stats(\"sa_sqft\", \"Square footage\")"
     ],
     "language": "python",
     "metadata": {},
     "outputs": [
      {
       "output_type": "stream",
       "stream": "stdout",
       "text": [
        "Square footage - SA_SQFT\n",
        "\n",
        "ALAMEDA"
       ]
      },
      {
       "output_type": "stream",
       "stream": "stdout",
       "text": [
        "\n",
        "nonzero values: 411525 or 91.8 %\n",
        "min: 1 // 25th pct: "
       ]
      },
      {
       "output_type": "stream",
       "stream": "stdout",
       "text": [
        "1162.0 // median: "
       ]
      },
      {
       "output_type": "stream",
       "stream": "stdout",
       "text": [
        "1541.0 // 75th pct: "
       ]
      },
      {
       "output_type": "stream",
       "stream": "stdout",
       "text": [
        "2139.0 // max: 4363392\n",
        "\n",
        "CONTRA COSTA"
       ]
      },
      {
       "output_type": "stream",
       "stream": "stdout",
       "text": [
        "\n",
        "nonzero values: 339236 or 91.3 %\n",
        "min: 100 // 25th pct: "
       ]
      },
      {
       "output_type": "stream",
       "stream": "stdout",
       "text": [
        "1261.0 // median: "
       ]
      },
      {
       "output_type": "stream",
       "stream": "stdout",
       "text": [
        "1709.0 // 75th pct: "
       ]
      },
      {
       "output_type": "stream",
       "stream": "stdout",
       "text": [
        "2352.0 // max: 8944000\n",
        "\n",
        "MARIN"
       ]
      },
      {
       "output_type": "stream",
       "stream": "stdout",
       "text": [
        "\n",
        "nonzero values: 78835 or 81.5 %\n",
        "min: 10 // 25th pct: 1342.0 // median: 1778.0 // 75th pct: "
       ]
      },
      {
       "output_type": "stream",
       "stream": "stdout",
       "text": [
        "2364.0 // max: 75896\n",
        "\n",
        "NAPA"
       ]
      },
      {
       "output_type": "stream",
       "stream": "stdout",
       "text": [
        "\n",
        "nonzero values: 39593 or 76.3 %\n",
        "min: 100 // 25th pct: 1238.0 // median: 1638.0 // 75th pct: 2230.0 // max: 648238\n",
        "\n",
        "SAN FRANCISCO"
       ]
      },
      {
       "output_type": "stream",
       "stream": "stdout",
       "text": [
        "\n",
        "nonzero values: 188640 or 91.4 %\n",
        "min: 1 // 25th pct: "
       ]
      },
      {
       "output_type": "stream",
       "stream": "stdout",
       "text": [
        "1115.0 // median: "
       ]
      },
      {
       "output_type": "stream",
       "stream": "stdout",
       "text": [
        "1504.0 // 75th pct: "
       ]
      },
      {
       "output_type": "stream",
       "stream": "stdout",
       "text": [
        "2375.0 // max: 3015837\n",
        "\n",
        "SAN MATEO"
       ]
      },
      {
       "output_type": "stream",
       "stream": "stdout",
       "text": [
        "\n",
        "nonzero values: 197248 or 88.9 %\n",
        "min: 20 // 25th pct: "
       ]
      },
      {
       "output_type": "stream",
       "stream": "stdout",
       "text": [
        "1150.0 // median: 1515.0 // 75th pct: "
       ]
      },
      {
       "output_type": "stream",
       "stream": "stdout",
       "text": [
        "2140.0 // max: 15280000\n",
        "\n",
        "SANTA CLARA"
       ]
      },
      {
       "output_type": "stream",
       "stream": "stdout",
       "text": [
        "\n",
        "nonzero values: 450887 or 94.3 %\n",
        "min: 1 // 25th pct: "
       ]
      },
      {
       "output_type": "stream",
       "stream": "stdout",
       "text": [
        "1254.0 // median: "
       ]
      },
      {
       "output_type": "stream",
       "stream": "stdout",
       "text": [
        "1616.0 // 75th pct: "
       ]
      },
      {
       "output_type": "stream",
       "stream": "stdout",
       "text": [
        "2183.0 // max: 2142800\n",
        "\n",
        "SOLANO"
       ]
      },
      {
       "output_type": "stream",
       "stream": "stdout",
       "text": [
        "\n",
        "nonzero values: 122574 or 85.5 %\n",
        "min: 1 // 25th pct: 1282.0 // median: "
       ]
      },
      {
       "output_type": "stream",
       "stream": "stdout",
       "text": [
        "1619.0 // 75th pct: 2117.0 // max: 1536263\n",
        "\n",
        "SONOMA"
       ]
      },
      {
       "output_type": "stream",
       "stream": "stdout",
       "text": [
        "\n",
        "nonzero values: 142131 or 75.4 %\n",
        "min: 1 // 25th pct: 1201.0 // median: "
       ]
      },
      {
       "output_type": "stream",
       "stream": "stdout",
       "text": [
        "1545.0 // 75th pct: 2044.0 // max: 850894\n",
        "\n",
        "21 seconds\n"
       ]
      }
     ],
     "prompt_number": 19
    },
    {
     "cell_type": "code",
     "collapsed": false,
     "input": [
      "full_stats_residential(\"sa_sqft\", \"Square footage\")"
     ],
     "language": "python",
     "metadata": {},
     "outputs": [
      {
       "output_type": "stream",
       "stream": "stdout",
       "text": [
        "Square footage - SA_SQFT - Filtered for use code R\n",
        "\n",
        "ALAMEDA"
       ]
      },
      {
       "output_type": "stream",
       "stream": "stdout",
       "text": [
        "\n",
        "nonzero values: 389998 or 97.9 %\n",
        "min: 1 // 25th pct: "
       ]
      },
      {
       "output_type": "stream",
       "stream": "stdout",
       "text": [
        "1153.0 // median: "
       ]
      },
      {
       "output_type": "stream",
       "stream": "stdout",
       "text": [
        "1514.0 // 75th pct: "
       ]
      },
      {
       "output_type": "stream",
       "stream": "stdout",
       "text": [
        "2050.0 // max: 713970\n",
        "\n",
        "CONTRA COSTA"
       ]
      },
      {
       "output_type": "stream",
       "stream": "stdout",
       "text": [
        "\n",
        "nonzero values: 328686 or 99.4 %\n",
        "min: 144 // 25th pct: "
       ]
      },
      {
       "output_type": "stream",
       "stream": "stdout",
       "text": [
        "1252.0 // median: "
       ]
      },
      {
       "output_type": "stream",
       "stream": "stdout",
       "text": [
        "1692.0 // 75th pct: "
       ]
      },
      {
       "output_type": "stream",
       "stream": "stdout",
       "text": [
        "2307.0 // max: 8944000\n",
        "\n",
        "MARIN"
       ]
      },
      {
       "output_type": "stream",
       "stream": "stdout",
       "text": [
        "\n",
        "nonzero values: 77882 or 96.4 %\n",
        "min: 63 // 25th pct: 1344.0 // median: 1783.0 // 75th pct: "
       ]
      },
      {
       "output_type": "stream",
       "stream": "stdout",
       "text": [
        "2368.0 // max: 75896\n",
        "\n",
        "NAPA"
       ]
      },
      {
       "output_type": "stream",
       "stream": "stdout",
       "text": [
        "\n",
        "nonzero values: 37071 or 91.9 %\n",
        "min: 100 // 25th pct: 1231.0 // median: 1612.0 // 75th pct: 2154.0 // max: 268207\n",
        "\n",
        "SAN FRANCISCO"
       ]
      },
      {
       "output_type": "stream",
       "stream": "stdout",
       "text": [
        "\n",
        "nonzero values: 177092 or 95.6 %\n",
        "min: 1 // 25th pct: 1100.0 // median: 1463.0 // 75th pct: 2200.0 // max: 3015837\n",
        "\n",
        "SAN MATEO"
       ]
      },
      {
       "output_type": "stream",
       "stream": "stdout",
       "text": [
        "\n",
        "nonzero values: 193930 or 98.7 %\n",
        "min: 120 // 25th pct: 1150.0 // median: "
       ]
      },
      {
       "output_type": "stream",
       "stream": "stdout",
       "text": [
        "1500.0 // 75th pct: 2100.0 // max: 15280000\n",
        "\n",
        "SANTA CLARA"
       ]
      },
      {
       "output_type": "stream",
       "stream": "stdout",
       "text": [
        "\n",
        "nonzero values: 432446 or 99.4 %\n",
        "min: 1 // 25th pct: "
       ]
      },
      {
       "output_type": "stream",
       "stream": "stdout",
       "text": [
        "1248.0 // median: "
       ]
      },
      {
       "output_type": "stream",
       "stream": "stdout",
       "text": [
        "1594.0 // 75th pct: "
       ]
      },
      {
       "output_type": "stream",
       "stream": "stdout",
       "text": [
        "2121.0 // max: 918926\n",
        "\n",
        "SOLANO"
       ]
      },
      {
       "output_type": "stream",
       "stream": "stdout",
       "text": [
        "\n",
        "nonzero values: 119287 or 97.9 %\n",
        "min: 1 // 25th pct: 1276.0 // median: "
       ]
      },
      {
       "output_type": "stream",
       "stream": "stdout",
       "text": [
        "1609.0 // 75th pct: 2077.0 // max: 332571\n",
        "\n",
        "SONOMA"
       ]
      },
      {
       "output_type": "stream",
       "stream": "stdout",
       "text": [
        "\n",
        "nonzero values: 132822 or 89.3 %\n",
        "min: 40 // 25th pct: 1200.0 // median: "
       ]
      },
      {
       "output_type": "stream",
       "stream": "stdout",
       "text": [
        "1527.0 // 75th pct: 1986.0 // max: 456584\n",
        "\n",
        "20 seconds\n"
       ]
      }
     ],
     "prompt_number": 28
    },
    {
     "cell_type": "code",
     "collapsed": false,
     "input": [
      "full_stats(\"sa_yr_blt\", \"Year built\")"
     ],
     "language": "python",
     "metadata": {},
     "outputs": [
      {
       "output_type": "stream",
       "stream": "stdout",
       "text": [
        "Year built - SA_YR_BLT\n",
        "\n",
        "ALAMEDA"
       ]
      },
      {
       "output_type": "stream",
       "stream": "stdout",
       "text": [
        "\n",
        "nonzero values: 409157 or 91.3 %\n",
        "min: 1850 // 25th pct: "
       ]
      },
      {
       "output_type": "stream",
       "stream": "stdout",
       "text": [
        "1940.0 // median: "
       ]
      },
      {
       "output_type": "stream",
       "stream": "stdout",
       "text": [
        "1962.0 // 75th pct: "
       ]
      },
      {
       "output_type": "stream",
       "stream": "stdout",
       "text": [
        "1984.0 // max: 2013\n",
        "\n",
        "CONTRA COSTA"
       ]
      },
      {
       "output_type": "stream",
       "stream": "stdout",
       "text": [
        "\n",
        "nonzero values: 338112 or 91.0 %\n",
        "min: 1657 // 25th pct: "
       ]
      },
      {
       "output_type": "stream",
       "stream": "stdout",
       "text": [
        "1957.0 // median: 1975.0 // 75th pct: "
       ]
      },
      {
       "output_type": "stream",
       "stream": "stdout",
       "text": [
        "1990.0 // max: 2011\n",
        "\n",
        "MARIN"
       ]
      },
      {
       "output_type": "stream",
       "stream": "stdout",
       "text": [
        "\n",
        "nonzero values: 81883 or 84.6 %\n",
        "min: 1820 // 25th pct: 1951.0 // median: 1963.0 // 75th pct: 1976.0 // max: 2013\n",
        "\n",
        "NAPA"
       ]
      },
      {
       "output_type": "stream",
       "stream": "stdout",
       "text": [
        "\n",
        "nonzero values: 39247 or 75.7 %\n",
        "min: 58 // 25th pct: 1954.0 // median: 1972.0 // 75th pct: 1989.0 // max: 2014\n",
        "\n",
        "SAN FRANCISCO"
       ]
      },
      {
       "output_type": "stream",
       "stream": "stdout",
       "text": [
        "\n",
        "nonzero values: 194033 or 94.0 %\n",
        "min: 1791 // 25th pct: 1912.0 // median: "
       ]
      },
      {
       "output_type": "stream",
       "stream": "stdout",
       "text": [
        "1932.0 // 75th pct: 1961.0 // max: 2013\n",
        "\n",
        "SAN MATEO"
       ]
      },
      {
       "output_type": "stream",
       "stream": "stdout",
       "text": [
        "\n",
        "nonzero values: 196624 or 88.7 %\n",
        "min: 1850 // 25th pct: 1949.0 // median: "
       ]
      },
      {
       "output_type": "stream",
       "stream": "stdout",
       "text": [
        "1958.0 // 75th pct: 1973.0 // max: 2013\n",
        "\n",
        "SANTA CLARA"
       ]
      },
      {
       "output_type": "stream",
       "stream": "stdout",
       "text": [
        "\n",
        "nonzero values: 454702 or 95.1 %\n",
        "min: 1840 // 25th pct: "
       ]
      },
      {
       "output_type": "stream",
       "stream": "stdout",
       "text": [
        "1958.0 // median: "
       ]
      },
      {
       "output_type": "stream",
       "stream": "stdout",
       "text": [
        "1969.0 // 75th pct: "
       ]
      },
      {
       "output_type": "stream",
       "stream": "stdout",
       "text": [
        "1983.0 // max: 2013\n",
        "\n",
        "SOLANO"
       ]
      },
      {
       "output_type": "stream",
       "stream": "stdout",
       "text": [
        "\n",
        "nonzero values: 122729 or 85.6 %\n",
        "min: 1800 // 25th pct: 1966.0 // median: 1981.0 // 75th pct: "
       ]
      },
      {
       "output_type": "stream",
       "stream": "stdout",
       "text": [
        "1991.0 // max: 2013\n",
        "\n",
        "SONOMA"
       ]
      },
      {
       "output_type": "stream",
       "stream": "stdout",
       "text": [
        "\n",
        "nonzero values: 141188 or 74.9 %\n",
        "min: 1810 // 25th pct: 1958.0 // median: 1975.0 // 75th pct: "
       ]
      },
      {
       "output_type": "stream",
       "stream": "stdout",
       "text": [
        "1987.0 // max: 2013\n",
        "\n",
        "21 seconds\n"
       ]
      }
     ],
     "prompt_number": 21
    },
    {
     "cell_type": "code",
     "collapsed": false,
     "input": [
      "full_stats_residential(\"sa_yr_blt\", \"Year built\")"
     ],
     "language": "python",
     "metadata": {},
     "outputs": [
      {
       "output_type": "stream",
       "stream": "stdout",
       "text": [
        "Year built - SA_YR_BLT - Filtered for use code R\n",
        "\n",
        "ALAMEDA"
       ]
      },
      {
       "output_type": "stream",
       "stream": "stdout",
       "text": [
        "\n",
        "nonzero values: 388838 or 97.6 %\n",
        "min: 1850 // 25th pct: "
       ]
      },
      {
       "output_type": "stream",
       "stream": "stdout",
       "text": [
        "1940.0 // median: "
       ]
      },
      {
       "output_type": "stream",
       "stream": "stdout",
       "text": [
        "1961.0 // 75th pct: "
       ]
      },
      {
       "output_type": "stream",
       "stream": "stdout",
       "text": [
        "1984.0 // max: 2013\n",
        "\n",
        "CONTRA COSTA"
       ]
      },
      {
       "output_type": "stream",
       "stream": "stdout",
       "text": [
        "\n",
        "nonzero values: 327368 or 99.0 %\n",
        "min: 1777 // 25th pct: "
       ]
      },
      {
       "output_type": "stream",
       "stream": "stdout",
       "text": [
        "1958.0 // median: 1975.0 // 75th pct: "
       ]
      },
      {
       "output_type": "stream",
       "stream": "stdout",
       "text": [
        "1990.0 // max: 2011\n",
        "\n",
        "MARIN"
       ]
      },
      {
       "output_type": "stream",
       "stream": "stdout",
       "text": [
        "\n",
        "nonzero values: 78533 or 97.2 %\n",
        "min: 1820 // 25th pct: 1951.0 // median: 1963.0 // 75th pct: 1976.0 // max: 2013\n",
        "\n",
        "NAPA"
       ]
      },
      {
       "output_type": "stream",
       "stream": "stdout",
       "text": [
        "\n",
        "nonzero values: 36805 or 91.3 %\n",
        "min: 58 // 25th pct: 1955.0 // median: 1971.0 // 75th pct: 1989.0 // max: 2014\n",
        "\n",
        "SAN FRANCISCO"
       ]
      },
      {
       "output_type": "stream",
       "stream": "stdout",
       "text": [
        "\n",
        "nonzero values: 176057 or 95.1 %\n",
        "min: 1791 // 25th pct: 1915.0 // median: "
       ]
      },
      {
       "output_type": "stream",
       "stream": "stdout",
       "text": [
        "1937.0 // 75th pct: 1962.0 // max: 2013\n",
        "\n",
        "SAN MATEO"
       ]
      },
      {
       "output_type": "stream",
       "stream": "stdout",
       "text": [
        "\n",
        "nonzero values: 193714 or 98.6 %\n",
        "min: 1850 // 25th pct: 1949.0 // median: "
       ]
      },
      {
       "output_type": "stream",
       "stream": "stdout",
       "text": [
        "1958.0 // 75th pct: 1973.0 // max: 2013\n",
        "\n",
        "SANTA CLARA"
       ]
      },
      {
       "output_type": "stream",
       "stream": "stdout",
       "text": [
        "\n",
        "nonzero values: 433142 or 99.6 %\n",
        "min: 1840 // 25th pct: "
       ]
      },
      {
       "output_type": "stream",
       "stream": "stdout",
       "text": [
        "1958.0 // median: "
       ]
      },
      {
       "output_type": "stream",
       "stream": "stdout",
       "text": [
        "1969.0 // 75th pct: "
       ]
      },
      {
       "output_type": "stream",
       "stream": "stdout",
       "text": [
        "1982.0 // max: 2013\n",
        "\n",
        "SOLANO"
       ]
      },
      {
       "output_type": "stream",
       "stream": "stdout",
       "text": [
        "\n",
        "nonzero values: 119315 or 97.9 %\n",
        "min: 1850 // 25th pct: 1966.0 // median: 1981.0 // 75th pct: 1991.0 // max: 2013\n",
        "\n",
        "SONOMA"
       ]
      },
      {
       "output_type": "stream",
       "stream": "stdout",
       "text": [
        "\n",
        "nonzero values: 132334 or 89.0 %\n",
        "min: 1810 // 25th pct: 1959.0 // median: 1976.0 // 75th pct: "
       ]
      },
      {
       "output_type": "stream",
       "stream": "stdout",
       "text": [
        "1987.0 // max: 2013\n",
        "\n",
        "19 seconds\n"
       ]
      }
     ],
     "prompt_number": 29
    },
    {
     "cell_type": "code",
     "collapsed": false,
     "input": [
      "full_stats(\"sa_val_assd\", \"Assessed value\")"
     ],
     "language": "python",
     "metadata": {},
     "outputs": [
      {
       "output_type": "stream",
       "stream": "stdout",
       "text": [
        "Assessed value - SA_VAL_ASSD\n",
        "\n",
        "ALAMEDA"
       ]
      },
      {
       "output_type": "stream",
       "stream": "stdout",
       "text": [
        "\n",
        "nonzero values: 425296 or 94.9 %\n",
        "min: 14 // 25th pct: "
       ]
      },
      {
       "output_type": "stream",
       "stream": "stdout",
       "text": [
        "151864.0 // median: "
       ]
      },
      {
       "output_type": "stream",
       "stream": "stdout",
       "text": [
        "294122.5 // 75th pct: "
       ]
      },
      {
       "output_type": "stream",
       "stream": "stdout",
       "text": [
        "483891.25 // max: 886085479\n",
        "\n",
        "CONTRA COSTA"
       ]
      },
      {
       "output_type": "stream",
       "stream": "stdout",
       "text": [
        "\n",
        "nonzero values: 361912 or 97.4 %\n",
        "min: 1 // 25th pct: "
       ]
      },
      {
       "output_type": "stream",
       "stream": "stdout",
       "text": [
        "130922.75 // median: "
       ]
      },
      {
       "output_type": "stream",
       "stream": "stdout",
       "text": [
        "234500.0 // 75th pct: "
       ]
      },
      {
       "output_type": "stream",
       "stream": "stdout",
       "text": [
        "411500.0 // max: 896398236\n",
        "\n",
        "MARIN"
       ]
      },
      {
       "output_type": "stream",
       "stream": "stdout",
       "text": [
        "\n",
        "nonzero values: 92418 or 95.5 %\n",
        "min: 1 // 25th pct: 185491.75 // median: "
       ]
      },
      {
       "output_type": "stream",
       "stream": "stdout",
       "text": [
        "419190.5 // 75th pct: 737779.5 // max: 132397198\n",
        "\n",
        "NAPA"
       ]
      },
      {
       "output_type": "stream",
       "stream": "stdout",
       "text": [
        "\n",
        "nonzero values: 49489 or 95.4 %\n",
        "min: 45 // 25th pct: 142800.0 // median: 278287.0 // 75th pct: 457800.0 // max: "
       ]
      },
      {
       "output_type": "stream",
       "stream": "stdout",
       "text": [
        "192683054\n",
        "\n",
        "SAN FRANCISCO"
       ]
      },
      {
       "output_type": "stream",
       "stream": "stdout",
       "text": [
        "\n",
        "nonzero values: 201834 or 97.8 %\n",
        "min: 1 // 25th pct: "
       ]
      },
      {
       "output_type": "stream",
       "stream": "stdout",
       "text": [
        "178122.25 // median: "
       ]
      },
      {
       "output_type": "stream",
       "stream": "stdout",
       "text": [
        "424760.0 // 75th pct: "
       ]
      },
      {
       "output_type": "stream",
       "stream": "stdout",
       "text": [
        "758000.0 // max: 941009633\n",
        "\n",
        "SAN MATEO"
       ]
      },
      {
       "output_type": "stream",
       "stream": "stdout",
       "text": [
        "\n",
        "nonzero values: 215970 or 97.4 %\n",
        "min: 8 // 25th pct: "
       ]
      },
      {
       "output_type": "stream",
       "stream": "stdout",
       "text": [
        "185611.0 // median: "
       ]
      },
      {
       "output_type": "stream",
       "stream": "stdout",
       "text": [
        "406876.5 // 75th pct: "
       ]
      },
      {
       "output_type": "stream",
       "stream": "stdout",
       "text": [
        "686466.0 // max: 217535326\n",
        "\n",
        "SANTA CLARA"
       ]
      },
      {
       "output_type": "stream",
       "stream": "stdout",
       "text": [
        "\n",
        "nonzero values: 468689 or 98.0 %\n",
        "min: 1 // 25th pct: "
       ]
      },
      {
       "output_type": "stream",
       "stream": "stdout",
       "text": [
        "208398.0 // median: "
       ]
      },
      {
       "output_type": "stream",
       "stream": "stdout",
       "text": [
        "396198.0 // 75th pct: "
       ]
      },
      {
       "output_type": "stream",
       "stream": "stdout",
       "text": [
        "655000.0 // max: 571735319\n",
        "\n",
        "SOLANO"
       ]
      },
      {
       "output_type": "stream",
       "stream": "stdout",
       "text": [
        "\n",
        "nonzero values: 135093 or 94.2 %\n",
        "min: 1 // 25th pct: 121000.0 // median: "
       ]
      },
      {
       "output_type": "stream",
       "stream": "stdout",
       "text": [
        "190000.0 // 75th pct: 280183.0 // max: 936855469\n",
        "\n",
        "SONOMA"
       ]
      },
      {
       "output_type": "stream",
       "stream": "stdout",
       "text": [
        "\n",
        "nonzero values: 175969 or 93.3 %\n",
        "min: 1 // 25th pct: "
       ]
      },
      {
       "output_type": "stream",
       "stream": "stdout",
       "text": [
        "137500.0 // median: "
       ]
      },
      {
       "output_type": "stream",
       "stream": "stdout",
       "text": [
        "256559.0 // 75th pct: "
       ]
      },
      {
       "output_type": "stream",
       "stream": "stdout",
       "text": [
        "384498.0 // max: 175744516\n",
        "\n",
        "19 seconds\n"
       ]
      }
     ],
     "prompt_number": 22
    },
    {
     "cell_type": "code",
     "collapsed": false,
     "input": [
      "full_stats(\"sa_val_assd_land\", \"Assessed value of land\")"
     ],
     "language": "python",
     "metadata": {},
     "outputs": [
      {
       "output_type": "stream",
       "stream": "stdout",
       "text": [
        "Assessed value of land - SA_VAL_ASSD_LAND\n",
        "\n",
        "ALAMEDA"
       ]
      },
      {
       "output_type": "stream",
       "stream": "stdout",
       "text": [
        "\n",
        "nonzero values: 425105 or 94.9 %\n",
        "min: 14 // 25th pct: "
       ]
      },
      {
       "output_type": "stream",
       "stream": "stdout",
       "text": [
        "53196.0 // median: "
       ]
      },
      {
       "output_type": "stream",
       "stream": "stdout",
       "text": [
        "94500.0 // 75th pct: "
       ]
      },
      {
       "output_type": "stream",
       "stream": "stdout",
       "text": [
        "152767.0 // max: 85328100\n",
        "\n",
        "CONTRA COSTA"
       ]
      },
      {
       "output_type": "stream",
       "stream": "stdout",
       "text": [
        "\n",
        "nonzero values: 361910 or 97.4 %\n",
        "min: 1 // 25th pct: "
       ]
      },
      {
       "output_type": "stream",
       "stream": "stdout",
       "text": [
        "41244.25 // median: "
       ]
      },
      {
       "output_type": "stream",
       "stream": "stdout",
       "text": [
        "86667.0 // 75th pct: "
       ]
      },
      {
       "output_type": "stream",
       "stream": "stdout",
       "text": [
        "197207.0 // max: 124730654\n",
        "\n",
        "MARIN"
       ]
      },
      {
       "output_type": "stream",
       "stream": "stdout",
       "text": [
        "\n",
        "nonzero values: 91771 or 94.9 %\n",
        "min: 1 // 25th pct: 60636.5 // median: "
       ]
      },
      {
       "output_type": "stream",
       "stream": "stdout",
       "text": [
        "178500.0 // 75th pct: 391787.5 // max: 36600900\n",
        "\n",
        "NAPA"
       ]
      },
      {
       "output_type": "stream",
       "stream": "stdout",
       "text": [
        "\n",
        "nonzero values: 47787 or 92.1 %\n",
        "min: 45 // 25th pct: 61200.0 // median: 107468.0 // 75th pct: 204000.0 // max: 36686606\n",
        "\n",
        "SAN FRANCISCO"
       ]
      },
      {
       "output_type": "stream",
       "stream": "stdout",
       "text": [
        "\n",
        "nonzero values: 201766 or 97.8 %\n",
        "min: 1 // 25th pct: "
       ]
      },
      {
       "output_type": "stream",
       "stream": "stdout",
       "text": [
        "63100.0 // median: "
       ]
      },
      {
       "output_type": "stream",
       "stream": "stdout",
       "text": [
        "215842.0 // 75th pct: "
       ]
      },
      {
       "output_type": "stream",
       "stream": "stdout",
       "text": [
        "420468.0 // max: 277907376\n",
        "\n",
        "SAN MATEO"
       ]
      },
      {
       "output_type": "stream",
       "stream": "stdout",
       "text": [
        "\n",
        "nonzero values: 215543 or 97.2 %\n",
        "min: 8 // 25th pct: "
       ]
      },
      {
       "output_type": "stream",
       "stream": "stdout",
       "text": [
        "56574.0 // median: "
       ]
      },
      {
       "output_type": "stream",
       "stream": "stdout",
       "text": [
        "171433.0 // 75th pct: "
       ]
      },
      {
       "output_type": "stream",
       "stream": "stdout",
       "text": [
        "330000.0 // max: 125599789\n",
        "\n",
        "SANTA CLARA"
       ]
      },
      {
       "output_type": "stream",
       "stream": "stdout",
       "text": [
        "\n",
        "nonzero values: 468566 or 98.0 %\n",
        "min: 1 // 25th pct: "
       ]
      },
      {
       "output_type": "stream",
       "stream": "stdout",
       "text": [
        "76185.0 // median: "
       ]
      },
      {
       "output_type": "stream",
       "stream": "stdout",
       "text": [
        "186745.0 // 75th pct: "
       ]
      },
      {
       "output_type": "stream",
       "stream": "stdout",
       "text": [
        "367500.0 // max: 400554000\n",
        "\n",
        "SOLANO"
       ]
      },
      {
       "output_type": "stream",
       "stream": "stdout",
       "text": [
        "\n",
        "nonzero values: 133865 or 93.4 %\n",
        "min: 1 // 25th pct: 33000.0 // median: "
       ]
      },
      {
       "output_type": "stream",
       "stream": "stdout",
       "text": [
        "50259.0 // 75th pct: 73000.0 // max: 36979280\n",
        "\n",
        "SONOMA"
       ]
      },
      {
       "output_type": "stream",
       "stream": "stdout",
       "text": [
        "\n",
        "nonzero values: 175839 or 93.3 %\n",
        "min: 1 // 25th pct: "
       ]
      },
      {
       "output_type": "stream",
       "stream": "stdout",
       "text": [
        "49115.0 // median: "
       ]
      },
      {
       "output_type": "stream",
       "stream": "stdout",
       "text": [
        "98000.0 // 75th pct: "
       ]
      },
      {
       "output_type": "stream",
       "stream": "stdout",
       "text": [
        "152000.0 // max: 122715441\n",
        "\n",
        "19 seconds\n"
       ]
      }
     ],
     "prompt_number": 23
    },
    {
     "cell_type": "code",
     "collapsed": false,
     "input": [
      "full_stats(\"sa_val_assd_imprv\", \"Assessed value of improvements\")"
     ],
     "language": "python",
     "metadata": {},
     "outputs": [
      {
       "output_type": "stream",
       "stream": "stdout",
       "text": [
        "Assessed value of improvements - SA_VAL_ASSD_IMPRV\n",
        "\n",
        "ALAMEDA"
       ]
      },
      {
       "output_type": "stream",
       "stream": "stdout",
       "text": [
        "\n",
        "nonzero values: 411595 or 91.8 %\n",
        "min: 100 // 25th pct: "
       ]
      },
      {
       "output_type": "stream",
       "stream": "stdout",
       "text": [
        "99842.0 // median: "
       ]
      },
      {
       "output_type": "stream",
       "stream": "stdout",
       "text": [
        "205256.0 // 75th pct: "
       ]
      },
      {
       "output_type": "stream",
       "stream": "stdout",
       "text": [
        "338650.0 // max: 865500000\n",
        "\n",
        "CONTRA COSTA"
       ]
      },
      {
       "output_type": "stream",
       "stream": "stdout",
       "text": [
        "\n",
        "nonzero values: 340543 or 91.7 %\n",
        "min: 1 // 25th pct: "
       ]
      },
      {
       "output_type": "stream",
       "stream": "stdout",
       "text": [
        "76709.0 // median: "
       ]
      },
      {
       "output_type": "stream",
       "stream": "stdout",
       "text": [
        "138624.0 // 75th pct: "
       ]
      },
      {
       "output_type": "stream",
       "stream": "stdout",
       "text": [
        "234600.0 // max: 868028440\n",
        "\n",
        "MARIN"
       ]
      },
      {
       "output_type": "stream",
       "stream": "stdout",
       "text": [
        "\n",
        "nonzero values: 85516 or 88.4 %\n",
        "min: 1 // 25th pct: 130398.75 // median: "
       ]
      },
      {
       "output_type": "stream",
       "stream": "stdout",
       "text": [
        "226477.0 // 75th pct: 374281.0 // max: 100570950\n",
        "\n",
        "NAPA"
       ]
      },
      {
       "output_type": "stream",
       "stream": "stdout",
       "text": [
        "\n",
        "nonzero values: 45045 or 86.8 %\n",
        "min: 82 // 25th pct: 90652.0 // median: 168000.0 // 75th pct: 287875.0 // max: 190811478\n",
        "\n",
        "SAN FRANCISCO"
       ]
      },
      {
       "output_type": "stream",
       "stream": "stdout",
       "text": [
        "\n",
        "nonzero values: 198530 or 96.2 %\n",
        "min: 1 // 25th pct: "
       ]
      },
      {
       "output_type": "stream",
       "stream": "stdout",
       "text": [
        "98483.0 // median: "
       ]
      },
      {
       "output_type": "stream",
       "stream": "stdout",
       "text": [
        "200000.0 // 75th pct: "
       ]
      },
      {
       "output_type": "stream",
       "stream": "stdout",
       "text": [
        "337541.25 // max: 663102257\n",
        "\n",
        "SAN MATEO"
       ]
      },
      {
       "output_type": "stream",
       "stream": "stdout",
       "text": [
        "\n",
        "nonzero values: 205349 or 92.6 %\n",
        "min: 60 // 25th pct: "
       ]
      },
      {
       "output_type": "stream",
       "stream": "stdout",
       "text": [
        "126174.0 // median: "
       ]
      },
      {
       "output_type": "stream",
       "stream": "stdout",
       "text": [
        "231877.0 // 75th pct: "
       ]
      },
      {
       "output_type": "stream",
       "stream": "stdout",
       "text": [
        "365076.0 // max: 198068320\n",
        "\n",
        "SANTA CLARA"
       ]
      },
      {
       "output_type": "stream",
       "stream": "stdout",
       "text": [
        "\n",
        "nonzero values: 455665 or 95.3 %\n",
        "min: 19 // 25th pct: "
       ]
      },
      {
       "output_type": "stream",
       "stream": "stdout",
       "text": [
        "110041.0 // median: "
       ]
      },
      {
       "output_type": "stream",
       "stream": "stdout",
       "text": [
        "183016.0 // 75th pct: "
       ]
      },
      {
       "output_type": "stream",
       "stream": "stdout",
       "text": [
        "292367.0 // max: 407310094\n",
        "\n",
        "SOLANO"
       ]
      },
      {
       "output_type": "stream",
       "stream": "stdout",
       "text": [
        "\n",
        "nonzero values: 128106 or 89.4 %\n",
        "min: 172 // 25th pct: 91000.0 // median: "
       ]
      },
      {
       "output_type": "stream",
       "stream": "stdout",
       "text": [
        "142000.0 // 75th pct: 210000.0 // max: 932114612\n",
        "\n",
        "SONOMA"
       ]
      },
      {
       "output_type": "stream",
       "stream": "stdout",
       "text": [
        "\n",
        "nonzero values: 157490 or 83.5 %\n",
        "min: 10 // 25th pct: "
       ]
      },
      {
       "output_type": "stream",
       "stream": "stdout",
       "text": [
        "101666.25 // median: "
       ]
      },
      {
       "output_type": "stream",
       "stream": "stdout",
       "text": [
        "164142.0 // 75th pct: "
       ]
      },
      {
       "output_type": "stream",
       "stream": "stdout",
       "text": [
        "247149.0 // max: 135098000\n",
        "\n",
        "19 seconds\n"
       ]
      }
     ],
     "prompt_number": 24
    },
    {
     "cell_type": "code",
     "collapsed": false,
     "input": [
      "full_stats(\"sa_condition_code\", \"Condition code\")"
     ],
     "language": "python",
     "metadata": {},
     "outputs": [
      {
       "output_type": "stream",
       "stream": "stdout",
       "text": [
        "Condition code - SA_CONDITION_CODE\n",
        "\n",
        "ALAMEDA"
       ]
      },
      {
       "output_type": "stream",
       "stream": "stdout",
       "text": [
        "\n",
        "nonzero values: 28059 or 6.3 %\n",
        "min: 1.0 // 25th pct: 4.0 // median: 4.0 // 75th pct: 6.0 // max: 6.0\n",
        "\n",
        "CONTRA COSTA"
       ]
      },
      {
       "output_type": "stream",
       "stream": "stdout",
       "text": [
        "\n",
        "nonzero values: 4156 or 1.1 %\n",
        "min: 1.0 // 25th pct: 4.0 // median: 4.0 // 75th pct: 4.0 // max: 6.0\n",
        "\n",
        "MARIN"
       ]
      },
      {
       "output_type": "stream",
       "stream": "stdout",
       "text": [
        "\n",
        "nonzero values: 0 or 0.0 %\n",
        "\n",
        "NAPA"
       ]
      },
      {
       "output_type": "stream",
       "stream": "stdout",
       "text": [
        "\n",
        "nonzero values: 0 or 0.0 %\n",
        "\n",
        "SAN FRANCISCO"
       ]
      },
      {
       "output_type": "stream",
       "stream": "stdout",
       "text": [
        "\n",
        "nonzero values: 0 or 0.0 %\n",
        "\n",
        "SAN MATEO"
       ]
      },
      {
       "output_type": "stream",
       "stream": "stdout",
       "text": [
        "\n",
        "nonzero values: 2041 or 0.9 %\n",
        "min: 1.0 // 25th pct: 4.0 // median: 4.0 // 75th pct: 5.0 // max: 6.0\n",
        "\n",
        "SANTA CLARA"
       ]
      },
      {
       "output_type": "stream",
       "stream": "stdout",
       "text": [
        "\n",
        "nonzero values: 454156 or 95.0 %\n",
        "min: 1.0 // 25th pct: 3.0 // median: 3.0 // 75th pct: 3.0 // max: 4.0\n",
        "\n",
        "SOLANO"
       ]
      },
      {
       "output_type": "stream",
       "stream": "stdout",
       "text": [
        "\n",
        "nonzero values: 0 or 0.0 %\n",
        "\n",
        "SONOMA"
       ]
      },
      {
       "output_type": "stream",
       "stream": "stdout",
       "text": [
        "\n",
        "nonzero values: 0 or 0.0 %\n",
        "\n",
        "47 seconds\n"
       ]
      }
     ],
     "prompt_number": 92
    },
    {
     "cell_type": "code",
     "collapsed": false,
     "input": [
      "basic_stats(\"sa_census_tract\", \"Census tract ids\")"
     ],
     "language": "python",
     "metadata": {},
     "outputs": [
      {
       "output_type": "stream",
       "stream": "stdout",
       "text": [
        "Census tract ids - SA_CENSUS_TRACT\n",
        "\n",
        "ALAMEDA"
       ]
      },
      {
       "output_type": "stream",
       "stream": "stdout",
       "text": [
        "\n",
        "non-missing values: 448131 or 100.0 %\n",
        "\n",
        "CONTRA COSTA"
       ]
      },
      {
       "output_type": "stream",
       "stream": "stdout",
       "text": [
        "\n",
        "non-missing values: 371397 or 100.0 %\n",
        "\n",
        "MARIN"
       ]
      },
      {
       "output_type": "stream",
       "stream": "stdout",
       "text": [
        "\n",
        "non-missing values: 96739 or 100.0 %\n",
        "\n",
        "NAPA"
       ]
      },
      {
       "output_type": "stream",
       "stream": "stdout",
       "text": [
        "\n",
        "non-missing values: 51795 or 99.9 %\n",
        "\n",
        "SAN FRANCISCO"
       ]
      },
      {
       "output_type": "stream",
       "stream": "stdout",
       "text": [
        "\n",
        "non-missing values: 206304 or 100.0 %\n",
        "\n",
        "SAN MATEO"
       ]
      },
      {
       "output_type": "stream",
       "stream": "stdout",
       "text": [
        "\n",
        "non-missing values: 221782 or 100.0 %\n",
        "\n",
        "SANTA CLARA"
       ]
      },
      {
       "output_type": "stream",
       "stream": "stdout",
       "text": [
        "\n",
        "non-missing values: 478179 or 100.0 %\n",
        "\n",
        "SOLANO"
       ]
      },
      {
       "output_type": "stream",
       "stream": "stdout",
       "text": [
        "\n",
        "non-missing values: 143335 or 100.0 %\n",
        "\n",
        "SONOMA"
       ]
      },
      {
       "output_type": "stream",
       "stream": "stdout",
       "text": [
        "\n",
        "non-missing values: 188559 or 100.0 %\n",
        "\n",
        "20 seconds\n"
       ]
      }
     ],
     "prompt_number": 41
    },
    {
     "cell_type": "code",
     "collapsed": false,
     "input": [
      "basic_stats(\"sa_zoning\", \"Zoning\")"
     ],
     "language": "python",
     "metadata": {},
     "outputs": [
      {
       "output_type": "stream",
       "stream": "stdout",
       "text": [
        "Zoning - SA_ZONING\n",
        "\n",
        "ALAMEDA"
       ]
      },
      {
       "output_type": "stream",
       "stream": "stdout",
       "text": [
        "\n",
        "non-missing values: 0 or 0.0 %\n",
        "\n",
        "CONTRA COSTA"
       ]
      },
      {
       "output_type": "stream",
       "stream": "stdout",
       "text": [
        "\n",
        "non-missing values: 263299 or 70.9 %\n",
        "\n",
        "MARIN"
       ]
      },
      {
       "output_type": "stream",
       "stream": "stdout",
       "text": [
        "\n",
        "non-missing values: 0 or 0.0 %\n",
        "\n",
        "NAPA"
       ]
      },
      {
       "output_type": "stream",
       "stream": "stdout",
       "text": [
        "\n",
        "non-missing values: 0 or 0.0 %\n",
        "\n",
        "SAN FRANCISCO"
       ]
      },
      {
       "output_type": "stream",
       "stream": "stdout",
       "text": [
        "\n",
        "non-missing values: 205657 or 99.6 %\n",
        "\n",
        "SAN MATEO"
       ]
      },
      {
       "output_type": "stream",
       "stream": "stdout",
       "text": [
        "\n",
        "non-missing values: 200188 or 90.3 %\n",
        "\n",
        "SANTA CLARA"
       ]
      },
      {
       "output_type": "stream",
       "stream": "stdout",
       "text": [
        "\n",
        "non-missing values: 476522 or 99.6 %\n",
        "\n",
        "SOLANO"
       ]
      },
      {
       "output_type": "stream",
       "stream": "stdout",
       "text": [
        "\n",
        "non-missing values: 8902 or 6.2 %\n",
        "\n",
        "SONOMA"
       ]
      },
      {
       "output_type": "stream",
       "stream": "stdout",
       "text": [
        "\n",
        "non-missing values: 0 or 0.0 %\n",
        "\n",
        "16 seconds\n"
       ]
      }
     ],
     "prompt_number": 42
    },
    {
     "cell_type": "code",
     "collapsed": false,
     "input": [
      "basic_stats(\"use_code_std\", \"Dataquick land use code\")"
     ],
     "language": "python",
     "metadata": {},
     "outputs": [
      {
       "output_type": "stream",
       "stream": "stdout",
       "text": [
        "Dataquick land use code - USE_CODE_STD\n",
        "\n",
        "ALAMEDA"
       ]
      },
      {
       "output_type": "stream",
       "stream": "stdout",
       "text": [
        "\n",
        "non-missing values: 447389 or 99.8 %\n",
        "\n",
        "CONTRA COSTA"
       ]
      },
      {
       "output_type": "stream",
       "stream": "stdout",
       "text": [
        "\n",
        "non-missing values: 369433 or 99.5 %\n",
        "\n",
        "MARIN"
       ]
      },
      {
       "output_type": "stream",
       "stream": "stdout",
       "text": [
        "\n",
        "non-missing values: 96702 or 100.0 %\n",
        "\n",
        "NAPA"
       ]
      },
      {
       "output_type": "stream",
       "stream": "stdout",
       "text": [
        "\n",
        "non-missing values: 51568 or 99.4 %\n",
        "\n",
        "SAN FRANCISCO"
       ]
      },
      {
       "output_type": "stream",
       "stream": "stdout",
       "text": [
        "\n",
        "non-missing values: 205693 or 99.7 %\n",
        "\n",
        "SAN MATEO"
       ]
      },
      {
       "output_type": "stream",
       "stream": "stdout",
       "text": [
        "\n",
        "non-missing values: 221105 or 99.7 %\n",
        "\n",
        "SANTA CLARA"
       ]
      },
      {
       "output_type": "stream",
       "stream": "stdout",
       "text": [
        "\n",
        "non-missing values: 472500 or 98.8 %\n",
        "\n",
        "SOLANO"
       ]
      },
      {
       "output_type": "stream",
       "stream": "stdout",
       "text": [
        "\n",
        "non-missing values: 143013 or 99.8 %\n",
        "\n",
        "SONOMA"
       ]
      },
      {
       "output_type": "stream",
       "stream": "stdout",
       "text": [
        "\n",
        "non-missing values: 188167 or 99.8 %\n",
        "\n",
        "16 seconds\n"
       ]
      }
     ],
     "prompt_number": 43
    },
    {
     "cell_type": "code",
     "collapsed": false,
     "input": [
      "basic_stats(\"sa_exemp_flag_3\", \"Senior tax exemption\")"
     ],
     "language": "python",
     "metadata": {},
     "outputs": [
      {
       "output_type": "stream",
       "stream": "stdout",
       "text": [
        "Senior tax exemption - SA_EXEMP_FLAG_3\n",
        "\n",
        "ALAMEDA"
       ]
      },
      {
       "output_type": "stream",
       "stream": "stdout",
       "text": [
        "\n",
        "non-missing values: 0 or 0.0 %\n",
        "\n",
        "CONTRA COSTA"
       ]
      },
      {
       "output_type": "stream",
       "stream": "stdout",
       "text": [
        "\n",
        "non-missing values: 0 or 0.0 %\n",
        "\n",
        "MARIN"
       ]
      },
      {
       "output_type": "stream",
       "stream": "stdout",
       "text": [
        "\n",
        "non-missing values: 0 or 0.0 %\n",
        "\n",
        "NAPA"
       ]
      },
      {
       "output_type": "stream",
       "stream": "stdout",
       "text": [
        "\n",
        "non-missing values: 0 or 0.0 %\n",
        "\n",
        "SAN FRANCISCO"
       ]
      },
      {
       "output_type": "stream",
       "stream": "stdout",
       "text": [
        "\n",
        "non-missing values: 0 or 0.0 %\n",
        "\n",
        "SAN MATEO"
       ]
      },
      {
       "output_type": "stream",
       "stream": "stdout",
       "text": [
        "\n",
        "non-missing values: 0 or 0.0 %\n",
        "\n",
        "SANTA CLARA"
       ]
      },
      {
       "output_type": "stream",
       "stream": "stdout",
       "text": [
        "\n",
        "non-missing values: 0 or 0.0 %\n",
        "\n",
        "SOLANO"
       ]
      },
      {
       "output_type": "stream",
       "stream": "stdout",
       "text": [
        "\n",
        "non-missing values: 0 or 0.0 %\n",
        "\n",
        "SONOMA"
       ]
      },
      {
       "output_type": "stream",
       "stream": "stdout",
       "text": [
        "\n",
        "non-missing values: 0 or 0.0 %\n",
        "\n",
        "17 seconds\n"
       ]
      }
     ],
     "prompt_number": 44
    },
    {
     "cell_type": "code",
     "collapsed": false,
     "input": [
      "basic_stats(\"sa_site_mail_same\", \"Owner-occupied\")"
     ],
     "language": "python",
     "metadata": {},
     "outputs": [
      {
       "output_type": "stream",
       "stream": "stdout",
       "text": [
        "Owner-occupied - SA_SITE_MAIL_SAME\n",
        "\n",
        "ALAMEDA"
       ]
      },
      {
       "output_type": "stream",
       "stream": "stdout",
       "text": [
        "\n",
        "non-missing values: 445132 or 99.3 %\n",
        "\n",
        "CONTRA COSTA"
       ]
      },
      {
       "output_type": "stream",
       "stream": "stdout",
       "text": [
        "\n",
        "non-missing values: 363559 or 97.9 %\n",
        "\n",
        "MARIN"
       ]
      },
      {
       "output_type": "stream",
       "stream": "stdout",
       "text": [
        "\n",
        "non-missing values: 86903 or 89.8 %\n",
        "\n",
        "NAPA"
       ]
      },
      {
       "output_type": "stream",
       "stream": "stdout",
       "text": [
        "\n",
        "non-missing values: 44919 or 86.6 %\n",
        "\n",
        "SAN FRANCISCO"
       ]
      },
      {
       "output_type": "stream",
       "stream": "stdout",
       "text": [
        "\n",
        "non-missing values: 202356 or 98.0 %\n",
        "\n",
        "SAN MATEO"
       ]
      },
      {
       "output_type": "stream",
       "stream": "stdout",
       "text": [
        "\n",
        "non-missing values: 208141 or 93.8 %\n",
        "\n",
        "SANTA CLARA"
       ]
      },
      {
       "output_type": "stream",
       "stream": "stdout",
       "text": [
        "\n",
        "non-missing values: 468848 or 98.0 %\n",
        "\n",
        "SOLANO"
       ]
      },
      {
       "output_type": "stream",
       "stream": "stdout",
       "text": [
        "\n",
        "non-missing values: 129387 or 90.3 %\n",
        "\n",
        "SONOMA"
       ]
      },
      {
       "output_type": "stream",
       "stream": "stdout",
       "text": [
        "\n",
        "non-missing values: 175840 or 93.3 %\n",
        "\n",
        "15 seconds\n"
       ]
      }
     ],
     "prompt_number": 45
    },
    {
     "cell_type": "code",
     "collapsed": false,
     "input": [],
     "language": "python",
     "metadata": {},
     "outputs": []
    },
    {
     "cell_type": "markdown",
     "metadata": {},
     "source": [
      "### Stats for 2004 Assessor History table"
     ]
    },
    {
     "cell_type": "code",
     "collapsed": false,
     "input": [
      "t0 = time.time()\n",
      "conn.commit()\n",
      "\n",
      "print \"Total record counts for 2004 assessor history table (AHIST)\"\n",
      "print\n",
      "\n",
      "for c in cty:\n",
      "    cur.execute(\"SELECT count(sa_property_id) FROM master.ahist \" +\n",
      "                \"WHERE mm_fips_muni_code=%s\", (c['fips'],))\n",
      "    count = cur.fetchall()[0][0]\n",
      "    c['hist'] = count\n",
      "    pct = round(count*100 / c['count'], 1)\n",
      "    print c['name'], \"=\", count, \"or\", pct, \"% of current\"\n",
      "\n",
      "print\n",
      "print int(round(time.time()-t0)), \"seconds\""
     ],
     "language": "python",
     "metadata": {},
     "outputs": [
      {
       "output_type": "stream",
       "stream": "stdout",
       "text": [
        "Total record counts for 2004 assessor history table (AHIST)\n",
        "\n",
        "Alameda"
       ]
      },
      {
       "output_type": "stream",
       "stream": "stdout",
       "text": [
        " = 393346 or 87.0 % of current\n",
        "Contra Costa"
       ]
      },
      {
       "output_type": "stream",
       "stream": "stdout",
       "text": [
        " = 341143 or 91.0 % of current\n",
        "Marin"
       ]
      },
      {
       "output_type": "stream",
       "stream": "stdout",
       "text": [
        " = 94034 or 97.0 % of current\n",
        "Napa"
       ]
      },
      {
       "output_type": "stream",
       "stream": "stdout",
       "text": [
        " = 46395 or 89.0 % of current\n",
        "San Francisco"
       ]
      },
      {
       "output_type": "stream",
       "stream": "stdout",
       "text": [
        " = 184902 or 89.0 % of current\n",
        "San Mateo"
       ]
      },
      {
       "output_type": "stream",
       "stream": "stdout",
       "text": [
        " = 205432 or 92.0 % of current\n",
        "Santa Clara"
       ]
      },
      {
       "output_type": "stream",
       "stream": "stdout",
       "text": [
        " = 433972 or 90.0 % of current\n",
        "Solano"
       ]
      },
      {
       "output_type": "stream",
       "stream": "stdout",
       "text": [
        " = 133103 or 92.0 % of current\n",
        "Sonoma"
       ]
      },
      {
       "output_type": "stream",
       "stream": "stdout",
       "text": [
        " = 172411 or 91.0 % of current\n",
        "\n",
        "21 seconds\n"
       ]
      }
     ],
     "prompt_number": 119
    },
    {
     "cell_type": "code",
     "collapsed": false,
     "input": [
      "basic_stats(\"use_code_std\", \"Dataquick land use code\", \"ahist\")"
     ],
     "language": "python",
     "metadata": {},
     "outputs": [
      {
       "output_type": "stream",
       "stream": "stdout",
       "text": [
        "AHIST table\n",
        "Dataquick land use code - USE_CODE_STD\n",
        "\n",
        "ALAMEDA"
       ]
      },
      {
       "output_type": "stream",
       "stream": "stdout",
       "text": [
        "\n",
        "non-missing values: 5717 or 1.5 %\n",
        "\n",
        "CONTRA COSTA"
       ]
      },
      {
       "output_type": "stream",
       "stream": "stdout",
       "text": [
        "\n",
        "non-missing values: 198 or 0.1 %\n",
        "\n",
        "MARIN"
       ]
      },
      {
       "output_type": "stream",
       "stream": "stdout",
       "text": [
        "\n",
        "non-missing values: 138 or 0.1 %\n",
        "\n",
        "NAPA"
       ]
      },
      {
       "output_type": "stream",
       "stream": "stdout",
       "text": [
        "\n",
        "non-missing values: 282 or 0.6 %\n",
        "\n",
        "SAN FRANCISCO"
       ]
      },
      {
       "output_type": "stream",
       "stream": "stdout",
       "text": [
        "\n",
        "non-missing values: 205 or 0.1 %\n",
        "\n",
        "SAN MATEO"
       ]
      },
      {
       "output_type": "stream",
       "stream": "stdout",
       "text": [
        "\n",
        "non-missing values: 538 or 0.3 %\n",
        "\n",
        "SANTA CLARA"
       ]
      },
      {
       "output_type": "stream",
       "stream": "stdout",
       "text": [
        "\n",
        "non-missing values: 6850 or 1.6 %\n",
        "\n",
        "SOLANO"
       ]
      },
      {
       "output_type": "stream",
       "stream": "stdout",
       "text": [
        "\n",
        "non-missing values: 30 or 0.0 %\n",
        "\n",
        "SONOMA"
       ]
      },
      {
       "output_type": "stream",
       "stream": "stdout",
       "text": [
        "\n",
        "non-missing values: 455 or 0.3 %\n",
        "\n",
        "13 seconds\n"
       ]
      }
     ],
     "prompt_number": 102
    },
    {
     "cell_type": "code",
     "collapsed": false,
     "input": [
      "full_stats(\"SA_NBR_BEDRMS\", \"Number of bedrooms\", \"ahist\")"
     ],
     "language": "python",
     "metadata": {},
     "outputs": [
      {
       "output_type": "stream",
       "stream": "stdout",
       "text": [
        "AHIST table\n",
        "Number of bedrooms - SA_NBR_BEDRMS\n",
        "\n",
        "ALAMEDA"
       ]
      },
      {
       "output_type": "stream",
       "stream": "stdout",
       "text": [
        "\n",
        "nonzero values: 333720 or 84.8 %\n",
        "min: 1 // 25th pct: 2.0 // median: 3.0 // 75th pct: 4.0 // max: "
       ]
      },
      {
       "output_type": "stream",
       "stream": "stdout",
       "text": [
        "975\n",
        "\n",
        "CONTRA COSTA"
       ]
      },
      {
       "output_type": "stream",
       "stream": "stdout",
       "text": [
        "\n",
        "nonzero values: 291916 or 85.6 %\n",
        "min: 1 // 25th pct: 3.0 // median: 3.0 // 75th pct: 4.0 // max: 14\n",
        "\n",
        "MARIN"
       ]
      },
      {
       "output_type": "stream",
       "stream": "stdout",
       "text": [
        "\n",
        "nonzero values: 47859 or 50.9 %\n",
        "min: 1 // 25th pct: 2.0 // median: 3.0 // 75th pct: 4.0 // max: 90\n",
        "\n",
        "NAPA"
       ]
      },
      {
       "output_type": "stream",
       "stream": "stdout",
       "text": [
        "\n",
        "nonzero values: 28227 or 60.8 %\n",
        "min: 1 // 25th pct: 2.0 // median: 3.0 // 75th pct: 3.0 // max: 50\n",
        "\n",
        "SAN FRANCISCO"
       ]
      },
      {
       "output_type": "stream",
       "stream": "stdout",
       "text": [
        "\n",
        "nonzero values: 60111 or 32.5 %\n",
        "min: 1 // 25th pct: 2.0 // median: 3.0 // 75th pct: 3.0 // max: 2065\n",
        "\n",
        "SAN MATEO"
       ]
      },
      {
       "output_type": "stream",
       "stream": "stdout",
       "text": [
        "\n",
        "nonzero values: 187670 or 91.4 %\n",
        "min: 1 // 25th pct: 2.0 // median: 3.0 // 75th pct: 4.0 // max: 1589\n",
        "\n",
        "SANTA CLARA"
       ]
      },
      {
       "output_type": "stream",
       "stream": "stdout",
       "text": [
        "\n",
        "nonzero values: 370262 or 85.3 %\n",
        "min: 1 // 25th pct: 3.0 // median: 3.0 // 75th pct: 4.0 // max: 99\n",
        "\n",
        "SOLANO"
       ]
      },
      {
       "output_type": "stream",
       "stream": "stdout",
       "text": [
        "\n",
        "nonzero values: 107357 or 80.7 %\n",
        "min: 1 // 25th pct: 3.0 // median: 3.0 // 75th pct: 4.0 // max: 25\n",
        "\n",
        "SONOMA"
       ]
      },
      {
       "output_type": "stream",
       "stream": "stdout",
       "text": [
        "\n",
        "nonzero values: 133384 or 77.4 %\n",
        "min: 1 // 25th pct: 2.0 // median: 3.0 // 75th pct: 3.0 // max: 176\n",
        "\n",
        "84 seconds\n"
       ]
      }
     ],
     "prompt_number": 98
    },
    {
     "cell_type": "code",
     "collapsed": false,
     "input": [
      "full_stats(\"SA_NBR_UNITS\", \"Number of units\", \"ahist\")"
     ],
     "language": "python",
     "metadata": {},
     "outputs": [
      {
       "output_type": "stream",
       "stream": "stdout",
       "text": [
        "AHIST table\n",
        "Number of units - SA_NBR_UNITS\n",
        "\n",
        "ALAMEDA"
       ]
      },
      {
       "output_type": "stream",
       "stream": "stdout",
       "text": [
        "\n",
        "nonzero values: 367451 or 93.4 %\n",
        "min: 1 // 25th pct: 1.0 // median: 1.0 // 75th pct: 1.0 // max: 7126\n",
        "\n",
        "CONTRA COSTA"
       ]
      },
      {
       "output_type": "stream",
       "stream": "stdout",
       "text": [
        "\n",
        "nonzero values: 295735 or 86.7 %\n",
        "min: 1 // 25th pct: 1.0 // median: 1.0 // 75th pct: 1.0 // max: 4\n",
        "\n",
        "MARIN"
       ]
      },
      {
       "output_type": "stream",
       "stream": "stdout",
       "text": [
        "\n",
        "nonzero values: 73508 or 78.2 %\n",
        "min: 1 // 25th pct: 1.0 // median: 1.0 // 75th pct: 1.0 // max: 3\n",
        "\n",
        "NAPA"
       ]
      },
      {
       "output_type": "stream",
       "stream": "stdout",
       "text": [
        "\n",
        "nonzero values: 28792 or 62.1 %\n",
        "min: 1 // 25th pct: 1.0 // median: 1.0 // 75th pct: 1.0 // max: 41\n",
        "\n",
        "SAN FRANCISCO"
       ]
      },
      {
       "output_type": "stream",
       "stream": "stdout",
       "text": [
        "\n",
        "nonzero values: 178203 or 96.4 %\n",
        "min: 1 // 25th pct: 1.0 // median: 1.0 // 75th pct: 1.0 // max: 4000\n",
        "\n",
        "SAN MATEO"
       ]
      },
      {
       "output_type": "stream",
       "stream": "stdout",
       "text": [
        "\n",
        "nonzero values: 188437 or 91.7 %\n",
        "min: 1 // 25th pct: 1.0 // median: 1.0 // 75th pct: 1.0 // max: 6515\n",
        "\n",
        "SANTA CLARA"
       ]
      },
      {
       "output_type": "stream",
       "stream": "stdout",
       "text": [
        "\n",
        "nonzero values: 413683 or 95.3 %\n",
        "min: 1 // 25th pct: 1.0 // median: 1.0 // 75th pct: 1.0 // max: 9100\n",
        "\n",
        "SOLANO"
       ]
      },
      {
       "output_type": "stream",
       "stream": "stdout",
       "text": [
        "\n",
        "nonzero values: 111489 or 83.8 %\n",
        "min: 1 // 25th pct: 1.0 // median: 1.0 // 75th pct: 1.0 // max: 9000\n",
        "\n",
        "SONOMA"
       ]
      },
      {
       "output_type": "stream",
       "stream": "stdout",
       "text": [
        "\n",
        "nonzero values: 149606 or 86.8 %\n",
        "min: 1 // 25th pct: 1.0 // median: 1.0 // 75th pct: 1.0 // max: 988\n",
        "\n",
        "15 seconds\n"
       ]
      }
     ],
     "prompt_number": 105
    },
    {
     "cell_type": "code",
     "collapsed": false,
     "input": [
      "full_stats(\"sa_sqft\", \"Square footage\", \"ahist\")"
     ],
     "language": "python",
     "metadata": {},
     "outputs": [
      {
       "output_type": "stream",
       "stream": "stdout",
       "text": [
        "AHIST table\n",
        "Square footage - SA_SQFT\n",
        "\n",
        "ALAMEDA"
       ]
      },
      {
       "output_type": "stream",
       "stream": "stdout",
       "text": [
        "\n",
        "nonzero values: 365968 or 93.0 %\n",
        "min: 1 // 25th pct: "
       ]
      },
      {
       "output_type": "stream",
       "stream": "stdout",
       "text": [
        "1152.0 // median: "
       ]
      },
      {
       "output_type": "stream",
       "stream": "stdout",
       "text": [
        "1515.0 // 75th pct: "
       ]
      },
      {
       "output_type": "stream",
       "stream": "stdout",
       "text": [
        "2083.0 // max: 6003288\n",
        "\n",
        "CONTRA COSTA"
       ]
      },
      {
       "output_type": "stream",
       "stream": "stdout",
       "text": [
        "\n",
        "nonzero values: 306972 or 90.0 %\n",
        "min: 76 // 25th pct: "
       ]
      },
      {
       "output_type": "stream",
       "stream": "stdout",
       "text": [
        "1216.0 // median: "
       ]
      },
      {
       "output_type": "stream",
       "stream": "stdout",
       "text": [
        "1629.0 // 75th pct: "
       ]
      },
      {
       "output_type": "stream",
       "stream": "stdout",
       "text": [
        "2202.0 // max: 9317505\n",
        "\n",
        "MARIN"
       ]
      },
      {
       "output_type": "stream",
       "stream": "stdout",
       "text": [
        "\n",
        "nonzero values: 47544 or 50.6 %\n",
        "min: 1 // 25th pct: 1224.0 // median: 1582.0 // 75th pct: 2045.0 // max: 786000\n",
        "\n",
        "NAPA"
       ]
      },
      {
       "output_type": "stream",
       "stream": "stdout",
       "text": [
        "\n",
        "nonzero values: 28934 or 62.4 %\n",
        "min: 100 // 25th pct: 1134.0 // median: 1440.0 // 75th pct: 1878.0 // max: 241990\n",
        "\n",
        "SAN FRANCISCO"
       ]
      },
      {
       "output_type": "stream",
       "stream": "stdout",
       "text": [
        "\n",
        "nonzero values: 168306 or 91.0 %\n",
        "min: 1 // 25th pct: 1137.0 // median: "
       ]
      },
      {
       "output_type": "stream",
       "stream": "stdout",
       "text": [
        "1515.0 // 75th pct: 2436.0 // max: 4701100\n",
        "\n",
        "SAN MATEO"
       ]
      },
      {
       "output_type": "stream",
       "stream": "stdout",
       "text": [
        "\n",
        "nonzero values: 189772 or 92.4 %\n",
        "min: 12 // 25th pct: 1150.0 // median: "
       ]
      },
      {
       "output_type": "stream",
       "stream": "stdout",
       "text": [
        "1520.0 // 75th pct: 2090.0 // max: 9300000\n",
        "\n",
        "SANTA CLARA"
       ]
      },
      {
       "output_type": "stream",
       "stream": "stdout",
       "text": [
        "\n",
        "nonzero values: 403319 or 92.9 %\n",
        "min: 1 // 25th pct: "
       ]
      },
      {
       "output_type": "stream",
       "stream": "stdout",
       "text": [
        "1239.0 // median: "
       ]
      },
      {
       "output_type": "stream",
       "stream": "stdout",
       "text": [
        "1582.0 // 75th pct: "
       ]
      },
      {
       "output_type": "stream",
       "stream": "stdout",
       "text": [
        "2125.0 // max: 75000000\n",
        "\n",
        "SOLANO"
       ]
      },
      {
       "output_type": "stream",
       "stream": "stdout",
       "text": [
        "\n",
        "nonzero values: 109098 or 82.0 %\n",
        "min: 1 // 25th pct: 1248.0 // median: "
       ]
      },
      {
       "output_type": "stream",
       "stream": "stdout",
       "text": [
        "1561.0 // 75th pct: 1989.0 // max: 631997\n",
        "\n",
        "SONOMA"
       ]
      },
      {
       "output_type": "stream",
       "stream": "stdout",
       "text": [
        "\n",
        "nonzero values: 137473 or 79.7 %\n",
        "min: 1 // 25th pct: 1197.0 // median: "
       ]
      },
      {
       "output_type": "stream",
       "stream": "stdout",
       "text": [
        "1527.0 // 75th pct: 2020.0 // max: 20133314\n",
        "\n",
        "16 seconds\n"
       ]
      }
     ],
     "prompt_number": 106
    },
    {
     "cell_type": "code",
     "collapsed": false,
     "input": [
      "full_stats(\"sa_val_assd\", \"Assessed value\", \"ahist\")"
     ],
     "language": "python",
     "metadata": {},
     "outputs": [
      {
       "output_type": "stream",
       "stream": "stdout",
       "text": [
        "AHIST table\n",
        "Assessed value - SA_VAL_ASSD\n",
        "\n",
        "ALAMEDA"
       ]
      },
      {
       "output_type": "stream",
       "stream": "stdout",
       "text": [
        "\n",
        "nonzero values: 377801 or 96.0 %\n",
        "min: 12 // 25th pct: "
       ]
      },
      {
       "output_type": "stream",
       "stream": "stdout",
       "text": [
        "102697.0 // median: "
       ]
      },
      {
       "output_type": "stream",
       "stream": "stdout",
       "text": [
        "217782.0 // 75th pct: "
       ]
      },
      {
       "output_type": "stream",
       "stream": "stdout",
       "text": [
        "365463.0 // max: 203811238\n",
        "\n",
        "CONTRA COSTA"
       ]
      },
      {
       "output_type": "stream",
       "stream": "stdout",
       "text": [
        "\n",
        "nonzero values: 334115 or 97.9 %\n",
        "min: 1 // 25th pct: "
       ]
      },
      {
       "output_type": "stream",
       "stream": "stdout",
       "text": [
        "113505.0 // median: "
       ]
      },
      {
       "output_type": "stream",
       "stream": "stdout",
       "text": [
        "215010.0 // 75th pct: "
       ]
      },
      {
       "output_type": "stream",
       "stream": "stdout",
       "text": [
        "362764.0 // max: 958720135\n",
        "\n",
        "MARIN"
       ]
      },
      {
       "output_type": "stream",
       "stream": "stdout",
       "text": [
        "\n",
        "nonzero values: 90012 or 95.7 %\n",
        "min: 1 // 25th pct: 124565.5 // median: "
       ]
      },
      {
       "output_type": "stream",
       "stream": "stdout",
       "text": [
        "290763.0 // 75th pct: 531905.5 // max: 113134572\n",
        "\n",
        "NAPA"
       ]
      },
      {
       "output_type": "stream",
       "stream": "stdout",
       "text": [
        "\n",
        "nonzero values: 44723 or 96.4 %\n",
        "min: 45 // 25th pct: 90862.0 // median: 203290.0 // 75th pct: 366720.0 // max: 101500884\n",
        "\n",
        "SAN FRANCISCO"
       ]
      },
      {
       "output_type": "stream",
       "stream": "stdout",
       "text": [
        "\n",
        "nonzero values: 180991 or 97.9 %\n",
        "min: 1 // 25th pct: "
       ]
      },
      {
       "output_type": "stream",
       "stream": "stdout",
       "text": [
        "97566.5 // median: "
       ]
      },
      {
       "output_type": "stream",
       "stream": "stdout",
       "text": [
        "261181.0 // 75th pct: "
       ]
      },
      {
       "output_type": "stream",
       "stream": "stdout",
       "text": [
        "474173.0 // max: 711367467\n",
        "\n",
        "SAN MATEO"
       ]
      },
      {
       "output_type": "stream",
       "stream": "stdout",
       "text": [
        "\n",
        "nonzero values: 203191 or 98.9 %\n",
        "min: 18 // 25th pct: "
       ]
      },
      {
       "output_type": "stream",
       "stream": "stdout",
       "text": [
        "127075.5 // median: "
       ]
      },
      {
       "output_type": "stream",
       "stream": "stdout",
       "text": [
        "280541.0 // 75th pct: "
       ]
      },
      {
       "output_type": "stream",
       "stream": "stdout",
       "text": [
        "489138.0 // max: 582324928\n",
        "\n",
        "SANTA CLARA"
       ]
      },
      {
       "output_type": "stream",
       "stream": "stdout",
       "text": [
        "\n",
        "nonzero values: 427819 or 98.6 %\n",
        "min: 1 // 25th pct: "
       ]
      },
      {
       "output_type": "stream",
       "stream": "stdout",
       "text": [
        "121460.0 // median: "
       ]
      },
      {
       "output_type": "stream",
       "stream": "stdout",
       "text": [
        "266404.0 // 75th pct: "
       ]
      },
      {
       "output_type": "stream",
       "stream": "stdout",
       "text": [
        "455206.0 // max: 1017521479\n",
        "\n",
        "SOLANO"
       ]
      },
      {
       "output_type": "stream",
       "stream": "stdout",
       "text": [
        "\n",
        "nonzero values: 125410 or 94.2 %\n",
        "min: 1 // 25th pct: 101527.0 // median: "
       ]
      },
      {
       "output_type": "stream",
       "stream": "stdout",
       "text": [
        "175767.0 // 75th pct: 260740.0 // max: 221058673\n",
        "\n",
        "SONOMA"
       ]
      },
      {
       "output_type": "stream",
       "stream": "stdout",
       "text": [
        "\n",
        "nonzero values: 168412 or 97.7 %\n",
        "min: 1 // 25th pct: "
       ]
      },
      {
       "output_type": "stream",
       "stream": "stdout",
       "text": [
        "94645.75 // median: "
       ]
      },
      {
       "output_type": "stream",
       "stream": "stdout",
       "text": [
        "202433.5 // 75th pct: "
       ]
      },
      {
       "output_type": "stream",
       "stream": "stdout",
       "text": [
        "328448.0 // max: 154237170\n",
        "\n",
        "16 seconds\n"
       ]
      }
     ],
     "prompt_number": 107
    },
    {
     "cell_type": "code",
     "collapsed": false,
     "input": [
      "basic_stats(\"sa_site_mail_same\", \"Owner-occupied\", \"ahist\")"
     ],
     "language": "python",
     "metadata": {},
     "outputs": [
      {
       "output_type": "stream",
       "stream": "stdout",
       "text": [
        "AHIST table\n",
        "Owner-occupied - SA_SITE_MAIL_SAME\n",
        "\n",
        "ALAMEDA"
       ]
      },
      {
       "output_type": "stream",
       "stream": "stdout",
       "text": [
        "\n",
        "non-missing values: 392622 or 99.8 %\n",
        "\n",
        "CONTRA COSTA"
       ]
      },
      {
       "output_type": "stream",
       "stream": "stdout",
       "text": [
        "\n",
        "non-missing values: 333637 or 97.8 %\n",
        "\n",
        "MARIN"
       ]
      },
      {
       "output_type": "stream",
       "stream": "stdout",
       "text": [
        "\n",
        "non-missing values: 83501 or 88.8 %\n",
        "\n",
        "NAPA"
       ]
      },
      {
       "output_type": "stream",
       "stream": "stdout",
       "text": [
        "\n",
        "non-missing values: 40489 or 87.3 %\n",
        "\n",
        "SAN FRANCISCO"
       ]
      },
      {
       "output_type": "stream",
       "stream": "stdout",
       "text": [
        "\n",
        "non-missing values: 182795 or 98.9 %\n",
        "\n",
        "SAN MATEO"
       ]
      },
      {
       "output_type": "stream",
       "stream": "stdout",
       "text": [
        "\n",
        "non-missing values: 200378 or 97.5 %\n",
        "\n",
        "SANTA CLARA"
       ]
      },
      {
       "output_type": "stream",
       "stream": "stdout",
       "text": [
        "\n",
        "non-missing values: 417259 or 96.1 %\n",
        "\n",
        "SOLANO"
       ]
      },
      {
       "output_type": "stream",
       "stream": "stdout",
       "text": [
        "\n",
        "non-missing values: 119979 or 90.1 %\n",
        "\n",
        "SONOMA"
       ]
      },
      {
       "output_type": "stream",
       "stream": "stdout",
       "text": [
        "\n",
        "non-missing values: 169322 or 98.2 %\n",
        "\n",
        "13 seconds\n"
       ]
      }
     ],
     "prompt_number": 112
    },
    {
     "cell_type": "code",
     "collapsed": false,
     "input": [
      "full_stats(\"owner_occupancy_code\", \"Owner-occupancy code\", \"ahist\")"
     ],
     "language": "python",
     "metadata": {},
     "outputs": [
      {
       "output_type": "stream",
       "stream": "stdout",
       "text": [
        "AHIST table\n",
        "Owner-occupancy code - OWNER_OCCUPANCY_CODE\n",
        "\n",
        "ALAMEDA"
       ]
      },
      {
       "output_type": "stream",
       "stream": "stdout",
       "text": [
        "\n",
        "nonzero values: 294463 or 74.9 %\n",
        "min: 1 // 25th pct: 3.0 // median: 7.0 // 75th pct: 7.0 // max: 7\n",
        "\n",
        "CONTRA COSTA"
       ]
      },
      {
       "output_type": "stream",
       "stream": "stdout",
       "text": [
        "\n",
        "nonzero values: 263915 or 77.4 %\n",
        "min: 1 // 25th pct: 7.0 // median: 7.0 // 75th pct: 7.0 // max: 7\n",
        "\n",
        "MARIN"
       ]
      },
      {
       "output_type": "stream",
       "stream": "stdout",
       "text": [
        "\n",
        "nonzero values: 65150 or 69.3 %\n",
        "min: 1 // 25th pct: 6.0 // median: 7.0 // 75th pct: 7.0 // max: 7\n",
        "\n",
        "NAPA"
       ]
      },
      {
       "output_type": "stream",
       "stream": "stdout",
       "text": [
        "\n",
        "nonzero values: 29874 or 64.4 %\n",
        "min: 1 // 25th pct: 3.0 // median: 7.0 // 75th pct: 7.0 // max: 7\n",
        "\n",
        "SAN FRANCISCO"
       ]
      },
      {
       "output_type": "stream",
       "stream": "stdout",
       "text": [
        "\n",
        "nonzero values: 121452 or 65.7 %\n",
        "min: 1 // 25th pct: 3.0 // median: 7.0 // 75th pct: 7.0 // max: 7\n",
        "\n",
        "SAN MATEO"
       ]
      },
      {
       "output_type": "stream",
       "stream": "stdout",
       "text": [
        "\n",
        "nonzero values: 164859 or 80.2 %\n",
        "min: 1 // 25th pct: 6.0 // median: 7.0 // 75th pct: 7.0 // max: 7\n",
        "\n",
        "SANTA CLARA"
       ]
      },
      {
       "output_type": "stream",
       "stream": "stdout",
       "text": [
        "\n",
        "nonzero values: 340440 or 78.4 %\n",
        "min: 1 // 25th pct: 3.0 // median: 7.0 // 75th pct: 7.0 // max: 7\n",
        "\n",
        "SOLANO"
       ]
      },
      {
       "output_type": "stream",
       "stream": "stdout",
       "text": [
        "\n",
        "nonzero values: 95925 or 72.1 %\n",
        "min: 1 // 25th pct: 1.0 // median: 7.0 // 75th pct: 7.0 // max: 7\n",
        "\n",
        "SONOMA"
       ]
      },
      {
       "output_type": "stream",
       "stream": "stdout",
       "text": [
        "\n",
        "nonzero values: 112914 or 65.5 %\n",
        "min: 1 // 25th pct: 3.0 // median: 7.0 // 75th pct: 7.0 // max: 7\n",
        "\n",
        "35 seconds\n"
       ]
      }
     ],
     "prompt_number": 144
    },
    {
     "cell_type": "code",
     "collapsed": false,
     "input": [
      "full_stats(\"ah_history_yr\", \"Year of history table\", \"ahist\")"
     ],
     "language": "python",
     "metadata": {},
     "outputs": [
      {
       "output_type": "stream",
       "stream": "stdout",
       "text": [
        "AHIST table\n",
        "Year of history table - AH_HISTORY_YR\n",
        "\n",
        "ALAMEDA"
       ]
      },
      {
       "output_type": "stream",
       "stream": "stdout",
       "text": [
        "\n",
        "nonzero values: 393346 or 100.0 %\n",
        "min: 2004 // 25th pct: 2004.0 // median: 2004.0 // 75th pct: 2004.0 // max: 2004\n",
        "\n",
        "CONTRA COSTA"
       ]
      },
      {
       "output_type": "stream",
       "stream": "stdout",
       "text": [
        "\n",
        "nonzero values: 341143 or 100.0 %\n",
        "min: 2004 // 25th pct: 2004.0 // median: 2004.0 // 75th pct: 2004.0 // max: 2004\n",
        "\n",
        "MARIN"
       ]
      },
      {
       "output_type": "stream",
       "stream": "stdout",
       "text": [
        "\n",
        "nonzero values: 94034 or 100.0 %\n",
        "min: 2004 // 25th pct: 2004.0 // median: 2004.0 // 75th pct: 2004.0 // max: 2004\n",
        "\n",
        "NAPA"
       ]
      },
      {
       "output_type": "stream",
       "stream": "stdout",
       "text": [
        "\n",
        "nonzero values: 46395 or 100.0 %\n",
        "min: 2004 // 25th pct: 2004.0 // median: 2004.0 // 75th pct: 2004.0 // max: 2004\n",
        "\n",
        "SAN FRANCISCO"
       ]
      },
      {
       "output_type": "stream",
       "stream": "stdout",
       "text": [
        "\n",
        "nonzero values: 184902 or 100.0 %\n",
        "min: 2004 // 25th pct: 2004.0 // median: 2004.0 // 75th pct: 2004.0 // max: 2004\n",
        "\n",
        "SAN MATEO"
       ]
      },
      {
       "output_type": "stream",
       "stream": "stdout",
       "text": [
        "\n",
        "nonzero values: 205432 or 100.0 %\n",
        "min: 2004 // 25th pct: 2004.0 // median: 2004.0 // 75th pct: 2004.0 // max: 2004\n",
        "\n",
        "SANTA CLARA"
       ]
      },
      {
       "output_type": "stream",
       "stream": "stdout",
       "text": [
        "\n",
        "nonzero values: 433972 or 100.0 %\n",
        "min: 2004 // 25th pct: 2004.0 // median: 2004.0 // 75th pct: 2004.0 // max: 2004\n",
        "\n",
        "SOLANO"
       ]
      },
      {
       "output_type": "stream",
       "stream": "stdout",
       "text": [
        "\n",
        "nonzero values: 133103 or 100.0 %\n",
        "min: 2004 // 25th pct: 2004.0 // median: 2004.0 // 75th pct: 2004.0 // max: 2004\n",
        "\n",
        "SONOMA"
       ]
      },
      {
       "output_type": "stream",
       "stream": "stdout",
       "text": [
        "\n",
        "nonzero values: 172411 or 100.0 %\n",
        "min: 2004 // 25th pct: 2004.0 // median: 2004.0 // 75th pct: 2004.0 // max: 2004\n",
        "\n",
        "35 seconds\n"
       ]
      }
     ],
     "prompt_number": 117
    },
    {
     "cell_type": "code",
     "collapsed": false,
     "input": [
      "# Condition, census tract, and zoning are missing from the historical tables"
     ],
     "language": "python",
     "metadata": {},
     "outputs": []
    },
    {
     "cell_type": "code",
     "collapsed": false,
     "input": [
      "t0 = time.time()\n",
      "conn.commit()\n",
      "\n",
      "print \"2004 assessor history records successfully matched to current assessor records\"\n",
      "print\n",
      "\n",
      "for c in cty:\n",
      "    cur.execute(\"SELECT count(ahist.sa_property_id) \" +\n",
      "                \"FROM master.ahist \" +\n",
      "                \"INNER JOIN master.assessor ON assessor.sa_property_id = ahist.sa_property_id \" +\n",
      "                \"WHERE ahist.mm_fips_muni_code=%s \", (c['fips'],))\n",
      "    \n",
      "    matched = cur.fetchall()[0][0]\n",
      "    total = c['hist']\n",
      "    pct = round(matched*100.0/total,1)\n",
      "    \n",
      "    print c['name'].upper()\n",
      "    print \"successful matches:\", matched, \"or\", pct, \"%\"\n",
      "    print\n",
      "\n",
      "print \"//\", int(round(time.time()-t0)), \"seconds\""
     ],
     "language": "python",
     "metadata": {},
     "outputs": [
      {
       "output_type": "stream",
       "stream": "stdout",
       "text": [
        "2004 assessor history records successfully matched to current assessor records\n",
        "\n",
        "ALAMEDA"
       ]
      },
      {
       "output_type": "stream",
       "stream": "stdout",
       "text": [
        "\n",
        "successful matches: 393063 or 99.9 %\n",
        "\n",
        "CONTRA COSTA"
       ]
      },
      {
       "output_type": "stream",
       "stream": "stdout",
       "text": [
        "\n",
        "successful matches: 340852 or 99.9 %\n",
        "\n",
        "MARIN"
       ]
      },
      {
       "output_type": "stream",
       "stream": "stdout",
       "text": [
        "\n",
        "successful matches: 93719 or 99.7 %\n",
        "\n",
        "NAPA"
       ]
      },
      {
       "output_type": "stream",
       "stream": "stdout",
       "text": [
        "\n",
        "successful matches: 46130 or 99.4 %\n",
        "\n",
        "SAN FRANCISCO"
       ]
      },
      {
       "output_type": "stream",
       "stream": "stdout",
       "text": [
        "\n",
        "successful matches: 184645 or 99.9 %\n",
        "\n",
        "SAN MATEO"
       ]
      },
      {
       "output_type": "stream",
       "stream": "stdout",
       "text": [
        "\n",
        "successful matches: 205261 or 99.9 %\n",
        "\n",
        "SANTA CLARA"
       ]
      },
      {
       "output_type": "stream",
       "stream": "stdout",
       "text": [
        "\n",
        "successful matches: 424752 or 97.9 %\n",
        "\n",
        "SOLANO"
       ]
      },
      {
       "output_type": "stream",
       "stream": "stdout",
       "text": [
        "\n",
        "successful matches: 133032 or 99.9 %\n",
        "\n",
        "SONOMA"
       ]
      },
      {
       "output_type": "stream",
       "stream": "stdout",
       "text": [
        "\n",
        "successful matches: 172136 or 99.8 %\n",
        "\n",
        "// 2168 seconds\n"
       ]
      }
     ],
     "prompt_number": 120
    },
    {
     "cell_type": "code",
     "collapsed": false,
     "input": [],
     "language": "python",
     "metadata": {},
     "outputs": []
    },
    {
     "cell_type": "code",
     "collapsed": false,
     "input": [],
     "language": "python",
     "metadata": {},
     "outputs": []
    },
    {
     "cell_type": "markdown",
     "metadata": {},
     "source": [
      "### Stats for sales history table"
     ]
    },
    {
     "cell_type": "code",
     "collapsed": false,
     "input": [
      "t0 = time.time()\n",
      "conn.commit()\n",
      "\n",
      "print \"Total record counts for sales history table\"\n",
      "print\n",
      "\n",
      "for c in cty:\n",
      "    cur.execute(\"SELECT count(sr_property_id) FROM master.sales \" +\n",
      "                \"WHERE mm_fips_muni_code=%s\", (c['fips'],))\n",
      "    count = cur.fetchall()[0][0]\n",
      "    print c['name'], \"=\", count\n",
      "    c['count'] = count\n",
      "\n",
      "print \"//\", int(round(time.time()-t0)), \"seconds\""
     ],
     "language": "python",
     "metadata": {},
     "outputs": [
      {
       "output_type": "stream",
       "stream": "stdout",
       "text": [
        "Total record counts for sales history table\n",
        "\n",
        "Alameda"
       ]
      },
      {
       "output_type": "stream",
       "stream": "stdout",
       "text": [
        " = 1255979\n",
        "Contra Costa"
       ]
      },
      {
       "output_type": "stream",
       "stream": "stdout",
       "text": [
        " = 1126258\n",
        "Marin"
       ]
      },
      {
       "output_type": "stream",
       "stream": "stdout",
       "text": [
        " = 282399\n",
        "Napa"
       ]
      },
      {
       "output_type": "stream",
       "stream": "stdout",
       "text": [
        " = 157343\n",
        "San Francisco"
       ]
      },
      {
       "output_type": "stream",
       "stream": "stdout",
       "text": [
        " = 565042\n",
        "San Mateo"
       ]
      },
      {
       "output_type": "stream",
       "stream": "stdout",
       "text": [
        " = 638484\n",
        "Santa Clara"
       ]
      },
      {
       "output_type": "stream",
       "stream": "stdout",
       "text": [
        " = 1398430\n",
        "Solano"
       ]
      },
      {
       "output_type": "stream",
       "stream": "stdout",
       "text": [
        " = 438545\n",
        "Sonoma"
       ]
      },
      {
       "output_type": "stream",
       "stream": "stdout",
       "text": [
        " = 541994\n",
        "// 294 seconds\n"
       ]
      }
     ],
     "prompt_number": 18
    },
    {
     "cell_type": "code",
     "collapsed": false,
     "input": [
      "t0 = time.time()\n",
      "conn.commit()\n",
      "\n",
      "codes = ['1','0','']\n",
      "\n",
      "print \"SALES table\"\n",
      "print \"Arms length transfer flags\"\n",
      "print\n",
      "\n",
      "for c in cty:\n",
      "    print c['name'].upper()\n",
      "    cur.execute(\"SELECT sr_arms_length_flag FROM master.sales \" +\n",
      "                \"WHERE mm_fips_muni_code = %s\", (c['fips'],))\n",
      "    out1 = np.array(cur.fetchall())\n",
      "\n",
      "    for u in codes:    \n",
      "        out2 = out1[out1==u]\n",
      "        pct = round(np.shape(out2)[0]*100.0/np.shape(out1)[0],1)        \n",
      "        print u+\":\", np.shape(out2)[0], \"or\", pct, \"%\"            \n",
      "        c[u] = np.shape(out2)[0]\n",
      "\n",
      "    print\n",
      "\n",
      "print \"//\", int(round(time.time()-t0)), \"seconds\""
     ],
     "language": "python",
     "metadata": {},
     "outputs": [
      {
       "output_type": "stream",
       "stream": "stdout",
       "text": [
        "SALES table\n",
        "Arms length transfer flags\n",
        "\n",
        "ALAMEDA\n",
        "1:"
       ]
      },
      {
       "output_type": "stream",
       "stream": "stdout",
       "text": [
        " 577276 or 42.9 %\n",
        "0:"
       ]
      },
      {
       "output_type": "stream",
       "stream": "stdout",
       "text": [
        " 666217 or 49.5 %\n",
        ": 101662 or 7.6 %\n",
        "\n",
        "CONTRA COSTA\n",
        "1:"
       ]
      },
      {
       "output_type": "stream",
       "stream": "stdout",
       "text": [
        " 545392 or 45.3 %\n",
        "0: 568734 or 47.2 %\n",
        ":"
       ]
      },
      {
       "output_type": "stream",
       "stream": "stdout",
       "text": [
        " 89594 or 7.4 %\n",
        "\n",
        "MARIN\n",
        "1:"
       ]
      },
      {
       "output_type": "stream",
       "stream": "stdout",
       "text": [
        " 107022 or 35.4 %\n",
        "0: 171480 or 56.6 %\n",
        ": 24247 or 8.0 %\n",
        "\n",
        "NAPA\n",
        "1:"
       ]
      },
      {
       "output_type": "stream",
       "stream": "stdout",
       "text": [
        " 61680 or 35.5 %\n",
        "0: 91407 or 52.6 %\n",
        ": 20804 or 12.0 %\n",
        "\n",
        "SAN FRANCISCO\n",
        "1:"
       ]
      },
      {
       "output_type": "stream",
       "stream": "stdout",
       "text": [
        " 218134 or 36.2 %\n",
        "0: 333437 or 55.3 %\n",
        ": 51765 or 8.6 %\n",
        "\n",
        "SAN MATEO\n",
        "1:"
       ]
      },
      {
       "output_type": "stream",
       "stream": "stdout",
       "text": [
        " 263532 or 39.1 %\n",
        "0: 369299 or 54.8 %\n",
        ": 41449 or 6.1 %\n",
        "\n",
        "SANTA CLARA\n",
        "1:"
       ]
      },
      {
       "output_type": "stream",
       "stream": "stdout",
       "text": [
        " 627249 or 42.5 %\n",
        "0:"
       ]
      },
      {
       "output_type": "stream",
       "stream": "stdout",
       "text": [
        " 758191 or 51.4 %\n",
        ": 90208 or 6.1 %\n",
        "\n",
        "SOLANO\n",
        "1:"
       ]
      },
      {
       "output_type": "stream",
       "stream": "stdout",
       "text": [
        " 216276 or 47.1 %\n",
        "0: 217115 or 47.3 %\n",
        ": 26080 or 5.7 %\n",
        "\n",
        "SONOMA\n",
        "1:"
       ]
      },
      {
       "output_type": "stream",
       "stream": "stdout",
       "text": [
        " 228721 or 38.3 %\n",
        "0: 304031 or 50.9 %\n",
        ": 64227 or 10.8 %\n",
        "\n",
        "// 359 seconds\n"
       ]
      }
     ],
     "prompt_number": 128
    },
    {
     "cell_type": "code",
     "collapsed": false,
     "input": [
      "full_stats(\"sr_val_transfer\", \"Sale amount\", \"sales\")"
     ],
     "language": "python",
     "metadata": {},
     "outputs": [
      {
       "output_type": "stream",
       "stream": "stdout",
       "text": [
        "Sale amount - SR_VAL_TRANSFER\n",
        "\n",
        "ALAMEDA"
       ]
      },
      {
       "output_type": "stream",
       "stream": "stdout",
       "text": [
        "\n",
        "nonzero values: 712409 or 53.0 %\n",
        "min: 1 // 25th pct: 170000.0 // median: "
       ]
      },
      {
       "output_type": "stream",
       "stream": "stdout",
       "text": [
        "290500.0 // 75th pct: 485000.0 // max: 364000000\n",
        "\n",
        "CONTRA COSTA"
       ]
      },
      {
       "output_type": "stream",
       "stream": "stdout",
       "text": [
        "\n",
        "nonzero values: 645509 or 53.6 %\n",
        "min: 1 // 25th pct: 157000.0 // median: "
       ]
      },
      {
       "output_type": "stream",
       "stream": "stdout",
       "text": [
        "270000.0 // 75th pct: 450000.0 // max: 1325500000\n",
        "\n",
        "MARIN"
       ]
      },
      {
       "output_type": "stream",
       "stream": "stdout",
       "text": [
        "\n",
        "nonzero values: 119492 or 39.5 %\n",
        "min: 100 // 25th pct: 264000.0 // median: 465000.0 // 75th pct: 775000.0 // max: 138000000\n",
        "\n",
        "NAPA"
       ]
      },
      {
       "output_type": "stream",
       "stream": "stdout",
       "text": [
        "\n",
        "nonzero values: 73682 or 42.4 %\n",
        "min: 3 // 25th pct: 150000.0 // median: 275000.0 // 75th pct: 482500.0 // max: 254545455\n",
        "\n",
        "SAN FRANCISCO"
       ]
      },
      {
       "output_type": "stream",
       "stream": "stdout",
       "text": [
        "\n",
        "nonzero values: 257497 or 42.7 %\n",
        "min: 2 // 25th pct: 242000.0 // median: 455000.0 // 75th pct: 765000.0 // max: 910000000\n",
        "\n",
        "SAN MATEO"
       ]
      },
      {
       "output_type": "stream",
       "stream": "stdout",
       "text": [
        "\n",
        "nonzero values: 289918 or 43.0 %\n",
        "min: 100 // 25th pct: 250000.0 // median: 425000.0 // 75th pct: 700000.0 // max: 235000000\n",
        "\n",
        "SANTA CLARA"
       ]
      },
      {
       "output_type": "stream",
       "stream": "stdout",
       "text": [
        "\n",
        "nonzero values: 742743 or 50.3 %\n",
        "min: 3 // 25th pct: "
       ]
      },
      {
       "output_type": "stream",
       "stream": "stdout",
       "text": [
        "217000.0 // median: "
       ]
      },
      {
       "output_type": "stream",
       "stream": "stdout",
       "text": [
        "375000.0 // 75th pct: "
       ]
      },
      {
       "output_type": "stream",
       "stream": "stdout",
       "text": [
        "610000.0 // max: 634845881\n",
        "\n",
        "SOLANO"
       ]
      },
      {
       "output_type": "stream",
       "stream": "stdout",
       "text": [
        "\n",
        "nonzero values: 267096 or 58.1 %\n",
        "min: 1 // 25th pct: 132000.0 // median: 202000.0 // 75th pct: 338000.0 // max: 148181818\n",
        "\n",
        "SONOMA"
       ]
      },
      {
       "output_type": "stream",
       "stream": "stdout",
       "text": [
        "\n",
        "nonzero values: 277133 or 46.4 %\n",
        "min: 81 // 25th pct: 163000.0 // median: 264000.0 // 75th pct: 435000.0 // max: 400000000\n",
        "\n",
        "264 seconds\n"
       ]
      }
     ],
     "prompt_number": 21
    },
    {
     "cell_type": "code",
     "collapsed": false,
     "input": [
      "full_stats_armslength(\"sr_val_transfer\", \"Sale amount\", \"sales\")"
     ],
     "language": "python",
     "metadata": {},
     "outputs": [
      {
       "output_type": "stream",
       "stream": "stdout",
       "text": [
        "SALES table\n",
        "Sale amount - SR_VAL_TRANSFER - Filtered for arms-length code of 1\n",
        "\n",
        "ALAMEDA"
       ]
      },
      {
       "output_type": "stream",
       "stream": "stdout",
       "text": [
        "\n",
        "nonzero values: 559368 or 96.9 %\n",
        "min: 181 // 25th pct: 189000.0 // median: "
       ]
      },
      {
       "output_type": "stream",
       "stream": "stdout",
       "text": [
        "312000.0 // 75th pct: 510000.0 // max: 167500000\n",
        "\n",
        "CONTRA COSTA"
       ]
      },
      {
       "output_type": "stream",
       "stream": "stdout",
       "text": [
        "\n",
        "nonzero values: 525498 or 96.4 %\n",
        "min: 500 // 25th pct: 170000.0 // median: "
       ]
      },
      {
       "output_type": "stream",
       "stream": "stdout",
       "text": [
        "290000.0 // 75th pct: 475000.0 // max: 281818182\n",
        "\n",
        "MARIN"
       ]
      },
      {
       "output_type": "stream",
       "stream": "stdout",
       "text": [
        "\n",
        "nonzero values: 98611 or 92.1 %\n",
        "min: 500 // 25th pct: 300000.0 // median: 506000.0 // 75th pct: 810000.0 // max: 138000000\n",
        "\n",
        "NAPA"
       ]
      },
      {
       "output_type": "stream",
       "stream": "stdout",
       "text": [
        "\n",
        "nonzero values: 58255 or 94.4 %\n",
        "min: 454 // 25th pct: 170000.0 // median: 300000.0 // 75th pct: 503000.0 // max: 254545455\n",
        "\n",
        "SAN FRANCISCO"
       ]
      },
      {
       "output_type": "stream",
       "stream": "stdout",
       "text": [
        "\n",
        "nonzero values: 204985 or 94.0 %\n",
        "min: 400 // 25th pct: 290000.0 // median: 512000.0 // 75th pct: 805000.0 // max: 910000000\n",
        "\n",
        "SAN MATEO"
       ]
      },
      {
       "output_type": "stream",
       "stream": "stdout",
       "text": [
        "\n",
        "nonzero values: 249828 or 94.8 %\n",
        "min: 500 // 25th pct: 268000.0 // median: 445000.0 // 75th pct: 720000.0 // max: 235000000\n",
        "\n",
        "SANTA CLARA"
       ]
      },
      {
       "output_type": "stream",
       "stream": "stdout",
       "text": [
        "\n",
        "nonzero values: 597801 or 95.3 %\n",
        "min: 500 // 25th pct: 245400.0 // median: "
       ]
      },
      {
       "output_type": "stream",
       "stream": "stdout",
       "text": [
        "409000.0 // 75th pct: 641000.0 // max: 420000000\n",
        "\n",
        "SOLANO"
       ]
      },
      {
       "output_type": "stream",
       "stream": "stdout",
       "text": [
        "\n",
        "nonzero values: 209257 or 96.8 %\n",
        "min: 500 // 25th pct: 140000.0 // median: 210000.0 // 75th pct: 344500.0 // max: 52000000\n",
        "\n",
        "SONOMA"
       ]
      },
      {
       "output_type": "stream",
       "stream": "stdout",
       "text": [
        "\n",
        "nonzero values: 217544 or 95.1 %\n",
        "min: 500 // 25th pct: 180000.0 // median: 287000.0 // 75th pct: 455143.25 // max: 400000000\n",
        "\n",
        "346 seconds\n"
       ]
      }
     ],
     "prompt_number": 135
    },
    {
     "cell_type": "code",
     "collapsed": false,
     "input": [
      "full_stats(\"sr_date_transfer\", \"Sale date\", \"sales\")"
     ],
     "language": "python",
     "metadata": {},
     "outputs": [
      {
       "output_type": "stream",
       "stream": "stdout",
       "text": [
        "Sale date - SR_DATE_TRANSFER\n",
        "\n",
        "ALAMEDA"
       ]
      },
      {
       "output_type": "stream",
       "stream": "stdout",
       "text": [
        "\n",
        "nonzero values: 1345155 or 100.0 %\n",
        "min: 19590911 // 25th pct: 19970226.0 // median: "
       ]
      },
      {
       "output_type": "stream",
       "stream": "stdout",
       "text": [
        "20021115.0 // 75th pct: 20071212.0 // max: 20140623\n",
        "\n",
        "CONTRA COSTA"
       ]
      },
      {
       "output_type": "stream",
       "stream": "stdout",
       "text": [
        "\n",
        "nonzero values: 1203720 or 100.0 %\n",
        "min: 19710702 // 25th pct: 19970509.0 // median: "
       ]
      },
      {
       "output_type": "stream",
       "stream": "stdout",
       "text": [
        "20030619.0 // 75th pct: 20080602.0 // max: 20140630\n",
        "\n",
        "MARIN"
       ]
      },
      {
       "output_type": "stream",
       "stream": "stdout",
       "text": [
        "\n",
        "nonzero values: 302749 or 100.0 %\n",
        "min: 19560918 // 25th pct: 19970904.0 // median: 20030115.0 // 75th pct: 20080118.0 // max: 20140630\n",
        "\n",
        "NAPA"
       ]
      },
      {
       "output_type": "stream",
       "stream": "stdout",
       "text": [
        "\n",
        "nonzero values: 173891 or 100.0 %\n",
        "min: 19880101 // 25th pct: 19970404.0 // median: 20020805.0 // 75th pct: 20071005.0 // max: 20140701\n",
        "\n",
        "SAN FRANCISCO"
       ]
      },
      {
       "output_type": "stream",
       "stream": "stdout",
       "text": [
        "\n",
        "nonzero values: 603336 or 100.0 %\n",
        "min: 19530702 // 25th pct: 19970626.0 // median: 20030424.0 // 75th pct: "
       ]
      },
      {
       "output_type": "stream",
       "stream": "stdout",
       "text": [
        "20080903.0 // max: 20140620\n",
        "\n",
        "SAN MATEO"
       ]
      },
      {
       "output_type": "stream",
       "stream": "stdout",
       "text": [
        "\n",
        "nonzero values: 674280 or 100.0 %\n",
        "min: 19620727 // 25th pct: 19960823.0 // median: 20020507.0 // 75th pct: "
       ]
      },
      {
       "output_type": "stream",
       "stream": "stdout",
       "text": [
        "20070910.0 // max: 20140617\n",
        "\n",
        "SANTA CLARA"
       ]
      },
      {
       "output_type": "stream",
       "stream": "stdout",
       "text": [
        "\n",
        "nonzero values: 1475648 or 100.0 %\n",
        "min: 19000009 // 25th pct: 19970206.0 // median: "
       ]
      },
      {
       "output_type": "stream",
       "stream": "stdout",
       "text": [
        "20021106.0 // 75th pct: 20080131.0 // max: 20140630\n",
        "\n",
        "SOLANO"
       ]
      },
      {
       "output_type": "stream",
       "stream": "stdout",
       "text": [
        "\n",
        "nonzero values: 459471 or 100.0 %\n",
        "min: 19880104 // 25th pct: 19971229.0 // median: 20031027.0 // 75th pct: 20080812.0 // max: 20140630\n",
        "\n",
        "SONOMA"
       ]
      },
      {
       "output_type": "stream",
       "stream": "stdout",
       "text": [
        "\n",
        "nonzero values: 596979 or 100.0 %\n",
        "min: 19601123 // 25th pct: 19970702.0 // median: 20021206.0 // 75th pct: "
       ]
      },
      {
       "output_type": "stream",
       "stream": "stdout",
       "text": [
        "20071218.0 // max: 20140624\n",
        "\n",
        "252 seconds\n"
       ]
      }
     ],
     "prompt_number": 58
    },
    {
     "cell_type": "code",
     "collapsed": false,
     "input": [
      "basic_stats(\"sr_site_addr_raw\", \"Site address\", \"sales\")"
     ],
     "language": "python",
     "metadata": {},
     "outputs": [
      {
       "output_type": "stream",
       "stream": "stdout",
       "text": [
        "Site address - SR_SITE_ADDR_RAW\n",
        "\n",
        "ALAMEDA"
       ]
      },
      {
       "output_type": "stream",
       "stream": "stdout",
       "text": [
        "\n",
        "non-missing values: 468922 or 34.9 %\n",
        "\n",
        "CONTRA COSTA"
       ]
      },
      {
       "output_type": "stream",
       "stream": "stdout",
       "text": [
        "\n",
        "non-missing values: 402134 or 33.4 %\n",
        "\n",
        "MARIN"
       ]
      },
      {
       "output_type": "stream",
       "stream": "stdout",
       "text": [
        "\n",
        "non-missing values: 94264 or 31.1 %\n",
        "\n",
        "NAPA"
       ]
      },
      {
       "output_type": "stream",
       "stream": "stdout",
       "text": [
        "\n",
        "non-missing values: 43226 or 24.9 %\n",
        "\n",
        "SAN FRANCISCO"
       ]
      },
      {
       "output_type": "stream",
       "stream": "stdout",
       "text": [
        "\n",
        "non-missing values: 322154 or 53.4 %\n",
        "\n",
        "SAN MATEO"
       ]
      },
      {
       "output_type": "stream",
       "stream": "stdout",
       "text": [
        "\n",
        "non-missing values: 215946 or 32.0 %\n",
        "\n",
        "SANTA CLARA"
       ]
      },
      {
       "output_type": "stream",
       "stream": "stdout",
       "text": [
        "\n",
        "non-missing values: 492965 or 33.4 %\n",
        "\n",
        "SOLANO"
       ]
      },
      {
       "output_type": "stream",
       "stream": "stdout",
       "text": [
        "\n",
        "non-missing values: 150705 or 32.8 %\n",
        "\n",
        "SONOMA"
       ]
      },
      {
       "output_type": "stream",
       "stream": "stdout",
       "text": [
        "\n",
        "non-missing values: 168993 or 28.3 %\n",
        "\n",
        "250 seconds\n"
       ]
      }
     ],
     "prompt_number": 59
    },
    {
     "cell_type": "code",
     "collapsed": false,
     "input": [
      "basic_stats(\"sr_mail_addr_raw\", \"Mailing address of the buyer\", \"sales\")"
     ],
     "language": "python",
     "metadata": {},
     "outputs": [
      {
       "output_type": "stream",
       "stream": "stdout",
       "text": [
        "Mailing address of the buyer - SR_MAIL_ADDR_RAW\n",
        "\n",
        "ALAMEDA"
       ]
      },
      {
       "output_type": "stream",
       "stream": "stdout",
       "text": [
        "\n",
        "non-missing values: 734066 or 54.6 %\n",
        "\n",
        "CONTRA COSTA"
       ]
      },
      {
       "output_type": "stream",
       "stream": "stdout",
       "text": [
        "\n",
        "non-missing values: 665102 or 55.3 %\n",
        "\n",
        "MARIN"
       ]
      },
      {
       "output_type": "stream",
       "stream": "stdout",
       "text": [
        "\n",
        "non-missing values: 171194 or 56.5 %\n",
        "\n",
        "NAPA"
       ]
      },
      {
       "output_type": "stream",
       "stream": "stdout",
       "text": [
        "\n",
        "non-missing values: 94194 or 54.2 %\n",
        "\n",
        "SAN FRANCISCO"
       ]
      },
      {
       "output_type": "stream",
       "stream": "stdout",
       "text": [
        "\n",
        "non-missing values: 346668 or 57.5 %\n",
        "\n",
        "SAN MATEO"
       ]
      },
      {
       "output_type": "stream",
       "stream": "stdout",
       "text": [
        "\n",
        "non-missing values: 359056 or 53.3 %\n",
        "\n",
        "SANTA CLARA"
       ]
      },
      {
       "output_type": "stream",
       "stream": "stdout",
       "text": [
        "\n",
        "non-missing values: 804770 or 54.5 %\n",
        "\n",
        "SOLANO"
       ]
      },
      {
       "output_type": "stream",
       "stream": "stdout",
       "text": [
        "\n",
        "non-missing values: 258952 or 56.4 %\n",
        "\n",
        "SONOMA"
       ]
      },
      {
       "output_type": "stream",
       "stream": "stdout",
       "text": [
        "\n",
        "non-missing values: 323822 or 54.2 %\n",
        "\n",
        "321 seconds\n"
       ]
      }
     ],
     "prompt_number": 11
    },
    {
     "cell_type": "code",
     "collapsed": false,
     "input": [
      "t0 = time.time()\n",
      "conn.commit()\n",
      "\n",
      "print \"Sales records successfully matched to current assessor records\"\n",
      "print\n",
      "\n",
      "for c in cty:\n",
      "    cur.execute(\"SELECT count(sales.sr_property_id) \" +\n",
      "                \"FROM master.sales \" +\n",
      "                \"INNER JOIN master.assessor ON sa_property_id = sr_property_id \" +\n",
      "                \"WHERE sales.mm_fips_muni_code=%s \", (c['fips'],))\n",
      "    \n",
      "    matched = cur.fetchall()[0][0]\n",
      "    total = c['count']\n",
      "    pct = round(matched*100.0/total,1)\n",
      "    \n",
      "    print c['name'].upper()\n",
      "    print \"successful matches:\", matched, \"or\", pct, \"%\"\n",
      "    print\n",
      "\n",
      "print \"//\", int(round(time.time()-t0)), \"seconds\""
     ],
     "language": "python",
     "metadata": {},
     "outputs": [
      {
       "output_type": "stream",
       "stream": "stdout",
       "text": [
        "Sales records successfully matched to current assessor records\n",
        "\n",
        "ALAMEDA"
       ]
      },
      {
       "output_type": "stream",
       "stream": "stdout",
       "text": [
        "\n",
        "successful matches: 1253879 or 99.8 %\n",
        "\n",
        "CONTRA COSTA"
       ]
      },
      {
       "output_type": "stream",
       "stream": "stdout",
       "text": [
        "\n",
        "successful matches: 1125099 or 99.9 %\n",
        "\n",
        "MARIN"
       ]
      },
      {
       "output_type": "stream",
       "stream": "stdout",
       "text": [
        "\n",
        "successful matches: 281867 or 99.8 %\n",
        "\n",
        "NAPA"
       ]
      },
      {
       "output_type": "stream",
       "stream": "stdout",
       "text": [
        "\n",
        "successful matches: 155804 or 99.0 %\n",
        "\n",
        "SAN FRANCISCO"
       ]
      },
      {
       "output_type": "stream",
       "stream": "stdout",
       "text": [
        "\n",
        "successful matches: 555503 or 98.3 %\n",
        "\n",
        "SAN MATEO"
       ]
      },
      {
       "output_type": "stream",
       "stream": "stdout",
       "text": [
        "\n",
        "successful matches: 637846 or 99.9 %\n",
        "\n",
        "SANTA CLARA"
       ]
      },
      {
       "output_type": "stream",
       "stream": "stdout",
       "text": [
        "\n",
        "successful matches: 1396704 or 99.9 %\n",
        "\n",
        "SOLANO"
       ]
      },
      {
       "output_type": "stream",
       "stream": "stdout",
       "text": [
        "\n",
        "successful matches: 438161 or 99.9 %\n",
        "\n",
        "SONOMA"
       ]
      },
      {
       "output_type": "stream",
       "stream": "stdout",
       "text": [
        "\n",
        "successful matches: 541045 or 99.8 %\n",
        "\n",
        "// 1168 seconds\n"
       ]
      }
     ],
     "prompt_number": 19
    },
    {
     "cell_type": "code",
     "collapsed": false,
     "input": [],
     "language": "python",
     "metadata": {},
     "outputs": []
    },
    {
     "cell_type": "code",
     "collapsed": false,
     "input": [],
     "language": "python",
     "metadata": {},
     "outputs": []
    },
    {
     "cell_type": "code",
     "collapsed": false,
     "input": [],
     "language": "python",
     "metadata": {},
     "outputs": []
    },
    {
     "cell_type": "code",
     "collapsed": false,
     "input": [],
     "language": "python",
     "metadata": {},
     "outputs": []
    },
    {
     "cell_type": "code",
     "collapsed": false,
     "input": [],
     "language": "python",
     "metadata": {},
     "outputs": []
    },
    {
     "cell_type": "markdown",
     "metadata": {},
     "source": [
      "### Queries to pull sample data values"
     ]
    },
    {
     "cell_type": "code",
     "collapsed": false,
     "input": [
      "conn.commit()\n",
      "cur.execute(\"SELECT sa_site_mail_same FROM master.assessor \" +\n",
      "            \"WHERE mm_fips_muni_code = 97\")\n",
      "print(cur.fetchall()[:100])"
     ],
     "language": "python",
     "metadata": {},
     "outputs": [
      {
       "output_type": "stream",
       "stream": "stdout",
       "text": [
        "[('U',), ('Y',), ('U',), ('N',), ('Y',), ('Y',), ('N',), ('N',), ('N',), ('Y',), ('Y',), ('Y',), ('N',), ('Y',), ('Y',), ('Y',), ('N',), ('Y',), ('Y',), ('Y',), ('N',), ('N',), ('Y',), ('N',), ('N',), ('Y',), ('N',), ('Y',), ('N',), ('N',), ('Y',), ('Y',), ('N',), ('N',), ('Y',), ('N',), ('Y',), ('Y',), ('N',), ('Y',), ('Y',), ('Y',), ('Y',), ('Y',), ('U',), ('U',), ('U',), ('Y',), ('Y',), ('Y',), ('N',), ('Y',), ('Y',), ('Y',), ('Y',), ('N',), ('Y',), ('Y',), ('Y',), ('Y',), ('Y',), ('Y',), ('Y',), ('Y',), ('Y',), ('N',), ('Y',), ('Y',), ('N',), ('Y',), ('Y',), ('Y',), ('Y',), ('Y',), ('Y',), ('Y',), ('N',), ('N',), ('N',), ('N',), ('N',), ('N',), ('Y',), ('Y',), ('Y',), ('Y',), ('Y',), ('Y',), ('Y',), ('N',), ('N',), ('Y',), ('Y',), ('Y',), ('Y',), ('Y',), ('Y',), ('Y',), ('Y',), ('Y',)]\n"
       ]
      }
     ],
     "prompt_number": 37
    },
    {
     "cell_type": "code",
     "collapsed": false,
     "input": [
      "conn.commit()\n",
      "cur.execute(\"SELECT sa_condition_code FROM master.assessor \" +\n",
      "            \"WHERE mm_fips_muni_code=1\")\n",
      "out1 = np.array(cur.fetchall(), dtype=np.float)\n",
      "\n",
      "#print [v[0] for v in out1 if np.isnan(v[0])]\n",
      "\n",
      "#out1[np.isnan(out1)] = 0\n",
      "out1 = np.floor(out1)\n",
      "\n",
      "\n",
      "out2 = out1[out1>0]\n",
      "pct = round(np.shape(out2)[0]*100.0/np.shape(out1)[0],1)\n",
      "\n",
      "print pct"
     ],
     "language": "python",
     "metadata": {},
     "outputs": [
      {
       "output_type": "stream",
       "stream": "stdout",
       "text": [
        "6.3\n"
       ]
      }
     ],
     "prompt_number": 86
    },
    {
     "cell_type": "code",
     "collapsed": false,
     "input": [
      "print float('NaN')\n",
      "print int(float('NaN'))"
     ],
     "language": "python",
     "metadata": {},
     "outputs": [
      {
       "ename": "ValueError",
       "evalue": "cannot convert float NaN to integer",
       "output_type": "pyerr",
       "traceback": [
        "\u001b[0;31m---------------------------------------------------------------------------\u001b[0m\n\u001b[0;31mValueError\u001b[0m                                Traceback (most recent call last)",
        "\u001b[0;32m<ipython-input-82-2e2795d99344>\u001b[0m in \u001b[0;36m<module>\u001b[0;34m()\u001b[0m\n\u001b[1;32m      1\u001b[0m \u001b[0;32mprint\u001b[0m \u001b[0mfloat\u001b[0m\u001b[0;34m(\u001b[0m\u001b[0;34m'NaN'\u001b[0m\u001b[0;34m)\u001b[0m\u001b[0;34m\u001b[0m\u001b[0m\n\u001b[0;32m----> 2\u001b[0;31m \u001b[0;32mprint\u001b[0m \u001b[0mint\u001b[0m\u001b[0;34m(\u001b[0m\u001b[0mfloat\u001b[0m\u001b[0;34m(\u001b[0m\u001b[0;34m'NaN'\u001b[0m\u001b[0;34m)\u001b[0m\u001b[0;34m)\u001b[0m\u001b[0;34m\u001b[0m\u001b[0m\n\u001b[0m",
        "\u001b[0;31mValueError\u001b[0m: cannot convert float NaN to integer"
       ]
      },
      {
       "output_type": "stream",
       "stream": "stdout",
       "text": [
        "nan\n"
       ]
      }
     ],
     "prompt_number": 82
    },
    {
     "cell_type": "code",
     "collapsed": false,
     "input": [
      "conn.commit()\n",
      "cur.execute(\"SELECT sr_date_transfer FROM master.sales \" +\n",
      "            \"WHERE mm_fips_muni_code = 97 LIMIT 100\")\n",
      "print(cur.fetchall())"
     ],
     "language": "python",
     "metadata": {},
     "outputs": [
      {
       "output_type": "stream",
       "stream": "stdout",
       "text": [
        "[(20070409,), (20070409,), (20070411,), (20070410,), (20070410,), (20070410,), (20070410,), (20070411,), (20070410,), (20070412,), (20070413,), (20070416,), (20070416,), (20070405,), (20070327,), (20070406,), (20070406,), (20070406,), (20021115,), (20021119,), (20021127,), (20031017,), (20010828,), (20040805,), (20020529,), (20021001,), (20130131,), (20130131,), (20130401,), (20020801,), (20040805,), (20040805,), (20010815,), (20010824,), (20070514,), (20070405,), (20070420,), (20031120,), (20030110,), (20030408,), (20040608,), (20040610,), (20021119,), (20021119,), (20021119,), (20021119,), (20021119,), (20070604,), (20070817,), (20070928,), (20020529,), (20120920,), (20130429,), (20140422,), (20080128,), (20080128,), (20050930,), (20060420,), (20021118,), (20051110,), (20051116,), (20040709,), (20040630,), (20040702,), (20040714,), (20040715,), (20070129,), (20070717,), (20020912,), (20040728,), (20040729,), (20040805,), (20040806,), (20050812,), (20101208,), (20101209,), (20101209,), (20101209,), (20071129,), (20071129,), (20060629,), (20110822,), (20021107,), (20070629,), (20070831,), (20071031,), (20060531,), (20060703,), (20061012,), (20120316,), (20100528,), (20040429,), (20070430,), (20051212,), (20050602,), (20070510,), (20070807,), (20051212,), (20021004,), (20071016,)]\n"
       ]
      }
     ],
     "prompt_number": 57
    },
    {
     "cell_type": "code",
     "collapsed": false,
     "input": [
      "conn.commit()\n",
      "cur.execute(\"SELECT sales.sr_property_id, assessor.sa_property_id \" +\n",
      "            \"FROM master.sales \" +\n",
      "            \"INNER JOIN master.assessor ON sa_property_id = sr_property_id \" + \n",
      "            \"WHERE sales.mm_fips_muni_code = 97 \" + \n",
      "            \"LIMIT 10000\")\n",
      "\n",
      "out1 = np.array(cur.fetchall())[:,1]\n",
      "count = np.shape(out1[out1>0])[0]\n",
      "\n",
      "print(count)"
     ],
     "language": "python",
     "metadata": {},
     "outputs": [
      {
       "output_type": "stream",
       "stream": "stdout",
       "text": [
        "10000\n"
       ]
      }
     ],
     "prompt_number": 13
    },
    {
     "cell_type": "code",
     "collapsed": false,
     "input": [
      "conn.commit()\n",
      "cur.execute(\"SELECT count(sales.sr_property_id) \" +\n",
      "            \"FROM master.sales \" +\n",
      "            \"INNER JOIN master.assessor ON sa_property_id = sr_property_id \" + \n",
      "            \"WHERE sales.mm_fips_muni_code = 97 \" + \n",
      "            \"LIMIT 10000\")\n",
      "\n",
      "print(cur.fetchall())"
     ],
     "language": "python",
     "metadata": {},
     "outputs": [
      {
       "output_type": "stream",
       "stream": "stdout",
       "text": [
        "[(541045L,)]\n"
       ]
      }
     ],
     "prompt_number": 15
    },
    {
     "cell_type": "code",
     "collapsed": false,
     "input": [
      "conn.commit()\n",
      "cur.execute(\"SELECT sr_arms_length_flag FROM master.sales \" +\n",
      "            \"WHERE mm_fips_muni_code = 1 LIMIT 100\")\n",
      "print(cur.fetchall())"
     ],
     "language": "python",
     "metadata": {},
     "outputs": [
      {
       "output_type": "stream",
       "stream": "stdout",
       "text": [
        "[('0',), ('0',), ('1',), ('1',), ('1',), ('0',), ('1',), ('0',), ('0',), ('0',), ('1',), ('0',), ('1',), ('1',), ('1',), ('1',), ('1',), ('1',), ('1',), ('1',), ('1',), ('0',), ('0',), ('0',), ('0',), ('0',), ('1',), ('1',), ('1',), ('0',), ('0',), ('1',), ('0',), ('1',), ('1',), ('1',), ('1',), ('1',), ('0',), ('1',), ('1',), ('1',), ('0',), ('1',), ('1',), ('1',), ('1',), ('1',), ('1',), ('0',), ('1',), ('0',), ('1',), ('1',), ('1',), ('1',), ('1',), ('1',), ('1',), ('0',), ('0',), ('0',), ('1',), ('1',), ('0',), ('1',), ('0',), ('1',), ('1',), ('0',), ('1',), ('1',), ('0',), ('1',), ('0',), ('0',), ('1',), ('0',), ('0',), ('1',), ('0',), ('0',), ('1',), ('0',), ('0',), ('0',), ('0',), ('0',), ('0',), ('0',), ('0',), ('1',), ('1',), ('0',), ('1',), ('0',), ('0',), ('0',), ('0',), ('1',)]\n"
       ]
      }
     ],
     "prompt_number": 122
    },
    {
     "cell_type": "code",
     "collapsed": false,
     "input": [
      "conn.commit()\n",
      "cur.execute(\"SELECT sa_zoning FROM master.assessor \" +\n",
      "            \"WHERE mm_fips_muni_code = 75 LIMIT 100\")\n",
      "print(cur.fetchall())"
     ],
     "language": "python",
     "metadata": {},
     "outputs": [
      {
       "output_type": "stream",
       "stream": "stdout",
       "text": [
        "[('RH-3',), ('RH-3',), ('NC-3',), ('RH-3',), ('RH-3',), ('RH-3',), ('RH-3',), ('RH-3',), ('NC-1',), ('NC-1',), ('NC-1',), ('NC-1',), ('NC-1',), ('C-2',), ('C-2',), ('C-2',), ('C-2',), ('C-2',), ('C-2',), ('C-2',), ('C-2',), ('C-2',), ('C-2',), ('C-2',), ('NC-1',), ('NC-1',), ('NC-1',), ('NC-1',), ('RH-3',), ('RH-3',), ('RH-3',), ('RH-3',), ('RH-3',), ('RH-3',), ('RH-3',), ('RH-3',), ('RH-3',), ('RH-3',), ('RH-3',), ('RH-3',), ('RH-3',), ('RH-3',), ('RH-3',), ('RH-3',), ('RH-3',), ('RH-3',), ('RH-3',), ('RH-3',), ('RH-3',), ('RH-3',), ('RH-3',), ('RH-3',), ('RH-3',), ('C-2',), ('C-2',), ('C-2',), ('C-2',), ('C-2',), ('C-2',), ('C-2',), ('C-2',), ('C-2',), ('C-2',), ('P',), ('C-2',), ('C-2',), ('C-2',), ('C-2',), ('C-2',), ('C-2',), ('C-2',), ('C-2',), ('C-2',), ('C-2',), ('C-2',), ('C-2',), ('C-2',), ('RH-3',), ('RH-3',), ('RH-3',), ('RH-3',), ('RH-3',), ('RH3',), ('RH-3',), ('RH-3',), ('RH-3',), ('RH-3',), ('RH-3',), ('RH-3',), ('RH-3',), ('RH-3',), ('RH-3',), ('RH-3',), ('RH-3',), ('RH-3',), ('RH-3',), ('RH-3',), ('RH-3',), ('P',), ('C-2',)]\n"
       ]
      }
     ],
     "prompt_number": 138
    },
    {
     "cell_type": "code",
     "collapsed": false,
     "input": [
      "conn.commit()\n",
      "cur.execute(\"SELECT owner_occupancy_code FROM master.ahist \" +\n",
      "            \"WHERE mm_fips_muni_code = 75 LIMIT 100\")\n",
      "print(cur.fetchall())"
     ],
     "language": "python",
     "metadata": {},
     "outputs": [
      {
       "output_type": "stream",
       "stream": "stdout",
       "text": [
        "[(0,), (0,), (0,), (0,), (0,), (0,), (1,), (1,), (0,), (0,), (0,), (0,), (0,), (0,), (0,), (0,), (0,), (0,), (0,), (0,), (0,), (6,), (0,), (0,), (0,), (0,), (0,), (0,), (1,), (0,), (1,), (1,), (0,), (0,), (0,), (0,), (0,), (0,), (0,), (0,), (0,), (0,), (0,), (1,), (0,), (0,), (0,), (0,), (0,), (0,), (0,), (0,), (0,), (0,), (0,), (0,), (0,), (0,), (0,), (0,), (0,), (0,), (0,), (0,), (0,), (0,), (0,), (0,), (0,), (0,), (0,), (0,), (0,), (0,), (0,), (0,), (0,), (0,), (0,), (0,), (0,), (0,), (0,), (0,), (0,), (0,), (0,), (0,), (0,), (0,), (0,), (0,), (0,), (0,), (0,), (0,), (0,), (0,), (0,), (0,)]\n"
       ]
      }
     ],
     "prompt_number": 143
    },
    {
     "cell_type": "code",
     "collapsed": false,
     "input": [],
     "language": "python",
     "metadata": {},
     "outputs": []
    }
   ],
   "metadata": {}
  }
 ]
}