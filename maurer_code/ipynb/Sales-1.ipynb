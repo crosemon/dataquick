{
 "metadata": {
  "name": ""
 },
 "nbformat": 3,
 "nbformat_minor": 0,
 "worksheets": [
  {
   "cells": [
    {
     "cell_type": "code",
     "collapsed": false,
     "input": [
      "import time\n",
      "import zipfile\n",
      "import csv"
     ],
     "language": "python",
     "metadata": {},
     "outputs": [],
     "prompt_number": 1
    },
    {
     "cell_type": "code",
     "collapsed": false,
     "input": [
      "path = '/Volumes/Seagate1/DataQuick/Sales History/'\n",
      "zname = 'ARB_HIST.zip'\n",
      "fname = 'ARB_HIST.txt'"
     ],
     "language": "python",
     "metadata": {},
     "outputs": [],
     "prompt_number": 2
    },
    {
     "cell_type": "code",
     "collapsed": false,
     "input": [
      "with zipfile.ZipFile(path+zname) as z:\n",
      "    with z.open(fname) as f:\n",
      "        line = f.readline()\n",
      "        print len(line), \"characters\"\n",
      "        print\n",
      "        print line"
     ],
     "language": "python",
     "metadata": {},
     "outputs": [
      {
       "output_type": "stream",
       "stream": "stdout",
       "text": [
        "1530 characters\n",
        "\n",
        "32241800    28234761    38          CACONTRA COSTA            06   013    CONTRA COSTA                                                                                                                                                                                                                                                                                                                                                                                                                                   000000000                                                                                                                                                                                                                                                                                                                                                                                            BRENTWOOD CITY (CA)                               YAMANAKA FAMILY FARM LLC                          0           0.00        257606              0000257606          19990928                    R 00 M                                                    0                                                                                                                                                        0                                                                                                                                                                                                                        43996         \r\n",
        "\n"
       ]
      }
     ],
     "prompt_number": 3
    },
    {
     "cell_type": "code",
     "collapsed": false,
     "input": [
      "fields = [\"SR_UNIQUE_ID\",\n",
      "\"SR_PROPERTY_ID\",\n",
      "\"SR_SCM_ID\",\n",
      "\"MM_STATE_CODE\",\n",
      "\"MM_MUNI_NAME\",\n",
      "\"MM_FIPS_STATE_CODE\",\n",
      "\"MM_FIPS_MUNI_CODE\",\n",
      "\"MM_FIPS_COUNTY_NAME\",\n",
      "\"SR_PARCEL_NBR_RAW\",\n",
      "\"SR_SITE_ADDR_RAW\",\n",
      "\"SR_MAIL_ADDR_RAW\",\n",
      "\"SR_MAIL_HOUSE_NBR\",\n",
      "\"SR_MAIL_FRACTION\",\n",
      "\"SR_MAIL_DIR\",\n",
      "\"SR_MAIL_STREET_NAME\",\n",
      "\"SR_MAIL_SUF\",\n",
      "\"SR_MAIL_POST_DIR\",\n",
      "\"SR_MAIL_UNIT_PRE\",\n",
      "\"SR_MAIL_UNIT_VAL\",\n",
      "\"SR_MAIL_CITY\",\n",
      "\"SR_MAIL_STATE\",\n",
      "\"SR_MAIL_ZIP\",\n",
      "\"SR_MAIL_PLUS_4\",\n",
      "\"SR_MAIL_CRRT\",\n",
      "\"SR_LGL_DSCRPTN\",\n",
      "\"SR_LGL_KEYED_BLOCK\",\n",
      "\"SR_LGL_KEYED_LOT\",\n",
      "\"SR_LGL_KEYED_PLAT_BOOK\",\n",
      "\"SR_LGL_KEYED_PLAT_PAGE\",\n",
      "\"SR_LGL_KEYED_RANGE\",\n",
      "\"SR_LGL_KEYED_SECTION\",\n",
      "\"SR_LGL_KEYED_SUB_NAME\",\n",
      "\"SR_LGL_KEYED_TOWNSHIP\",\n",
      "\"SR_LGL_KEYED_TRACT\",\n",
      "\"SR_LGL_KEYED_UNIT\",\n",
      "\"SR_BUYER\",\n",
      "\"SR_SELLER\",\n",
      "\"SR_VAL_TRANSFER\",\n",
      "\"SR_TAX_TRANSFER\",\n",
      "\"SR_DOC_NBR_RAW\",\n",
      "\"SR_DOC_NBR_FMT\",\n",
      "\"SR_DATE_TRANSFER\",\n",
      "\"SR_DATE_FILING\",\n",
      "\"SR_DOC_TYPE\",\n",
      "\"SR_DEED_TYPE\",\n",
      "\"SR_TRAN_TYPE\",\n",
      "\"SR_QUITCLAIM\",\n",
      "\"SR_ARMS_LENGTH_FLAG\",\n",
      "\"SR_FULL_PART_CODE\",\n",
      "\"SR_MULT_APN_FLAG_KEYED\",\n",
      "\"SR_MULT_PORT_CODE\",\n",
      "\"SR_LNDR_SELLER_FLAG\",\n",
      "\"SR_TD_DOC_NBR_1\",\n",
      "\"SR_LOAN_ID_1\",\n",
      "\"SR_LOAN_ID_1_EXT\",\n",
      "\"SR_LOAN_VAL_1\",\n",
      "\"SR_LOAN_TYPE_1\",\n",
      "\"SR_INT_RATE_TYPE_1\",\n",
      "\"SR_LNDR_CREDIT_LINE_1\",\n",
      "\"SR_LNDR_CODE_1\",\n",
      "\"SR_LNDR_FIRST_NAME_1\",\n",
      "\"SR_LNDR_LAST_NAME_1\",\n",
      "\"SR_LENDER_TYPE_1\",\n",
      "\"SR_TD_DOC_NBR_2\",\n",
      "\"SR_LOAN_ID_2\",\n",
      "\"SR_LOAN_ID_2_EXT\",\n",
      "\"SR_LOAN_VAL_2\",\n",
      "\"SR_LOAN_TYPE_2\",\n",
      "\"SR_INT_RATE_TYPE_2\",\n",
      "\"SR_LNDR_CREDIT_LINE_2\",\n",
      "\"SR_LNDR_CODE_2\",\n",
      "\"SR_LNDR_FIRST_NAME_2\",\n",
      "\"SR_LNDR_LAST_NAME_2\",\n",
      "\"SR_LENDER_TYPE_2\",\n",
      "\"SR_TD_DOC_NBR_3\",\n",
      "\"SR_LOAN_ID_3\",\n",
      "\"SR_LOAN_ID_3_EXT\",\n",
      "\"SR_LOAN_VAL_3\",\n",
      "\"SR_LOAN_TYPE_3\",\n",
      "\"SR_INT_RATE_TYPE_3\",\n",
      "\"SR_LNDR_CODE_3\",\n",
      "\"SR_LNDR_CREDIT_LINE_3\",\n",
      "\"SR_LNDR_FIRST_NAME_3\",\n",
      "\"SR_LNDR_LAST_NAME_3\",\n",
      "\"SR_LENDER_TYPE_3\",\n",
      "\"DISTRESS_INDICATOR\",\n",
      "\"PROCESS_ID\",\n",
      "\"FILLER\"]"
     ],
     "language": "python",
     "metadata": {},
     "outputs": [],
     "prompt_number": 3
    },
    {
     "cell_type": "code",
     "collapsed": false,
     "input": [
      "field_lengths = [12, 12, 12, 2, 24, 5, 7, 35, 40, 100, 100, 20, 10, 2, 50, 4, 2, 10, 6,\n",
      "50, 2, 5, 4, 4, 255, 6, 6, 6, 6, 3, 3, 50, 3, 30, 8, 50, 50, 12, 12, 20,\n",
      "20, 12, 12, 2, 2, 2, 1, 1, 1, 1, 1, 1, 20, 20, 10, 12, 1, 1, 1, 12, 50,\n",
      "25, 1, 20, 20, 10, 12, 1, 1, 1, 12, 30, 25, 1, 20, 20, 10, 12, 1, 1, 12,\n",
      "1, 30, 25, 1, 1, 12, 2]"
     ],
     "language": "python",
     "metadata": {},
     "outputs": [],
     "prompt_number": 4
    },
    {
     "cell_type": "code",
     "collapsed": false,
     "input": [
      "arr = []\n",
      "pos = 0\n",
      "\n",
      "print repr(line)\n",
      "print\n",
      "\n",
      "for flen in field_lengths:\n",
      "    arr.append(line[pos:pos+flen].rstrip(' '))\n",
      "    pos += flen\n",
      "\n",
      "for i, lab in enumerate(fields):\n",
      "    print str(i+1), fields[i], \"//\", arr[i]"
     ],
     "language": "python",
     "metadata": {},
     "outputs": [
      {
       "output_type": "stream",
       "stream": "stdout",
       "text": [
        "'32241800    28234761    38          CACONTRA COSTA            06   013    CONTRA COSTA                                                                                                                                                                                                                                                                                                                                                                                                                                   000000000                                                                                                                                                                                                                                                                                                                                                                                            BRENTWOOD CITY (CA)                               YAMANAKA FAMILY FARM LLC                          0           0.00        257606              0000257606          19990928                    R 00 M                                                    0                                                                                                                                                        0                                                                                                                                                                                                                        43996         \\r\\n'\n",
        "\n",
        "1 SR_UNIQUE_ID // 32241800\n",
        "2 SR_PROPERTY_ID // 28234761\n",
        "3 SR_SCM_ID // 38\n",
        "4 MM_STATE_CODE // CA\n",
        "5 MM_MUNI_NAME // CONTRA COSTA\n",
        "6 MM_FIPS_STATE_CODE // 06\n",
        "7 MM_FIPS_MUNI_CODE // 013\n",
        "8 MM_FIPS_COUNTY_NAME // CONTRA COSTA\n",
        "9 SR_PARCEL_NBR_RAW // \n",
        "10 SR_SITE_ADDR_RAW // \n",
        "11 SR_MAIL_ADDR_RAW // \n",
        "12 SR_MAIL_HOUSE_NBR // \n",
        "13 SR_MAIL_FRACTION // \n",
        "14 SR_MAIL_DIR // \n",
        "15 SR_MAIL_STREET_NAME // \n",
        "16 SR_MAIL_SUF // \n",
        "17 SR_MAIL_POST_DIR // \n",
        "18 SR_MAIL_UNIT_PRE // \n",
        "19 SR_MAIL_UNIT_VAL // \n",
        "20 SR_MAIL_CITY // \n",
        "21 SR_MAIL_STATE // \n",
        "22 SR_MAIL_ZIP // 00000\n",
        "23 SR_MAIL_PLUS_4 // 0000\n",
        "24 SR_MAIL_CRRT // \n",
        "25 SR_LGL_DSCRPTN // \n",
        "26 SR_LGL_KEYED_BLOCK // \n",
        "27 SR_LGL_KEYED_LOT // \n",
        "28 SR_LGL_KEYED_PLAT_BOOK // \n",
        "29 SR_LGL_KEYED_PLAT_PAGE // \n",
        "30 SR_LGL_KEYED_RANGE // \n",
        "31 SR_LGL_KEYED_SECTION // \n",
        "32 SR_LGL_KEYED_SUB_NAME // \n",
        "33 SR_LGL_KEYED_TOWNSHIP // \n",
        "34 SR_LGL_KEYED_TRACT // \n",
        "35 SR_LGL_KEYED_UNIT // \n",
        "36 SR_BUYER // BRENTWOOD CITY (CA)\n",
        "37 SR_SELLER // YAMANAKA FAMILY FARM LLC\n",
        "38 SR_VAL_TRANSFER // 0\n",
        "39 SR_TAX_TRANSFER // 0.00\n",
        "40 SR_DOC_NBR_RAW // 257606\n",
        "41 SR_DOC_NBR_FMT // 0000257606\n",
        "42 SR_DATE_TRANSFER // 19990928\n",
        "43 SR_DATE_FILING // \n",
        "44 SR_DOC_TYPE // \n",
        "45 SR_DEED_TYPE // \n",
        "46 SR_TRAN_TYPE // R\n",
        "47 SR_QUITCLAIM // 0\n",
        "48 SR_ARMS_LENGTH_FLAG // 0\n",
        "49 SR_FULL_PART_CODE // \n",
        "50 SR_MULT_APN_FLAG_KEYED // M\n",
        "51 SR_MULT_PORT_CODE // \n",
        "52 SR_LNDR_SELLER_FLAG // \n",
        "53 SR_TD_DOC_NBR_1 // \n",
        "54 SR_LOAN_ID_1 // \n",
        "55 SR_LOAN_ID_1_EXT // \n",
        "56 SR_LOAN_VAL_1 // 0\n",
        "57 SR_LOAN_TYPE_1 // \n",
        "58 SR_INT_RATE_TYPE_1 // \n",
        "59 SR_LNDR_CREDIT_LINE_1 // \n",
        "60 SR_LNDR_CODE_1 // \n",
        "61 SR_LNDR_FIRST_NAME_1 // \n",
        "62 SR_LNDR_LAST_NAME_1 // \n",
        "63 SR_LENDER_TYPE_1 // \n",
        "64 SR_TD_DOC_NBR_2 // \n",
        "65 SR_LOAN_ID_2 // \n",
        "66 SR_LOAN_ID_2_EXT // \n",
        "67 SR_LOAN_VAL_2 // 0\n",
        "68 SR_LOAN_TYPE_2 // \n",
        "69 SR_INT_RATE_TYPE_2 // \n",
        "70 SR_LNDR_CREDIT_LINE_2 // \n",
        "71 SR_LNDR_CODE_2 // \n",
        "72 SR_LNDR_FIRST_NAME_2 // \n",
        "73 SR_LNDR_LAST_NAME_2 // \n",
        "74 SR_LENDER_TYPE_2 // \n",
        "75 SR_TD_DOC_NBR_3 // \n",
        "76 SR_LOAN_ID_3 // \n",
        "77 SR_LOAN_ID_3_EXT // \n",
        "78 SR_LOAN_VAL_3 // \n",
        "79 SR_LOAN_TYPE_3 // \n",
        "80 SR_INT_RATE_TYPE_3 // \n",
        "81 SR_LNDR_CODE_3 // \n",
        "82 SR_LNDR_CREDIT_LINE_3 // \n",
        "83 SR_LNDR_FIRST_NAME_3 // \n",
        "84 SR_LNDR_LAST_NAME_3 // \n",
        "85 SR_LENDER_TYPE_3 // \n",
        "86 DISTRESS_INDICATOR // \n",
        "87 PROCESS_ID // 43996\n",
        "88 FILLER // \n"
       ]
      }
     ],
     "prompt_number": 6
    },
    {
     "cell_type": "code",
     "collapsed": false,
     "input": [
      "# Save to CSV\n",
      "\n",
      "t0 = time.time()\n",
      "data = []\n",
      "\n",
      "with zipfile.ZipFile(path+zname) as z:\n",
      "    with z.open(fname) as f:\n",
      "        for i in range(10000):\n",
      "            line = f.readline()\n",
      "            pos = 0\n",
      "            arr = []\n",
      "            for flen in field_lengths:\n",
      "                arr.append(line[pos:pos+flen].rstrip(' '))\n",
      "                pos += flen\n",
      "            data.append(arr)\n",
      "\n",
      "print time.time() - t0\n",
      "print len(data)"
     ],
     "language": "python",
     "metadata": {},
     "outputs": [
      {
       "output_type": "stream",
       "stream": "stdout",
       "text": [
        "2.00152587891\n",
        "10000\n"
       ]
      }
     ],
     "prompt_number": 10
    },
    {
     "cell_type": "code",
     "collapsed": false,
     "input": [
      "import csv\n",
      "with open(path+'ARB_HIST_SAMPLE.csv', 'wb') as f:\n",
      "    writer = csv.writer(f)\n",
      "    writer.writerow(fields)\n",
      "    writer.writerows(data)"
     ],
     "language": "python",
     "metadata": {},
     "outputs": [],
     "prompt_number": 12
    },
    {
     "cell_type": "markdown",
     "metadata": {},
     "source": [
      "### Filter by county"
     ]
    },
    {
     "cell_type": "code",
     "collapsed": false,
     "input": [
      "# Total N = 37,251,288\n",
      "\n",
      "N = 37251288\n",
      "t0 = time.time()\n",
      "\n",
      "data = {\"ALAMEDA\": [], \"CONTRA COSTA\": [], \"MARIN\": [], \"NAPA\": [], \"SAN FRANCISCO\": [],\n",
      "        \"SAN MATEO\": [], \"SANTA CLARA\": [], \"SOLANO\": [], \"SONOMA\": [], \"LOS ANGELES\": []}\n",
      "\n",
      "with zipfile.ZipFile(path+zname) as z:\n",
      "    with z.open(fname) as f:\n",
      "        for i in range(N):\n",
      "            line = f.readline()\n",
      "            pos = 0\n",
      "            arr = []\n",
      "            for flen in field_lengths:\n",
      "                arr.append(line[pos:pos+flen].rstrip(' '))\n",
      "                pos += flen\n",
      "            county = arr[4]\n",
      "            if (county in data.keys()):\n",
      "                data[county].append(arr)\n",
      "\n",
      "print time.time() - t0"
     ],
     "language": "python",
     "metadata": {},
     "outputs": [
      {
       "output_type": "stream",
       "stream": "stdout",
       "text": [
        "3760.06903696\n"
       ]
      }
     ],
     "prompt_number": 11
    },
    {
     "cell_type": "code",
     "collapsed": false,
     "input": [
      "import csv\n",
      "\n",
      "for k in data.keys():\n",
      "    outname = \"Processed/ARB_HIST_\" + k.replace(\" \", \"_\") + \".csv\"\n",
      "    print k, \"//\", len(data[k])\n",
      "    with open(path+outname, 'wb') as f:\n",
      "        writer = csv.writer(f)\n",
      "        writer.writerow(fields)\n",
      "        writer.writerows(data[k])"
     ],
     "language": "python",
     "metadata": {},
     "outputs": [
      {
       "output_type": "stream",
       "stream": "stdout",
       "text": [
        "MARIN // 296942\n",
        "SONOMA"
       ]
      },
      {
       "output_type": "stream",
       "stream": "stdout",
       "text": [
        " // 581866\n",
        "SOLANO"
       ]
      },
      {
       "output_type": "stream",
       "stream": "stdout",
       "text": [
        " // 450229\n",
        "SANTA CLARA"
       ]
      },
      {
       "output_type": "stream",
       "stream": "stdout",
       "text": [
        " // 1452303\n",
        "NAPA"
       ]
      },
      {
       "output_type": "stream",
       "stream": "stdout",
       "text": [
        " // 166382\n",
        "SAN FRANCISCO"
       ]
      },
      {
       "output_type": "stream",
       "stream": "stdout",
       "text": [
        " // 578555\n",
        "CONTRA COSTA"
       ]
      },
      {
       "output_type": "stream",
       "stream": "stdout",
       "text": [
        " // 1181329\n",
        "ALAMEDA"
       ]
      },
      {
       "output_type": "stream",
       "stream": "stdout",
       "text": [
        " // 1322978\n",
        "SAN MATEO"
       ]
      },
      {
       "output_type": "stream",
       "stream": "stdout",
       "text": [
        " // 663891\n",
        "LOS ANGELES"
       ]
      },
      {
       "output_type": "stream",
       "stream": "stdout",
       "text": [
        " // 8254761\n"
       ]
      }
     ],
     "prompt_number": 12
    },
    {
     "cell_type": "code",
     "collapsed": false,
     "input": [
      "# WHAT WE SHOULD GET:\n",
      "\n",
      "# Alameda = 1,322,978\n",
      "# Contra Costa = 1,181,329\n",
      "# Marin = 296,942\n",
      "# Napa = 166,382\n",
      "# San Francisco = 578,555\n",
      "# San Mateo = 663,891\n",
      "# Santa Clara = 1,452,303\n",
      "# Solano = 450,229\n",
      "# Sonoma = 581,866\n",
      "# Los Angeles = 8,254,761\n"
     ],
     "language": "python",
     "metadata": {},
     "outputs": []
    },
    {
     "cell_type": "markdown",
     "metadata": {},
     "source": [
      "### Extra counties"
     ]
    },
    {
     "cell_type": "code",
     "collapsed": false,
     "input": [
      "# Total N = 37,251,288\n",
      "\n",
      "N = 37251288\n",
      "# N = 1000\n",
      "t0 = time.time()\n",
      "\n",
      "data = {\"SAN DIEGO\": [], \"STANISLAUS\": []}\n",
      "\n",
      "with zipfile.ZipFile(path+zname) as z:\n",
      "    with z.open(fname) as f:\n",
      "        for i in range(N):\n",
      "            line = f.readline()\n",
      "            pos = 0\n",
      "            arr = []\n",
      "            for flen in field_lengths:\n",
      "                arr.append(line[pos:pos+flen].rstrip(' '))\n",
      "                pos += flen\n",
      "            county = arr[4]\n",
      "            if (county in data.keys()):\n",
      "                data[county].append(arr)\n",
      "\n",
      "print time.time() - t0"
     ],
     "language": "python",
     "metadata": {},
     "outputs": [
      {
       "output_type": "stream",
       "stream": "stdout",
       "text": [
        "3246.01889515\n"
       ]
      }
     ],
     "prompt_number": 7
    },
    {
     "cell_type": "code",
     "collapsed": false,
     "input": [
      "import csv\n",
      "\n",
      "for k in data.keys():\n",
      "    outname = \"Processed/ARB_HIST_\" + k.replace(\" \", \"_\") + \".csv\"\n",
      "    print k, \"//\", len(data[k])\n",
      "    with open(path+outname, 'wb') as f:\n",
      "        writer = csv.writer(f)\n",
      "        writer.writerow(fields)\n",
      "        writer.writerows(data[k])"
     ],
     "language": "python",
     "metadata": {},
     "outputs": [
      {
       "output_type": "stream",
       "stream": "stdout",
       "text": [
        "STANISLAUS // 512560\n",
        "SAN DIEGO"
       ]
      },
      {
       "output_type": "stream",
       "stream": "stdout",
       "text": [
        " // 3044709\n"
       ]
      }
     ],
     "prompt_number": 8
    },
    {
     "cell_type": "code",
     "collapsed": false,
     "input": [
      "# San Diego - 3,044,709\n",
      "# Stanislaus - 512,560 "
     ],
     "language": "python",
     "metadata": {},
     "outputs": []
    }
   ],
   "metadata": {}
  }
 ]
}