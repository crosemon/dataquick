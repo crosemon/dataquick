{
 "metadata": {
  "name": "",
  "signature": "sha256:e1639000258a1f97c0d5f8bbabe6185dad0cec3128b9ddb15788e6a62584f40e"
 },
 "nbformat": 3,
 "nbformat_minor": 0,
 "worksheets": [
  {
   "cells": [
    {
     "cell_type": "markdown",
     "metadata": {},
     "source": [
      "### This version loads the data into UAL Postgres - last edited Sep-26\n",
      "\n",
      "."
     ]
    },
    {
     "cell_type": "code",
     "collapsed": false,
     "input": [
      "import psycopg2\n",
      "import json\n",
      "import numpy as np\n",
      "import time\n",
      "import zipfile"
     ],
     "language": "python",
     "metadata": {},
     "outputs": [],
     "prompt_number": 1
    },
    {
     "cell_type": "code",
     "collapsed": false,
     "input": [
      "# Function to time the execution of code blocks\n",
      "\n",
      "t_running = False\n",
      "\n",
      "def _t():\n",
      "    global t_running\n",
      "    global t0\n",
      "    \n",
      "    if (not t_running):\n",
      "        t0 = time.time()\n",
      "        t_running = True        \n",
      "    else:\n",
      "        s = int(round(time.time()-t0))\n",
      "        if s < 60:\n",
      "            print \"//\", s, \"seconds\"\n",
      "        else:\n",
      "            print \"//\", round(s/60,1), \"minutes\"\n",
      "        t_running = False"
     ],
     "language": "python",
     "metadata": {},
     "outputs": [],
     "prompt_number": 49
    },
    {
     "cell_type": "code",
     "collapsed": false,
     "input": [
      "path = '/Volumes/Seagate1/Parcel Data/DataQuick/Assessor/Tab Delimited v2/'"
     ],
     "language": "python",
     "metadata": {},
     "outputs": [],
     "prompt_number": 19
    },
    {
     "cell_type": "code",
     "collapsed": false,
     "input": [
      "fields = [\"SA_PROPERTY_ID\", \"SA_SCM_ID\", \"MM_STATE_CODE\", \"MM_MUNI_NAME\",\n",
      "\"MM_FIPS_STATE_CODE\", \"MM_FIPS_MUNI_CODE\", \"MM_FIPS_COUNTY_NAME\",\n",
      "\"SA_PARCEL_NBR_PRIMARY\", \"SA_PARCEL_NBR_REFERENCE\",\n",
      "\"SA_PARCEL_ACCOUNT_NBR\", \"SA_PARCEL_NBR_ALT\", \"SA_PARCEL_NBR_PREVIOUS\",\n",
      "\"SA_PARCEL_NBR_CHANGE_YR\", \"SA_YR_APN_ADDED\", \"SA_OWNER_1\",\n",
      "\"SA_OWNER_1_FIRST\", \"SA_OWNER_1_MID\", \"SA_OWNER_1_LAST\",\n",
      "\"SA_OWNER_1_SUF\", \"SA_OWNER_1_SP_FIRST\", \"SA_OWNER_1_SP_MID\",\n",
      "\"SA_OWNER_1_SP_SUF\", \"SA_OWNER_1_GROUP\", \"SA_OWNER_1_ET_FLAG\",\n",
      "\"SA_OWNER_1_TRUST_FLAG\", \"SA_OWNER_1_TYPE\", \"SA_OWNER_2\",\n",
      "\"SA_OWNER_2_FIRST\", \"SA_OWNER_2_MID\", \"SA_OWNER_2_LAST\",\n",
      "\"SA_OWNER_2_SUF\", \"SA_OWNER_2_SP_FIRST\", \"SA_OWNER_2_SP_MID\",\n",
      "\"SA_OWNER_2_SP_SUF\", \"SA_OWNER_2_GROUP\", \"SA_OWNER_2_ET_FLAG\",\n",
      "\"SA_OWNER_2_TRUST_FLAG\", \"SA_OWNER_2_TYPE\", \"SA_OWNERSHIP_STATUS_CODE\",\n",
      "\"SA_COMPANY_FLAG\", \"SA_SITE_HOUSE_NBR\", \"SA_SITE_FRACTION\",\n",
      "\"SA_SITE_DIR\", \"SA_SITE_STREET_NAME\", \"SA_SITE_SUF\", \"SA_SITE_POST_DIR\",\n",
      "\"SA_SITE_UNIT_PRE\", \"SA_SITE_UNIT_VAL\", \"SA_SITE_CITY\", \"SA_SITE_STATE\",\n",
      "\"SA_SITE_ZIP\", \"SA_SITE_PLUS_4\", \"SA_SITE_CRRT\", \"SA_MAIL_HOUSE_NBR\",\n",
      "\"SA_MAIL_FRACTION\", \"SA_MAIL_DIR\", \"SA_MAIL_STREET_NAME\", \"SA_MAIL_SUF\",\n",
      "\"SA_MAIL_POST_DIR\", \"SA_MAIL_UNIT_PRE\", \"SA_MAIL_UNIT_VAL\",\n",
      "\"SA_MAIL_CITY\", \"SA_MAIL_STATE\", \"SA_MAIL_ZIP\", \"SA_MAIL_PLUS_4\",\n",
      "\"SA_MAIL_CRRT\", \"SA_SITE_MAIL_SAME\", \"SA_LGL_DSCRPTN\", \"SA_LOT_NBR_1\",\n",
      "\"SA_LOT_NBR_2\", \"SA_LOT_NBR_3\", \"SA_BLK_NBR_1\", \"SA_BLK_NBR_2\",\n",
      "\"SA_TOWNSHIP\", \"SA_RANGE\", \"SA_SECTION\", \"SA_QUARTER\",\n",
      "\"SA_QUARTER_QUARTER\", \"SA_SUBDIVISION\", \"SA_TRACT_NBR\", \"SA_LGL_UNIT\",\n",
      "\"USE_CODE_STD\", \"USE_CODE_MUNI\", \"SA_ZONING\", \"ASSR_YEAR\",\n",
      "\"SA_VAL_ASSD\", \"SA_VAL_ASSD_LAND\", \"SA_VAL_ASSD_IMPRV\", \"SA_IMPRV_PCT\",\n",
      "\"SA_APPRAISE_YR\", \"SA_YR_LAND_APPRAISE\", \"SA_APPRAISE_VAL\",\n",
      "\"SA_VAL_APPRAISE_LAND\", \"SA_VAL_APPRAISE_IMPRV\",\n",
      "\"SA_IMPRV_PCT_APPRAISE\", \"SA_VAL_MARKET\", \"SA_VAL_MARKET_LAND\",\n",
      "\"SA_VAL_MARKET_IMPRV\", \"SA_IMPRV_PCT_MRKT\", \"SA_EXEMP_FLAG_1\",\n",
      "\"SA_EXEMP_VAL_1\", \"SA_EXEMP_FLAG_2\", \"SA_EXEMP_VAL_2\",\n",
      "\"SA_EXEMP_FLAG_3\", \"SA_EXEMP_VAL_3\", \"SA_EXEMP_FLAG_4\",\n",
      "\"SA_EXEMP_VAL_4\", \"SA_EXEMP_FLAG_5\", \"SA_EXEMP_VAL_5\",\n",
      "\"SA_EXEMP_FLAG_6\", \"SA_EXEMP_VAL_6\", \"SA_VAL_FULL_CASH\",\n",
      "\"SA_VAL_ASSD_PREV\", \"TAXYEAR\", \"SA_TAX_VAL\", \"SA_TAX_YEAR_DELINQ\",\n",
      "\"LAST_ASSR_UPD\", \"LAST_TAX_UPDT\", \"SA_ADDTNS_SQFT\",\n",
      "\"SA_ARCHITECTURE_CODE\", \"SA_ATTIC_SQFT\", \"SA_BLDG_CODE\",\n",
      "\"SA_BLDG_SHAPE_CODE\", \"SA_BLDG_SQFT\", \"SA_BSMT_2_CODE\",\n",
      "\"SA_BSMT_FIN_SQFT\", \"SA_BSMT_UNFIN_SQFT\", \"SA_CONDITION_CODE\",\n",
      "\"SA_CONSTRUCTION_CODE\", \"SA_CONSTRUCTION_QLTY\", \"SA_COOL_CODE\",\n",
      "\"SA_EXTERIOR_1_CODE\", \"SA_FIN_SQFT_1\", \"SA_FIN_SQFT_2\", \"SA_FIN_SQFT_3\",\n",
      "\"SA_FIN_SQFT_4\", \"SA_FIN_SQFT_TOT\", \"SA_FIREPLACE_CODE\",\n",
      "\"SA_FOUNDATION_CODE\", \"SA_GARAGE_CARPORT\", \"SA_GRG_1_CODE\",\n",
      "\"SA_GRG_SQFT_1\", \"SA_HEAT_CODE\", \"SA_HEAT_SRC_FUEL_CODE\",\n",
      "\"SA_LOT_DEPTH\", \"SA_LOT_WIDTH\", \"SA_LOTSIZE\", \"SA_NBR_BATH\",\n",
      "\"SA_NBR_BATH_1QTR\", \"SA_NBR_BATH_HALF\", \"SA_NBR_BATH_3QTR\",\n",
      "\"SA_NBR_BATH_FULL\", \"SA_NBR_BATH_BSMT_HALF\", \"SA_NBR_BATH_BSMT_FULL\",\n",
      "\"SA_NBR_BATH_DQ\", \"SA_NBR_BEDRMS\", \"SA_NBR_RMS\", \"SA_NBR_STORIES\",\n",
      "\"SA_NBR_UNITS\", \"SA_PATIO_PORCH_CODE\", \"SA_POOL_CODE\",\n",
      "\"SA_PRIVACY_CODE\", \"SA_ROOF_CODE\", \"SA_SQFT\", \"SA_SQFT_ASSR_TOT\",\n",
      "\"SA_SQFT_DQ\", \"SA_STRUCTURE_CODE\", \"SA_STRUCTURE_NBR\", \"SA_VIEW_CODE\",\n",
      "\"SA_YR_BLT\", \"SA_YR_BLT_EFFECT\", \"SR_UNIQUE_ID\", \"SR_UNIQUE_ID_NOVAL\",\n",
      "\"SA_DATE_TRANSFER\", \"SA_VAL_TRANSFER\", \"SA_DOC_NBR_FMT\",\n",
      "\"SA_DATE_NOVAL_TRANSFER\", \"SA_DOC_NBR_NOVAL\", \"PROCESS_ID\",\n",
      "\"SA_X_COORD\", \"SA_Y_COORD\", \"SA_GEO_QLTY_CODE\", \"SA_CENSUS_TRACT\",\n",
      "\"SA_CENSUS_BLOCK_GROUP\", \"CORE_BASED_STATISTICAL_AREA_CODE\",\n",
      "\"MINOR_CIVIL_DIVISION_CODE\", \"FIPS_PLACE_CODE\",\n",
      "\"SA_INACTIVE_PARCEL_FLAG\", \"SA_SHELL_PARCEL_FLAG\"]\n",
      "# final FILLER field not in the tab-delimited files"
     ],
     "language": "python",
     "metadata": {},
     "outputs": [],
     "prompt_number": 50
    },
    {
     "cell_type": "code",
     "collapsed": false,
     "input": [
      "field_types = [\"int\", \"int\", \"varchar\", \"varchar\", \"tinyint\", \"smallint\", \"varchar\",\n",
      "\"varchar\", \"varchar\", \"varchar\", \"varchar\", \"varchar\", \"smallint\",\n",
      "\"smallint\", \"varchar\", \"varchar\", \"varchar\", \"varchar\", \"varchar\",\n",
      "\"varchar\", \"varchar\", \"varchar\", \"varchar\", \"varchar\", \"varchar\",\n",
      "\"varchar\", \"varchar\", \"varchar\", \"varchar\", \"varchar\", \"varchar\",\n",
      "\"varchar\", \"varchar\", \"varchar\", \"varchar\", \"varchar\", \"varchar\",\n",
      "\"varchar\", \"varchar\", \"varchar\", \"varchar\", \"varchar\", \"varchar\",\n",
      "\"varchar\", \"varchar\", \"varchar\", \"varchar\", \"varchar\", \"varchar\",\n",
      "\"varchar\", \"int\", \"smallint\", \"varchar\", \"varchar\", \"varchar\",\n",
      "\"varchar\", \"varchar\", \"varchar\", \"varchar\", \"varchar\", \"varchar\",\n",
      "\"varchar\", \"varchar\", \"int\", \"smallint\", \"varchar\", \"varchar\",\n",
      "\"varchar\", \"varchar\", \"varchar\", \"varchar\", \"varchar\", \"varchar\",\n",
      "\"varchar\", \"varchar\", \"varchar\", \"varchar\", \"varchar\", \"varchar\", \"int\",\n",
      "\"varchar\", \"varchar\", \"varchar\", \"varchar\", \"varchar\", \"int\", \"int\",\n",
      "\"int\", \"numeric\", \"smallint\", \"smallint\", \"int\", \"int\", \"int\",\n",
      "\"numeric\", \"int\", \"int\", \"int\", \"numeric\", \"varchar\", \"int\", \"varchar\",\n",
      "\"int\", \"varchar\", \"int\", \"varchar\", \"int\", \"varchar\", \"int\", \"varchar\",\n",
      "\"int\", \"int\", \"int\", \"varchar\", \"numeric\", \"smallint\", \"datetime\",\n",
      "\"datetime\", \"smallint\", \"varchar\", \"smallint\", \"varchar\", \"varchar\",\n",
      "\"smallint\", \"varchar\", \"smallint\", \"smallint\", \"numeric\", \"varchar\",\n",
      "\"numeric\", \"varchar\", \"varchar\", \"int\", \"int\", \"int\", \"int\", \"int\",\n",
      "\"varchar\", \"varchar\", \"varchar\", \"varchar\", \"smallint\", \"varchar\",\n",
      "\"varchar\", \"smallint\", \"smallint\", \"numeric\", \"numeric\", \"smallint\",\n",
      "\"smallint\", \"smallint\", \"smallint\", \"smallint\", \"smallint\", \"numeric\",\n",
      "\"smallint\", \"smallint\", \"tinyint\", \"smallint\", \"varchar\", \"varchar\",\n",
      "\"varchar\", \"varchar\", \"int\", \"int\", \"int\", \"varchar\", \"smallint\",\n",
      "\"varchar\", \"smallint\", \"smallint\", \"int\", \"int\", \"int\", \"int\",\n",
      "\"varchar\", \"int\", \"varchar\", \"int\", \"numeric\", \"numeric\", \"varchar\",\n",
      "\"varchar\", \"varchar\", \"varchar\", \"varchar\", \"varchar\", \"varchar\",\n",
      "\"varchar\"]\n",
      "\n",
      "# Replace SQL Server types with Postgres types as needed\n",
      "for i, t in enumerate(field_types):\n",
      "    \n",
      "    if (t == 'tinyint'):\n",
      "        field_types[i] = 'smallint'\n",
      "        \n",
      "    if (t == 'datetime'):\n",
      "        field_types[i] = 'timestamp'"
     ],
     "language": "python",
     "metadata": {},
     "outputs": [],
     "prompt_number": 51
    },
    {
     "cell_type": "code",
     "collapsed": false,
     "input": [
      "print len(fields), len(field_types)"
     ],
     "language": "python",
     "metadata": {},
     "outputs": [
      {
       "output_type": "stream",
       "stream": "stdout",
       "text": [
        "189 189\n"
       ]
      }
     ],
     "prompt_number": 52
    },
    {
     "cell_type": "code",
     "collapsed": false,
     "input": [
      "# Generate field strings for sql queries\n",
      "\n",
      "field_defs = ''\n",
      "for i in range(len(fields)):\n",
      "    field_defs += fields[i] + ' ' + field_types[i] + ', '\n",
      "    \n",
      "# remove trailing commas\n",
      "field_defs = field_defs[:-2]\n",
      "\n",
      "print field_defs[:80], '...'"
     ],
     "language": "python",
     "metadata": {},
     "outputs": [
      {
       "output_type": "stream",
       "stream": "stdout",
       "text": [
        "SA_PROPERTY_ID int, SA_SCM_ID int, MM_STATE_CODE varchar, MM_MUNI_NAME varchar,  ...\n"
       ]
      }
     ],
     "prompt_number": 53
    },
    {
     "cell_type": "code",
     "collapsed": false,
     "input": [],
     "language": "python",
     "metadata": {},
     "outputs": [],
     "prompt_number": 57
    },
    {
     "cell_type": "markdown",
     "metadata": {},
     "source": [
      "### Postgres work"
     ]
    },
    {
     "cell_type": "code",
     "collapsed": false,
     "input": [
      "# Connect to the database\n",
      "# Previously in pg_admin I looked through the databases and decided to use the Calif db\n",
      "\n",
      "conn_string = \"host='paris.ual.berkeley.edu' dbname='california' user='urbanvision' password='Visua1ization'\"\n",
      "conn = psycopg2.connect(conn_string)\n",
      "cur = conn.cursor()"
     ],
     "language": "python",
     "metadata": {},
     "outputs": [],
     "prompt_number": 54
    },
    {
     "cell_type": "code",
     "collapsed": false,
     "input": [
      "# Set up new a schema within 'california' database (schema is a collection of tables)\n",
      "conn.commit()\n",
      "cur.execute(\"CREATE SCHEMA dataquick\")\n",
      "conn.commit()"
     ],
     "language": "python",
     "metadata": {},
     "outputs": [],
     "prompt_number": 11
    },
    {
     "cell_type": "code",
     "collapsed": false,
     "input": [
      "# Syntax to drop a schema if needed\n",
      "cur.execute(\"DROP SCHEMA schema\")\n",
      "conn.commit()"
     ],
     "language": "python",
     "metadata": {},
     "outputs": [],
     "prompt_number": 8
    },
    {
     "cell_type": "code",
     "collapsed": false,
     "input": [
      "# Set up table with field definitions\n",
      "conn.commit()\n",
      "cur.execute(\"CREATE TABLE dataquick.assessor (\" + field_defs +\n",
      "            \", CONSTRAINT assessor_pkey PRIMARY KEY (sa_property_id))\")\n",
      "conn.commit()"
     ],
     "language": "python",
     "metadata": {},
     "outputs": [],
     "prompt_number": 56
    },
    {
     "cell_type": "code",
     "collapsed": false,
     "input": [
      "# Syntax to drop a table if needed\n",
      "cur.execute(\"DROP TABLE schema.table\")\n",
      "conn.commit()"
     ],
     "language": "python",
     "metadata": {},
     "outputs": [],
     "prompt_number": 65
    },
    {
     "cell_type": "code",
     "collapsed": false,
     "input": [
      "# Geoff says look into using stored procedures in Postgres - it's a lot faster"
     ],
     "language": "python",
     "metadata": {},
     "outputs": [],
     "prompt_number": 119
    },
    {
     "cell_type": "code",
     "collapsed": false,
     "input": [
      "# PARSE RAW DATA AND LOAD INTO POSTGRES\n",
      "\n",
      "# ****** RUN THIS AGAIN FOR FILE #15\n",
      "\n",
      "conn.commit()\n",
      "t0 = time.time()\n",
      "count = 0\n",
      "N = 1000 # set for testing only\n",
      "\n",
      "for fnum in range(15,16): # switch back to range(1,16)\n",
      "    zname = 'ARB_ASSR_' + str(fnum).zfill(2) + '.zip'\n",
      "    fname = 'ARB_ASSR_' + str(fnum).zfill(2) + '.txt'\n",
      "    \n",
      "    with zipfile.ZipFile(path+zname) as z:\n",
      "        with z.open(fname) as f:\n",
      "            for line in f:\n",
      "            #for i in range(N):\n",
      "                #line = f.readline()\n",
      "\n",
      "                # split by tabs, remove trailing spaces and final EOL value\n",
      "                arr = [x.rstrip(' ') for x in line.split('\\t')][:-1]\n",
      "                values = ''\n",
      "                for i in range(len(fields)):\n",
      "                    val = arr[i]\n",
      "\n",
      "                    # enquote strings, escape single quotes, escape backslashes\n",
      "                    # (the backslashes in the code have to be escaped too, for Python)\n",
      "                    if (field_types[i] == 'varchar'):\n",
      "                        val = \"'\" + val.replace(\"'\", \"''\").replace(\"\\\\\",\"\\\\\\\\\") + \"'\" \n",
      "\n",
      "                    # replace empty numeric values with nulls\n",
      "                    elif (val == ''):\n",
      "                        val = 'null'\n",
      "\n",
      "                    # also enquote timestamps\n",
      "                    elif (field_types[i] == 'timestamp'):\n",
      "                        val = \"'\" + val + \"'\" \n",
      "\n",
      "                    values += val + ', '\n",
      "                    \n",
      "                # remove final trailing comma-space\n",
      "                values = values[:-2]\n",
      "\n",
      "                try:\n",
      "                    cur.execute(\"INSERT INTO dataquick.assessor VALUES (\" + values + \")\")\n",
      "                except:\n",
      "                    print fnum\n",
      "                    print count+1\n",
      "                    print len(line)\n",
      "                    print line\n",
      "                    print values\n",
      "                    \n",
      "                conn.commit()\n",
      "                count += 1\n",
      "                if (count % 1000000 == 0):\n",
      "                    print \"rows //\", count\n",
      "            \n",
      "cur.execute(\"SELECT count(sa_property_id) FROM dataquick.assessor\")\n",
      "print \"rows //\", cur.fetchone()[0]\n",
      "print \"hours //\", round((time.time() - t0)*1.0/60/60, 2)"
     ],
     "language": "python",
     "metadata": {},
     "outputs": [
      {
       "output_type": "stream",
       "stream": "stdout",
       "text": [
        "rows // 1000000\n",
        "rows //"
       ]
      },
      {
       "output_type": "stream",
       "stream": "stdout",
       "text": [
        " 2000000\n",
        "rows //"
       ]
      },
      {
       "output_type": "stream",
       "stream": "stdout",
       "text": [
        " 3000000\n",
        "rows //"
       ]
      },
      {
       "output_type": "stream",
       "stream": "stdout",
       "text": [
        " 4000000\n",
        "rows //"
       ]
      },
      {
       "output_type": "stream",
       "stream": "stdout",
       "text": [
        " 5000000\n",
        "rows //"
       ]
      },
      {
       "output_type": "stream",
       "stream": "stdout",
       "text": [
        " 6000000\n",
        "rows //"
       ]
      },
      {
       "output_type": "stream",
       "stream": "stdout",
       "text": [
        " 7000000\n",
        "rows //"
       ]
      },
      {
       "output_type": "stream",
       "stream": "stdout",
       "text": [
        " 8000000\n",
        "rows //"
       ]
      },
      {
       "output_type": "stream",
       "stream": "stdout",
       "text": [
        " 9000000\n",
        "rows //"
       ]
      },
      {
       "output_type": "stream",
       "stream": "stdout",
       "text": [
        " 10000000\n",
        "rows //"
       ]
      },
      {
       "output_type": "stream",
       "stream": "stdout",
       "text": [
        " 11000000\n",
        "rows //"
       ]
      },
      {
       "output_type": "stream",
       "stream": "stdout",
       "text": [
        " 12000000\n",
        "rows //"
       ]
      },
      {
       "output_type": "stream",
       "stream": "stdout",
       "text": [
        " 12320000\n",
        "hours // 37.23\n"
       ]
      }
     ],
     "prompt_number": 67
    },
    {
     "cell_type": "code",
     "collapsed": true,
     "input": [
      "conn.commit()"
     ],
     "language": "python",
     "metadata": {},
     "outputs": [],
     "prompt_number": 50
    },
    {
     "cell_type": "code",
     "collapsed": false,
     "input": [
      "cur.execute(\"ALTER TABLE dataquick.assessor RENAME TO assessor_1\")\n",
      "conn.commit()"
     ],
     "language": "python",
     "metadata": {},
     "outputs": [],
     "prompt_number": 51
    },
    {
     "cell_type": "code",
     "collapsed": false,
     "input": [
      "print \"hell\\o\".replace(\"\\\\\",\"\\\\\\\\\")"
     ],
     "language": "python",
     "metadata": {},
     "outputs": [
      {
       "output_type": "stream",
       "stream": "stdout",
       "text": [
        "hell\\\\o\n"
       ]
      }
     ],
     "prompt_number": 58
    },
    {
     "cell_type": "code",
     "collapsed": false,
     "input": [],
     "language": "python",
     "metadata": {},
     "outputs": []
    },
    {
     "cell_type": "markdown",
     "metadata": {},
     "source": [
      "### Add indexes"
     ]
    },
    {
     "cell_type": "code",
     "collapsed": false,
     "input": [
      "t0 = time.time()\n",
      "conn.commit()\n",
      "cur.execute(\"CREATE INDEX fips_index ON dataquick.assessor \" +\n",
      "            \" USING btree (mm_fips_muni_code);\")\n",
      "conn.commit()\n",
      "print time.time() - t0"
     ],
     "language": "python",
     "metadata": {},
     "outputs": [
      {
       "output_type": "stream",
       "stream": "stdout",
       "text": [
        "64.477722168\n"
       ]
      }
     ],
     "prompt_number": 3
    },
    {
     "cell_type": "code",
     "collapsed": false,
     "input": [
      "t0 = time.time()\n",
      "conn.commit()\n",
      "cur.execute(\"CREATE INDEX tract_index ON dataquick.assessor \" +\n",
      "            \" USING btree (sa_census_tract);\")\n",
      "conn.commit()\n",
      "print time.time() - t0"
     ],
     "language": "python",
     "metadata": {},
     "outputs": [
      {
       "output_type": "stream",
       "stream": "stdout",
       "text": [
        "131.25069499\n"
       ]
      }
     ],
     "prompt_number": 4
    },
    {
     "cell_type": "code",
     "collapsed": false,
     "input": [
      "t0 = time.time()\n",
      "conn.commit()\n",
      "cur.execute(\"CREATE INDEX property_index ON dataquick.assessor \" +\n",
      "            \"USING btree (sa_property_id);\")\n",
      "conn.commit()\n",
      "print time.time() - t0"
     ],
     "language": "python",
     "metadata": {},
     "outputs": [
      {
       "output_type": "stream",
       "stream": "stdout",
       "text": [
        "20.937486887\n"
       ]
      }
     ],
     "prompt_number": 6
    },
    {
     "cell_type": "code",
     "collapsed": false,
     "input": [
      "# create geometry field from sa_x_coord, sa_y_coord"
     ],
     "language": "python",
     "metadata": {},
     "outputs": [],
     "prompt_number": 157
    },
    {
     "cell_type": "code",
     "collapsed": false,
     "input": [],
     "language": "python",
     "metadata": {},
     "outputs": [],
     "prompt_number": 56
    },
    {
     "cell_type": "code",
     "collapsed": false,
     "input": [],
     "language": "python",
     "metadata": {},
     "outputs": []
    },
    {
     "cell_type": "markdown",
     "metadata": {},
     "source": [
      "### Exploratory"
     ]
    },
    {
     "cell_type": "code",
     "collapsed": false,
     "input": [
      "import numpy as np"
     ],
     "language": "python",
     "metadata": {},
     "outputs": [],
     "prompt_number": 58
    },
    {
     "cell_type": "code",
     "collapsed": false,
     "input": [
      "# County name and mm_fips_muni_code\n",
      "\n",
      "cty = [{'fips': 1,  'name': 'Alameda'},\n",
      "       {'fips': 13, 'name': 'Contra Costa'},\n",
      "       {'fips': 41, 'name': 'Marin'},\n",
      "       {'fips': 55, 'name': 'Napa'},\n",
      "       {'fips': 75, 'name': 'San Francisco'},\n",
      "       {'fips': 81, 'name': 'San Mateo'},\n",
      "       {'fips': 85, 'name': 'Santa Clara'},\n",
      "       {'fips': 95, 'name': 'Solano'},\n",
      "       {'fips': 97, 'name': 'Sonoma'}]\n"
     ],
     "language": "python",
     "metadata": {},
     "outputs": [],
     "prompt_number": 8
    },
    {
     "cell_type": "code",
     "collapsed": false,
     "input": [],
     "language": "python",
     "metadata": {},
     "outputs": [],
     "prompt_number": 47
    },
    {
     "cell_type": "code",
     "collapsed": false,
     "input": [
      "_t()\n",
      "conn.commit()\n",
      "cur.execute(\"SELECT count(sa_property_id) FROM dataquick.assessor \")\n",
      "print cur.fetchall()[0][0]\n",
      "_t()"
     ],
     "language": "python",
     "metadata": {},
     "outputs": [
      {
       "output_type": "stream",
       "stream": "stdout",
       "text": [
        "12554242\n",
        "// 4 seconds\n"
       ]
      }
     ],
     "prompt_number": 59
    },
    {
     "cell_type": "code",
     "collapsed": false,
     "input": [
      "_t()\n",
      "conn.commit()\n",
      "\n",
      "for c in cty:\n",
      "    cur.execute(\"SELECT count(sa_property_id) FROM dataquick.assessor \" +\n",
      "                \"WHERE mm_fips_muni_code=%s\", (c['fips'],))\n",
      "    count = cur.fetchall()[0][0]\n",
      "    print c['name'], count\n",
      "    c['count'] = count\n",
      "\n",
      "_t()"
     ],
     "language": "python",
     "metadata": {},
     "outputs": [
      {
       "output_type": "stream",
       "stream": "stdout",
       "text": [
        "Alameda 448183\n",
        "Contra Costa"
       ]
      },
      {
       "output_type": "stream",
       "stream": "stdout",
       "text": [
        " 371421\n",
        "Marin"
       ]
      },
      {
       "output_type": "stream",
       "stream": "stdout",
       "text": [
        " 96739\n",
        "Napa"
       ]
      },
      {
       "output_type": "stream",
       "stream": "stdout",
       "text": [
        " 51867\n",
        "San Francisco"
       ]
      },
      {
       "output_type": "stream",
       "stream": "stdout",
       "text": [
        " 206396\n",
        "San Mateo"
       ]
      },
      {
       "output_type": "stream",
       "stream": "stdout",
       "text": [
        " 221791\n",
        "Santa Clara"
       ]
      },
      {
       "output_type": "stream",
       "stream": "stdout",
       "text": [
        " 478210\n",
        "Solano"
       ]
      },
      {
       "output_type": "stream",
       "stream": "stdout",
       "text": [
        " 143335\n",
        "Sonoma"
       ]
      },
      {
       "output_type": "stream",
       "stream": "stdout",
       "text": [
        " 188567\n",
        "// 4 seconds\n"
       ]
      }
     ],
     "prompt_number": 9
    },
    {
     "cell_type": "code",
     "collapsed": false,
     "input": [
      "# Overall total differs from the Dataquick report (and is a suspiciously round number),\n",
      "# although the Bay Area totals are correct - let's check where the discrepancy is"
     ],
     "language": "python",
     "metadata": {},
     "outputs": []
    },
    {
     "cell_type": "code",
     "collapsed": false,
     "input": [
      "# Get distinct FIPS codes\n",
      "\n",
      "_t()\n",
      "conn.commit()\n",
      "cur.execute(\"SELECT DISTINCT mm_fips_muni_code FROM dataquick.assessor\")\n",
      "out = cur.fetchall()\n",
      "fips = [t[0] for t in out]\n",
      "fips.sort()\n",
      "\n",
      "_t()\n",
      "print len(fips), \"counties\"\n",
      "print fips"
     ],
     "language": "python",
     "metadata": {},
     "outputs": [
      {
       "output_type": "stream",
       "stream": "stdout",
       "text": [
        "// 4 seconds\n",
        "58 counties\n",
        "[1, 3, 5, 7, 9, 11, 13, 15, 17, 19, 21, 23, 25, 27, 29, 31, 33, 35, 37, 39, 41, 43, 45, 47, 49, 51, 53, 55, 57, 59, 61, 63, 65, 67, 69, 71, 73, 75, 77, 79, 81, 83, 85, 87, 89, 91, 93, 95, 97, 99, 101, 103, 105, 107, 109, 111, 113, 115]\n"
       ]
      }
     ],
     "prompt_number": 62
    },
    {
     "cell_type": "code",
     "collapsed": false,
     "input": [
      "# county totals from ARB_ASSR_TOTALS_REPORT, in order by fips code\n",
      "\n",
      "dataq = [448183, 2539, 25255, 99002, 44815, 14082, 371421, 18800, 146229, 285435,\n",
      "16426, 75601, 89284, 17015, 418757, 48868, 66316, 29499, 2399046, 59208,\n",
      "96739, 15020, 61742, 90117, 27827, 17632, 128276, 51867, 63827, 918007,\n",
      "188236, 25975, 995571, 473810, 19266, 847649, 1049126, 206396, 220034,\n",
      "149006, 221791, 129683, 478210, 100338, 97868, 5378, 55592, 143335,\n",
      "188567, 162898, 36411, 44107, 12802, 153955, 44074, 264696, 61140, 31493]"
     ],
     "language": "python",
     "metadata": {},
     "outputs": [],
     "prompt_number": 63
    },
    {
     "cell_type": "code",
     "collapsed": false,
     "input": [
      "# compare database totals to dataquick totals report\n",
      "\n",
      "_t()\n",
      "conn.commit()\n",
      "\n",
      "for i, c in enumerate(fips):\n",
      "    cur.execute(\"SELECT count(sa_property_id) FROM dataquick.assessor \" +\n",
      "                \"WHERE mm_fips_muni_code=%s\", (c,))\n",
      "    count = cur.fetchall()[0][0]\n",
      "    \n",
      "    cur.execute(\"SELECT mm_fips_county_name FROM dataquick.assessor \" +\n",
      "                \"WHERE mm_fips_muni_code=%s LIMIT 1\", (c,))\n",
      "    name = cur.fetchall()[0][0]\n",
      "    \n",
      "    flag = '(correct)'\n",
      "    if (count != dataq[i]):\n",
      "        flag = \"// * \" + str(dataq[i])\n",
      "       \n",
      "    print c, \"//\", name, \"//\", count, flag\n",
      "\n",
      "_t()"
     ],
     "language": "python",
     "metadata": {},
     "outputs": [
      {
       "output_type": "stream",
       "stream": "stdout",
       "text": [
        "1 // ALAMEDA // 448183 (correct)\n",
        "3"
       ]
      },
      {
       "output_type": "stream",
       "stream": "stdout",
       "text": [
        " // ALPINE // 2539 (correct)\n",
        "5"
       ]
      },
      {
       "output_type": "stream",
       "stream": "stdout",
       "text": [
        " // AMADOR // 25255 (correct)\n",
        "7"
       ]
      },
      {
       "output_type": "stream",
       "stream": "stdout",
       "text": [
        " // BUTTE // 99002 (correct)\n",
        "9"
       ]
      },
      {
       "output_type": "stream",
       "stream": "stdout",
       "text": [
        " // CALAVERAS // 44815 (correct)\n",
        "11"
       ]
      },
      {
       "output_type": "stream",
       "stream": "stdout",
       "text": [
        " // COLUSA // 14082 (correct)\n",
        "13"
       ]
      },
      {
       "output_type": "stream",
       "stream": "stdout",
       "text": [
        " // CONTRA COSTA // 371421 (correct)\n",
        "15"
       ]
      },
      {
       "output_type": "stream",
       "stream": "stdout",
       "text": [
        " // DEL NORTE // 18800 (correct)\n",
        "17"
       ]
      },
      {
       "output_type": "stream",
       "stream": "stdout",
       "text": [
        " // EL DORADO // 146229 (correct)\n",
        "19"
       ]
      },
      {
       "output_type": "stream",
       "stream": "stdout",
       "text": [
        " // FRESNO // 285435 (correct)\n",
        "21"
       ]
      },
      {
       "output_type": "stream",
       "stream": "stdout",
       "text": [
        " // GLENN // 16426 (correct)\n",
        "23"
       ]
      },
      {
       "output_type": "stream",
       "stream": "stdout",
       "text": [
        " // HUMBOLDT // 75601 (correct)\n",
        "25"
       ]
      },
      {
       "output_type": "stream",
       "stream": "stdout",
       "text": [
        " // IMPERIAL // 89284 (correct)\n",
        "27"
       ]
      },
      {
       "output_type": "stream",
       "stream": "stdout",
       "text": [
        " // INYO // 17015 (correct)\n",
        "29"
       ]
      },
      {
       "output_type": "stream",
       "stream": "stdout",
       "text": [
        " // KERN // 418757 (correct)\n",
        "31"
       ]
      },
      {
       "output_type": "stream",
       "stream": "stdout",
       "text": [
        " // KINGS // 48868 (correct)\n",
        "33"
       ]
      },
      {
       "output_type": "stream",
       "stream": "stdout",
       "text": [
        " // LAKE // 66316 (correct)\n",
        "35"
       ]
      },
      {
       "output_type": "stream",
       "stream": "stdout",
       "text": [
        " // LASSEN // 29499 (correct)\n",
        "37"
       ]
      },
      {
       "output_type": "stream",
       "stream": "stdout",
       "text": [
        " // LOS ANGELES // 2399046 (correct)\n",
        "39"
       ]
      },
      {
       "output_type": "stream",
       "stream": "stdout",
       "text": [
        " // MADERA // 59208 (correct)\n",
        "41"
       ]
      },
      {
       "output_type": "stream",
       "stream": "stdout",
       "text": [
        " // MARIN // 96739 (correct)\n",
        "43"
       ]
      },
      {
       "output_type": "stream",
       "stream": "stdout",
       "text": [
        " // MARIPOSA // 15020 (correct)\n",
        "45"
       ]
      },
      {
       "output_type": "stream",
       "stream": "stdout",
       "text": [
        " // MENDOCINO // 61742 (correct)\n",
        "47"
       ]
      },
      {
       "output_type": "stream",
       "stream": "stdout",
       "text": [
        " // MERCED // 90117 (correct)\n",
        "49"
       ]
      },
      {
       "output_type": "stream",
       "stream": "stdout",
       "text": [
        " // MODOC // 27827 (correct)\n",
        "51"
       ]
      },
      {
       "output_type": "stream",
       "stream": "stdout",
       "text": [
        " // MONO // 17632 (correct)\n",
        "53"
       ]
      },
      {
       "output_type": "stream",
       "stream": "stdout",
       "text": [
        " // MONTEREY // 128276 (correct)\n",
        "55"
       ]
      },
      {
       "output_type": "stream",
       "stream": "stdout",
       "text": [
        " // NAPA // 51867 (correct)\n",
        "57"
       ]
      },
      {
       "output_type": "stream",
       "stream": "stdout",
       "text": [
        " // NEVADA // 63827 (correct)\n",
        "59"
       ]
      },
      {
       "output_type": "stream",
       "stream": "stdout",
       "text": [
        " // ORANGE // 918007 (correct)\n",
        "61"
       ]
      },
      {
       "output_type": "stream",
       "stream": "stdout",
       "text": [
        " // PLACER // 188236 (correct)\n",
        "63"
       ]
      },
      {
       "output_type": "stream",
       "stream": "stdout",
       "text": [
        " // PLUMAS // 25975 (correct)\n",
        "65"
       ]
      },
      {
       "output_type": "stream",
       "stream": "stdout",
       "text": [
        " // RIVERSIDE // 995571 (correct)\n",
        "67"
       ]
      },
      {
       "output_type": "stream",
       "stream": "stdout",
       "text": [
        " // SACRAMENTO // 473810 (correct)\n",
        "69"
       ]
      },
      {
       "output_type": "stream",
       "stream": "stdout",
       "text": [
        " // SAN BENITO // 19266 (correct)\n",
        "71"
       ]
      },
      {
       "output_type": "stream",
       "stream": "stdout",
       "text": [
        " // SAN BERNARDINO // 847649 (correct)\n",
        "73"
       ]
      },
      {
       "output_type": "stream",
       "stream": "stdout",
       "text": [
        " // SAN DIEGO // 1049126 (correct)\n",
        "75"
       ]
      },
      {
       "output_type": "stream",
       "stream": "stdout",
       "text": [
        " // SAN FRANCISCO // 206396 (correct)\n",
        "77"
       ]
      },
      {
       "output_type": "stream",
       "stream": "stdout",
       "text": [
        " // SAN JOAQUIN // 220034 (correct)\n",
        "79"
       ]
      },
      {
       "output_type": "stream",
       "stream": "stdout",
       "text": [
        " // SAN LUIS OBISPO // 149006 (correct)\n",
        "81"
       ]
      },
      {
       "output_type": "stream",
       "stream": "stdout",
       "text": [
        " // SAN MATEO // 221791 (correct)\n",
        "83"
       ]
      },
      {
       "output_type": "stream",
       "stream": "stdout",
       "text": [
        " // SANTA BARBARA // 129683 (correct)\n",
        "85"
       ]
      },
      {
       "output_type": "stream",
       "stream": "stdout",
       "text": [
        " // SANTA CLARA // 478210 (correct)\n",
        "87"
       ]
      },
      {
       "output_type": "stream",
       "stream": "stdout",
       "text": [
        " // SANTA CRUZ // 100338 (correct)\n",
        "89"
       ]
      },
      {
       "output_type": "stream",
       "stream": "stdout",
       "text": [
        " // SHASTA // 97868 (correct)\n",
        "91"
       ]
      },
      {
       "output_type": "stream",
       "stream": "stdout",
       "text": [
        " // SIERRA // 5378 (correct)\n",
        "93"
       ]
      },
      {
       "output_type": "stream",
       "stream": "stdout",
       "text": [
        " // SISKIYOU // 55592 (correct)\n",
        "95"
       ]
      },
      {
       "output_type": "stream",
       "stream": "stdout",
       "text": [
        " // SOLANO // 143335 (correct)\n",
        "97"
       ]
      },
      {
       "output_type": "stream",
       "stream": "stdout",
       "text": [
        " // SONOMA // 188567 (correct)\n",
        "99"
       ]
      },
      {
       "output_type": "stream",
       "stream": "stdout",
       "text": [
        " // STANISLAUS // 162898 (correct)\n",
        "101"
       ]
      },
      {
       "output_type": "stream",
       "stream": "stdout",
       "text": [
        " // SUTTER // 36411 (correct)\n",
        "103"
       ]
      },
      {
       "output_type": "stream",
       "stream": "stdout",
       "text": [
        " // TEHAMA // 44107 (correct)\n",
        "105"
       ]
      },
      {
       "output_type": "stream",
       "stream": "stdout",
       "text": [
        " // TRINITY // 12802 (correct)\n",
        "107"
       ]
      },
      {
       "output_type": "stream",
       "stream": "stdout",
       "text": [
        " // TULARE // 153955 (correct)\n",
        "109"
       ]
      },
      {
       "output_type": "stream",
       "stream": "stdout",
       "text": [
        " // TUOLUMNE // 44074 (correct)\n",
        "111"
       ]
      },
      {
       "output_type": "stream",
       "stream": "stdout",
       "text": [
        " // VENTURA // 264696 (correct)\n",
        "113"
       ]
      },
      {
       "output_type": "stream",
       "stream": "stdout",
       "text": [
        " // YOLO // 61140 (correct)\n",
        "115"
       ]
      },
      {
       "output_type": "stream",
       "stream": "stdout",
       "text": [
        " // YUBA // 31493 (correct)\n",
        "// 8 seconds\n"
       ]
      }
     ],
     "prompt_number": 64
    },
    {
     "cell_type": "code",
     "collapsed": false,
     "input": [],
     "language": "python",
     "metadata": {},
     "outputs": [],
     "prompt_number": 31
    },
    {
     "cell_type": "code",
     "collapsed": false,
     "input": [],
     "language": "python",
     "metadata": {},
     "outputs": [],
     "prompt_number": 34
    },
    {
     "cell_type": "code",
     "collapsed": false,
     "input": [],
     "language": "python",
     "metadata": {},
     "outputs": []
    },
    {
     "cell_type": "code",
     "collapsed": false,
     "input": [],
     "language": "python",
     "metadata": {},
     "outputs": []
    },
    {
     "cell_type": "code",
     "collapsed": false,
     "input": [
      "# non-zero count and percent\n",
      "# min, 25pct, median, 75pct, max\n",
      "\n",
      "t0 = time.time()\n",
      "conn.commit()\n",
      "\n",
      "print \"Number of rooms - SA_NBR_RMS\"\n",
      "print\n",
      "\n",
      "for c in cty:\n",
      "    cur.execute(\"SELECT sa_nbr_rms FROM master.assessor \" +\n",
      "                \"WHERE mm_fips_muni_code = %s\", (c['fips'],))\n",
      "    out1 = np.array(cur.fetchall())\n",
      "    out2 = out1[out1>0]\n",
      "    pct = round(np.shape(out2)[0]*100.0/np.shape(out1)[0],1)\n",
      "    print c['name']\n",
      "    print \"nonzero values:\", np.shape(out2)[0], \"or\", pct, \"%\"\n",
      "    print \"min:\", np.amin(out2), \"// 25th pct:\", np.percentile(out2, 25), \\\n",
      "        \"// median:\", np.median(out2), \"// 75th pct:\", np.percentile(out2, 75), \\\n",
      "        \"// max:\", np.amax(out2)\n",
      "    print\n",
      "\n",
      "print int(round(time.time()-t0)), \"seconds\""
     ],
     "language": "python",
     "metadata": {},
     "outputs": [
      {
       "output_type": "stream",
       "stream": "stdout",
       "text": [
        "Number of rooms - SA_NBR_RMS\n",
        "\n",
        "Alameda"
       ]
      },
      {
       "output_type": "stream",
       "stream": "stdout",
       "text": [
        "\n",
        "nonzero values: 363776 or 81.2 %\n",
        "min: 1 // 25th pct: 5.0 // median: 6.0 // 75th pct: "
       ]
      },
      {
       "output_type": "stream",
       "stream": "stdout",
       "text": [
        "8.0 // max: 999\n",
        "\n",
        "Contra Costa"
       ]
      },
      {
       "output_type": "stream",
       "stream": "stdout",
       "text": [
        "\n",
        "nonzero values: 331338 or 89.2 %\n",
        "min: 1 // 25th pct: 6.0 // median: 8.0 // 75th pct: "
       ]
      },
      {
       "output_type": "stream",
       "stream": "stdout",
       "text": [
        "10.0 // max: 1408\n",
        "\n",
        "Marin"
       ]
      },
      {
       "output_type": "stream",
       "stream": "stdout",
       "text": [
        "\n",
        "nonzero values: 20758 or 21.5 %\n",
        "min: 1 // 25th pct: 5.0 // median: 6.0 // 75th pct: 7.0 // max: 77\n",
        "\n",
        "Napa"
       ]
      },
      {
       "output_type": "stream",
       "stream": "stdout",
       "text": [
        "\n",
        "nonzero values: 31143 or 60.0 %\n",
        "min: 1 // 25th pct: 5.0 // median: 6.0 // 75th pct: 7.0 // max: 96\n",
        "\n",
        "San Francisco"
       ]
      },
      {
       "output_type": "stream",
       "stream": "stdout",
       "text": [
        "\n",
        "nonzero values: 176601 or 85.6 %\n",
        "min: 1 // 25th pct: 5.0 // median: 6.0 // 75th pct: 9.0 // max: 3606\n",
        "\n",
        "San Mateo"
       ]
      },
      {
       "output_type": "stream",
       "stream": "stdout",
       "text": [
        "\n",
        "nonzero values: 193517 or 87.3 %\n",
        "min: 1 // 25th pct: 5.0 // median: 6.0 // 75th pct: 8.0 // max: 3606\n",
        "\n",
        "Santa Clara"
       ]
      },
      {
       "output_type": "stream",
       "stream": "stdout",
       "text": [
        "\n",
        "nonzero values: 414231 or 86.6 %\n",
        "min: 1 // 25th pct: 6.0 // median: 7.0 // 75th pct: "
       ]
      },
      {
       "output_type": "stream",
       "stream": "stdout",
       "text": [
        "8.0 // max: 99\n",
        "\n",
        "Solano"
       ]
      },
      {
       "output_type": "stream",
       "stream": "stdout",
       "text": [
        "\n",
        "nonzero values: 106978 or 74.6 %\n",
        "min: 1 // 25th pct: 6.0 // median: 7.0 // 75th pct: 9.0 // max: 60\n",
        "\n",
        "Sonoma"
       ]
      },
      {
       "output_type": "stream",
       "stream": "stdout",
       "text": [
        "\n",
        "nonzero values: 135941 or 72.1 %\n",
        "min: 1 // 25th pct: 4.0 // median: 6.0 // 75th pct: 7.0 // max: 97\n",
        "\n",
        "19 seconds\n"
       ]
      }
     ],
     "prompt_number": 75
    },
    {
     "cell_type": "code",
     "collapsed": false,
     "input": [],
     "language": "python",
     "metadata": {},
     "outputs": []
    },
    {
     "cell_type": "code",
     "collapsed": false,
     "input": [
      "t0 = time.time()\n",
      "conn.commit()\n",
      "\n",
      "cur.execute(\"SELECT sa_nbr_rms FROM master.assessor \" +\n",
      "            \"WHERE mm_fips_muni_code=75\")\n",
      "out = cur.fetchall()[:100]\n",
      "out1 = np.array(out)\n",
      "#print out\n",
      "#print out1\n",
      "print np.shape(out1[out1>0])[0]\n",
      "print np.amin(out1), np.percentile(out1, 25), np.median(out1), np.percentile(out1,75), np.amax(out1)\n",
      "    "
     ],
     "language": "python",
     "metadata": {},
     "outputs": [
      {
       "output_type": "stream",
       "stream": "stdout",
       "text": [
        "53\n",
        "0 0.0 3.0 12.25 574\n"
       ]
      }
     ],
     "prompt_number": 64
    },
    {
     "cell_type": "code",
     "collapsed": false,
     "input": [],
     "language": "python",
     "metadata": {},
     "outputs": []
    },
    {
     "cell_type": "code",
     "collapsed": false,
     "input": [
      "cur.execute(\"SELECT count(sa_nbr_rms) \" + \n",
      "            \"FROM master.assessor \" + \n",
      "            \"WHERE mm_fips_muni_code = 75 AND sa_nbr_rms > 0\")\n",
      "\n",
      "rooms_count = cur.fetchall()[0][0]\n",
      "\n",
      "cur.execute(\"SELECT count(sa_nbr_rms) \" + \n",
      "            \"FROM master.assessor \" + \n",
      "            \"WHERE mm_fips_muni_code = 75\")\n",
      "\n",
      "total_count = cur.fetchall()[0][0]\n",
      "\n",
      "print \"execution time\", time.time() - t0\n",
      "print \"San Francisco records with nonzero SA_NBR_RMS =\", rooms_count\n",
      "print \"San Francisco total records =\", total_count\n",
      "print rooms_count*100.0/total_count, \"percent coverage\"\n"
     ],
     "language": "python",
     "metadata": {},
     "outputs": []
    },
    {
     "cell_type": "code",
     "collapsed": false,
     "input": [],
     "language": "python",
     "metadata": {},
     "outputs": []
    },
    {
     "cell_type": "code",
     "collapsed": false,
     "input": [],
     "language": "python",
     "metadata": {},
     "outputs": []
    },
    {
     "cell_type": "code",
     "collapsed": false,
     "input": [],
     "language": "python",
     "metadata": {},
     "outputs": []
    },
    {
     "cell_type": "code",
     "collapsed": false,
     "input": [
      "# Clear connection\n",
      "conn.commit()"
     ],
     "language": "python",
     "metadata": {},
     "outputs": [],
     "prompt_number": 28
    },
    {
     "cell_type": "code",
     "collapsed": false,
     "input": [
      "cur.execute(\"SELECT count(sa_property_id) FROM master.assessor\")\n",
      "print \"rows //\", cur.fetchone()[0]\n"
     ],
     "language": "python",
     "metadata": {},
     "outputs": [
      {
       "ename": "KeyboardInterrupt",
       "evalue": "",
       "output_type": "pyerr",
       "traceback": [
        "\u001b[0;31m---------------------------------------------------------------------------\u001b[0m\n\u001b[0;31mKeyboardInterrupt\u001b[0m                         Traceback (most recent call last)",
        "\u001b[0;32m<ipython-input-187-fba809ed68c5>\u001b[0m in \u001b[0;36m<module>\u001b[0;34m()\u001b[0m\n\u001b[0;32m----> 1\u001b[0;31m \u001b[0mcur\u001b[0m\u001b[0;34m.\u001b[0m\u001b[0mexecute\u001b[0m\u001b[0;34m(\u001b[0m\u001b[0;34m\"SELECT count(sa_property_id) FROM master.assessor\"\u001b[0m\u001b[0;34m)\u001b[0m\u001b[0;34m\u001b[0m\u001b[0m\n\u001b[0m\u001b[1;32m      2\u001b[0m \u001b[0;32mprint\u001b[0m \u001b[0;34m\"rows //\"\u001b[0m\u001b[0;34m,\u001b[0m \u001b[0mcur\u001b[0m\u001b[0;34m.\u001b[0m\u001b[0mfetchone\u001b[0m\u001b[0;34m(\u001b[0m\u001b[0;34m)\u001b[0m\u001b[0;34m[\u001b[0m\u001b[0;36m0\u001b[0m\u001b[0;34m]\u001b[0m\u001b[0;34m\u001b[0m\u001b[0m\n",
        "\u001b[0;32m<string>\u001b[0m in \u001b[0;36m__new__\u001b[0;34m(_cls, name, type_code, display_size, internal_size, precision, scale, null_ok)\u001b[0m\n",
        "\u001b[0;31mKeyboardInterrupt\u001b[0m: "
       ]
      }
     ],
     "prompt_number": 187
    },
    {
     "cell_type": "code",
     "collapsed": false,
     "input": [],
     "language": "python",
     "metadata": {},
     "outputs": []
    }
   ],
   "metadata": {}
  }
 ]
}