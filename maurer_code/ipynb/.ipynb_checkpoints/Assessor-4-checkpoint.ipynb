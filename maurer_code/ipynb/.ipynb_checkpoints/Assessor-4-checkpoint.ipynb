{
 "metadata": {
  "name": "",
  "signature": "sha256:ca7cf6dc57d300209918c3597da9766fc592e5c897dcfd6f1bdb9b96882445c0"
 },
 "nbformat": 3,
 "nbformat_minor": 0,
 "worksheets": [
  {
   "cells": [
    {
     "cell_type": "code",
     "collapsed": false,
     "input": [
      "import psycopg2\n",
      "import json\n",
      "import numpy as np\n",
      "import time\n",
      "import zipfile"
     ],
     "language": "python",
     "metadata": {},
     "outputs": [
      {
       "ename": "ImportError",
       "evalue": "No module named psycopg2",
       "output_type": "pyerr",
       "traceback": [
        "\u001b[0;31m---------------------------------------------------------------------------\u001b[0m\n\u001b[0;31mImportError\u001b[0m                               Traceback (most recent call last)",
        "\u001b[0;32m<ipython-input-3-992a28406994>\u001b[0m in \u001b[0;36m<module>\u001b[0;34m()\u001b[0m\n\u001b[0;32m----> 1\u001b[0;31m \u001b[0;32mimport\u001b[0m \u001b[0mpsycopg2\u001b[0m\u001b[0;34m\u001b[0m\u001b[0m\n\u001b[0m\u001b[1;32m      2\u001b[0m \u001b[0;32mimport\u001b[0m \u001b[0mjson\u001b[0m\u001b[0;34m\u001b[0m\u001b[0m\n\u001b[1;32m      3\u001b[0m \u001b[0;32mimport\u001b[0m \u001b[0mnumpy\u001b[0m \u001b[0;32mas\u001b[0m \u001b[0mnp\u001b[0m\u001b[0;34m\u001b[0m\u001b[0m\n\u001b[1;32m      4\u001b[0m \u001b[0;32mimport\u001b[0m \u001b[0mtime\u001b[0m\u001b[0;34m\u001b[0m\u001b[0m\n\u001b[1;32m      5\u001b[0m \u001b[0;32mimport\u001b[0m \u001b[0mzipfile\u001b[0m\u001b[0;34m\u001b[0m\u001b[0m\n",
        "\u001b[0;31mImportError\u001b[0m: No module named psycopg2"
       ]
      }
     ],
     "prompt_number": 3
    },
    {
     "cell_type": "code",
     "collapsed": false,
     "input": [
      "path = '/Volumes/Seagate1/DataQuick/Assessor/'\n",
      "zname = 'ARB_ASSR.zip'\n",
      "fname = 'ARB_ASSR.txt'"
     ],
     "language": "python",
     "metadata": {},
     "outputs": [],
     "prompt_number": 2
    },
    {
     "cell_type": "code",
     "collapsed": false,
     "input": [
      "fields = [\"SA_PROPERTY_ID\", \"SA_SCM_ID\", \"MM_STATE_CODE\", \"MM_MUNI_NAME\",\n",
      "\"MM_FIPS_STATE_CODE\", \"MM_FIPS_MUNI_CODE\", \"MM_FIPS_COUNTY_NAME\",\n",
      "\"SA_PARCEL_NBR_PRIMARY\", \"SA_PARCEL_NBR_REFERENCE\",\n",
      "\"SA_PARCEL_ACCOUNT_NBR\", \"SA_PARCEL_NBR_ALT\", \"SA_PARCEL_NBR_PREVIOUS\",\n",
      "\"SA_PARCEL_NBR_CHANGE_YR\", \"SA_YR_APN_ADDED\", \"SA_OWNER_1\",\n",
      "\"SA_OWNER_1_FIRST\", \"SA_OWNER_1_MID\", \"SA_OWNER_1_LAST\",\n",
      "\"SA_OWNER_1_SUF\", \"SA_OWNER_1_SP_FIRST\", \"SA_OWNER_1_SP_MID\",\n",
      "\"SA_OWNER_1_SP_SUF\", \"SA_OWNER_1_GROUP\", \"SA_OWNER_1_ET_FLAG\",\n",
      "\"SA_OWNER_1_TRUST_FLAG\", \"SA_OWNER_1_TYPE\", \"SA_OWNER_2\",\n",
      "\"SA_OWNER_2_FIRST\", \"SA_OWNER_2_MID\", \"SA_OWNER_2_LAST\",\n",
      "\"SA_OWNER_2_SUF\", \"SA_OWNER_2_SP_FIRST\", \"SA_OWNER_2_SP_MID\",\n",
      "\"SA_OWNER_2_SP_SUF\", \"SA_OWNER_2_GROUP\", \"SA_OWNER_2_ET_FLAG\",\n",
      "\"SA_OWNER_2_TRUST_FLAG\", \"SA_OWNER_2_TYPE\", \"SA_OWNERSHIP_STATUS_CODE\",\n",
      "\"SA_COMPANY_FLAG\", \"SA_SITE_HOUSE_NBR\", \"SA_SITE_FRACTION\",\n",
      "\"SA_SITE_DIR\", \"SA_SITE_STREET_NAME\", \"SA_SITE_SUF\", \"SA_SITE_POST_DIR\",\n",
      "\"SA_SITE_UNIT_PRE\", \"SA_SITE_UNIT_VAL\", \"SA_SITE_CITY\", \"SA_SITE_STATE\",\n",
      "\"SA_SITE_ZIP\", \"SA_SITE_PLUS_4\", \"SA_SITE_CRRT\", \"SA_MAIL_HOUSE_NBR\",\n",
      "\"SA_MAIL_FRACTION\", \"SA_MAIL_DIR\", \"SA_MAIL_STREET_NAME\", \"SA_MAIL_SUF\",\n",
      "\"SA_MAIL_POST_DIR\", \"SA_MAIL_UNIT_PRE\", \"SA_MAIL_UNIT_VAL\",\n",
      "\"SA_MAIL_CITY\", \"SA_MAIL_STATE\", \"SA_MAIL_ZIP\", \"SA_MAIL_PLUS_4\",\n",
      "\"SA_MAIL_CRRT\", \"SA_SITE_MAIL_SAME\", \"SA_LGL_DSCRPTN\", \"SA_LOT_NBR_1\",\n",
      "\"SA_LOT_NBR_2\", \"SA_LOT_NBR_3\", \"SA_BLK_NBR_1\", \"SA_BLK_NBR_2\",\n",
      "\"SA_TOWNSHIP\", \"SA_RANGE\", \"SA_SECTION\", \"SA_QUARTER\",\n",
      "\"SA_QUARTER_QUARTER\", \"SA_SUBDIVISION\", \"SA_TRACT_NBR\", \"SA_LGL_UNIT\",\n",
      "\"USE_CODE_STD\", \"USE_CODE_MUNI\", \"SA_ZONING\", \"ASSR_YEAR\",\n",
      "\"SA_VAL_ASSD\", \"SA_VAL_ASSD_LAND\", \"SA_VAL_ASSD_IMPRV\", \"SA_IMPRV_PCT\",\n",
      "\"SA_APPRAISE_YR\", \"SA_YR_LAND_APPRAISE\", \"SA_APPRAISE_VAL\",\n",
      "\"SA_VAL_APPRAISE_LAND\", \"SA_VAL_APPRAISE_IMPRV\",\n",
      "\"SA_IMPRV_PCT_APPRAISE\", \"SA_VAL_MARKET\", \"SA_VAL_MARKET_LAND\",\n",
      "\"SA_VAL_MARKET_IMPRV\", \"SA_IMPRV_PCT_MRKT\", \"SA_EXEMP_FLAG_1\",\n",
      "\"SA_EXEMP_VAL_1\", \"SA_EXEMP_FLAG_2\", \"SA_EXEMP_VAL_2\",\n",
      "\"SA_EXEMP_FLAG_3\", \"SA_EXEMP_VAL_3\", \"SA_EXEMP_FLAG_4\",\n",
      "\"SA_EXEMP_VAL_4\", \"SA_EXEMP_FLAG_5\", \"SA_EXEMP_VAL_5\",\n",
      "\"SA_EXEMP_FLAG_6\", \"SA_EXEMP_VAL_6\", \"SA_VAL_FULL_CASH\",\n",
      "\"SA_VAL_ASSD_PREV\", \"TAXYEAR\", \"SA_TAX_VAL\", \"SA_TAX_YEAR_DELINQ\",\n",
      "\"LAST_ASSR_UPD\", \"LAST_TAX_UPDT\", \"SA_ADDTNS_SQFT\",\n",
      "\"SA_ARCHITECTURE_CODE\", \"SA_ATTIC_SQFT\", \"SA_BLDG_CODE\",\n",
      "\"SA_BLDG_SHAPE_CODE\", \"SA_BLDG_SQFT\", \"SA_BSMT_2_CODE\",\n",
      "\"SA_BSMT_FIN_SQFT\", \"SA_BSMT_UNFIN_SQFT\", \"SA_CONDITION_CODE\",\n",
      "\"SA_CONSTRUCTION_CODE\", \"SA_CONSTRUCTION_QLTY\", \"SA_COOL_CODE\",\n",
      "\"SA_EXTERIOR_1_CODE\", \"SA_FIN_SQFT_1\", \"SA_FIN_SQFT_2\", \"SA_FIN_SQFT_3\",\n",
      "\"SA_FIN_SQFT_4\", \"SA_FIN_SQFT_TOT\", \"SA_FIREPLACE_CODE\",\n",
      "\"SA_FOUNDATION_CODE\", \"SA_GARAGE_CARPORT\", \"SA_GRG_1_CODE\",\n",
      "\"SA_GRG_SQFT_1\", \"SA_HEAT_CODE\", \"SA_HEAT_SRC_FUEL_CODE\",\n",
      "\"SA_LOT_DEPTH\", \"SA_LOT_WIDTH\", \"SA_LOTSIZE\", \"SA_NBR_BATH\",\n",
      "\"SA_NBR_BATH_1QTR\", \"SA_NBR_BATH_HALF\", \"SA_NBR_BATH_3QTR\",\n",
      "\"SA_NBR_BATH_FULL\", \"SA_NBR_BATH_BSMT_HALF\", \"SA_NBR_BATH_BSMT_FULL\",\n",
      "\"SA_NBR_BATH_DQ\", \"SA_NBR_BEDRMS\", \"SA_NBR_RMS\", \"SA_NBR_STORIES\",\n",
      "\"SA_NBR_UNITS\", \"SA_PATIO_PORCH_CODE\", \"SA_POOL_CODE\",\n",
      "\"SA_PRIVACY_CODE\", \"SA_ROOF_CODE\", \"SA_SQFT\", \"SA_SQFT_ASSR_TOT\",\n",
      "\"SA_SQFT_DQ\", \"SA_STRUCTURE_CODE\", \"SA_STRUCTURE_NBR\", \"SA_VIEW_CODE\",\n",
      "\"SA_YR_BLT\", \"SA_YR_BLT_EFFECT\", \"SR_UNIQUE_ID\", \"SR_UNIQUE_ID_NOVAL\",\n",
      "\"SA_DATE_TRANSFER\", \"SA_VAL_TRANSFER\", \"SA_DOC_NBR_FMT\",\n",
      "\"SA_DATE_NOVAL_TRANSFER\", \"SA_DOC_NBR_NOVAL\", \"PROCESS_ID\",\n",
      "\"SA_X_COORD\", \"SA_Y_COORD\", \"SA_GEO_QLTY_CODE\", \"SA_CENSUS_TRACT\",\n",
      "\"SA_CENSUS_BLOCK_GROUP\", \"CORE_BASED_STATISTICAL_AREA_CODE\",\n",
      "\"MINOR_CIVIL_DIVISION_CODE\", \"FIPS_PLACE_CODE\",\n",
      "\"SA_INACTIVE_PARCEL_FLAG\", \"SA_SHELL_PARCEL_FLAG\", \"FILLER\"]"
     ],
     "language": "python",
     "metadata": {},
     "outputs": [],
     "prompt_number": 3
    },
    {
     "cell_type": "code",
     "collapsed": false,
     "input": [
      "field_types = [\"int\", \"int\", \"varchar\", \"varchar\", \"tinyint\", \"smallint\", \"varchar\",\n",
      "\"varchar\", \"varchar\", \"varchar\", \"varchar\", \"varchar\", \"smallint\",\n",
      "\"smallint\", \"varchar\", \"varchar\", \"varchar\", \"varchar\", \"varchar\",\n",
      "\"varchar\", \"varchar\", \"varchar\", \"varchar\", \"varchar\", \"varchar\",\n",
      "\"varchar\", \"varchar\", \"varchar\", \"varchar\", \"varchar\", \"varchar\",\n",
      "\"varchar\", \"varchar\", \"varchar\", \"varchar\", \"varchar\", \"varchar\",\n",
      "\"varchar\", \"varchar\", \"varchar\", \"varchar\", \"varchar\", \"varchar\",\n",
      "\"varchar\", \"varchar\", \"varchar\", \"varchar\", \"varchar\", \"varchar\",\n",
      "\"varchar\", \"int\", \"smallint\", \"varchar\", \"varchar\", \"varchar\",\n",
      "\"varchar\", \"varchar\", \"varchar\", \"varchar\", \"varchar\", \"varchar\",\n",
      "\"varchar\", \"varchar\", \"int\", \"smallint\", \"varchar\", \"varchar\",\n",
      "\"varchar\", \"varchar\", \"varchar\", \"varchar\", \"varchar\", \"varchar\",\n",
      "\"varchar\", \"varchar\", \"varchar\", \"varchar\", \"varchar\", \"varchar\", \"int\",\n",
      "\"varchar\", \"varchar\", \"varchar\", \"varchar\", \"varchar\", \"int\", \"int\",\n",
      "\"int\", \"numeric\", \"smallint\", \"smallint\", \"int\", \"int\", \"int\",\n",
      "\"numeric\", \"int\", \"int\", \"int\", \"numeric\", \"varchar\", \"int\", \"varchar\",\n",
      "\"int\", \"varchar\", \"int\", \"varchar\", \"int\", \"varchar\", \"int\", \"varchar\",\n",
      "\"int\", \"int\", \"int\", \"varchar\", \"numeric\", \"smallint\", \"datetime\",\n",
      "\"datetime\", \"smallint\", \"varchar\", \"smallint\", \"varchar\", \"varchar\",\n",
      "\"smallint\", \"varchar\", \"smallint\", \"smallint\", \"numeric\", \"varchar\",\n",
      "\"numeric\", \"varchar\", \"varchar\", \"int\", \"int\", \"int\", \"int\", \"int\",\n",
      "\"varchar\", \"varchar\", \"varchar\", \"varchar\", \"smallint\", \"varchar\",\n",
      "\"varchar\", \"smallint\", \"smallint\", \"numeric\", \"numeric\", \"smallint\",\n",
      "\"smallint\", \"smallint\", \"smallint\", \"smallint\", \"smallint\", \"numeric\",\n",
      "\"smallint\", \"smallint\", \"tinyint\", \"smallint\", \"varchar\", \"varchar\",\n",
      "\"varchar\", \"varchar\", \"int\", \"int\", \"int\", \"varchar\", \"smallint\",\n",
      "\"varchar\", \"smallint\", \"smallint\", \"int\", \"int\", \"int\", \"int\",\n",
      "\"varchar\", \"int\", \"varchar\", \"int\", \"numeric\", \"numeric\", \"varchar\",\n",
      "\"varchar\", \"varchar\", \"varchar\", \"varchar\", \"varchar\", \"varchar\",\n",
      "\"varchar\", \"varchar\"]\n",
      "\n",
      "# Replace SQL Server types with Postgres types as needed\n",
      "for i, t in enumerate(field_types):\n",
      "    \n",
      "    if (t == 'tinyint'):\n",
      "        field_types[i] = 'smallint'\n",
      "        \n",
      "    if (t == 'datetime'):\n",
      "        field_types[i] = 'timestamp'"
     ],
     "language": "python",
     "metadata": {},
     "outputs": [],
     "prompt_number": 4
    },
    {
     "cell_type": "code",
     "collapsed": false,
     "input": [
      "field_lengths = [12, 12, 2, 24, 5, 7, 35, 35, 35, 35, 35, 35, 7, 7, 50, 50, 20, 50, 5,\n",
      "20, 20, 5, 15, 1, 1, 1, 50, 50, 20, 20, 5, 20, 20, 5, 15, 1, 1, 1, 2, 1,\n",
      "20, 10, 2, 40, 4, 2, 10, 6, 30, 2, 12, 7, 4, 20, 10, 2, 50, 4, 2, 10, 6,\n",
      "50, 2, 12, 7, 4, 1, 255, 6, 6, 6, 5, 5, 3, 3, 2, 2, 4, 30, 12, 10, 4, 6,\n",
      "13, 4, 12, 12, 12, 8, 7, 7, 12, 12, 12, 8, 12, 12, 12, 8, 1, 12, 1, 12,\n",
      "1, 12, 1, 12, 1, 12, 1, 12, 12, 12, 4, 12, 7, 8, 8, 7, 1, 7, 2, 2, 7, 2,\n",
      "7, 7, 4, 2, 5, 2, 2, 12, 12, 12, 12, 12, 2, 2, 3, 2, 7, 2, 2, 7, 7, 19,\n",
      "8, 7, 7, 7, 7, 7, 7, 11, 7, 7, 5, 7, 2, 2, 1, 2, 12, 12, 12, 2, 7, 2, 7,\n",
      "7, 12, 12, 12, 12, 20, 12, 20, 12, 16, 15, 1, 7, 1, 5, 5, 5, 1, 1, 7]"
     ],
     "language": "python",
     "metadata": {},
     "outputs": [],
     "prompt_number": 5
    },
    {
     "cell_type": "code",
     "collapsed": false,
     "input": [
      "print len(fields), len(field_types), len(field_lengths)"
     ],
     "language": "python",
     "metadata": {},
     "outputs": [
      {
       "output_type": "stream",
       "stream": "stdout",
       "text": [
        "190 190 190\n"
       ]
      }
     ],
     "prompt_number": 96
    },
    {
     "cell_type": "code",
     "collapsed": false,
     "input": [
      "# Generate field strings for sql queries\n",
      "\n",
      "field_defs = ''\n",
      "for i in range(len(fields)):\n",
      "    field_defs += fields[i] + ' ' + field_types[i] + ', '\n",
      "    \n",
      "# remove trailing commas\n",
      "field_defs = field_defs[:-2]\n",
      "\n",
      "print field_defs[:80], '...'"
     ],
     "language": "python",
     "metadata": {},
     "outputs": [
      {
       "output_type": "stream",
       "stream": "stdout",
       "text": [
        "SA_PROPERTY_ID int, SA_SCM_ID int, MM_STATE_CODE varchar, MM_MUNI_NAME varchar,  ...\n"
       ]
      }
     ],
     "prompt_number": 6
    },
    {
     "cell_type": "markdown",
     "metadata": {},
     "source": [
      "### Postgres work"
     ]
    },
    {
     "cell_type": "code",
     "collapsed": false,
     "input": [
      "# Connect to the database\n",
      "# Previously in Postgres I created a tablespace and database for the project\n",
      "conn_string = \"host='localhost' dbname='dataquick' user='smmaurer' password=''\"\n",
      "conn = psycopg2.connect(conn_string)\n",
      "cur = conn.cursor()"
     ],
     "language": "python",
     "metadata": {},
     "outputs": [],
     "prompt_number": 2
    },
    {
     "cell_type": "code",
     "collapsed": false,
     "input": [
      "# Set up new a schema within 'dataquick' database (schema is a collection of tables)\n",
      "cur.execute(\"CREATE SCHEMA master AUTHORIZATION smmaurer\")\n",
      "conn.commit()"
     ],
     "language": "python",
     "metadata": {},
     "outputs": [],
     "prompt_number": 33
    },
    {
     "cell_type": "code",
     "collapsed": false,
     "input": [
      "# Drop a schema\n",
      "cur.execute(\"DROP SCHEMA schema\")\n",
      "conn.commit()"
     ],
     "language": "python",
     "metadata": {},
     "outputs": [],
     "prompt_number": 8
    },
    {
     "cell_type": "code",
     "collapsed": false,
     "input": [
      "# Set up table with field definitions\n",
      "cur.execute(\"CREATE TABLE master.assessor (\" + field_defs +\n",
      "            \", CONSTRAINT assessor_pkey PRIMARY KEY (sa_property_id))\")\n",
      "conn.commit()"
     ],
     "language": "python",
     "metadata": {},
     "outputs": [],
     "prompt_number": 11
    },
    {
     "cell_type": "code",
     "collapsed": false,
     "input": [
      "# Drop a table\n",
      "cur.execute(\"DROP TABLE schema.table\")\n",
      "conn.commit()"
     ],
     "language": "python",
     "metadata": {},
     "outputs": [],
     "prompt_number": 10
    },
    {
     "cell_type": "code",
     "collapsed": false,
     "input": [
      "# Geoff says look into using stored procedures in Postgres - it's a lot faster"
     ],
     "language": "python",
     "metadata": {},
     "outputs": [],
     "prompt_number": 119
    },
    {
     "cell_type": "code",
     "collapsed": false,
     "input": [
      "# PARSE RAW DATA AND LOAD INTO POSTGRES\n",
      "\n",
      "t0 = time.time()\n",
      "count = 0\n",
      "N = 10000\n",
      "\n",
      "with zipfile.ZipFile(path+zname) as z:\n",
      "    with z.open(fname) as f:\n",
      "        for line in f:\n",
      "        #for i in range(N):\n",
      "            #line = f.readline()\n",
      "            pos = 0\n",
      "            values = ''\n",
      "            \n",
      "            for i in range(len(fields)):\n",
      "                flen = field_lengths[i]\n",
      "                val = line[pos:pos+flen].rstrip(' ')\n",
      "                pos += flen\n",
      "                \n",
      "                # enquote strings & escape single quotes\n",
      "                if (field_types[i] == 'varchar'):\n",
      "                    val = \"'\" + val.replace(\"'\", \"''\") + \"'\" \n",
      "                    \n",
      "                # replace empty numeric values with nulls\n",
      "                elif (val == ''):\n",
      "                    val = 'null'\n",
      "                    \n",
      "                # also enquote timestamps\n",
      "                elif (field_types[i] == 'timestamp'):\n",
      "                    val = \"'\" + val + \"'\" \n",
      "                \n",
      "                values += val + ', '\n",
      "            values = values[:-2]\n",
      "            \n",
      "            cur.execute(\"INSERT INTO master.assessor VALUES (\" + values + \")\")\n",
      "            count += 1\n",
      "            if (count % 100000 == 0):\n",
      "                print \"rows //\", count\n",
      "            \n",
      "conn.commit()\n",
      "cur.execute(\"SELECT count(sa_property_id) FROM master.assessor\")\n",
      "print \"rows //\", cur.fetchone()[0]\n",
      "print \"time //\", time.time() - t0"
     ],
     "language": "python",
     "metadata": {},
     "outputs": [
      {
       "output_type": "stream",
       "stream": "stdout",
       "text": [
        "rows // 100000\n",
        "rows //"
       ]
      },
      {
       "output_type": "stream",
       "stream": "stdout",
       "text": [
        " 200000\n",
        "rows //"
       ]
      },
      {
       "output_type": "stream",
       "stream": "stdout",
       "text": [
        " 300000\n",
        "rows //"
       ]
      },
      {
       "output_type": "stream",
       "stream": "stdout",
       "text": [
        " 400000\n",
        "rows //"
       ]
      },
      {
       "output_type": "stream",
       "stream": "stdout",
       "text": [
        " 500000\n",
        "rows //"
       ]
      },
      {
       "output_type": "stream",
       "stream": "stdout",
       "text": [
        " 600000\n",
        "rows //"
       ]
      },
      {
       "output_type": "stream",
       "stream": "stdout",
       "text": [
        " 700000\n",
        "rows //"
       ]
      },
      {
       "output_type": "stream",
       "stream": "stdout",
       "text": [
        " 800000\n",
        "rows //"
       ]
      },
      {
       "output_type": "stream",
       "stream": "stdout",
       "text": [
        " 900000\n",
        "rows //"
       ]
      },
      {
       "output_type": "stream",
       "stream": "stdout",
       "text": [
        " 1000000\n",
        "rows //"
       ]
      },
      {
       "output_type": "stream",
       "stream": "stdout",
       "text": [
        " 1100000\n",
        "rows //"
       ]
      },
      {
       "output_type": "stream",
       "stream": "stdout",
       "text": [
        " 1200000\n",
        "rows //"
       ]
      },
      {
       "output_type": "stream",
       "stream": "stdout",
       "text": [
        " 1300000\n",
        "rows //"
       ]
      },
      {
       "output_type": "stream",
       "stream": "stdout",
       "text": [
        " 1400000\n",
        "rows //"
       ]
      },
      {
       "output_type": "stream",
       "stream": "stdout",
       "text": [
        " 1500000\n",
        "rows //"
       ]
      },
      {
       "output_type": "stream",
       "stream": "stdout",
       "text": [
        " 1600000\n",
        "rows //"
       ]
      },
      {
       "output_type": "stream",
       "stream": "stdout",
       "text": [
        " 1700000\n",
        "rows //"
       ]
      },
      {
       "output_type": "stream",
       "stream": "stdout",
       "text": [
        " 1800000\n",
        "rows //"
       ]
      },
      {
       "output_type": "stream",
       "stream": "stdout",
       "text": [
        " 1900000\n",
        "rows //"
       ]
      },
      {
       "output_type": "stream",
       "stream": "stdout",
       "text": [
        " 2000000\n",
        "rows //"
       ]
      },
      {
       "output_type": "stream",
       "stream": "stdout",
       "text": [
        " 2100000\n",
        "rows //"
       ]
      },
      {
       "output_type": "stream",
       "stream": "stdout",
       "text": [
        " 2200000\n",
        "rows //"
       ]
      },
      {
       "output_type": "stream",
       "stream": "stdout",
       "text": [
        " 2300000\n",
        "rows //"
       ]
      },
      {
       "output_type": "stream",
       "stream": "stdout",
       "text": [
        " 2400000\n",
        "rows //"
       ]
      },
      {
       "output_type": "stream",
       "stream": "stdout",
       "text": [
        " 2500000\n",
        "rows //"
       ]
      },
      {
       "output_type": "stream",
       "stream": "stdout",
       "text": [
        " 2600000\n",
        "rows //"
       ]
      },
      {
       "output_type": "stream",
       "stream": "stdout",
       "text": [
        " 2700000\n",
        "rows //"
       ]
      },
      {
       "output_type": "stream",
       "stream": "stdout",
       "text": [
        " 2800000\n",
        "rows //"
       ]
      },
      {
       "output_type": "stream",
       "stream": "stdout",
       "text": [
        " 2900000\n",
        "rows //"
       ]
      },
      {
       "output_type": "stream",
       "stream": "stdout",
       "text": [
        " 3000000\n",
        "rows //"
       ]
      },
      {
       "output_type": "stream",
       "stream": "stdout",
       "text": [
        " 3100000\n",
        "rows //"
       ]
      },
      {
       "output_type": "stream",
       "stream": "stdout",
       "text": [
        " 3200000\n",
        "rows //"
       ]
      },
      {
       "output_type": "stream",
       "stream": "stdout",
       "text": [
        " 3300000\n",
        "rows //"
       ]
      },
      {
       "output_type": "stream",
       "stream": "stdout",
       "text": [
        " 3400000\n",
        "rows //"
       ]
      },
      {
       "output_type": "stream",
       "stream": "stdout",
       "text": [
        " 3500000\n",
        "rows //"
       ]
      },
      {
       "output_type": "stream",
       "stream": "stdout",
       "text": [
        " 3600000\n",
        "rows //"
       ]
      },
      {
       "output_type": "stream",
       "stream": "stdout",
       "text": [
        " 3700000\n",
        "rows //"
       ]
      },
      {
       "output_type": "stream",
       "stream": "stdout",
       "text": [
        " 3800000\n",
        "rows //"
       ]
      },
      {
       "output_type": "stream",
       "stream": "stdout",
       "text": [
        " 3900000\n",
        "rows //"
       ]
      },
      {
       "output_type": "stream",
       "stream": "stdout",
       "text": [
        " 4000000\n",
        "rows //"
       ]
      },
      {
       "output_type": "stream",
       "stream": "stdout",
       "text": [
        " 4100000\n",
        "rows //"
       ]
      },
      {
       "output_type": "stream",
       "stream": "stdout",
       "text": [
        " 4200000\n",
        "rows //"
       ]
      },
      {
       "output_type": "stream",
       "stream": "stdout",
       "text": [
        " 4300000\n",
        "rows //"
       ]
      },
      {
       "output_type": "stream",
       "stream": "stdout",
       "text": [
        " 4400000\n",
        "rows //"
       ]
      },
      {
       "output_type": "stream",
       "stream": "stdout",
       "text": [
        " 4500000\n",
        "rows //"
       ]
      },
      {
       "output_type": "stream",
       "stream": "stdout",
       "text": [
        " 4600000\n",
        "rows //"
       ]
      },
      {
       "output_type": "stream",
       "stream": "stdout",
       "text": [
        " 4700000\n",
        "rows //"
       ]
      },
      {
       "output_type": "stream",
       "stream": "stdout",
       "text": [
        " 4800000\n",
        "rows //"
       ]
      },
      {
       "output_type": "stream",
       "stream": "stdout",
       "text": [
        " 4900000\n",
        "rows //"
       ]
      },
      {
       "output_type": "stream",
       "stream": "stdout",
       "text": [
        " 5000000\n",
        "rows //"
       ]
      },
      {
       "output_type": "stream",
       "stream": "stdout",
       "text": [
        " 5100000\n",
        "rows //"
       ]
      },
      {
       "output_type": "stream",
       "stream": "stdout",
       "text": [
        " 5200000\n",
        "rows //"
       ]
      },
      {
       "output_type": "stream",
       "stream": "stdout",
       "text": [
        " 5300000\n",
        "rows //"
       ]
      },
      {
       "output_type": "stream",
       "stream": "stdout",
       "text": [
        " 5400000\n",
        "rows //"
       ]
      },
      {
       "output_type": "stream",
       "stream": "stdout",
       "text": [
        " 5500000\n",
        "rows //"
       ]
      },
      {
       "output_type": "stream",
       "stream": "stdout",
       "text": [
        " 5600000\n",
        "rows //"
       ]
      },
      {
       "output_type": "stream",
       "stream": "stdout",
       "text": [
        " 5700000\n",
        "rows //"
       ]
      },
      {
       "output_type": "stream",
       "stream": "stdout",
       "text": [
        " 5800000\n",
        "rows //"
       ]
      },
      {
       "output_type": "stream",
       "stream": "stdout",
       "text": [
        " 5900000\n",
        "rows //"
       ]
      },
      {
       "output_type": "stream",
       "stream": "stdout",
       "text": [
        " 6000000\n",
        "rows //"
       ]
      },
      {
       "output_type": "stream",
       "stream": "stdout",
       "text": [
        " 6100000\n",
        "rows //"
       ]
      },
      {
       "output_type": "stream",
       "stream": "stdout",
       "text": [
        " 6200000\n",
        "rows //"
       ]
      },
      {
       "output_type": "stream",
       "stream": "stdout",
       "text": [
        " 6300000\n",
        "rows //"
       ]
      },
      {
       "output_type": "stream",
       "stream": "stdout",
       "text": [
        " 6400000\n",
        "rows //"
       ]
      },
      {
       "output_type": "stream",
       "stream": "stdout",
       "text": [
        " 6500000\n",
        "rows //"
       ]
      },
      {
       "output_type": "stream",
       "stream": "stdout",
       "text": [
        " 6600000\n",
        "rows //"
       ]
      },
      {
       "output_type": "stream",
       "stream": "stdout",
       "text": [
        " 6700000\n",
        "rows //"
       ]
      },
      {
       "output_type": "stream",
       "stream": "stdout",
       "text": [
        " 6800000\n",
        "rows //"
       ]
      },
      {
       "output_type": "stream",
       "stream": "stdout",
       "text": [
        " 6900000\n",
        "rows //"
       ]
      },
      {
       "output_type": "stream",
       "stream": "stdout",
       "text": [
        " 7000000\n",
        "rows //"
       ]
      },
      {
       "output_type": "stream",
       "stream": "stdout",
       "text": [
        " 7100000\n",
        "rows //"
       ]
      },
      {
       "output_type": "stream",
       "stream": "stdout",
       "text": [
        " 7200000\n",
        "rows //"
       ]
      },
      {
       "output_type": "stream",
       "stream": "stdout",
       "text": [
        " 7300000\n",
        "rows //"
       ]
      },
      {
       "output_type": "stream",
       "stream": "stdout",
       "text": [
        " 7400000\n",
        "rows //"
       ]
      },
      {
       "output_type": "stream",
       "stream": "stdout",
       "text": [
        " 7500000\n",
        "rows //"
       ]
      },
      {
       "output_type": "stream",
       "stream": "stdout",
       "text": [
        " 7600000\n",
        "rows //"
       ]
      },
      {
       "output_type": "stream",
       "stream": "stdout",
       "text": [
        " 7700000\n",
        "rows //"
       ]
      },
      {
       "output_type": "stream",
       "stream": "stdout",
       "text": [
        " 7800000\n",
        "rows //"
       ]
      },
      {
       "output_type": "stream",
       "stream": "stdout",
       "text": [
        " 7900000\n",
        "rows //"
       ]
      },
      {
       "output_type": "stream",
       "stream": "stdout",
       "text": [
        " 8000000\n",
        "rows //"
       ]
      },
      {
       "output_type": "stream",
       "stream": "stdout",
       "text": [
        " 8100000\n",
        "rows //"
       ]
      },
      {
       "output_type": "stream",
       "stream": "stdout",
       "text": [
        " 8200000\n",
        "rows //"
       ]
      },
      {
       "output_type": "stream",
       "stream": "stdout",
       "text": [
        " 8300000\n",
        "rows //"
       ]
      },
      {
       "output_type": "stream",
       "stream": "stdout",
       "text": [
        " 8400000\n",
        "rows //"
       ]
      },
      {
       "output_type": "stream",
       "stream": "stdout",
       "text": [
        " 8500000\n",
        "rows //"
       ]
      },
      {
       "output_type": "stream",
       "stream": "stdout",
       "text": [
        " 8600000\n",
        "rows //"
       ]
      },
      {
       "output_type": "stream",
       "stream": "stdout",
       "text": [
        " 8700000\n",
        "rows //"
       ]
      },
      {
       "output_type": "stream",
       "stream": "stdout",
       "text": [
        " 8800000\n",
        "rows //"
       ]
      },
      {
       "output_type": "stream",
       "stream": "stdout",
       "text": [
        " 8900000\n",
        "rows //"
       ]
      },
      {
       "output_type": "stream",
       "stream": "stdout",
       "text": [
        " 9000000\n",
        "rows //"
       ]
      },
      {
       "output_type": "stream",
       "stream": "stdout",
       "text": [
        " 9100000\n",
        "rows //"
       ]
      },
      {
       "output_type": "stream",
       "stream": "stdout",
       "text": [
        " 9200000\n",
        "rows //"
       ]
      },
      {
       "output_type": "stream",
       "stream": "stdout",
       "text": [
        " 9300000\n",
        "rows //"
       ]
      },
      {
       "output_type": "stream",
       "stream": "stdout",
       "text": [
        " 9400000\n",
        "rows //"
       ]
      },
      {
       "output_type": "stream",
       "stream": "stdout",
       "text": [
        " 9500000\n",
        "rows //"
       ]
      },
      {
       "output_type": "stream",
       "stream": "stdout",
       "text": [
        " 9600000\n",
        "rows //"
       ]
      },
      {
       "output_type": "stream",
       "stream": "stdout",
       "text": [
        " 9700000\n",
        "rows //"
       ]
      },
      {
       "output_type": "stream",
       "stream": "stdout",
       "text": [
        " 9800000\n",
        "rows //"
       ]
      },
      {
       "output_type": "stream",
       "stream": "stdout",
       "text": [
        " 9900000\n",
        "rows //"
       ]
      },
      {
       "output_type": "stream",
       "stream": "stdout",
       "text": [
        " 10000000\n",
        "rows //"
       ]
      },
      {
       "output_type": "stream",
       "stream": "stdout",
       "text": [
        " 10100000\n",
        "rows //"
       ]
      },
      {
       "output_type": "stream",
       "stream": "stdout",
       "text": [
        " 10200000\n",
        "rows //"
       ]
      },
      {
       "output_type": "stream",
       "stream": "stdout",
       "text": [
        " 10300000\n",
        "rows //"
       ]
      },
      {
       "output_type": "stream",
       "stream": "stdout",
       "text": [
        " 10400000\n",
        "rows //"
       ]
      },
      {
       "output_type": "stream",
       "stream": "stdout",
       "text": [
        " 10500000\n",
        "rows //"
       ]
      },
      {
       "output_type": "stream",
       "stream": "stdout",
       "text": [
        " 10600000\n",
        "rows //"
       ]
      },
      {
       "output_type": "stream",
       "stream": "stdout",
       "text": [
        " 10700000\n",
        "rows //"
       ]
      },
      {
       "output_type": "stream",
       "stream": "stdout",
       "text": [
        " 10800000\n",
        "rows //"
       ]
      },
      {
       "output_type": "stream",
       "stream": "stdout",
       "text": [
        " 10900000\n",
        "rows //"
       ]
      },
      {
       "output_type": "stream",
       "stream": "stdout",
       "text": [
        " 11000000\n",
        "rows //"
       ]
      },
      {
       "output_type": "stream",
       "stream": "stdout",
       "text": [
        " 11100000\n",
        "rows //"
       ]
      },
      {
       "output_type": "stream",
       "stream": "stdout",
       "text": [
        " 11200000\n",
        "rows //"
       ]
      },
      {
       "output_type": "stream",
       "stream": "stdout",
       "text": [
        " 11300000\n",
        "rows //"
       ]
      },
      {
       "output_type": "stream",
       "stream": "stdout",
       "text": [
        " 11400000\n",
        "rows //"
       ]
      },
      {
       "output_type": "stream",
       "stream": "stdout",
       "text": [
        " 11500000\n",
        "rows //"
       ]
      },
      {
       "output_type": "stream",
       "stream": "stdout",
       "text": [
        " 11600000\n",
        "rows //"
       ]
      },
      {
       "output_type": "stream",
       "stream": "stdout",
       "text": [
        " 11700000\n",
        "rows //"
       ]
      },
      {
       "output_type": "stream",
       "stream": "stdout",
       "text": [
        " 11800000\n",
        "rows //"
       ]
      },
      {
       "output_type": "stream",
       "stream": "stdout",
       "text": [
        " 11900000\n",
        "rows //"
       ]
      },
      {
       "output_type": "stream",
       "stream": "stdout",
       "text": [
        " 12000000\n",
        "rows //"
       ]
      },
      {
       "output_type": "stream",
       "stream": "stdout",
       "text": [
        " 12100000\n",
        "rows //"
       ]
      },
      {
       "output_type": "stream",
       "stream": "stdout",
       "text": [
        " 12200000\n",
        "rows //"
       ]
      },
      {
       "output_type": "stream",
       "stream": "stdout",
       "text": [
        " 12300000\n",
        "rows //"
       ]
      },
      {
       "output_type": "stream",
       "stream": "stdout",
       "text": [
        " 12400000\n",
        "rows //"
       ]
      },
      {
       "output_type": "stream",
       "stream": "stdout",
       "text": [
        " 12500000\n",
        "rows //"
       ]
      },
      {
       "output_type": "stream",
       "stream": "stdout",
       "text": [
        " 12554242\n",
        "time // 17106.902606\n"
       ]
      }
     ],
     "prompt_number": 12
    },
    {
     "cell_type": "code",
     "collapsed": false,
     "input": [
      "# Clear the table\n",
      "conn.commit()\n",
      "cur.execute(\"DELETE FROM schema.table\")\n",
      "conn.commit()"
     ],
     "language": "python",
     "metadata": {},
     "outputs": [],
     "prompt_number": 8
    },
    {
     "cell_type": "markdown",
     "metadata": {},
     "source": [
      "### Add indexes"
     ]
    },
    {
     "cell_type": "code",
     "collapsed": false,
     "input": [
      "t0 = time.time()\n",
      "cur.execute(\"CREATE INDEX fips_index ON master.assessor \" +\n",
      "            \" USING btree (mm_fips_muni_code);\")\n",
      "conn.commit()\n",
      "print time.time() - t0"
     ],
     "language": "python",
     "metadata": {},
     "outputs": [
      {
       "output_type": "stream",
       "stream": "stdout",
       "text": [
        "49.4648661613\n"
       ]
      }
     ],
     "prompt_number": 13
    },
    {
     "cell_type": "code",
     "collapsed": false,
     "input": [
      "t0 = time.time()\n",
      "cur.execute(\"CREATE INDEX tract_index ON master.assessor \" +\n",
      "            \" USING btree (sa_census_tract);\")\n",
      "conn.commit()\n",
      "print time.time() - t0"
     ],
     "language": "python",
     "metadata": {},
     "outputs": [
      {
       "output_type": "stream",
       "stream": "stdout",
       "text": [
        "432.489618063\n"
       ]
      }
     ],
     "prompt_number": 14
    },
    {
     "cell_type": "code",
     "collapsed": false,
     "input": [
      "t0 = time.time()\n",
      "cur.execute(\"CREATE INDEX ON master.assessor \" +\n",
      "            \"USING btree (sa_property_id);\")\n",
      "conn.commit()\n",
      "print time.time() - t0"
     ],
     "language": "python",
     "metadata": {},
     "outputs": [
      {
       "output_type": "stream",
       "stream": "stdout",
       "text": [
        "106.344759941\n"
       ]
      }
     ],
     "prompt_number": 3
    },
    {
     "cell_type": "code",
     "collapsed": false,
     "input": [
      "# create geometry field from sa_x_coord, sa_y_coord"
     ],
     "language": "python",
     "metadata": {},
     "outputs": [],
     "prompt_number": 157
    },
    {
     "cell_type": "code",
     "collapsed": false,
     "input": [],
     "language": "python",
     "metadata": {},
     "outputs": []
    },
    {
     "cell_type": "markdown",
     "metadata": {},
     "source": [
      "### Desriptive statistics - exploratory code"
     ]
    },
    {
     "cell_type": "code",
     "collapsed": false,
     "input": [
      "# Get distinct FIPS codes\n",
      "\n",
      "t0 = time.time()\n",
      "conn.commit()\n",
      "cur.execute(\"SELECT DISTINCT mm_fips_muni_code \" + \n",
      "            \"FROM master.assessor\")\n",
      "\n",
      "out = cur.fetchall()\n",
      "print time.time() - t0\n",
      "print out"
     ],
     "language": "python",
     "metadata": {},
     "outputs": [
      {
       "output_type": "stream",
       "stream": "stdout",
       "text": [
        "315.326429844\n",
        "[(85,), (43,), (81,), (25,), (1,), (79,), (11,), (59,), (39,), (111,), (47,), (3,), (103,), (115,), (61,), (13,), (49,), (113,), (63,), (9,), (67,), (87,), (91,), (45,), (99,), (27,), (55,), (107,), (17,), (83,), (15,), (77,), (89,), (33,), (73,), (95,), (53,), (71,), (19,), (93,), (29,), (105,), (57,), (21,), (109,), (51,), (97,), (23,), (41,), (65,), (35,), (31,), (75,), (101,), (69,), (5,), (37,), (7,)]\n"
       ]
      }
     ],
     "prompt_number": 170
    },
    {
     "cell_type": "code",
     "collapsed": false,
     "input": [
      "# Count properties with a particular FIPS code (indexed)\n",
      "\n",
      "t0 = time.time()\n",
      "conn.commit()\n",
      "cur.execute(\"SELECT count(sa_property_id) \" + \n",
      "            \"FROM master.assessor \" + \n",
      "            \"WHERE mm_fips_muni_code = 75\")\n",
      "\n",
      "out = cur.fetchall()\n",
      "print time.time() - t0\n",
      "print out"
     ],
     "language": "python",
     "metadata": {},
     "outputs": [
      {
       "output_type": "stream",
       "stream": "stdout",
       "text": [
        "1.98514103889\n",
        "[(206396L,)]\n"
       ]
      }
     ],
     "prompt_number": 17
    },
    {
     "cell_type": "code",
     "collapsed": false,
     "input": [],
     "language": "python",
     "metadata": {},
     "outputs": []
    },
    {
     "cell_type": "code",
     "collapsed": false,
     "input": [
      "# Number of rooms\n",
      "\n",
      "t0 = time.time()\n",
      "conn.commit()\n",
      "cur.execute(\"SELECT sa_nbr_rms \" + \n",
      "            \"FROM master.assessor \" + \n",
      "            \"WHERE mm_fips_muni_code = 75\" +\n",
      "            \"LIMIT 100\")\n",
      "\n",
      "out = cur.fetchall()\n",
      "print time.time() - t0\n",
      "print out"
     ],
     "language": "python",
     "metadata": {},
     "outputs": [
      {
       "output_type": "stream",
       "stream": "stdout",
       "text": [
        "0.00139999389648\n",
        "[(0,), (0,), (0,), (0,), (12,), (10,), (28,), (36,), (2,), (4,), (15,), (12,), (10,), (65,), (8,), (16,), (7,), (13,), (10,), (5,), (10,), (14,), (31,), (20,), (15,), (12,), (10,), (12,), (0,), (0,), (0,), (0,), (0,), (0,), (0,), (0,), (0,), (0,), (0,), (0,), (0,), (0,), (0,), (0,), (0,), (0,), (0,), (0,), (0,), (0,), (0,), (0,), (0,), (12,), (9,), (0,), (295,), (5,), (0,), (145,), (104,), (49,), (64,), (0,), (574,), (25,), (5,), (243,), (0,), (9,), (252,), (35,), (9,), (0,), (343,), (2,), (10,), (13,), (11,), (14,), (13,), (5,), (75,), (10,), (1,), (6,), (4,), (0,), (0,), (0,), (0,), (0,), (0,), (0,), (0,), (0,), (0,), (0,), (0,), (0,)]\n"
       ]
      }
     ],
     "prompt_number": 19
    },
    {
     "cell_type": "code",
     "collapsed": false,
     "input": [
      "# Number of rooms - missing values\n",
      "\n",
      "t0 = time.time()\n",
      "conn.commit()\n",
      "cur.execute(\"SELECT count(sa_nbr_rms) \" + \n",
      "            \"FROM master.assessor \" + \n",
      "            \"WHERE mm_fips_muni_code = 75 AND sa_nbr_rms > 0\")\n",
      "\n",
      "rooms_count = cur.fetchall()[0][0]\n",
      "\n",
      "cur.execute(\"SELECT count(sa_nbr_rms) \" + \n",
      "            \"FROM master.assessor \" + \n",
      "            \"WHERE mm_fips_muni_code = 75\")\n",
      "\n",
      "total_count = cur.fetchall()[0][0]\n",
      "\n",
      "print \"execution time\", time.time() - t0\n",
      "print \"San Francisco records with nonzero SA_NBR_RMS =\", rooms_count\n",
      "print \"San Francisco total records =\", total_count\n",
      "print rooms_count*100.0/total_count, \"percent coverage\"\n"
     ],
     "language": "python",
     "metadata": {},
     "outputs": [
      {
       "output_type": "stream",
       "stream": "stdout",
       "text": [
        "execution time 1.37146520615\n",
        "San Francisco records with nonzero SA_NBR_RMS = 176601\n",
        "San Francisco total records = 205949\n",
        "85.7498701135 percent\n"
       ]
      }
     ],
     "prompt_number": 25
    },
    {
     "cell_type": "code",
     "collapsed": false,
     "input": [],
     "language": "python",
     "metadata": {},
     "outputs": [],
     "prompt_number": 28
    },
    {
     "cell_type": "code",
     "collapsed": false,
     "input": [],
     "language": "python",
     "metadata": {},
     "outputs": [],
     "prompt_number": 28
    },
    {
     "cell_type": "code",
     "collapsed": false,
     "input": [
      "# Census tract\n",
      "\n",
      "t0 = time.time()\n",
      "conn.commit()\n",
      "cur.execute(\"SELECT sa_census_tract \" + \n",
      "            \"FROM master.assessor \" + \n",
      "            \"WHERE mm_fips_muni_code = 75\" +\n",
      "            \"LIMIT 100\")\n",
      "\n",
      "out = cur.fetchall()\n",
      "print time.time() - t0\n",
      "print out"
     ],
     "language": "python",
     "metadata": {},
     "outputs": [
      {
       "output_type": "stream",
       "stream": "stdout",
       "text": [
        "0.0413558483124\n",
        "[('010200',), ('010200',), ('015200',), ('010200',), ('010200',), ('010200',), ('010200',), ('010200',), ('010200',), ('010200',), ('010200',), ('010200',), ('010200',), ('010200',), ('010200',), ('010200',), ('010200',), ('010200',), ('010200',), ('010200',), ('010200',), ('010200',), ('010200',), ('010200',), ('010200',), ('010200',), ('010200',), ('010200',), ('010200',), ('010200',), ('010200',), ('010200',), ('010200',), ('010200',), ('010200',), ('010200',), ('010200',), ('010200',), ('010200',), ('010200',), ('010200',), ('010200',), ('010200',), ('010200',), ('010200',), ('010200',), ('010200',), ('010200',), ('010200',), ('010200',), ('010200',), ('010200',), ('010200',), ('010100',), ('010100',), ('010100',), ('010100',), ('010100',), ('010100',), ('010100',), ('010100',), ('010100',), ('010100',), ('010100',), ('010100',), ('010100',), ('010100',), ('010100',), ('010100',), ('010100',), ('010100',), ('010100',), ('010100',), ('010100',), ('010100',), ('010200',), ('010200',), ('010200',), ('010200',), ('010200',), ('010200',), ('010200',), ('010200',), ('010200',), ('010200',), ('010200',), ('010200',), ('010200',), ('010200',), ('010200',), ('010200',), ('010200',), ('010200',), ('010200',), ('010200',), ('010200',), ('010200',), ('010200',), ('010200',), ('010200',)]\n"
       ]
      }
     ],
     "prompt_number": 31
    },
    {
     "cell_type": "code",
     "collapsed": false,
     "input": [
      "# Tracts - missing values\n",
      "\n",
      "t0 = time.time()\n",
      "conn.commit()\n",
      "cur.execute(\"SELECT count(sa_census_tract) \" + \n",
      "            \"FROM master.assessor \" + \n",
      "            \"WHERE sa_census_tract != ''\")\n",
      "\n",
      "rooms_count = cur.fetchall()[0][0]\n",
      "\n",
      "cur.execute(\"SELECT count(sa_census_tract) \" + \n",
      "            \"FROM master.assessor\")\n",
      "\n",
      "total_count = cur.fetchall()[0][0]\n",
      "\n",
      "print \"execution time\", time.time() - t0\n",
      "print \"San Francisco records with nonzero SA_CENSUS_TRACT =\", rooms_count\n",
      "print \"San Francisco total records =\", total_count\n",
      "print rooms_count*100.0/total_count, \"percent coverage\"\n"
     ],
     "language": "python",
     "metadata": {},
     "outputs": [
      {
       "output_type": "stream",
       "stream": "stdout",
       "text": [
        "execution time 166.342119932\n",
        "San Francisco records with nonzero SA_CENSUS_TRACT = 12525735\n",
        "San Francisco total records = 12554242\n",
        "99.7729293413 percent coverage\n"
       ]
      }
     ],
     "prompt_number": 34
    },
    {
     "cell_type": "code",
     "collapsed": false,
     "input": [],
     "language": "python",
     "metadata": {},
     "outputs": []
    },
    {
     "cell_type": "code",
     "collapsed": false,
     "input": [],
     "language": "python",
     "metadata": {},
     "outputs": []
    },
    {
     "cell_type": "code",
     "collapsed": false,
     "input": [],
     "language": "python",
     "metadata": {},
     "outputs": []
    },
    {
     "cell_type": "code",
     "collapsed": false,
     "input": [
      "# Square footage\n",
      "\n",
      "t0 = time.time()\n",
      "conn.commit()\n",
      "cur.execute(\"SELECT sa_sqft \" + \n",
      "            \"FROM master.assessor \" + \n",
      "            \"WHERE mm_fips_muni_code = 75\" +\n",
      "            \"LIMIT 100\")\n",
      "\n",
      "out = cur.fetchall()\n",
      "print time.time() - t0\n",
      "print out"
     ],
     "language": "python",
     "metadata": {},
     "outputs": [
      {
       "output_type": "stream",
       "stream": "stdout",
       "text": [
        "0.00166583061218\n",
        "[(0,), (0,), (0,), (0,), (3402,), (2437,), (7498,), (9801,), (3750,), (1438,), (4200,), (3931,), (3150,), (28444,), (4005,), (3955,), (2800,), (7823,), (4500,), (1600,), (2900,), (4890,), (6545,), (68312,), (4670,), (3090,), (2880,), (3750,), (0,), (0,), (0,), (0,), (0,), (0,), (0,), (0,), (0,), (0,), (0,), (0,), (0,), (0,), (0,), (0,), (0,), (0,), (0,), (0,), (0,), (0,), (0,), (0,), (0,), (6776,), (8954,), (0,), (220932,), (0,), (0,), (158500,), (104424,), (43366,), (69204,), (11640,), (288428,), (31656,), (3617,), (73000,), (0,), (19733,), (164650,), (21556,), (15706,), (0,), (249352,), (0,), (2770,), (4554,), (3500,), (3588,), (3100,), (1271,), (16017,), (3030,), (400,), (2530,), (955,), (1248,), (0,), (0,), (0,), (0,), (0,), (0,), (0,), (0,), (0,), (0,), (0,), (0,)]\n"
       ]
      }
     ],
     "prompt_number": 26
    },
    {
     "cell_type": "code",
     "collapsed": false,
     "input": [
      "# Square footage - missing values\n",
      "\n",
      "t0 = time.time()\n",
      "conn.commit()\n",
      "cur.execute(\"SELECT count(sa_sqft) \" + \n",
      "            \"FROM master.assessor \" + \n",
      "            \"WHERE mm_fips_muni_code = 75 AND sa_sqft > 0\")\n",
      "\n",
      "sqft_count = cur.fetchall()[0][0]\n",
      "\n",
      "cur.execute(\"SELECT count(sa_sqft) \" + \n",
      "            \"FROM master.assessor \" + \n",
      "            \"WHERE mm_fips_muni_code = 75\")\n",
      "\n",
      "total_count = cur.fetchall()[0][0]\n",
      "\n",
      "print \"execution time\", time.time() - t0\n",
      "print \"San Francisco records with nonzero SA_SQFT =\", sqft_count\n",
      "print \"San Francisco total records =\", total_count\n",
      "print sqft_count*100.0/total_count, \"percent coverage\"\n"
     ],
     "language": "python",
     "metadata": {},
     "outputs": [
      {
       "output_type": "stream",
       "stream": "stdout",
       "text": [
        "execution time 1.41859507561\n",
        "San Francisco records with nonzero SA_SQFT = 188640\n",
        "San Francisco total records = 205949\n",
        "91.5954920878 percent coverage\n"
       ]
      }
     ],
     "prompt_number": 30
    },
    {
     "cell_type": "code",
     "collapsed": false,
     "input": [],
     "language": "python",
     "metadata": {},
     "outputs": []
    },
    {
     "cell_type": "code",
     "collapsed": false,
     "input": [
      "# Number of units\n",
      "\n",
      "t0 = time.time()\n",
      "conn.commit()\n",
      "cur.execute(\"SELECT sa_nbr_units \" + \n",
      "            \"FROM master.assessor \" + \n",
      "            \"WHERE mm_fips_muni_code = 85\" +\n",
      "            \"LIMIT 100\")\n",
      "\n",
      "out = cur.fetchall()\n",
      "print time.time() - t0\n",
      "print out"
     ],
     "language": "python",
     "metadata": {},
     "outputs": [
      {
       "output_type": "stream",
       "stream": "stdout",
       "text": [
        "0.00160908699036\n",
        "[(0,), (0,), (0,), (0,), (0,), (0,), (0,), (0,), (0,), (0,), (0,), (0,), (0,), (0,), (0,), (0,), (0,), (0,), (0,), (0,), (0,), (0,), (0,), (0,), (0,), (0,), (0,), (0,), (1,), (0,), (0,), (0,), (0,), (0,), (1,), (0,), (1,), (0,), (0,), (1,), (1,), (0,), (1,), (1,), (0,), (0,), (1,), (0,), (0,), (1,), (1,), (1,), (0,), (0,), (0,), (0,), (0,), (0,), (0,), (0,), (2,), (0,), (0,), (1,), (0,), (1,), (0,), (1,), (1,), (1,), (0,), (0,), (0,), (0,), (0,), (0,), (0,), (0,), (0,), (0,), (0,), (0,), (0,), (0,), (0,), (0,), (0,), (0,), (0,), (0,), (0,), (0,), (0,), (0,), (0,), (0,), (0,), (0,), (0,), (1,)]\n"
       ]
      }
     ],
     "prompt_number": 39
    },
    {
     "cell_type": "code",
     "collapsed": false,
     "input": [
      "# Number of units - missing values\n",
      "\n",
      "t0 = time.time()\n",
      "conn.commit()\n",
      "cur.execute(\"SELECT count(sa_nbr_units) \" + \n",
      "            \"FROM master.assessor \" + \n",
      "            \"WHERE mm_fips_muni_code = 85 AND sa_nbr_units > 0\")\n",
      "\n",
      "sqft_count = cur.fetchall()[0][0]\n",
      "\n",
      "cur.execute(\"SELECT count(sa_nbr_units) \" + \n",
      "            \"FROM master.assessor \" + \n",
      "            \"WHERE mm_fips_muni_code = 85\")\n",
      "\n",
      "total_count = cur.fetchall()[0][0]\n",
      "\n",
      "print \"execution time\", time.time() - t0\n",
      "print \"Santa Clara records with nonzero SA_NBR_UNITS =\", sqft_count\n",
      "print \"Santa Clara total records =\", total_count\n",
      "print sqft_count*100.0/total_count, \"percent coverage\"\n"
     ],
     "language": "python",
     "metadata": {},
     "outputs": [
      {
       "output_type": "stream",
       "stream": "stdout",
       "text": [
        "execution time 3.44377923012\n",
        "Santa Clara records with nonzero SA_NBR_UNITS = 427126\n",
        "Santa Clara total records = 477572\n",
        "89.4369854179 percent coverage\n"
       ]
      }
     ],
     "prompt_number": 36
    },
    {
     "cell_type": "code",
     "collapsed": false,
     "input": [],
     "language": "python",
     "metadata": {},
     "outputs": []
    },
    {
     "cell_type": "markdown",
     "metadata": {},
     "source": [
      "### Descriptive statistics work part 2"
     ]
    },
    {
     "cell_type": "code",
     "collapsed": false,
     "input": [
      "import numpy as np"
     ],
     "language": "python",
     "metadata": {},
     "outputs": [],
     "prompt_number": 58
    },
    {
     "cell_type": "code",
     "collapsed": false,
     "input": [
      "# County name and mm_fips_muni_code\n",
      "\n",
      "cty = [{'fips': 1,  'name': 'Alameda'},\n",
      "       {'fips': 13, 'name': 'Contra Costa'},\n",
      "       {'fips': 41, 'name': 'Marin'},\n",
      "       {'fips': 55, 'name': 'Napa'},\n",
      "       {'fips': 75, 'name': 'San Francisco'},\n",
      "       {'fips': 81, 'name': 'San Mateo'},\n",
      "       {'fips': 85, 'name': 'Santa Clara'},\n",
      "       {'fips': 95, 'name': 'Solano'},\n",
      "       {'fips': 97, 'name': 'Sonoma'}]\n"
     ],
     "language": "python",
     "metadata": {},
     "outputs": [],
     "prompt_number": 68
    },
    {
     "cell_type": "code",
     "collapsed": false,
     "input": [
      "# Save record counts\n",
      "\n",
      "t0 = time.time()\n",
      "conn.commit()\n",
      "\n",
      "for c in cty:\n",
      "    cur.execute(\"SELECT count(sa_property_id) FROM master.assessor \" +\n",
      "                \"WHERE mm_fips_muni_code=%s\", (c['fips'],))\n",
      "    count = cur.fetchall()[0][0]\n",
      "    print c['name'], count\n",
      "    c['count'] = count\n",
      "\n",
      "print \"//\", int(round(time.time()-t0)), \"seconds\""
     ],
     "language": "python",
     "metadata": {},
     "outputs": [
      {
       "output_type": "stream",
       "stream": "stdout",
       "text": [
        "Alameda 448183\n",
        "Contra Costa"
       ]
      },
      {
       "output_type": "stream",
       "stream": "stdout",
       "text": [
        " 371421\n",
        "Marin"
       ]
      },
      {
       "output_type": "stream",
       "stream": "stdout",
       "text": [
        " 96739\n",
        "Napa 51867\n",
        "San Francisco"
       ]
      },
      {
       "output_type": "stream",
       "stream": "stdout",
       "text": [
        " 206396\n",
        "San Mateo"
       ]
      },
      {
       "output_type": "stream",
       "stream": "stdout",
       "text": [
        " 221791\n",
        "Santa Clara"
       ]
      },
      {
       "output_type": "stream",
       "stream": "stdout",
       "text": [
        " 478210\n",
        "Solano"
       ]
      },
      {
       "output_type": "stream",
       "stream": "stdout",
       "text": [
        " 143335\n",
        "Sonoma"
       ]
      },
      {
       "output_type": "stream",
       "stream": "stdout",
       "text": [
        " 188567\n",
        "// 3 seconds\n"
       ]
      }
     ],
     "prompt_number": 69
    },
    {
     "cell_type": "code",
     "collapsed": false,
     "input": [],
     "language": "python",
     "metadata": {},
     "outputs": [],
     "prompt_number": 66
    },
    {
     "cell_type": "code",
     "collapsed": false,
     "input": [
      "# non-zero count and percent\n",
      "# min, 25pct, median, 75pct, max\n",
      "\n",
      "t0 = time.time()\n",
      "conn.commit()\n",
      "\n",
      "print \"Number of rooms - SA_NBR_RMS\"\n",
      "print\n",
      "\n",
      "for c in cty:\n",
      "    cur.execute(\"SELECT sa_nbr_rms FROM master.assessor \" +\n",
      "                \"WHERE mm_fips_muni_code = %s\", (c['fips'],))\n",
      "    out1 = np.array(cur.fetchall())\n",
      "    out2 = out1[out1>0]\n",
      "    pct = round(np.shape(out2)[0]*100.0/np.shape(out1)[0],1)\n",
      "    print c['name']\n",
      "    print \"nonzero values:\", np.shape(out2)[0], \"or\", pct, \"%\"\n",
      "    print \"min:\", np.amin(out2), \"// 25th pct:\", np.percentile(out2, 25), \\\n",
      "        \"// median:\", np.median(out2), \"// 75th pct:\", np.percentile(out2, 75), \\\n",
      "        \"// max:\", np.amax(out2)\n",
      "    print\n",
      "\n",
      "print int(round(time.time()-t0)), \"seconds\""
     ],
     "language": "python",
     "metadata": {},
     "outputs": [
      {
       "output_type": "stream",
       "stream": "stdout",
       "text": [
        "Number of rooms - SA_NBR_RMS\n",
        "\n",
        "Alameda"
       ]
      },
      {
       "output_type": "stream",
       "stream": "stdout",
       "text": [
        "\n",
        "nonzero values: 363776 or 81.2 %\n",
        "min: 1 // 25th pct: 5.0 // median: 6.0 // 75th pct: "
       ]
      },
      {
       "output_type": "stream",
       "stream": "stdout",
       "text": [
        "8.0 // max: 999\n",
        "\n",
        "Contra Costa"
       ]
      },
      {
       "output_type": "stream",
       "stream": "stdout",
       "text": [
        "\n",
        "nonzero values: 331338 or 89.2 %\n",
        "min: 1 // 25th pct: 6.0 // median: 8.0 // 75th pct: "
       ]
      },
      {
       "output_type": "stream",
       "stream": "stdout",
       "text": [
        "10.0 // max: 1408\n",
        "\n",
        "Marin"
       ]
      },
      {
       "output_type": "stream",
       "stream": "stdout",
       "text": [
        "\n",
        "nonzero values: 20758 or 21.5 %\n",
        "min: 1 // 25th pct: 5.0 // median: 6.0 // 75th pct: 7.0 // max: 77\n",
        "\n",
        "Napa"
       ]
      },
      {
       "output_type": "stream",
       "stream": "stdout",
       "text": [
        "\n",
        "nonzero values: 31143 or 60.0 %\n",
        "min: 1 // 25th pct: 5.0 // median: 6.0 // 75th pct: 7.0 // max: 96\n",
        "\n",
        "San Francisco"
       ]
      },
      {
       "output_type": "stream",
       "stream": "stdout",
       "text": [
        "\n",
        "nonzero values: 176601 or 85.6 %\n",
        "min: 1 // 25th pct: 5.0 // median: 6.0 // 75th pct: 9.0 // max: 3606\n",
        "\n",
        "San Mateo"
       ]
      },
      {
       "output_type": "stream",
       "stream": "stdout",
       "text": [
        "\n",
        "nonzero values: 193517 or 87.3 %\n",
        "min: 1 // 25th pct: 5.0 // median: 6.0 // 75th pct: 8.0 // max: 3606\n",
        "\n",
        "Santa Clara"
       ]
      },
      {
       "output_type": "stream",
       "stream": "stdout",
       "text": [
        "\n",
        "nonzero values: 414231 or 86.6 %\n",
        "min: 1 // 25th pct: 6.0 // median: 7.0 // 75th pct: "
       ]
      },
      {
       "output_type": "stream",
       "stream": "stdout",
       "text": [
        "8.0 // max: 99\n",
        "\n",
        "Solano"
       ]
      },
      {
       "output_type": "stream",
       "stream": "stdout",
       "text": [
        "\n",
        "nonzero values: 106978 or 74.6 %\n",
        "min: 1 // 25th pct: 6.0 // median: 7.0 // 75th pct: 9.0 // max: 60\n",
        "\n",
        "Sonoma"
       ]
      },
      {
       "output_type": "stream",
       "stream": "stdout",
       "text": [
        "\n",
        "nonzero values: 135941 or 72.1 %\n",
        "min: 1 // 25th pct: 4.0 // median: 6.0 // 75th pct: 7.0 // max: 97\n",
        "\n",
        "19 seconds\n"
       ]
      }
     ],
     "prompt_number": 75
    },
    {
     "cell_type": "code",
     "collapsed": false,
     "input": [],
     "language": "python",
     "metadata": {},
     "outputs": []
    },
    {
     "cell_type": "code",
     "collapsed": false,
     "input": [
      "t0 = time.time()\n",
      "conn.commit()\n",
      "\n",
      "cur.execute(\"SELECT sa_nbr_rms FROM master.assessor \" +\n",
      "            \"WHERE mm_fips_muni_code=75\")\n",
      "out = cur.fetchall()[:100]\n",
      "out1 = np.array(out)\n",
      "#print out\n",
      "#print out1\n",
      "print np.shape(out1[out1>0])[0]\n",
      "print np.amin(out1), np.percentile(out1, 25), np.median(out1), np.percentile(out1,75), np.amax(out1)\n",
      "    "
     ],
     "language": "python",
     "metadata": {},
     "outputs": [
      {
       "output_type": "stream",
       "stream": "stdout",
       "text": [
        "53\n",
        "0 0.0 3.0 12.25 574\n"
       ]
      }
     ],
     "prompt_number": 64
    },
    {
     "cell_type": "code",
     "collapsed": false,
     "input": [],
     "language": "python",
     "metadata": {},
     "outputs": []
    },
    {
     "cell_type": "code",
     "collapsed": false,
     "input": [
      "cur.execute(\"SELECT count(sa_nbr_rms) \" + \n",
      "            \"FROM master.assessor \" + \n",
      "            \"WHERE mm_fips_muni_code = 75 AND sa_nbr_rms > 0\")\n",
      "\n",
      "rooms_count = cur.fetchall()[0][0]\n",
      "\n",
      "cur.execute(\"SELECT count(sa_nbr_rms) \" + \n",
      "            \"FROM master.assessor \" + \n",
      "            \"WHERE mm_fips_muni_code = 75\")\n",
      "\n",
      "total_count = cur.fetchall()[0][0]\n",
      "\n",
      "print \"execution time\", time.time() - t0\n",
      "print \"San Francisco records with nonzero SA_NBR_RMS =\", rooms_count\n",
      "print \"San Francisco total records =\", total_count\n",
      "print rooms_count*100.0/total_count, \"percent coverage\"\n"
     ],
     "language": "python",
     "metadata": {},
     "outputs": []
    },
    {
     "cell_type": "code",
     "collapsed": false,
     "input": [],
     "language": "python",
     "metadata": {},
     "outputs": []
    },
    {
     "cell_type": "code",
     "collapsed": false,
     "input": [],
     "language": "python",
     "metadata": {},
     "outputs": []
    },
    {
     "cell_type": "code",
     "collapsed": false,
     "input": [],
     "language": "python",
     "metadata": {},
     "outputs": []
    },
    {
     "cell_type": "code",
     "collapsed": false,
     "input": [
      "# Clear connection\n",
      "conn.commit()"
     ],
     "language": "python",
     "metadata": {},
     "outputs": [],
     "prompt_number": 28
    },
    {
     "cell_type": "code",
     "collapsed": false,
     "input": [
      "cur.execute(\"SELECT count(sa_property_id) FROM master.assessor\")\n",
      "print \"rows //\", cur.fetchone()[0]\n"
     ],
     "language": "python",
     "metadata": {},
     "outputs": [
      {
       "ename": "KeyboardInterrupt",
       "evalue": "",
       "output_type": "pyerr",
       "traceback": [
        "\u001b[0;31m---------------------------------------------------------------------------\u001b[0m\n\u001b[0;31mKeyboardInterrupt\u001b[0m                         Traceback (most recent call last)",
        "\u001b[0;32m<ipython-input-187-fba809ed68c5>\u001b[0m in \u001b[0;36m<module>\u001b[0;34m()\u001b[0m\n\u001b[0;32m----> 1\u001b[0;31m \u001b[0mcur\u001b[0m\u001b[0;34m.\u001b[0m\u001b[0mexecute\u001b[0m\u001b[0;34m(\u001b[0m\u001b[0;34m\"SELECT count(sa_property_id) FROM master.assessor\"\u001b[0m\u001b[0;34m)\u001b[0m\u001b[0;34m\u001b[0m\u001b[0m\n\u001b[0m\u001b[1;32m      2\u001b[0m \u001b[0;32mprint\u001b[0m \u001b[0;34m\"rows //\"\u001b[0m\u001b[0;34m,\u001b[0m \u001b[0mcur\u001b[0m\u001b[0;34m.\u001b[0m\u001b[0mfetchone\u001b[0m\u001b[0;34m(\u001b[0m\u001b[0;34m)\u001b[0m\u001b[0;34m[\u001b[0m\u001b[0;36m0\u001b[0m\u001b[0;34m]\u001b[0m\u001b[0;34m\u001b[0m\u001b[0m\n",
        "\u001b[0;32m<string>\u001b[0m in \u001b[0;36m__new__\u001b[0;34m(_cls, name, type_code, display_size, internal_size, precision, scale, null_ok)\u001b[0m\n",
        "\u001b[0;31mKeyboardInterrupt\u001b[0m: "
       ]
      }
     ],
     "prompt_number": 187
    },
    {
     "cell_type": "code",
     "collapsed": false,
     "input": [],
     "language": "python",
     "metadata": {},
     "outputs": []
    }
   ],
   "metadata": {}
  }
 ]
}