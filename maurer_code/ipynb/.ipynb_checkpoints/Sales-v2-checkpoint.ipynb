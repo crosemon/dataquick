{
 "metadata": {
  "name": ""
 },
 "nbformat": 3,
 "nbformat_minor": 0,
 "worksheets": [
  {
   "cells": [
    {
     "cell_type": "code",
     "collapsed": false,
     "input": [
      "import time\n",
      "import zipfile\n",
      "import csv"
     ],
     "language": "python",
     "metadata": {},
     "outputs": [],
     "prompt_number": 1
    },
    {
     "cell_type": "code",
     "collapsed": false,
     "input": [
      "path = '/Volumes/Seagate1/DataQuick/Sales History/Tab Delimited v2/'\n",
      "zname = 'ARB_HIST_01.zip'\n",
      "fname = 'ARB_HIST_01.txt'"
     ],
     "language": "python",
     "metadata": {},
     "outputs": [],
     "prompt_number": 2
    },
    {
     "cell_type": "code",
     "collapsed": false,
     "input": [
      "# Look at the first line in the zipfile\n",
      "with zipfile.ZipFile(path+zname) as z:\n",
      "    with z.open(fname) as f:\n",
      "        line = f.readline()\n",
      "        print len(line), \"characters\"\n",
      "        print\n",
      "        print repr(line)"
     ],
     "language": "python",
     "metadata": {},
     "outputs": [
      {
       "output_type": "stream",
       "stream": "stdout",
       "text": [
        "1617 characters\n",
        "\n",
        "'256997203   \\t23524606    \\t71          \\tCA\\tSAN FRANCISCO           \\t06   \\t075    \\tSAN FRANCISCO                      \\t0147  022                               \\t                                                                                                    \\t2263 32ND AVE                                                                                       \\t2263                \\t          \\t  \\t32ND                                              \\tAVE \\t  \\t          \\t      \\tSAN FRANCISCO                                     \\tCA\\t94116\\t1626\\tC034\\t22    147 50 VARA BL 132                                                                                                                                                                                                                                       \\t147   \\t22    \\t      \\t      \\t   \\t   \\t50 VARA BL 132                                    \\t   \\t                              \\t        \\tSIU,CHAK L & ANNIE Y                              \\tSIU,CHAK Y                                        \\t570000      \\t3876.00     \\tI665842             \\t0I66500842          \\t20081015    \\t20081010    \\tG \\t  \\tR \\t0\\t0\\tF\\tM\\t \\t \\t                    \\t                    \\t          \\t0           \\t \\t \\t \\t0           \\t                                                  \\t                         \\t \\t                    \\t                    \\t          \\t0           \\t \\t \\t \\t0           \\t                              \\t                         \\t \\t                    \\t                    \\t          \\t0           \\t \\t \\t0           \\t \\t                              \\t                         \\t \\t \\t119254      \\t  \\r\\n'\n"
       ]
      }
     ],
     "prompt_number": 13
    },
    {
     "cell_type": "code",
     "collapsed": false,
     "input": [
      "fields = [\"SR_UNIQUE_ID\",\n",
      "\"SR_PROPERTY_ID\",\n",
      "\"SR_SCM_ID\",\n",
      "\"MM_STATE_CODE\",\n",
      "\"MM_MUNI_NAME\",\n",
      "\"MM_FIPS_STATE_CODE\",\n",
      "\"MM_FIPS_MUNI_CODE\",\n",
      "\"MM_FIPS_COUNTY_NAME\",\n",
      "\"SR_PARCEL_NBR_RAW\",\n",
      "\"SR_SITE_ADDR_RAW\",\n",
      "\"SR_MAIL_ADDR_RAW\",\n",
      "\"SR_MAIL_HOUSE_NBR\",\n",
      "\"SR_MAIL_FRACTION\",\n",
      "\"SR_MAIL_DIR\",\n",
      "\"SR_MAIL_STREET_NAME\",\n",
      "\"SR_MAIL_SUF\",\n",
      "\"SR_MAIL_POST_DIR\",\n",
      "\"SR_MAIL_UNIT_PRE\",\n",
      "\"SR_MAIL_UNIT_VAL\",\n",
      "\"SR_MAIL_CITY\",\n",
      "\"SR_MAIL_STATE\",\n",
      "\"SR_MAIL_ZIP\",\n",
      "\"SR_MAIL_PLUS_4\",\n",
      "\"SR_MAIL_CRRT\",\n",
      "\"SR_LGL_DSCRPTN\",\n",
      "\"SR_LGL_KEYED_BLOCK\",\n",
      "\"SR_LGL_KEYED_LOT\",\n",
      "\"SR_LGL_KEYED_PLAT_BOOK\",\n",
      "\"SR_LGL_KEYED_PLAT_PAGE\",\n",
      "\"SR_LGL_KEYED_RANGE\",\n",
      "\"SR_LGL_KEYED_SECTION\",\n",
      "\"SR_LGL_KEYED_SUB_NAME\",\n",
      "\"SR_LGL_KEYED_TOWNSHIP\",\n",
      "\"SR_LGL_KEYED_TRACT\",\n",
      "\"SR_LGL_KEYED_UNIT\",\n",
      "\"SR_BUYER\",\n",
      "\"SR_SELLER\",\n",
      "\"SR_VAL_TRANSFER\",\n",
      "\"SR_TAX_TRANSFER\",\n",
      "\"SR_DOC_NBR_RAW\",\n",
      "\"SR_DOC_NBR_FMT\",\n",
      "\"SR_DATE_TRANSFER\",\n",
      "\"SR_DATE_FILING\",\n",
      "\"SR_DOC_TYPE\",\n",
      "\"SR_DEED_TYPE\",\n",
      "\"SR_TRAN_TYPE\",\n",
      "\"SR_QUITCLAIM\",\n",
      "\"SR_ARMS_LENGTH_FLAG\",\n",
      "\"SR_FULL_PART_CODE\",\n",
      "\"SR_MULT_APN_FLAG_KEYED\",\n",
      "\"SR_MULT_PORT_CODE\",\n",
      "\"SR_LNDR_SELLER_FLAG\",\n",
      "\"SR_TD_DOC_NBR_1\",\n",
      "\"SR_LOAN_ID_1\",\n",
      "\"SR_LOAN_ID_1_EXT\",\n",
      "\"SR_LOAN_VAL_1\",\n",
      "\"SR_LOAN_TYPE_1\",\n",
      "\"SR_INT_RATE_TYPE_1\",\n",
      "\"SR_LNDR_CREDIT_LINE_1\",\n",
      "\"SR_LNDR_CODE_1\",\n",
      "\"SR_LNDR_FIRST_NAME_1\",\n",
      "\"SR_LNDR_LAST_NAME_1\",\n",
      "\"SR_LENDER_TYPE_1\",\n",
      "\"SR_TD_DOC_NBR_2\",\n",
      "\"SR_LOAN_ID_2\",\n",
      "\"SR_LOAN_ID_2_EXT\",\n",
      "\"SR_LOAN_VAL_2\",\n",
      "\"SR_LOAN_TYPE_2\",\n",
      "\"SR_INT_RATE_TYPE_2\",\n",
      "\"SR_LNDR_CREDIT_LINE_2\",\n",
      "\"SR_LNDR_CODE_2\",\n",
      "\"SR_LNDR_FIRST_NAME_2\",\n",
      "\"SR_LNDR_LAST_NAME_2\",\n",
      "\"SR_LENDER_TYPE_2\",\n",
      "\"SR_TD_DOC_NBR_3\",\n",
      "\"SR_LOAN_ID_3\",\n",
      "\"SR_LOAN_ID_3_EXT\",\n",
      "\"SR_LOAN_VAL_3\",\n",
      "\"SR_LOAN_TYPE_3\",\n",
      "\"SR_INT_RATE_TYPE_3\",\n",
      "\"SR_LNDR_CODE_3\",\n",
      "\"SR_LNDR_CREDIT_LINE_3\",\n",
      "\"SR_LNDR_FIRST_NAME_3\",\n",
      "\"SR_LNDR_LAST_NAME_3\",\n",
      "\"SR_LENDER_TYPE_3\",\n",
      "\"DISTRESS_INDICATOR\",\n",
      "\"PROCESS_ID\"]\n",
      "# FILLER is not in the tab-delimited files"
     ],
     "language": "python",
     "metadata": {},
     "outputs": [],
     "prompt_number": 15
    },
    {
     "cell_type": "code",
     "collapsed": false,
     "input": [
      "field_types = [\"int\", \"int\", \"int\", \"varchar\", \"varchar\", \"tinyint\", \"smallint\",\n",
      "\"varchar\", \"varchar\", \"varchar\", \"varchar\", \"varchar\", \"varchar\",\n",
      "\"varchar\", \"varchar\", \"varchar\", \"varchar\", \"varchar\", \"varchar\",\n",
      "\"varchar\", \"varchar\", \"varchar\", \"varchar\", \"varchar\", \"varchar\",\n",
      "\"varchar\", \"varchar\", \"varchar\", \"varchar\", \"varchar\", \"varchar\",\n",
      "\"varchar\", \"varchar\", \"varchar\", \"varchar\", \"varchar\", \"varchar\", \"int\",\n",
      "\"numeric\", \"varchar\", \"varchar\", \"int\", \"int\", \"varchar\", \"varchar\",\n",
      "\"varchar\", \"bit\", \"varchar\", \"varchar\", \"varchar\", \"varchar\", \"varchar\",\n",
      "\"varchar\", \"varchar\", \"varchar\", \"int\", \"varchar\", \"varchar\", \"varchar\",\n",
      "\"int\", \"varchar\", \"varchar\", \"varchar\", \"varchar\", \"varchar\", \"varchar\",\n",
      "\"int\", \"varchar\", \"varchar\", \"varchar\", \"int\", \"varchar\", \"varchar\",\n",
      "\"varchar\", \"varchar\", \"varchar\", \"varchar\", \"int\", \"varchar\", \"varchar\",\n",
      "\"int\", \"varchar\", \"varchar\", \"varchar\", \"varchar\", \"varchar\", \"int\"]\n",
      "\n",
      "# Replace SQL Server types with Postgres types as needed\n",
      "for i, t in enumerate(field_types):\n",
      "    \n",
      "    if (t == 'tinyint'):\n",
      "        field_types[i] = 'smallint'\n",
      "        \n",
      "    if (t == 'bit'):\n",
      "        field_types[i] = 'boolean'"
     ],
     "language": "python",
     "metadata": {},
     "outputs": [],
     "prompt_number": 16
    },
    {
     "cell_type": "code",
     "collapsed": false,
     "input": [
      "print len(fields), len(field_types)"
     ],
     "language": "python",
     "metadata": {},
     "outputs": [
      {
       "output_type": "stream",
       "stream": "stdout",
       "text": [
        "87 87\n"
       ]
      }
     ],
     "prompt_number": 17
    },
    {
     "cell_type": "code",
     "collapsed": false,
     "input": [
      "arr = []\n",
      "pos = 0\n",
      "\n",
      "print repr(line)\n",
      "print\n",
      "\n",
      "arr = line.split('\\t')\n",
      "\n",
      "for i, lab in enumerate(fields):\n",
      "    print str(i+1), fields[i], \"//\", arr[i]"
     ],
     "language": "python",
     "metadata": {},
     "outputs": [
      {
       "output_type": "stream",
       "stream": "stdout",
       "text": [
        "'256997203   \\t23524606    \\t71          \\tCA\\tSAN FRANCISCO           \\t06   \\t075    \\tSAN FRANCISCO                      \\t0147  022                               \\t                                                                                                    \\t2263 32ND AVE                                                                                       \\t2263                \\t          \\t  \\t32ND                                              \\tAVE \\t  \\t          \\t      \\tSAN FRANCISCO                                     \\tCA\\t94116\\t1626\\tC034\\t22    147 50 VARA BL 132                                                                                                                                                                                                                                       \\t147   \\t22    \\t      \\t      \\t   \\t   \\t50 VARA BL 132                                    \\t   \\t                              \\t        \\tSIU,CHAK L & ANNIE Y                              \\tSIU,CHAK Y                                        \\t570000      \\t3876.00     \\tI665842             \\t0I66500842          \\t20081015    \\t20081010    \\tG \\t  \\tR \\t0\\t0\\tF\\tM\\t \\t \\t                    \\t                    \\t          \\t0           \\t \\t \\t \\t0           \\t                                                  \\t                         \\t \\t                    \\t                    \\t          \\t0           \\t \\t \\t \\t0           \\t                              \\t                         \\t \\t                    \\t                    \\t          \\t0           \\t \\t \\t0           \\t \\t                              \\t                         \\t \\t \\t119254      \\t  \\r\\n'\n",
        "\n",
        "1 SR_UNIQUE_ID // 256997203   \n",
        "2 SR_PROPERTY_ID // 23524606    \n",
        "3 SR_SCM_ID // 71          \n",
        "4 MM_STATE_CODE // CA\n",
        "5 MM_MUNI_NAME // SAN FRANCISCO           \n",
        "6 MM_FIPS_STATE_CODE // 06   \n",
        "7 MM_FIPS_MUNI_CODE // 075    \n",
        "8 MM_FIPS_COUNTY_NAME // SAN FRANCISCO                      \n",
        "9 SR_PARCEL_NBR_RAW // 0147  022                               \n",
        "10 SR_SITE_ADDR_RAW //                                                                                                     \n",
        "11 SR_MAIL_ADDR_RAW // 2263 32ND AVE                                                                                       \n",
        "12 SR_MAIL_HOUSE_NBR // 2263                \n",
        "13 SR_MAIL_FRACTION //           \n",
        "14 SR_MAIL_DIR //   \n",
        "15 SR_MAIL_STREET_NAME // 32ND                                              \n",
        "16 SR_MAIL_SUF // AVE \n",
        "17 SR_MAIL_POST_DIR //   \n",
        "18 SR_MAIL_UNIT_PRE //           \n",
        "19 SR_MAIL_UNIT_VAL //       \n",
        "20 SR_MAIL_CITY // SAN FRANCISCO                                     \n",
        "21 SR_MAIL_STATE // CA\n",
        "22 SR_MAIL_ZIP // 94116\n",
        "23 SR_MAIL_PLUS_4 // 1626\n",
        "24 SR_MAIL_CRRT // C034\n",
        "25 SR_LGL_DSCRPTN // 22    147 50 VARA BL 132                                                                                                                                                                                                                                       \n",
        "26 SR_LGL_KEYED_BLOCK // 147   \n",
        "27 SR_LGL_KEYED_LOT // 22    \n",
        "28 SR_LGL_KEYED_PLAT_BOOK //       \n",
        "29 SR_LGL_KEYED_PLAT_PAGE //       \n",
        "30 SR_LGL_KEYED_RANGE //    \n",
        "31 SR_LGL_KEYED_SECTION //    \n",
        "32 SR_LGL_KEYED_SUB_NAME // 50 VARA BL 132                                    \n",
        "33 SR_LGL_KEYED_TOWNSHIP //    \n",
        "34 SR_LGL_KEYED_TRACT //                               \n",
        "35 SR_LGL_KEYED_UNIT //         \n",
        "36 SR_BUYER // SIU,CHAK L & ANNIE Y                              \n",
        "37 SR_SELLER // SIU,CHAK Y                                        \n",
        "38 SR_VAL_TRANSFER // 570000      \n",
        "39 SR_TAX_TRANSFER // 3876.00     \n",
        "40 SR_DOC_NBR_RAW // I665842             \n",
        "41 SR_DOC_NBR_FMT // 0I66500842          \n",
        "42 SR_DATE_TRANSFER // 20081015    \n",
        "43 SR_DATE_FILING // 20081010    \n",
        "44 SR_DOC_TYPE // G \n",
        "45 SR_DEED_TYPE //   \n",
        "46 SR_TRAN_TYPE // R \n",
        "47 SR_QUITCLAIM // 0\n",
        "48 SR_ARMS_LENGTH_FLAG // 0\n",
        "49 SR_FULL_PART_CODE // F\n",
        "50 SR_MULT_APN_FLAG_KEYED // M\n",
        "51 SR_MULT_PORT_CODE //  \n",
        "52 SR_LNDR_SELLER_FLAG //  \n",
        "53 SR_TD_DOC_NBR_1 //                     \n",
        "54 SR_LOAN_ID_1 //                     \n",
        "55 SR_LOAN_ID_1_EXT //           \n",
        "56 SR_LOAN_VAL_1 // 0           \n",
        "57 SR_LOAN_TYPE_1 //  \n",
        "58 SR_INT_RATE_TYPE_1 //  \n",
        "59 SR_LNDR_CREDIT_LINE_1 //  \n",
        "60 SR_LNDR_CODE_1 // 0           \n",
        "61 SR_LNDR_FIRST_NAME_1 //                                                   \n",
        "62 SR_LNDR_LAST_NAME_1 //                          \n",
        "63 SR_LENDER_TYPE_1 //  \n",
        "64 SR_TD_DOC_NBR_2 //                     \n",
        "65 SR_LOAN_ID_2 //                     \n",
        "66 SR_LOAN_ID_2_EXT //           \n",
        "67 SR_LOAN_VAL_2 // 0           \n",
        "68 SR_LOAN_TYPE_2 //  \n",
        "69 SR_INT_RATE_TYPE_2 //  \n",
        "70 SR_LNDR_CREDIT_LINE_2 //  \n",
        "71 SR_LNDR_CODE_2 // 0           \n",
        "72 SR_LNDR_FIRST_NAME_2 //                               \n",
        "73 SR_LNDR_LAST_NAME_2 //                          \n",
        "74 SR_LENDER_TYPE_2 //  \n",
        "75 SR_TD_DOC_NBR_3 //                     \n",
        "76 SR_LOAN_ID_3 //                     \n",
        "77 SR_LOAN_ID_3_EXT //           \n",
        "78 SR_LOAN_VAL_3 // 0           \n",
        "79 SR_LOAN_TYPE_3 //  \n",
        "80 SR_INT_RATE_TYPE_3 //  \n",
        "81 SR_LNDR_CODE_3 // 0           \n",
        "82 SR_LNDR_CREDIT_LINE_3 //  \n",
        "83 SR_LNDR_FIRST_NAME_3 //                               \n",
        "84 SR_LNDR_LAST_NAME_3 //                          \n",
        "85 SR_LENDER_TYPE_3 //  \n",
        "86 DISTRESS_INDICATOR //  \n",
        "87 PROCESS_ID // 119254      \n",
        "88 FILLER //   \r\n",
        "\n"
       ]
      }
     ],
     "prompt_number": 7
    },
    {
     "cell_type": "code",
     "collapsed": false,
     "input": [
      "# Save sample to CSV -- NOT UPDATED\n",
      "\n",
      "t0 = time.time()\n",
      "data = []\n",
      "\n",
      "with zipfile.ZipFile(path+zname) as z:\n",
      "    with z.open(fname) as f:\n",
      "        for i in range(10000):\n",
      "            line = f.readline()\n",
      "            pos = 0\n",
      "            arr = []\n",
      "            for flen in field_lengths:\n",
      "                arr.append(line[pos:pos+flen].rstrip(' '))\n",
      "                pos += flen\n",
      "            data.append(arr)\n",
      "\n",
      "print time.time() - t0\n",
      "print len(data)"
     ],
     "language": "python",
     "metadata": {},
     "outputs": [
      {
       "output_type": "stream",
       "stream": "stdout",
       "text": [
        "2.00152587891\n",
        "10000\n"
       ]
      }
     ],
     "prompt_number": 10
    },
    {
     "cell_type": "code",
     "collapsed": false,
     "input": [
      "import csv\n",
      "with open(path+'ARB_HIST_SAMPLE.csv', 'wb') as f:\n",
      "    writer = csv.writer(f)\n",
      "    writer.writerow(fields)\n",
      "    writer.writerows(data)"
     ],
     "language": "python",
     "metadata": {},
     "outputs": [],
     "prompt_number": 12
    },
    {
     "cell_type": "markdown",
     "metadata": {},
     "source": [
      "### Filter by county"
     ]
    },
    {
     "cell_type": "code",
     "collapsed": false,
     "input": [
      "N = 100 # set for testing only\n",
      "t0 = time.time()\n",
      "length_errors = 0\n",
      "\n",
      "data = {\"ALAMEDA\": [], \"CONTRA COSTA\": [], \"MARIN\": [], \"NAPA\": [], \"SAN FRANCISCO\": [],\n",
      "        \"SAN MATEO\": [], \"SANTA CLARA\": [], \"SOLANO\": [], \"SONOMA\": [], \"LOS ANGELES\": [],\n",
      "        \"SAN DIEGO\": [], \"STANISLAUS\": []}\n",
      "\n",
      "for fnum in range(1,31):\n",
      "    zname = 'ARB_HIST_' + str(fnum).zfill(2) + '.zip'\n",
      "    fname = 'ARB_HIST_' + str(fnum).zfill(2) + '.txt'\n",
      "    with zipfile.ZipFile(path+zname) as z:\n",
      "        with z.open(fname) as f:\n",
      "            for line in f:\n",
      "            #for i in range(N):\n",
      "                #line = f.readline()\n",
      "                if (len(line) != 1617):\n",
      "                    length_errors += 1\n",
      "                # strip trailing spaces, remove EOL characters\n",
      "                arr = [x.rstrip(' ') for x in line.split('\\t')][:-1]\n",
      "                county = arr[4]\n",
      "                if (county in data.keys()):\n",
      "                    data[county].append(arr)\n",
      "\n",
      "print time.time() - t0\n",
      "print \"length errors //\", length_errors"
     ],
     "language": "python",
     "metadata": {},
     "outputs": [
      {
       "output_type": "stream",
       "stream": "stdout",
       "text": [
        "3261.95485592\n",
        "length errors // 0\n"
       ]
      }
     ],
     "prompt_number": 23
    },
    {
     "cell_type": "code",
     "collapsed": false,
     "input": [
      "import csv\n",
      "\n",
      "for k in data.keys():\n",
      "    outname = \"../Processed v2/ARB_HIST_\" + k.replace(\" \", \"_\") + \".csv\"\n",
      "    print k, \"//\", len(data[k])\n",
      "    with open(path+outname, 'wb') as f:\n",
      "        writer = csv.writer(f)\n",
      "        writer.writerow(fields)\n",
      "        writer.writerows(data[k])"
     ],
     "language": "python",
     "metadata": {},
     "outputs": [
      {
       "output_type": "stream",
       "stream": "stdout",
       "text": [
        "SONOMA // 596979\n",
        "SOLANO"
       ]
      },
      {
       "output_type": "stream",
       "stream": "stdout",
       "text": [
        " // 459471\n",
        "SANTA CLARA"
       ]
      },
      {
       "output_type": "stream",
       "stream": "stdout",
       "text": [
        " // 1475648\n",
        "SAN FRANCISCO"
       ]
      },
      {
       "output_type": "stream",
       "stream": "stdout",
       "text": [
        " // 603336\n",
        "STANISLAUS"
       ]
      },
      {
       "output_type": "stream",
       "stream": "stdout",
       "text": [
        " // 528673\n",
        "ALAMEDA"
       ]
      },
      {
       "output_type": "stream",
       "stream": "stdout",
       "text": [
        " // 1345155\n",
        "SAN MATEO"
       ]
      },
      {
       "output_type": "stream",
       "stream": "stdout",
       "text": [
        " // 674280\n",
        "LOS ANGELES"
       ]
      },
      {
       "output_type": "stream",
       "stream": "stdout",
       "text": [
        " // 8360201\n",
        "SAN DIEGO"
       ]
      },
      {
       "output_type": "stream",
       "stream": "stdout",
       "text": [
        " // 3286134\n",
        "MARIN"
       ]
      },
      {
       "output_type": "stream",
       "stream": "stdout",
       "text": [
        " // 302749\n",
        "NAPA"
       ]
      },
      {
       "output_type": "stream",
       "stream": "stdout",
       "text": [
        " // 173891\n",
        "CONTRA COSTA"
       ]
      },
      {
       "output_type": "stream",
       "stream": "stdout",
       "text": [
        " // 1203720\n"
       ]
      }
     ],
     "prompt_number": 24
    },
    {
     "cell_type": "code",
     "collapsed": false,
     "input": [
      "# WHAT WE SHOULD GET:\n",
      "\n",
      "# Alameda = 1,345,155\n",
      "# Contra Costa = 1,203,720\n",
      "# Marin = 302,749\n",
      "# Napa = 173,891\n",
      "# San Francisco = 603,336\n",
      "# San Mateo = 674,280\n",
      "# Santa Clara = 1,475,648\n",
      "# Solano = 459,471\n",
      "# Sonoma = 596,979\n",
      "# Los Angeles = 8,360,201\n",
      "# San Diego = 3,286,134\n",
      "# Stanislaus = 528,673\n"
     ],
     "language": "python",
     "metadata": {},
     "outputs": []
    },
    {
     "cell_type": "markdown",
     "metadata": {},
     "source": [
      "### Insert into Postgres"
     ]
    },
    {
     "cell_type": "code",
     "collapsed": false,
     "input": [
      "import psycopg2"
     ],
     "language": "python",
     "metadata": {},
     "outputs": [],
     "prompt_number": 7
    },
    {
     "cell_type": "code",
     "collapsed": false,
     "input": [
      "conn_string = \"host='localhost' dbname='dataquick' user='smmaurer' password=''\"\n",
      "conn = psycopg2.connect(conn_string)\n",
      "cur = conn.cursor()"
     ],
     "language": "python",
     "metadata": {},
     "outputs": [],
     "prompt_number": 21
    },
    {
     "cell_type": "code",
     "collapsed": false,
     "input": [
      "# Generate field strings for sql queries\n",
      "# This requires fields[] and field_types[] from above\n",
      "\n",
      "field_defs = ''\n",
      "for i in range(len(fields)):\n",
      "    field_defs += fields[i] + ' ' + field_types[i] + ', '\n",
      "    \n",
      "# remove trailing commas\n",
      "field_defs = field_defs[:-2]\n",
      "\n",
      "print field_defs[:80], '...'"
     ],
     "language": "python",
     "metadata": {},
     "outputs": [
      {
       "output_type": "stream",
       "stream": "stdout",
       "text": [
        "SR_UNIQUE_ID int, SR_PROPERTY_ID int, SR_SCM_ID int, MM_STATE_CODE varchar, MM_M ...\n"
       ]
      }
     ],
     "prompt_number": 22
    },
    {
     "cell_type": "code",
     "collapsed": false,
     "input": [
      "# Set up table with field definitions\n",
      "cur.execute(\"CREATE TABLE master.sales (\" + field_defs +\n",
      "            \", CONSTRAINT sales_pkey PRIMARY KEY (sr_unique_id))\")\n",
      "conn.commit()"
     ],
     "language": "python",
     "metadata": {},
     "outputs": [],
     "prompt_number": 24
    },
    {
     "cell_type": "code",
     "collapsed": false,
     "input": [],
     "language": "python",
     "metadata": {},
     "outputs": [],
     "prompt_number": 23
    },
    {
     "cell_type": "code",
     "collapsed": false,
     "input": [
      "# PARSE RAW DATA AND LOAD INTO POSTGRES\n",
      "\n",
      "t0 = time.time()\n",
      "count = 0\n",
      "N = 100 # set for testing only\n",
      "\n",
      "conn.commit()\n",
      "for fnum in range(1,31):\n",
      "    zname = 'ARB_HIST_' + str(fnum).zfill(2) + '.zip'\n",
      "    fname = 'ARB_HIST_' + str(fnum).zfill(2) + '.txt'\n",
      "    with zipfile.ZipFile(path+zname) as z:\n",
      "        with z.open(fname) as f:\n",
      "            for line in f:\n",
      "            #for i in range(N):\n",
      "                #line = f.readline()\n",
      "                \n",
      "                # split by tabs, remove trailing spaces and final EOL value\n",
      "                arr = [x.rstrip(' ') for x in line.split('\\t')][:-1]\n",
      "                values = ''\n",
      "                for i in range(len(fields)):\n",
      "                    val = arr[i]\n",
      "                    \n",
      "                    # enquote strings & escape single quotes\n",
      "                    if (field_types[i] == 'varchar'):\n",
      "                        val = \"'\" + val.replace(\"'\", \"''\") + \"'\" \n",
      "                        \n",
      "                    # replace empty numeric values with nulls\n",
      "                    elif (val == ''):\n",
      "                        val = 'null'\n",
      "                        \n",
      "                    # also enquote booleans\n",
      "                    elif (field_types[i] == 'boolean'):\n",
      "                        val = \"'\" + val + \"'\" \n",
      "                        \n",
      "                    values += val + ', '\n",
      "                values = values[:-2]\n",
      "                cur.execute(\"INSERT INTO master.sales VALUES (\" + values + \")\")\n",
      "                count += 1\n",
      "                if (count % 1000000 == 0):\n",
      "                    print \"rows //\", count\n",
      "            \n",
      "conn.commit()\n",
      "cur.execute(\"SELECT count(sr_unique_id) FROM master.sales\")\n",
      "print \"total rows //\", cur.fetchone()[0]\n",
      "print \"hours //\", (time.time() - t0)*1.0/60/60"
     ],
     "language": "python",
     "metadata": {},
     "outputs": [
      {
       "output_type": "stream",
       "stream": "stdout",
       "text": [
        "rows // 1000000\n",
        "rows //"
       ]
      },
      {
       "output_type": "stream",
       "stream": "stdout",
       "text": [
        " 2000000\n",
        "rows //"
       ]
      },
      {
       "output_type": "stream",
       "stream": "stdout",
       "text": [
        " 3000000\n",
        "rows //"
       ]
      },
      {
       "output_type": "stream",
       "stream": "stdout",
       "text": [
        " 4000000\n",
        "rows //"
       ]
      },
      {
       "output_type": "stream",
       "stream": "stdout",
       "text": [
        " 5000000\n",
        "rows //"
       ]
      },
      {
       "output_type": "stream",
       "stream": "stdout",
       "text": [
        " 6000000\n",
        "rows //"
       ]
      },
      {
       "output_type": "stream",
       "stream": "stdout",
       "text": [
        " 7000000\n",
        "rows //"
       ]
      },
      {
       "output_type": "stream",
       "stream": "stdout",
       "text": [
        " 8000000\n",
        "rows //"
       ]
      },
      {
       "output_type": "stream",
       "stream": "stdout",
       "text": [
        " 9000000\n",
        "rows //"
       ]
      },
      {
       "output_type": "stream",
       "stream": "stdout",
       "text": [
        " 10000000\n",
        "rows //"
       ]
      },
      {
       "output_type": "stream",
       "stream": "stdout",
       "text": [
        " 11000000\n",
        "rows //"
       ]
      },
      {
       "output_type": "stream",
       "stream": "stdout",
       "text": [
        " 12000000\n",
        "rows //"
       ]
      },
      {
       "output_type": "stream",
       "stream": "stdout",
       "text": [
        " 13000000\n",
        "rows //"
       ]
      },
      {
       "output_type": "stream",
       "stream": "stdout",
       "text": [
        " 14000000\n",
        "rows //"
       ]
      },
      {
       "output_type": "stream",
       "stream": "stdout",
       "text": [
        " 15000000\n",
        "rows //"
       ]
      },
      {
       "output_type": "stream",
       "stream": "stdout",
       "text": [
        " 16000000\n",
        "rows //"
       ]
      },
      {
       "output_type": "stream",
       "stream": "stdout",
       "text": [
        " 17000000\n",
        "rows //"
       ]
      },
      {
       "output_type": "stream",
       "stream": "stdout",
       "text": [
        " 18000000\n",
        "rows //"
       ]
      },
      {
       "output_type": "stream",
       "stream": "stdout",
       "text": [
        " 19000000\n",
        "rows //"
       ]
      },
      {
       "output_type": "stream",
       "stream": "stdout",
       "text": [
        " 20000000\n",
        "rows //"
       ]
      },
      {
       "output_type": "stream",
       "stream": "stdout",
       "text": [
        " 21000000\n",
        "rows //"
       ]
      },
      {
       "output_type": "stream",
       "stream": "stdout",
       "text": [
        " 22000000\n",
        "rows //"
       ]
      },
      {
       "output_type": "stream",
       "stream": "stdout",
       "text": [
        " 23000000\n",
        "rows //"
       ]
      },
      {
       "output_type": "stream",
       "stream": "stdout",
       "text": [
        " 24000000\n",
        "rows //"
       ]
      },
      {
       "output_type": "stream",
       "stream": "stdout",
       "text": [
        " 25000000\n",
        "rows //"
       ]
      },
      {
       "output_type": "stream",
       "stream": "stdout",
       "text": [
        " 26000000\n",
        "rows //"
       ]
      },
      {
       "output_type": "stream",
       "stream": "stdout",
       "text": [
        " 27000000\n",
        "rows //"
       ]
      },
      {
       "output_type": "stream",
       "stream": "stdout",
       "text": [
        " 28000000\n",
        "rows //"
       ]
      },
      {
       "output_type": "stream",
       "stream": "stdout",
       "text": [
        " 29000000\n",
        "rows //"
       ]
      },
      {
       "output_type": "stream",
       "stream": "stdout",
       "text": [
        " 30000000\n",
        "rows //"
       ]
      },
      {
       "ename": "KeyboardInterrupt",
       "evalue": "",
       "output_type": "pyerr",
       "traceback": [
        "\u001b[0;31m---------------------------------------------------------------------------\u001b[0m\n\u001b[0;31mKeyboardInterrupt\u001b[0m                         Traceback (most recent call last)",
        "\u001b[0;32m<ipython-input-27-84aa7f5117ee>\u001b[0m in \u001b[0;36m<module>\u001b[0;34m()\u001b[0m\n\u001b[1;32m     35\u001b[0m                     \u001b[0mvalues\u001b[0m \u001b[0;34m+=\u001b[0m \u001b[0mval\u001b[0m \u001b[0;34m+\u001b[0m \u001b[0;34m', '\u001b[0m\u001b[0;34m\u001b[0m\u001b[0m\n\u001b[1;32m     36\u001b[0m                 \u001b[0mvalues\u001b[0m \u001b[0;34m=\u001b[0m \u001b[0mvalues\u001b[0m\u001b[0;34m[\u001b[0m\u001b[0;34m:\u001b[0m\u001b[0;34m-\u001b[0m\u001b[0;36m2\u001b[0m\u001b[0;34m]\u001b[0m\u001b[0;34m\u001b[0m\u001b[0m\n\u001b[0;32m---> 37\u001b[0;31m                 \u001b[0mcur\u001b[0m\u001b[0;34m.\u001b[0m\u001b[0mexecute\u001b[0m\u001b[0;34m(\u001b[0m\u001b[0;34m\"INSERT INTO master.sales VALUES (\"\u001b[0m \u001b[0;34m+\u001b[0m \u001b[0mvalues\u001b[0m \u001b[0;34m+\u001b[0m \u001b[0;34m\")\"\u001b[0m\u001b[0;34m)\u001b[0m\u001b[0;34m\u001b[0m\u001b[0m\n\u001b[0m\u001b[1;32m     38\u001b[0m                 \u001b[0mcount\u001b[0m \u001b[0;34m+=\u001b[0m \u001b[0;36m1\u001b[0m\u001b[0;34m\u001b[0m\u001b[0m\n\u001b[1;32m     39\u001b[0m                 \u001b[0;32mif\u001b[0m \u001b[0;34m(\u001b[0m\u001b[0mcount\u001b[0m \u001b[0;34m%\u001b[0m \u001b[0;36m1000000\u001b[0m \u001b[0;34m==\u001b[0m \u001b[0;36m0\u001b[0m\u001b[0;34m)\u001b[0m\u001b[0;34m:\u001b[0m\u001b[0;34m\u001b[0m\u001b[0m\n",
        "\u001b[0;31mKeyboardInterrupt\u001b[0m: "
       ]
      },
      {
       "output_type": "stream",
       "stream": "stdout",
       "text": [
        " 31000000\n"
       ]
      }
     ],
     "prompt_number": 27
    },
    {
     "cell_type": "code",
     "collapsed": false,
     "input": [
      "# Clear the table\n",
      "conn.commit()\n",
      "cur.execute(\"DELETE FROM schema.table\")\n",
      "conn.commit()"
     ],
     "language": "python",
     "metadata": {},
     "outputs": [],
     "prompt_number": 26
    },
    {
     "cell_type": "code",
     "collapsed": false,
     "input": [
      "# Drop a table\n",
      "cur.execute(\"DROP TABLE schema.table\")\n",
      "conn.commit()\n",
      "print \"ack.\""
     ],
     "language": "python",
     "metadata": {},
     "outputs": []
    },
    {
     "cell_type": "code",
     "collapsed": false,
     "input": [],
     "language": "python",
     "metadata": {},
     "outputs": []
    }
   ],
   "metadata": {}
  }
 ]
}