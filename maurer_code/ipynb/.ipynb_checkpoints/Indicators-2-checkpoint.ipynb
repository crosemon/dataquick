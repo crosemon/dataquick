{
 "metadata": {
  "name": ""
 },
 "nbformat": 3,
 "nbformat_minor": 0,
 "worksheets": [
  {
   "cells": [
    {
     "cell_type": "markdown",
     "metadata": {},
     "source": [
      "### Stats for the ratio of improvement value to land value..."
     ]
    },
    {
     "cell_type": "code",
     "collapsed": false,
     "input": [
      "import psycopg2\n",
      "import numpy as np\n",
      "import time\n",
      "import math\n",
      "import csv"
     ],
     "language": "python",
     "metadata": {},
     "outputs": [],
     "prompt_number": 1
    },
    {
     "cell_type": "code",
     "collapsed": false,
     "input": [
      "# Connect to the database\n",
      "conn_string = \"host='paris.ual.berkeley.edu' dbname='california' user='urbanvision' password='Visua1ization'\"\n",
      "conn = psycopg2.connect(conn_string)\n",
      "cur = conn.cursor()"
     ],
     "language": "python",
     "metadata": {},
     "outputs": [],
     "prompt_number": "*"
    },
    {
     "cell_type": "code",
     "collapsed": false,
     "input": [
      "# County name and mm_fips_muni_code\n",
      "\n",
      "cty = [{'fips': 1,  'name': 'Alameda      '},\n",
      "       {'fips': 13, 'name': 'Contra Costa '},\n",
      "       {'fips': 41, 'name': 'Marin        '},\n",
      "       {'fips': 55, 'name': 'Napa         '},\n",
      "       {'fips': 75, 'name': 'San Francisco'},\n",
      "       {'fips': 81, 'name': 'San Mateo    '},\n",
      "       {'fips': 85, 'name': 'Santa Clara  '},\n",
      "       {'fips': 95, 'name': 'Solano       '},\n",
      "       {'fips': 97, 'name': 'Sonoma       '}]"
     ],
     "language": "python",
     "metadata": {},
     "outputs": [],
     "prompt_number": "*"
    },
    {
     "cell_type": "code",
     "collapsed": false,
     "input": [],
     "language": "python",
     "metadata": {},
     "outputs": [],
     "prompt_number": "*"
    },
    {
     "cell_type": "markdown",
     "metadata": {},
     "source": [
      "### What do the data values look like for the fields we might use?"
     ]
    },
    {
     "cell_type": "code",
     "collapsed": false,
     "input": [
      "t0 = time.time()\n",
      "conn.commit()\n",
      "\n",
      "print \"ASSR_YEAR\"\n",
      "print\n",
      "\n",
      "for c in cty:\n",
      "    cur.execute(\"\"\" SELECT min(assr_year), max(assr_year) \n",
      "                    FROM dataquick.assessor \n",
      "                    WHERE mm_fips_muni_code = %s \n",
      "                        AND assr_year != '0' \n",
      "                        AND substring(use_code_std from 1 for 1) = 'R' \n",
      "                        AND sa_census_tract != '' \"\"\", (c['fips'],))\n",
      "    \n",
      "    out = cur.fetchall()\n",
      "    for r in out:\n",
      "        print c['name'], \"// min\", r[0], \"// max\", r[1]\n",
      "\n",
      "print round(time.time() - t0), \"sec\""
     ],
     "language": "python",
     "metadata": {},
     "outputs": [
      {
       "output_type": "stream",
       "stream": "stdout",
       "text": [
        "ASSR_YEAR\n",
        "\n",
        "Alameda"
       ]
      },
      {
       "output_type": "stream",
       "stream": "stdout",
       "text": [
        " // min 2011 // max 2013\n",
        "Contra Costa"
       ]
      },
      {
       "output_type": "stream",
       "stream": "stdout",
       "text": [
        " // min 2011 // max 2013\n",
        "Marin"
       ]
      },
      {
       "output_type": "stream",
       "stream": "stdout",
       "text": [
        " // min 2011 // max 2013\n",
        "Napa"
       ]
      },
      {
       "output_type": "stream",
       "stream": "stdout",
       "text": [
        " // min 2011 // max 2013\n",
        "San Francisco"
       ]
      },
      {
       "output_type": "stream",
       "stream": "stdout",
       "text": [
        " // min 2011 // max 2013\n",
        "San Mateo"
       ]
      },
      {
       "output_type": "stream",
       "stream": "stdout",
       "text": [
        " // min 2011 // max 2013\n",
        "Santa Clara"
       ]
      },
      {
       "output_type": "stream",
       "stream": "stdout",
       "text": [
        " // min 2011 // max 2013\n",
        "Solano"
       ]
      },
      {
       "output_type": "stream",
       "stream": "stdout",
       "text": [
        " // min 2011 // max 2013\n",
        "Sonoma"
       ]
      },
      {
       "output_type": "stream",
       "stream": "stdout",
       "text": [
        " // min 2011 // max 2013\n",
        "7.0 sec\n"
       ]
      }
     ],
     "prompt_number": 24
    },
    {
     "cell_type": "code",
     "collapsed": false,
     "input": [
      "t0 = time.time()\n",
      "conn.commit()\n",
      "\n",
      "print \"SA_APPRAISE_YR\"\n",
      "print\n",
      "\n",
      "for c in cty:\n",
      "    cur.execute(\"\"\" SELECT min(sa_appraise_yr), max(sa_appraise_yr) \n",
      "                    FROM dataquick.assessor \n",
      "                    WHERE mm_fips_muni_code = %s \n",
      "                        AND sa_appraise_yr > 0 \n",
      "                        AND substring(use_code_std from 1 for 1) = 'R' \n",
      "                        AND sa_census_tract != '' \"\"\", (c['fips'],))\n",
      "    \n",
      "    out = cur.fetchall()\n",
      "    for r in out:\n",
      "        print c['name'], \"// min\", r[0], \"// max\", r[1]\n",
      "\n",
      "print round(time.time() - t0), \"sec\""
     ],
     "language": "python",
     "metadata": {},
     "outputs": [],
     "prompt_number": "*"
    },
    {
     "cell_type": "code",
     "collapsed": false,
     "input": [
      "# What portion were appraised in the current year?"
     ],
     "language": "python",
     "metadata": {},
     "outputs": []
    },
    {
     "cell_type": "code",
     "collapsed": false,
     "input": [
      "t0 = time.time()\n",
      "conn.commit()\n",
      "\n",
      "print \"SA_YEAR_LAND_APPRAISE\"\n",
      "print\n",
      "\n",
      "for c in cty:\n",
      "    cur.execute(\"\"\" SELECT min(sa_yr_land_appraise), max(sa_yr_land_appraise) \n",
      "                    FROM dataquick.assessor \n",
      "                    WHERE mm_fips_muni_code = %s \n",
      "                        AND sa_yr_land_appraise > 0 \n",
      "                        AND substring(use_code_std from 1 for 1) = 'R' \n",
      "                        AND sa_census_tract != '' \"\"\", (c['fips'],))\n",
      "    \n",
      "    out = cur.fetchall()\n",
      "    for r in out:\n",
      "        print c['name'], \"// min\", r[0], \"// max\", r[1]\n",
      "\n",
      "print round(time.time() - t0), \"sec\""
     ],
     "language": "python",
     "metadata": {},
     "outputs": []
    },
    {
     "cell_type": "code",
     "collapsed": false,
     "input": [
      "t0 = time.time()\n",
      "conn.commit()\n",
      "\n",
      "print \"SA_IMPRV_PCT\"\n",
      "print\n",
      "\n",
      "for c in cty:\n",
      "    cur.execute(\"\"\" SELECT min(sa_imprv_pct), max(sa_imprv_pct) \n",
      "                    FROM dataquick.assessor \n",
      "                    WHERE mm_fips_muni_code = %s \n",
      "                        AND sa_imprv_pct > 0 \n",
      "                        AND substring(use_code_std from 1 for 1) = 'R' \n",
      "                        AND sa_census_tract != '' \"\"\", (c['fips'],))\n",
      "    \n",
      "    out = cur.fetchall()\n",
      "    for r in out:\n",
      "        print c['name'], \"// min\", r[0], \"// max\", r[1]\n",
      "\n",
      "print round(time.time() - t0), \"sec\""
     ],
     "language": "python",
     "metadata": {},
     "outputs": []
    },
    {
     "cell_type": "code",
     "collapsed": false,
     "input": [
      "t0 = time.time()\n",
      "conn.commit()\n",
      "\n",
      "print \"SA_IMPRV_PCT_APPRAISE\"\n",
      "print\n",
      "\n",
      "for c in cty:\n",
      "    cur.execute(\"\"\" SELECT min(sa_imprv_pct_appraise), max(sa_imprv_pct_appraise) \n",
      "                    FROM dataquick.assessor \n",
      "                    WHERE mm_fips_muni_code = %s \n",
      "                        AND sa_imprv_pct_appraise > 0 \n",
      "                        AND substring(use_code_std from 1 for 1) = 'R' \n",
      "                        AND sa_census_tract != '' \"\"\", (c['fips'],))\n",
      "    \n",
      "    out = cur.fetchall()\n",
      "    for r in out:\n",
      "        print c['name'], \"// min\", r[0], \"// max\", r[1]\n",
      "\n",
      "print round(time.time() - t0), \"sec\""
     ],
     "language": "python",
     "metadata": {},
     "outputs": []
    },
    {
     "cell_type": "code",
     "collapsed": false,
     "input": [],
     "language": "python",
     "metadata": {},
     "outputs": []
    }
   ],
   "metadata": {}
  }
 ]
}