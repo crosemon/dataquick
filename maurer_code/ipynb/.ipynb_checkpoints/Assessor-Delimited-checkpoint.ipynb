{
 "metadata": {
  "name": ""
 },
 "nbformat": 3,
 "nbformat_minor": 0,
 "worksheets": [
  {
   "cells": [
    {
     "cell_type": "code",
     "collapsed": false,
     "input": [
      "import zipfile"
     ],
     "language": "python",
     "metadata": {},
     "outputs": [],
     "prompt_number": 1
    },
    {
     "cell_type": "code",
     "collapsed": false,
     "input": [
      "path = '/Volumes/StorEdge/DataQuick/Assessor/Tab Delimited 7-11/'\n",
      "zname = 'ARB_ASSR_15.zip'\n",
      "fname = 'ARB_ASSR_15.txt'"
     ],
     "language": "python",
     "metadata": {},
     "outputs": [],
     "prompt_number": 2
    },
    {
     "cell_type": "code",
     "collapsed": false,
     "input": [
      "# Length and content of first line\n",
      "\n",
      "with zipfile.ZipFile(path+zname) as z:\n",
      "    with z.open(fname) as f:\n",
      "        line = f.readline()\n",
      "        print len(line), \"characters\"\n",
      "        print line.count('\\t'), \"delimiters\"\n",
      "        print\n",
      "        print repr(line) # prints with escape characters"
     ],
     "language": "python",
     "metadata": {},
     "outputs": [
      {
       "output_type": "stream",
       "stream": "stdout",
       "text": [
        "2419 characters\n",
        "189 delimiters\n",
        "\n",
        "'25418232    \\t88          \\tCA\\tVENTURA                 \\t06   \\t111    \\tVENTURA                            \\t6280312155                         \\t                                   \\t                                   \\t                                   \\t                                   \\t0      \\t1994   \\tTHOMAS,RANDY L & DIANE C                          \\tRANDY                                             \\tL                   \\tTHOMAS                                            \\t     \\tDIANE               \\tC                   \\t     \\t               \\t \\t \\t0\\t                                                  \\t                                                  \\t                    \\t                    \\t     \\t                    \\t                    \\t     \\t               \\t \\t \\t \\tJT\\t \\t5786                \\t          \\t  \\tINDIAN POINTE                           \\tDR  \\t  \\t          \\t      \\tSIMI VALLEY                   \\tCA\\t93063       \\t5760   \\tR021\\t5786                \\t          \\t  \\tINDIAN POINTE                                     \\tDR  \\t  \\t          \\t      \\tSIMI VALLEY                                       \\tCA\\t93063       \\t5760   \\tR021\\tY\\tTRACT 4808 LOT 117, REF: 125MR 9 TR 480800                                                                                                                                                                                                                     \\t117   \\t      \\t      \\t     \\t     \\t   \\t   \\t  \\t  \\t    \\t                              \\t480800      \\t          \\tRSFR\\t1111  \\tRMOD         \\t2013\\t570000      \\t282000      \\t288000      \\t50.52   \\t2013   \\t2013   \\t0           \\t0           \\t0           \\t        \\t0           \\t0           \\t0           \\t        \\tY\\t7000        \\t \\t0           \\t \\t0           \\t \\t0           \\t \\t0           \\tT\\t7000        \\t0           \\t608000      \\t2013\\t6477.32     \\t0      \\t20131001\\t20140110\\t0      \\t \\t0      \\t  \\t  \\t3232   \\t  \\t0      \\t0      \\t0.0 \\t  \\t0.0  \\t  \\t  \\t1781        \\t1451        \\t0           \\t0           \\t0           \\tY \\t  \\tG 0\\tY \\t661    \\t  \\t  \\t0      \\t0      \\t7994.0000          \\t3.50    \\t0      \\t0      \\t0      \\t0      \\t0      \\t0      \\t0.00       \\t4      \\t9      \\t2    \\t1      \\t2 \\t  \\t \\t  \\t3232        \\t3232        \\t1           \\t  \\t1      \\t  \\t2000   \\t       \\t108780878   \\t0           \\t20030304    \\t572000      \\t0000071408          \\t            \\t                    \\t145240      \\t118.678387      \\t34.286444      \\t0\\t008305 \\t1\\t37100\\t93020\\t72016\\t \\t \\t       \\r\\n'\n"
       ]
      }
     ],
     "prompt_number": 11
    },
    {
     "cell_type": "code",
     "collapsed": false,
     "input": [
      "N = 10000\n",
      "length_counts = []\n",
      "length_errors = 0\n",
      "delimiter_counts = []\n",
      "delimiter_errors = 0\n",
      "\n",
      "with zipfile.ZipFile(path+zname) as z:\n",
      "    with z.open(fname) as f:\n",
      "        for line in f:\n",
      "        #for i in range(N):\n",
      "            #line = f.readline()\n",
      "            \n",
      "            length_counts.append(len(line))\n",
      "            if (len(line) != 2419):\n",
      "                length_errors += 1\n",
      "                \n",
      "            delimiter_counts.append(line.count('\\t'))\n",
      "            if (line.count('\\t') != 189):\n",
      "                delimiter_errors += 1\n",
      "\n",
      "print \"Rows:\", len(length_counts)\n",
      "print \"Length errors:\", length_errors\n",
      "print \"Delimiter errors:\", delimiter_errors"
     ],
     "language": "python",
     "metadata": {},
     "outputs": [
      {
       "output_type": "stream",
       "stream": "stdout",
       "text": [
        "Rows: 234242\n",
        "Length errors: 0\n",
        "Delimiter errors: 0\n"
       ]
      }
     ],
     "prompt_number": 13
    },
    {
     "cell_type": "code",
     "collapsed": false,
     "input": [],
     "language": "python",
     "metadata": {},
     "outputs": [],
     "prompt_number": 13
    },
    {
     "cell_type": "code",
     "collapsed": false,
     "input": [],
     "language": "python",
     "metadata": {},
     "outputs": []
    }
   ],
   "metadata": {}
  }
 ]
}