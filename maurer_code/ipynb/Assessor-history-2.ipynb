{
 "metadata": {
  "name": ""
 },
 "nbformat": 3,
 "nbformat_minor": 0,
 "worksheets": [
  {
   "cells": [
    {
     "cell_type": "code",
     "collapsed": false,
     "input": [
      "import time\n",
      "import zipfile\n",
      "import csv"
     ],
     "language": "python",
     "metadata": {},
     "outputs": [],
     "prompt_number": 1
    },
    {
     "cell_type": "code",
     "collapsed": false,
     "input": [
      "path = '/Volumes/Seagate1/Parcel Data/DataQuick/Assessor History/v2/'\n",
      "zname = 'AH_2014.ZIP'\n",
      "fname = 'AH_2014.TXT'"
     ],
     "language": "python",
     "metadata": {},
     "outputs": [],
     "prompt_number": 4
    },
    {
     "cell_type": "code",
     "collapsed": false,
     "input": [
      "# First line of a sample file\n",
      "\n",
      "with zipfile.ZipFile(path+zname) as z:\n",
      "    with z.open(fname) as f:\n",
      "        line = f.readline()\n",
      "        line = f.readline()\n",
      "        print len(line), \"characters\"\n",
      "        print\n",
      "        print repr(line)"
     ],
     "language": "python",
     "metadata": {},
     "outputs": [
      {
       "output_type": "stream",
       "stream": "stdout",
       "text": [
        "1560 characters\n",
        "\n",
        "'29129372    20141 47          CAKERN                    06   029    KERN                               00105105                           0010510500                         CITY OF BAKERSFIELD                               CITY OF BAKERSFIELD                                                                                                                                                                        1                                                                                                                                                                                                                CO                                                                                                                            CA00000       0000       1501                            TRUXTUN                                           AVE                   BAKERSFIELD                                       CA93301       5201   C014U-1MGOV20137761        7761        0           0           0           0                   0           0           0            0            0            0            0            0            0           0   0.00         0      0        0      0          0           0           0           0           0                 0      9 457380.0000        0.00    0      0      0      0      0      0      0      0      0    0             0           0           0                     19991117    0           0000165045                                          146479                                                \\r\\n'\n"
       ]
      }
     ],
     "prompt_number": 5
    },
    {
     "cell_type": "code",
     "collapsed": false,
     "input": [
      "# Length of first line for each file\n",
      "\n",
      "for y in range(2004,2015):\n",
      "    zname = 'AH_' + str(y) + '.ZIP'\n",
      "    fname = 'AH_' + str(y) + '.TXT'\n",
      "    with zipfile.ZipFile(path+zname) as z:\n",
      "        with z.open(fname) as f:\n",
      "            line = f.readline()\n",
      "            print y, len(line)   "
     ],
     "language": "python",
     "metadata": {},
     "outputs": [
      {
       "output_type": "stream",
       "stream": "stdout",
       "text": [
        "2004 1560\n",
        "2005 1560\n",
        "2006"
       ]
      },
      {
       "output_type": "stream",
       "stream": "stdout",
       "text": [
        " 1560\n",
        "2007 1560\n",
        "2008 1560\n",
        "2009 1560\n",
        "2010"
       ]
      },
      {
       "output_type": "stream",
       "stream": "stdout",
       "text": [
        " 1560\n",
        "2011 1560\n",
        "2012 1560\n",
        "2013"
       ]
      },
      {
       "output_type": "stream",
       "stream": "stdout",
       "text": [
        " 1560\n",
        "2014 1560\n"
       ]
      }
     ],
     "prompt_number": 13
    },
    {
     "cell_type": "code",
     "collapsed": false,
     "input": [
      "# Confirm that all rows are correct length\n",
      "# Confirm that row totals match the report\n",
      "\n",
      "t0 = time.time()\n",
      "\n",
      "for y in range(2004,2015):\n",
      "    zname = 'AH_' + str(y) + '.ZIP'\n",
      "    fname = 'AH_' + str(y) + '.TXT'\n",
      "    with zipfile.ZipFile(path+zname) as z:\n",
      "        with z.open(fname) as f:\n",
      "            count = 0\n",
      "            length_errors = 0\n",
      "            for line in f:\n",
      "                count += 1\n",
      "                if (len(line) != 1560):\n",
      "                    length_errors += 1\n",
      "            print y, count, length_errors\n",
      "    \n",
      "print time.time() - t0"
     ],
     "language": "python",
     "metadata": {},
     "outputs": [
      {
       "output_type": "stream",
       "stream": "stdout",
       "text": [
        "2004 9846179 0\n",
        "2005"
       ]
      },
      {
       "output_type": "stream",
       "stream": "stdout",
       "text": [
        " 11298234 0\n",
        "2006"
       ]
      },
      {
       "output_type": "stream",
       "stream": "stdout",
       "text": [
        " 11783896 0\n",
        "2007"
       ]
      },
      {
       "output_type": "stream",
       "stream": "stdout",
       "text": [
        " 11814884 0\n",
        "2008"
       ]
      },
      {
       "output_type": "stream",
       "stream": "stdout",
       "text": [
        " 12068060 0\n",
        "2009"
       ]
      },
      {
       "output_type": "stream",
       "stream": "stdout",
       "text": [
        " 12293976 0\n",
        "2010"
       ]
      },
      {
       "output_type": "stream",
       "stream": "stdout",
       "text": [
        " 12303756 0\n",
        "2011"
       ]
      },
      {
       "output_type": "stream",
       "stream": "stdout",
       "text": [
        " 11792801 0\n",
        "2012"
       ]
      },
      {
       "output_type": "stream",
       "stream": "stdout",
       "text": [
        " 11033283 0\n",
        "2013"
       ]
      },
      {
       "output_type": "stream",
       "stream": "stdout",
       "text": [
        " 16559174 0\n",
        "2014"
       ]
      },
      {
       "output_type": "stream",
       "stream": "stdout",
       "text": [
        " 1242289 0\n",
        "2490.17172217\n"
       ]
      }
     ],
     "prompt_number": 14
    },
    {
     "cell_type": "markdown",
     "metadata": {},
     "source": [
      "### Set up parsing"
     ]
    },
    {
     "cell_type": "code",
     "collapsed": false,
     "input": [
      "fields = [\"SA_PROPERTY_ID\", \"AH_HISTORY_YR\", \"AH_HISTORY_YR_VERSION\", \"SA_SCM_ID\",\n",
      "\"MM_STATE_CODE\", \"MM_MUNI_NAME\", \"MM_FIPS_STATE_CODE\",\n",
      "\"MM_FIPS_MUNI_CODE\", \"MM_FIPS_COUNTY_NAME\", \"SA_PARCEL_NBR_PRIMARY\",\n",
      "\"SA_PARCEL_NBR_PREVIOUS\", \"SA_OWNER_1\", \"SA_OWNER_1_FIRST\",\n",
      "\"SA_OWNER_1_MID\", \"SA_OWNER_1_LAST\", \"SA_OWNER_1_SUF\",\n",
      "\"SA_OWNER_1_SP_FIRST\", \"SA_OWNER_1_SP_MID\", \"SA_OWNER_1_SP_SUF\",\n",
      "\"SA_OWNER_1_GROUP\", \"SA_OWNER_1_ET_FLAG\", \"SA_OWNER_1_TRUST_FLAG\",\n",
      "\"SA_OWNER_1_TYPE\", \"SA_OWNER_2\", \"SA_OWNER_2_FIRST\", \"SA_OWNER_2_MID\",\n",
      "\"SA_OWNER_2_LAST\", \"SA_OWNER_2_SUF\", \"SA_OWNER_2_SP_FIRST\",\n",
      "\"SA_OWNER_2_SP_MID\", \"SA_OWNER_2_SP_SUF\", \"SA_OWNER_2_GROUP\",\n",
      "\"SA_OWNER_2_ET_FLAG\", \"SA_OWNER_2_TRUST_FLAG\", \"SA_OWNER_2_TYPE\",\n",
      "\"SA_OWNERSHIP_STATUS_CODE\", \"SA_SITE_HOUSE_NBR\", \"SA_SITE_FRACTION\",\n",
      "\"SA_SITE_DIR\", \"SA_SITE_STREET_NAME\", \"SA_SITE_SUF\", \"SA_SITE_POST_DIR\",\n",
      "\"SA_SITE_UNIT_PRE\", \"SA_SITE_UNIT_VAL\", \"SA_SITE_CITY\", \"SA_SITE_STATE\",\n",
      "\"SA_SITE_ZIP\", \"SA_SITE_PLUS_4\", \"SA_SITE_CRRT\", \"SA_MAIL_HOUSE_NBR\",\n",
      "\"SA_MAIL_FRACTION\", \"SA_MAIL_DIR\", \"SA_MAIL_STREET_NAME\", \"SA_MAIL_SUF\",\n",
      "\"SA_MAIL_POST_DIR\", \"SA_MAIL_UNIT_PRE\", \"SA_MAIL_UNIT_VAL\",\n",
      "\"SA_MAIL_CITY\", \"SA_MAIL_STATE\", \"SA_MAIL_ZIP\", \"SA_MAIL_PLUS_4\",\n",
      "\"SA_MAIL_CRRT\", \"SA_SITE_MAIL_SAME\", \"OWNER_OCCUPANCY_CODE\",\n",
      "\"USE_CODE_STD\", \"ASSR_YEAR\", \"SA_VAL_ASSD\", \"SA_VAL_ASSD_LAND\",\n",
      "\"SA_VAL_ASSD_IMPRV\", \"SA_APPRAISE_VAL\", \"SA_VAL_APPRAISE_LAND\",\n",
      "\"SA_VAL_APPRAISE_IMPRV\", \"SA_IMPRV_PCT_APPRAISE\", \"SA_VAL_MARKET\",\n",
      "\"SA_VAL_MARKET_LAND\", \"SA_VAL_MARKET_IMPRV\", \"SA_EXEMP_FLAG_1\",\n",
      "\"SA_EXEMP_VAL_1\", \"SA_EXEMP_FLAG_2\", \"SA_EXEMP_VAL_2\",\n",
      "\"SA_EXEMP_FLAG_3\", \"SA_EXEMP_VAL_3\", \"SA_EXEMP_FLAG_4\",\n",
      "\"SA_EXEMP_VAL_4\", \"SA_EXEMP_FLAG_5\", \"SA_EXEMP_VAL_5\",\n",
      "\"SA_EXEMP_FLAG_6\", \"SA_EXEMP_VAL_6\", \"TAXYEAR\", \"SA_TAX_VAL\",\n",
      "\"SA_ARCHITECTURE_CODE\", \"SA_ATTIC_SQFT\", \"SA_BLDG_SQFT\",\n",
      "\"SA_BSMT_2_CODE\", \"SA_BSMT_FIN_SQFT\", \"SA_BSMT_UNFIN_SQFT\",\n",
      "\"SA_COOL_CODE\", \"SA_EXTERIOR_1_CODE\", \"SA_FIN_SQFT_1\", \"SA_FIN_SQFT_2\",\n",
      "\"SA_FIN_SQFT_3\", \"SA_FIN_SQFT_4\", \"SA_FIN_SQFT_TOT\",\n",
      "\"SA_FIREPLACE_CODE\", \"SA_FOUNDATION_CODE\", \"SA_GRG_1_CODE\",\n",
      "\"SA_GRG_SQFT_1\", \"SA_HEAT_CODE\", \"SA_LOTSIZE\", \"SA_NBR_BATH\",\n",
      "\"SA_NBR_BATH_1QTR\", \"SA_NBR_BATH_HALF\", \"SA_NBR_BATH_3QTR\",\n",
      "\"SA_NBR_BATH_FULL\", \"SA_NBR_BATH_BSMT_HALF\", \"SA_NBR_BATH_BSMT_FULL\",\n",
      "\"SA_NBR_BEDRMS\", \"SA_NBR_RMS\", \"SA_NBR_STORIES\", \"SA_NBR_UNITS\",\n",
      "\"SA_PATIO_PORCH_CODE\", \"SA_POOL_CODE\", \"SA_PRIVACY_CODE\",\n",
      "\"SA_ROOF_CODE\", \"SA_SQFT\", \"SA_SQFT_ASSR_TOT\", \"SA_SQFT_DQ\",\n",
      "\"SA_STRUCTURE_CODE\", \"SA_YR_BLT\", \"SA_YR_BLT_EFFECT\",\n",
      "\"SA_DATE_TRANSFER\", \"SA_VAL_TRANSFER\", \"SA_DOC_NBR_FMT\",\n",
      "\"SA_DATE_NOVAL_TRANSFER\", \"SA_DOC_NBR_NOVAL\", \"PROCESS_ID\",\n",
      "\"SA_INACTIVE_PARCEL_FLAG\", \"SA_SHELL_PARCEL_FLAG\", \"FILLER\"]"
     ],
     "language": "python",
     "metadata": {},
     "outputs": [],
     "prompt_number": 6
    },
    {
     "cell_type": "code",
     "collapsed": false,
     "input": [
      "field_types = [\"int\", \"int\", \"tinyint\", \"int\", \"varchar\", \"varchar\", \"tinyint\",\n",
      "\"smallint\", \"varchar\", \"varchar\", \"varchar\", \"varchar\", \"varchar\",\n",
      "\"varchar\", \"varchar\", \"varchar\", \"varchar\", \"varchar\", \"varchar\",\n",
      "\"varchar\", \"varchar\", \"varchar\", \"varchar\", \"varchar\", \"varchar\",\n",
      "\"varchar\", \"varchar\", \"varchar\", \"varchar\", \"varchar\", \"varchar\",\n",
      "\"varchar\", \"varchar\", \"varchar\", \"varchar\", \"varchar\", \"varchar\",\n",
      "\"varchar\", \"varchar\", \"varchar\", \"varchar\", \"varchar\", \"varchar\",\n",
      "\"varchar\", \"varchar\", \"varchar\", \"int\", \"smallint\", \"varchar\",\n",
      "\"varchar\", \"varchar\", \"varchar\", \"varchar\", \"varchar\", \"varchar\",\n",
      "\"varchar\", \"varchar\", \"varchar\", \"varchar\", \"int\", \"smallint\",\n",
      "\"varchar\", \"varchar\", \"tinyint\", \"varchar\", \"varchar\", \"int\", \"int\",\n",
      "\"int\", \"int\", \"int\", \"int\", \"numeric\", \"int\", \"int\", \"int\", \"varchar\",\n",
      "\"int\", \"varchar\", \"int\", \"varchar\", \"int\", \"varchar\", \"int\", \"varchar\",\n",
      "\"int\", \"varchar\", \"int\", \"varchar\", \"numeric\", \"varchar\", \"smallint\",\n",
      "\"smallint\", \"varchar\", \"smallint\", \"smallint\", \"varchar\", \"varchar\",\n",
      "\"int\", \"int\", \"int\", \"int\", \"int\", \"varchar\", \"varchar\", \"varchar\",\n",
      "\"smallint\", \"varchar\", \"numeric\", \"numeric\", \"smallint\", \"smallint\",\n",
      "\"smallint\", \"smallint\", \"smallint\", \"smallint\", \"smallint\", \"smallint\",\n",
      "\"tinyint\", \"smallint\", \"varchar\", \"varchar\", \"varchar\", \"varchar\",\n",
      "\"int\", \"int\", \"int\", \"varchar\", \"smallint\", \"smallint\", \"int\", \"int\",\n",
      "\"varchar\", \"int\", \"varchar\", \"int\", \"varchar\", \"varchar\", \"varchar\"]\n",
      "\n",
      "# Replace SQL Server types with Postgres types as needed\n",
      "for i, t in enumerate(field_types):\n",
      "    \n",
      "    if (t == 'tinyint'):\n",
      "        field_types[i] = 'smallint'"
     ],
     "language": "python",
     "metadata": {},
     "outputs": [],
     "prompt_number": 7
    },
    {
     "cell_type": "code",
     "collapsed": false,
     "input": [
      "field_lengths = [12, 4, 2, 12, 2, 24, 5, 7, 35, 35, 35, 50, 50, 20, 50, 5, 20, 20, 5, 15,\n",
      "1, 1, 1, 50, 50, 20, 20, 5, 20, 20, 5, 15, 1, 1, 1, 2, 20, 10, 2, 40, 4,\n",
      "2, 10, 6, 30, 2, 12, 7, 4, 20, 10, 2, 50, 4, 2, 10, 6, 50, 2, 12, 7, 4,\n",
      "1, 2, 4, 4, 12, 12, 12, 12, 12, 12, 8, 12, 12, 12, 1, 12, 1, 12, 1, 12,\n",
      "1, 12, 1, 12, 1, 12, 4, 12, 1, 7, 7, 2, 7, 7, 2, 2, 12, 12, 12, 12, 12,\n",
      "2, 2, 2, 7, 2, 19, 8, 7, 7, 7, 7, 7, 7, 7, 7, 5, 7, 2, 2, 1, 2, 12, 12,\n",
      "12, 2, 4, 4, 12, 12, 20, 12, 20, 12, 1, 1, 40,]"
     ],
     "language": "python",
     "metadata": {},
     "outputs": [],
     "prompt_number": 8
    },
    {
     "cell_type": "code",
     "collapsed": false,
     "input": [
      "print len(fields), len(field_types), len(field_lengths)"
     ],
     "language": "python",
     "metadata": {},
     "outputs": [
      {
       "output_type": "stream",
       "stream": "stdout",
       "text": [
        "139 139 139\n"
       ]
      }
     ],
     "prompt_number": 9
    },
    {
     "cell_type": "code",
     "collapsed": false,
     "input": [
      "# parse fields for the first row\n",
      "\n",
      "arr = []\n",
      "pos = 0\n",
      "\n",
      "print repr(line)\n",
      "print\n",
      "\n",
      "for flen in field_lengths:\n",
      "    arr.append(line[pos:pos+flen].rstrip(' '))\n",
      "    pos += flen\n",
      "\n",
      "for i, lab in enumerate(fields):\n",
      "    print str(i+1), fields[i], \"//\", arr[i]"
     ],
     "language": "python",
     "metadata": {},
     "outputs": [
      {
       "output_type": "stream",
       "stream": "stdout",
       "text": [
        "'29129372    20141 47          CAKERN                    06   029    KERN                               00105105                           0010510500                         CITY OF BAKERSFIELD                               CITY OF BAKERSFIELD                                                                                                                                                                        1                                                                                                                                                                                                                CO                                                                                                                            CA00000       0000       1501                            TRUXTUN                                           AVE                   BAKERSFIELD                                       CA93301       5201   C014U-1MGOV20137761        7761        0           0           0           0                   0           0           0            0            0            0            0            0            0           0   0.00         0      0        0      0          0           0           0           0           0                 0      9 457380.0000        0.00    0      0      0      0      0      0      0      0      0    0             0           0           0                     19991117    0           0000165045                                          146479                                                \\r\\n'\n",
        "\n",
        "1 SA_PROPERTY_ID // 29129372\n",
        "2 AH_HISTORY_YR // 2014\n",
        "3 AH_HISTORY_YR_VERSION // 1\n",
        "4 SA_SCM_ID // 47\n",
        "5 MM_STATE_CODE // CA\n",
        "6 MM_MUNI_NAME // KERN\n",
        "7 MM_FIPS_STATE_CODE // 06\n",
        "8 MM_FIPS_MUNI_CODE // 029\n",
        "9 MM_FIPS_COUNTY_NAME // KERN\n",
        "10 SA_PARCEL_NBR_PRIMARY // 00105105\n",
        "11 SA_PARCEL_NBR_PREVIOUS // 0010510500\n",
        "12 SA_OWNER_1 // CITY OF BAKERSFIELD\n",
        "13 SA_OWNER_1_FIRST // CITY OF BAKERSFIELD\n",
        "14 SA_OWNER_1_MID // \n",
        "15 SA_OWNER_1_LAST // \n",
        "16 SA_OWNER_1_SUF // \n",
        "17 SA_OWNER_1_SP_FIRST // \n",
        "18 SA_OWNER_1_SP_MID // \n",
        "19 SA_OWNER_1_SP_SUF // \n",
        "20 SA_OWNER_1_GROUP // \n",
        "21 SA_OWNER_1_ET_FLAG // \n",
        "22 SA_OWNER_1_TRUST_FLAG // \n",
        "23 SA_OWNER_1_TYPE // 1\n",
        "24 SA_OWNER_2 // \n",
        "25 SA_OWNER_2_FIRST // \n",
        "26 SA_OWNER_2_MID // \n",
        "27 SA_OWNER_2_LAST // \n",
        "28 SA_OWNER_2_SUF // \n",
        "29 SA_OWNER_2_SP_FIRST // \n",
        "30 SA_OWNER_2_SP_MID // \n",
        "31 SA_OWNER_2_SP_SUF // \n",
        "32 SA_OWNER_2_GROUP // \n",
        "33 SA_OWNER_2_ET_FLAG // \n",
        "34 SA_OWNER_2_TRUST_FLAG // \n",
        "35 SA_OWNER_2_TYPE // \n",
        "36 SA_OWNERSHIP_STATUS_CODE // CO\n",
        "37 SA_SITE_HOUSE_NBR // \n",
        "38 SA_SITE_FRACTION // \n",
        "39 SA_SITE_DIR // \n",
        "40 SA_SITE_STREET_NAME // \n",
        "41 SA_SITE_SUF // \n",
        "42 SA_SITE_POST_DIR // \n",
        "43 SA_SITE_UNIT_PRE // \n",
        "44 SA_SITE_UNIT_VAL // \n",
        "45 SA_SITE_CITY // \n",
        "46 SA_SITE_STATE // CA\n",
        "47 SA_SITE_ZIP // 00000\n",
        "48 SA_SITE_PLUS_4 // 0000\n",
        "49 SA_SITE_CRRT // \n",
        "50 SA_MAIL_HOUSE_NBR // 1501\n",
        "51 SA_MAIL_FRACTION // \n",
        "52 SA_MAIL_DIR // \n",
        "53 SA_MAIL_STREET_NAME // TRUXTUN\n",
        "54 SA_MAIL_SUF // AVE\n",
        "55 SA_MAIL_POST_DIR // \n",
        "56 SA_MAIL_UNIT_PRE // \n",
        "57 SA_MAIL_UNIT_VAL // \n",
        "58 SA_MAIL_CITY // BAKERSFIELD\n",
        "59 SA_MAIL_STATE // CA\n",
        "60 SA_MAIL_ZIP // 93301\n",
        "61 SA_MAIL_PLUS_4 // 5201\n",
        "62 SA_MAIL_CRRT // C014\n",
        "63 SA_SITE_MAIL_SAME // U\n",
        "64 OWNER_OCCUPANCY_CODE // -1\n",
        "65 USE_CODE_STD // MGOV\n",
        "66 ASSR_YEAR // 2013\n",
        "67 SA_VAL_ASSD // 7761\n",
        "68 SA_VAL_ASSD_LAND // 7761\n",
        "69 SA_VAL_ASSD_IMPRV // 0\n",
        "70 SA_APPRAISE_VAL // 0\n",
        "71 SA_VAL_APPRAISE_LAND // 0\n",
        "72 SA_VAL_APPRAISE_IMPRV // 0\n",
        "73 SA_IMPRV_PCT_APPRAISE // \n",
        "74 SA_VAL_MARKET // 0\n",
        "75 SA_VAL_MARKET_LAND // 0\n",
        "76 SA_VAL_MARKET_IMPRV // 0\n",
        "77 SA_EXEMP_FLAG_1 // \n",
        "78 SA_EXEMP_VAL_1 // 0\n",
        "79 SA_EXEMP_FLAG_2 // \n",
        "80 SA_EXEMP_VAL_2 // 0\n",
        "81 SA_EXEMP_FLAG_3 // \n",
        "82 SA_EXEMP_VAL_3 // 0\n",
        "83 SA_EXEMP_FLAG_4 // \n",
        "84 SA_EXEMP_VAL_4 // 0\n",
        "85 SA_EXEMP_FLAG_5 // \n",
        "86 SA_EXEMP_VAL_5 // 0\n",
        "87 SA_EXEMP_FLAG_6 // \n",
        "88 SA_EXEMP_VAL_6 // 0\n",
        "89 TAXYEAR // 0\n",
        "90 SA_TAX_VAL // 0.00\n",
        "91 SA_ARCHITECTURE_CODE // \n",
        "92 SA_ATTIC_SQFT // 0\n",
        "93 SA_BLDG_SQFT // 0\n",
        "94 SA_BSMT_2_CODE // \n",
        "95 SA_BSMT_FIN_SQFT // 0\n",
        "96 SA_BSMT_UNFIN_SQFT // 0\n",
        "97 SA_COOL_CODE // \n",
        "98 SA_EXTERIOR_1_CODE // \n",
        "99 SA_FIN_SQFT_1 // 0\n",
        "100 SA_FIN_SQFT_2 // 0\n",
        "101 SA_FIN_SQFT_3 // 0\n",
        "102 SA_FIN_SQFT_4 // 0\n",
        "103 SA_FIN_SQFT_TOT // 0\n",
        "104 SA_FIREPLACE_CODE // \n",
        "105 SA_FOUNDATION_CODE // \n",
        "106 SA_GRG_1_CODE // \n",
        "107 SA_GRG_SQFT_1 // 0\n",
        "108 SA_HEAT_CODE // 9\n",
        "109 SA_LOTSIZE // 457380.0000\n",
        "110 SA_NBR_BATH // 0.00\n",
        "111 SA_NBR_BATH_1QTR // 0\n",
        "112 SA_NBR_BATH_HALF // 0\n",
        "113 SA_NBR_BATH_3QTR // 0\n",
        "114 SA_NBR_BATH_FULL // 0\n",
        "115 SA_NBR_BATH_BSMT_HALF // 0\n",
        "116 SA_NBR_BATH_BSMT_FULL // 0\n",
        "117 SA_NBR_BEDRMS // 0\n",
        "118 SA_NBR_RMS // 0\n",
        "119 SA_NBR_STORIES // 0\n",
        "120 SA_NBR_UNITS // 0\n",
        "121 SA_PATIO_PORCH_CODE // \n",
        "122 SA_POOL_CODE // \n",
        "123 SA_PRIVACY_CODE // \n",
        "124 SA_ROOF_CODE // \n",
        "125 SA_SQFT // 0\n",
        "126 SA_SQFT_ASSR_TOT // 0\n",
        "127 SA_SQFT_DQ // 0\n",
        "128 SA_STRUCTURE_CODE // \n",
        "129 SA_YR_BLT // \n",
        "130 SA_YR_BLT_EFFECT // \n",
        "131 SA_DATE_TRANSFER // 19991117\n",
        "132 SA_VAL_TRANSFER // 0\n",
        "133 SA_DOC_NBR_FMT // 0000165045\n",
        "134 SA_DATE_NOVAL_TRANSFER // \n",
        "135 SA_DOC_NBR_NOVAL // \n",
        "136 PROCESS_ID // 146479\n",
        "137 SA_INACTIVE_PARCEL_FLAG // \n",
        "138 SA_SHELL_PARCEL_FLAG // \n",
        "139 FILLER // \n"
       ]
      }
     ],
     "prompt_number": 7
    },
    {
     "cell_type": "code",
     "collapsed": false,
     "input": [
      "# Save sample to CSV\n",
      "\n",
      "t0 = time.time()\n",
      "data = []\n",
      "\n",
      "with zipfile.ZipFile(path+zname) as z:\n",
      "    with z.open(fname) as f:\n",
      "        for i in range(10000):\n",
      "            line = f.readline()\n",
      "            pos = 0\n",
      "            arr = []\n",
      "            for flen in field_lengths:\n",
      "                arr.append(line[pos:pos+flen].rstrip(' '))\n",
      "                pos += flen\n",
      "            data.append(arr)\n",
      "\n",
      "print time.time() - t0\n",
      "print len(data)"
     ],
     "language": "python",
     "metadata": {},
     "outputs": [
      {
       "output_type": "stream",
       "stream": "stdout",
       "text": [
        "1.34118700027\n",
        "10000\n"
       ]
      }
     ],
     "prompt_number": 8
    },
    {
     "cell_type": "code",
     "collapsed": false,
     "input": [
      "with open(path+'../Processed v2/AH_2014_SAMPLE.csv', 'wb') as f:\n",
      "    writer = csv.writer(f)\n",
      "    writer.writerow(fields)\n",
      "    writer.writerows(data)"
     ],
     "language": "python",
     "metadata": {},
     "outputs": [],
     "prompt_number": 10
    },
    {
     "cell_type": "markdown",
     "metadata": {},
     "source": [
      "### Save county extracts to CSV"
     ]
    },
    {
     "cell_type": "code",
     "collapsed": false,
     "input": [
      "# Total N = 9,846,179 for 2004\n",
      "\n",
      "zname = 'AH_2004.ZIP'\n",
      "fname = 'AH_2004.TXT'\n",
      "\n",
      "N = 9846179\n",
      "t0 = time.time()\n",
      "\n",
      "data = {\"ALAMEDA\": [], \"CONTRA COSTA\": [], \"MARIN\": [], \"NAPA\": [], \"SAN FRANCISCO\": [],\n",
      "        \"SAN MATEO\": [], \"SANTA CLARA\": [], \"SOLANO\": [], \"SONOMA\": [], \"LOS ANGELES\": []}\n",
      "\n",
      "with zipfile.ZipFile(path+zname) as z:\n",
      "    with z.open(fname) as f:\n",
      "        for i in range(N):\n",
      "            line = f.readline()\n",
      "            pos = 0\n",
      "            arr = []\n",
      "            for flen in field_lengths:\n",
      "                arr.append(line[pos:pos+flen].rstrip(' '))\n",
      "                pos += flen\n",
      "            county = arr[8] # CHANGE DEPENDING ON SCHEMA\n",
      "            if (county in data.keys()):\n",
      "                data[county].append(arr)\n",
      "\n",
      "print time.time() - t0"
     ],
     "language": "python",
     "metadata": {},
     "outputs": [
      {
       "output_type": "stream",
       "stream": "stdout",
       "text": [
        "1388.26462603\n"
       ]
      }
     ],
     "prompt_number": 17
    },
    {
     "cell_type": "code",
     "collapsed": false,
     "input": [
      "for k in data.keys():\n",
      "    outname = \"../Processed_2004/AH_2004_\" + k.replace(\" \", \"_\") + \".csv\"\n",
      "    print k, \"//\", len(data[k])\n",
      "    with open(path+outname, 'wb') as f:\n",
      "        writer = csv.writer(f)\n",
      "        writer.writerow(fields)\n",
      "        writer.writerows(data[k])"
     ],
     "language": "python",
     "metadata": {},
     "outputs": [
      {
       "output_type": "stream",
       "stream": "stdout",
       "text": [
        "MARIN // 94034\n",
        "SONOMA"
       ]
      },
      {
       "output_type": "stream",
       "stream": "stdout",
       "text": [
        " // 172411\n",
        "SOLANO"
       ]
      },
      {
       "output_type": "stream",
       "stream": "stdout",
       "text": [
        " // 133103\n",
        "SANTA CLARA"
       ]
      },
      {
       "output_type": "stream",
       "stream": "stdout",
       "text": [
        " // 433972\n",
        "NAPA"
       ]
      },
      {
       "output_type": "stream",
       "stream": "stdout",
       "text": [
        " // 46395\n",
        "SAN FRANCISCO"
       ]
      },
      {
       "output_type": "stream",
       "stream": "stdout",
       "text": [
        " // 184902\n",
        "CONTRA COSTA"
       ]
      },
      {
       "output_type": "stream",
       "stream": "stdout",
       "text": [
        " // 341143\n",
        "ALAMEDA"
       ]
      },
      {
       "output_type": "stream",
       "stream": "stdout",
       "text": [
        " // 393346\n",
        "SAN MATEO"
       ]
      },
      {
       "output_type": "stream",
       "stream": "stdout",
       "text": [
        " // 205432\n",
        "LOS ANGELES"
       ]
      },
      {
       "output_type": "stream",
       "stream": "stdout",
       "text": [
        " // 2277356\n"
       ]
      }
     ],
     "prompt_number": 18
    },
    {
     "cell_type": "code",
     "collapsed": false,
     "input": [],
     "language": "python",
     "metadata": {},
     "outputs": []
    },
    {
     "cell_type": "markdown",
     "metadata": {},
     "source": [
      "### Load 2004 data into Postgres"
     ]
    },
    {
     "cell_type": "code",
     "collapsed": false,
     "input": [
      "import psycopg2"
     ],
     "language": "python",
     "metadata": {},
     "outputs": [],
     "prompt_number": 1
    },
    {
     "cell_type": "code",
     "collapsed": false,
     "input": [
      "# Generate field strings for sql queries\n",
      "\n",
      "field_defs = ''\n",
      "for i in range(len(fields)):\n",
      "    field_defs += fields[i] + ' ' + field_types[i] + ', '\n",
      "    \n",
      "# remove trailing commas\n",
      "field_defs = field_defs[:-2]\n",
      "\n",
      "print field_defs[:80], '...'"
     ],
     "language": "python",
     "metadata": {},
     "outputs": [
      {
       "output_type": "stream",
       "stream": "stdout",
       "text": [
        "SA_PROPERTY_ID int, AH_HISTORY_YR int, AH_HISTORY_YR_VERSION smallint, SA_SCM_ID ...\n"
       ]
      }
     ],
     "prompt_number": 9
    },
    {
     "cell_type": "code",
     "collapsed": false,
     "input": [
      "# Connect to the database\n",
      "# Previously in Postgres I created a tablespace and database for the project\n",
      "conn_string = \"host='localhost' dbname='dataquick' user='smmaurer' password=''\"\n",
      "conn = psycopg2.connect(conn_string)\n",
      "cur = conn.cursor()"
     ],
     "language": "python",
     "metadata": {},
     "outputs": [],
     "prompt_number": 11
    },
    {
     "cell_type": "code",
     "collapsed": false,
     "input": [
      "# Set up table with field definitions\n",
      "conn.commit()\n",
      "cur.execute(\"CREATE TABLE master.ahist (\" + field_defs +\n",
      "            \", CONSTRAINT ahist_pkey PRIMARY KEY (sa_property_id))\")\n",
      "conn.commit()"
     ],
     "language": "python",
     "metadata": {},
     "outputs": [],
     "prompt_number": 21
    },
    {
     "cell_type": "code",
     "collapsed": false,
     "input": [
      "path = '/Volumes/Seagate1/DataQuick/Assessor History/v2/'\n",
      "zname = 'AH_2004.ZIP'\n",
      "fname = 'AH_2004.TXT'"
     ],
     "language": "python",
     "metadata": {},
     "outputs": [],
     "prompt_number": 22
    },
    {
     "cell_type": "code",
     "collapsed": false,
     "input": [
      "# PARSE RAW DATA AND LOAD INTO POSTGRES\n",
      "\n",
      "t0 = time.time()\n",
      "count = 0\n",
      "N = 10000\n",
      "conn.commit()\n",
      "\n",
      "with zipfile.ZipFile(path+zname) as z:\n",
      "    with z.open(fname) as f:\n",
      "        for line in f:\n",
      "        #for i in range(N):\n",
      "            #line = f.readline()\n",
      "            pos = 0\n",
      "            values = ''\n",
      "            \n",
      "            for i in range(len(fields)):\n",
      "                flen = field_lengths[i]\n",
      "                val = line[pos:pos+flen].rstrip(' ')\n",
      "                pos += flen\n",
      "                \n",
      "                # enquote strings & escape single quotes\n",
      "                if (field_types[i] == 'varchar'):\n",
      "                    val = \"'\" + val.replace(\"'\", \"''\") + \"'\" \n",
      "                    \n",
      "                # replace empty numeric values with nulls\n",
      "                elif (val == ''):\n",
      "                    val = 'null'\n",
      "                    \n",
      "                values += val + ', '\n",
      "            values = values[:-2]\n",
      "            \n",
      "            cur.execute(\"INSERT INTO master.ahist VALUES (\" + values + \")\")\n",
      "            count += 1\n",
      "            if (count % 1000000 == 0):\n",
      "                print \"rows //\", count\n",
      "            \n",
      "conn.commit()\n",
      "cur.execute(\"SELECT count(sa_property_id) FROM master.ahist\")\n",
      "conn.commit()\n",
      "print \"rows //\", cur.fetchone()[0]\n",
      "print \"time //\", int(time.time() - t0)"
     ],
     "language": "python",
     "metadata": {},
     "outputs": [
      {
       "output_type": "stream",
       "stream": "stdout",
       "text": [
        "rows // 1000000\n",
        "rows //"
       ]
      },
      {
       "output_type": "stream",
       "stream": "stdout",
       "text": [
        " 2000000\n",
        "rows //"
       ]
      },
      {
       "output_type": "stream",
       "stream": "stdout",
       "text": [
        " 3000000\n",
        "rows //"
       ]
      },
      {
       "output_type": "stream",
       "stream": "stdout",
       "text": [
        " 4000000\n",
        "rows //"
       ]
      },
      {
       "output_type": "stream",
       "stream": "stdout",
       "text": [
        " 5000000\n",
        "rows //"
       ]
      },
      {
       "output_type": "stream",
       "stream": "stdout",
       "text": [
        " 6000000\n",
        "rows //"
       ]
      },
      {
       "output_type": "stream",
       "stream": "stdout",
       "text": [
        " 7000000\n",
        "rows //"
       ]
      },
      {
       "output_type": "stream",
       "stream": "stdout",
       "text": [
        " 8000000\n",
        "rows //"
       ]
      },
      {
       "output_type": "stream",
       "stream": "stdout",
       "text": [
        " 9000000\n",
        "rows //"
       ]
      },
      {
       "output_type": "stream",
       "stream": "stdout",
       "text": [
        " 9846179\n",
        "time // 9663\n"
       ]
      }
     ],
     "prompt_number": 23
    },
    {
     "cell_type": "code",
     "collapsed": false,
     "input": [
      "# Clear the table\n",
      "cur.execute(\"DROP TABLE schema.table\")\n",
      "conn.commit()"
     ],
     "language": "python",
     "metadata": {},
     "outputs": [],
     "prompt_number": 20
    },
    {
     "cell_type": "code",
     "collapsed": false,
     "input": [],
     "language": "python",
     "metadata": {},
     "outputs": []
    },
    {
     "cell_type": "markdown",
     "metadata": {},
     "source": [
      "### Add indexes"
     ]
    },
    {
     "cell_type": "code",
     "collapsed": false,
     "input": [
      "# Census tract id only exists in current assessor table"
     ],
     "language": "python",
     "metadata": {},
     "outputs": []
    },
    {
     "cell_type": "code",
     "collapsed": false,
     "input": [
      "t0 = time.time()\n",
      "cur.execute(\"CREATE INDEX ON master.ahist \" +\n",
      "            \" USING btree (mm_fips_muni_code);\")\n",
      "conn.commit()\n",
      "print time.time() - t0"
     ],
     "language": "python",
     "metadata": {},
     "outputs": [
      {
       "output_type": "stream",
       "stream": "stdout",
       "text": [
        "49.8022930622\n"
       ]
      }
     ],
     "prompt_number": 24
    },
    {
     "cell_type": "code",
     "collapsed": false,
     "input": [
      "t0 = time.time()\n",
      "cur.execute(\"CREATE INDEX ON master.ahist \" +\n",
      "            \"USING btree (sa_property_id);\")\n",
      "conn.commit()\n",
      "print time.time() - t0"
     ],
     "language": "python",
     "metadata": {},
     "outputs": [
      {
       "output_type": "stream",
       "stream": "stdout",
       "text": [
        "32.8244268894\n"
       ]
      }
     ],
     "prompt_number": 27
    },
    {
     "cell_type": "code",
     "collapsed": false,
     "input": [
      "conn.commit()"
     ],
     "language": "python",
     "metadata": {},
     "outputs": [],
     "prompt_number": 26
    },
    {
     "cell_type": "markdown",
     "metadata": {},
     "source": [
      "### Descriptive statistics"
     ]
    },
    {
     "cell_type": "code",
     "collapsed": false,
     "input": [
      "# County name and mm_fips_muni_code\n",
      "\n",
      "cty = [{'fips': 1,  'name': 'Alameda'},\n",
      "       {'fips': 13, 'name': 'Contra Costa'},\n",
      "       {'fips': 41, 'name': 'Marin'},\n",
      "       {'fips': 55, 'name': 'Napa'},\n",
      "       {'fips': 75, 'name': 'San Francisco'},\n",
      "       {'fips': 81, 'name': 'San Mateo'},\n",
      "       {'fips': 85, 'name': 'Santa Clara'},\n",
      "       {'fips': 95, 'name': 'Solano'},\n",
      "       {'fips': 97, 'name': 'Sonoma'}]"
     ],
     "language": "python",
     "metadata": {},
     "outputs": [],
     "prompt_number": 28
    },
    {
     "cell_type": "code",
     "collapsed": false,
     "input": [
      "t0 = time.time()\n",
      "conn.commit()\n",
      "\n",
      "print \"Total record counts for 2004 assessor table\"\n",
      "print\n",
      "\n",
      "for c in cty:\n",
      "    cur.execute(\"SELECT count(sa_property_id) FROM master.ahist \" +\n",
      "                \"WHERE mm_fips_muni_code=%s\", (c['fips'],))\n",
      "    count = cur.fetchall()[0][0]\n",
      "    print c['name'], \"=\", count\n",
      "    c['count'] = count\n",
      "\n",
      "print \"//\", int(round(time.time()-t0)), \"seconds\""
     ],
     "language": "python",
     "metadata": {},
     "outputs": [
      {
       "output_type": "stream",
       "stream": "stdout",
       "text": [
        "Total record counts for 2004 assessor table\n",
        "\n",
        "Alameda"
       ]
      },
      {
       "output_type": "stream",
       "stream": "stdout",
       "text": [
        " = 393346\n",
        "Contra Costa"
       ]
      },
      {
       "output_type": "stream",
       "stream": "stdout",
       "text": [
        " = 341143\n",
        "Marin"
       ]
      },
      {
       "output_type": "stream",
       "stream": "stdout",
       "text": [
        " = 94034\n",
        "Napa"
       ]
      },
      {
       "output_type": "stream",
       "stream": "stdout",
       "text": [
        " = 46395\n",
        "San Francisco"
       ]
      },
      {
       "output_type": "stream",
       "stream": "stdout",
       "text": [
        " = 184902\n",
        "San Mateo"
       ]
      },
      {
       "output_type": "stream",
       "stream": "stdout",
       "text": [
        " = 205432\n",
        "Santa Clara"
       ]
      },
      {
       "output_type": "stream",
       "stream": "stdout",
       "text": [
        " = 433972\n",
        "Solano"
       ]
      },
      {
       "output_type": "stream",
       "stream": "stdout",
       "text": [
        " = 133103\n",
        "Sonoma"
       ]
      },
      {
       "output_type": "stream",
       "stream": "stdout",
       "text": [
        " = 172411\n",
        "// 26 seconds\n"
       ]
      }
     ],
     "prompt_number": 29
    },
    {
     "cell_type": "code",
     "collapsed": false,
     "input": [],
     "language": "python",
     "metadata": {},
     "outputs": []
    }
   ],
   "metadata": {}
  }
 ]
}