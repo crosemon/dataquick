{
 "metadata": {
  "name": ""
 },
 "nbformat": 3,
 "nbformat_minor": 0,
 "worksheets": [
  {
   "cells": [
    {
     "cell_type": "code",
     "collapsed": false,
     "input": [
      "import numpy as np"
     ],
     "language": "python",
     "metadata": {},
     "outputs": [],
     "prompt_number": 1
    },
    {
     "cell_type": "code",
     "collapsed": false,
     "input": [
      "a = np.array([1,2,1,1,4])\n",
      "ones = (a==1)\n",
      "\n",
      "print ones\n",
      "print len(ones)"
     ],
     "language": "python",
     "metadata": {},
     "outputs": [
      {
       "output_type": "stream",
       "stream": "stdout",
       "text": [
        "[ True False  True  True False]\n",
        "5\n"
       ]
      }
     ],
     "prompt_number": 14
    },
    {
     "cell_type": "code",
     "collapsed": false,
     "input": [
      "print [5] + [10]"
     ],
     "language": "python",
     "metadata": {},
     "outputs": [
      {
       "output_type": "stream",
       "stream": "stdout",
       "text": [
        "[5, 10]\n"
       ]
      }
     ],
     "prompt_number": 5
    },
    {
     "cell_type": "code",
     "collapsed": false,
     "input": [
      "print np.unique(a)"
     ],
     "language": "python",
     "metadata": {},
     "outputs": [
      {
       "output_type": "stream",
       "stream": "stdout",
       "text": [
        "[1 2 4]\n"
       ]
      }
     ],
     "prompt_number": 6
    },
    {
     "cell_type": "code",
     "collapsed": false,
     "input": [
      "s = np.array(['a','b','c'])\n",
      "print ['f'] + s.tolist()"
     ],
     "language": "python",
     "metadata": {},
     "outputs": [
      {
       "output_type": "stream",
       "stream": "stdout",
       "text": [
        "['f', 'a', 'b', 'c']\n"
       ]
      }
     ],
     "prompt_number": 10
    },
    {
     "cell_type": "code",
     "collapsed": false,
     "input": [
      "print range(1988,2015)"
     ],
     "language": "python",
     "metadata": {},
     "outputs": [
      {
       "output_type": "stream",
       "stream": "stdout",
       "text": [
        "[1988, 1989, 1990, 1991, 1992, 1993, 1994, 1995, 1996, 1997, 1998, 1999, 2000, 2001, 2002, 2003, 2004, 2005, 2006, 2007, 2008, 2009, 2010, 2011, 2012, 2013, 2014]\n"
       ]
      }
     ],
     "prompt_number": 15
    },
    {
     "cell_type": "code",
     "collapsed": false,
     "input": [
      "a = 5\n",
      "b = 3 if (a==6) else 2\n",
      "print b"
     ],
     "language": "python",
     "metadata": {},
     "outputs": [
      {
       "output_type": "stream",
       "stream": "stdout",
       "text": [
        "2\n"
       ]
      }
     ],
     "prompt_number": 17
    },
    {
     "cell_type": "code",
     "collapsed": false,
     "input": [
      "import psycopg2\n",
      "import numpy as np\n",
      "import time\n",
      "import csv\n",
      "\n",
      "conn_string = \"host='tehran.ual.berkeley.edu' dbname='dataquick' user='dataquick_user' password='ucbdq'\"\n",
      "conn = psycopg2.connect(conn_string)\n",
      "cur = conn.cursor()\n",
      "\n",
      "t0 = time.time()\n",
      "cur.execute(\"\"\" SELECT ucb_geo_id, \n",
      "\t\t\t\t\tsa_sqft, \n",
      "\t\t\t\t\tsa_nbr_rms, \n",
      "\t\t\t\t\tsa_nbr_bedrms,\n",
      "\t\t\t\t\tsa_property_id IN (\n",
      "\t\t\t\t\t\tSELECT distinct(sr_property_id)\n",
      "\t\t\t\t\t\tFROM master.sales\n",
      "\t\t\t\t\t\tWHERE mm_fips_muni_code IN (1, 13, 41, 55, 75, 81, 85, 95, 97) \n",
      "\t\t\t\t\t\t\tAND sr_arms_length_flag = '1' \n",
      "\t\t\t\t\t\t\tAND (sr_date_transfer/10000) = 2012\n",
      "\t\t\t\t\t\t) AS sale\n",
      "\t\t\t\tFROM master.assessor \n",
      "\t\t\t\tWHERE mm_fips_muni_code IN (1,13,41,55,75,81,85,95,97)\n",
      "\t\t\t\t\tAND substring(use_code_std from 1 for 1) = 'R'\n",
      "                LIMIT 50; \"\"\")\n",
      "\n",
      "out = cur.fetchall()\n",
      "print int(time.time()-t0), 'sec. for postgres'\n",
      "print out"
     ],
     "language": "python",
     "metadata": {},
     "outputs": [
      {
       "output_type": "stream",
       "stream": "stdout",
       "text": [
        "6 sec. for postgres\n",
        "[('06001405000', 1888, 7, 3, False), ('06001405000', 1530, 7, 4, False), ('06001426100', 3257, 9, 4, False), ('06001426100', 2550, 10, 4, False), ('06001405000', 1883, 7, 3, False), ('06001405000', 1891, 7, 4, False), ('06001426100', 4310, 11, 5, False), ('06001426100', 3283, 9, 5, False), ('06001441401', 1315, 0, 0, False), ('06001441401', 1291, 0, 3, False), ('06001405000', 1833, 6, 3, False), ('06001441401', 1988, 7, 3, False), ('06001441401', 1811, 5, 3, False), ('06001450501', 1760, 9, 4, False), ('06001442700', 1320, 6, 3, False), ('06001442601', 1584, 6, 3, False), ('06001442700', 2092, 7, 4, False), ('06001450701', 2717, 9, 4, False), ('06001450701', 0, 0, 0, False), ('06001450701', 1547, 7, 4, False), ('06001450701', 1813, 7, 3, True), ('06001438400', 1232, 5, 3, False), ('06001438400', 1064, 5, 3, False), ('06001438400', 1669, 5, 3, False), ('06001438400', 1683, 6, 3, False), ('06001450742', 1843, 7, 4, False), ('06001450742', 1610, 7, 4, False), ('06001443322', 1234, 6, 3, False), ('06001437102', 1153, 6, 3, False), ('06001437102', 999, 5, 3, False), ('06001437102', 999, 5, 3, False), ('06001437102', 1519, 6, 3, False), ('06001442601', 1690, 6, 3, False), ('06001442601', 1680, 6, 3, True), ('06001442601', 1544, 6, 3, False), ('06001442601', 1753, 0, 0, False), ('06001408200', 2004, 6, 4, False), ('06001408200', 1305, 5, 2, False), ('06001407700', 1186, 6, 2, False), ('06001407700', 1212, 5, 2, False), ('06001407700', 1665, 9, 4, False), ('06001407700', 1103, 6, 2, False), ('06001403300', 476, 2, 1, False), ('06001403300', 476, 2, 0, False), ('06001442500', 1696, 8, 5, False), ('06001442500', 2155, 8, 5, False), ('06001443301', 1544, 8, 4, False), ('06001443301', 1298, 5, 3, True), ('06001408100', 2173, 7, 3, False), ('06001443301', 1298, 6, 3, False)]\n"
       ]
      }
     ],
     "prompt_number": 20
    },
    {
     "cell_type": "code",
     "collapsed": false,
     "input": [
      "import time\n",
      "import zipfile\n",
      "\n",
      "path = '/home/maurer/Dataquick/Assessor_History/'\n",
      "\n",
      "ids = []\n",
      "\n",
      "for fnum in range(2013, 2014):\n",
      "\tzname = 'AH_' + str(fnum) + '.ZIP'\n",
      "\tfname = 'AH_' + str(fnum) + '.TXT'\n",
      "\t\n",
      "\twith zipfile.ZipFile(path+zname) as z:\n",
      "\t\twith z.open(fname) as f:\n",
      "\t\t\tfor line in f:\n",
      "\t\t\t#for i in range(N):\n",
      "\t\t\t\t#line = f.readline()\n",
      "\n",
      "\t\t\t\tpos = ids.append(line[:12]\n",
      "\t\t\t\tvalues = ''\n",
      "\t\t\t\n",
      "\t\t\t\tfor i in range(len(fields)-1): # subtract 1 for ucb_ahist_id\n",
      "\t\t\t\t\tflen = field_lengths[i]\n",
      "\t\t\t\t\tval = line[pos:pos+flen].rstrip(' ')\n",
      "\t\t\t\t\tpos += flen\n",
      "\t\t\t\t\n",
      "\t\t\t\t\t# enquote strings, escape single quotes, escape backslashes\n",
      "\t\t\t\t\t# (the backslashes in the code have to be escaped too, for Python)\n",
      "\t\t\t\t\tif (field_types[i] == 'varchar'):\n",
      "\t\t\t\t\t\tval = \"'\" + val.replace(\"'\", \"''\").replace(\"\\\\\",\"\\\\\\\\\") + \"'\" \n",
      "\n",
      "\t\t\t\t\t# replace empty numeric values with nulls\n",
      "\t\t\t\t\telif (val == ''):\n",
      "\t\t\t\t\t\tval = 'null'\n",
      "\n",
      "\t\t\t\t\t# also enquote timestamps\n",
      "\t\t\t\t\telif (field_types[i] == 'timestamp'):\n",
      "\t\t\t\t\t\tval = \"'\" + val + \"'\" \n",
      "\t\t\t\t\t\n",
      "\t\t\t\t\tvalues += val + ', '\n",
      "\t\t\t\t\t\n",
      "\t\t\t\t# if not adding ucb_ahist_id, need to remove trailing punctuation\n",
      "\t\t\t\tahist_id = line[12:16] + line[0:12].rstrip(' ').zfill(12)\t\n",
      "\t\t\t\tvalues = values + ahist_id\n",
      "\t\t\t\t\t\n",
      "\t\t\t\ttry:\n",
      "\t\t\t\t\tcur.execute(\"INSERT INTO \" + table + \" VALUES (\" + values + \")\")\n",
      "\t\t\t\texcept Exception, e:\n",
      "\t\t\t\t\tprint str(e)\n",
      "\t\t\t\t\tprint fnum\n",
      "\t\t\t\t\tprint count+1\n",
      "\t\t\t\t\tprint len(line)\n",
      "\t\t\t\t\tprint line\n",
      "\t\t\t\t\tprint values\n",
      "\t\t\t\t\tsys.exit()\n",
      "\t\t\t\t\t\n",
      "\t\t\t\tcount += 1\n",
      "\t\t\t\tif (count % 1000000 == 0):\n",
      "\t\t\t\t\tprint \"rows //\", count\n",
      "\n",
      "\n",
      "\n"
     ],
     "language": "python",
     "metadata": {},
     "outputs": []
    }
   ],
   "metadata": {}
  }
 ]
}