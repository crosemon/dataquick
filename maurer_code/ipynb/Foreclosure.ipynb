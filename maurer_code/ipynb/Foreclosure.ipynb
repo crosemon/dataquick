{
 "metadata": {
  "name": ""
 },
 "nbformat": 3,
 "nbformat_minor": 0,
 "worksheets": [
  {
   "cells": [
    {
     "cell_type": "code",
     "collapsed": false,
     "input": [
      "import time\n",
      "import zipfile\n",
      "import csv"
     ],
     "language": "python",
     "metadata": {},
     "outputs": [],
     "prompt_number": 1
    },
    {
     "cell_type": "code",
     "collapsed": false,
     "input": [
      "path = '/Volumes/Seagate1/DataQuick/Pre Foreclosure/'\n",
      "zname = 'ARB_FORE.zip'\n",
      "fname = 'ARB_FORE.txt'"
     ],
     "language": "python",
     "metadata": {},
     "outputs": [],
     "prompt_number": 2
    },
    {
     "cell_type": "code",
     "collapsed": false,
     "input": [
      "with zipfile.ZipFile(path+zname) as z:\n",
      "    with z.open(fname) as f:\n",
      "        line = f.readline()\n",
      "        print len(line), \"characters\"\n",
      "        print\n",
      "        print line"
     ],
     "language": "python",
     "metadata": {},
     "outputs": [
      {
       "output_type": "stream",
       "stream": "stdout",
       "text": [
        "1230 characters\n",
        "\n",
        "27515574    65          CARIVERSIDE               06065RIVERSIDE                          212123039   304556346   T183071009                          201102280000089254          N200701110000023774          0           VITERVO                                           MARTINEZ                 CALIFORNIA RECONVEYANCE CO                                                 9200      OAKDALE AVE                                            CHATSWORTH                                        CA913117147302727439608CA       4462        SERVICE LINK                  129524                                                                                                                                                                                                                                                                                                                                                                                 0           419200      4417      BYRNE RD                                               RIVERSIDE                                         CA9250920110321 9:00A849       W SIXTH ST                                        CORONA                                            499730                   \r\n",
        "\n"
       ]
      }
     ],
     "prompt_number": 3
    },
    {
     "cell_type": "code",
     "collapsed": false,
     "input": [
      "fields = [\"SA_PROPERTY_ID\",\n",
      "\"SCM_ID\",\n",
      "\"MM_STATE_CODE\",\n",
      "\"MM_MUNI_NAME\",\n",
      "\"MM_FIPS_STATE_CODE\",\n",
      "\"MM_FIPS_MUNI_CODE\",\n",
      "\"MM_FIPS_COUNTY_NAME\",\n",
      "\"SR_UNIQUE_ID\",\n",
      "\"UNIQUE_ID_NOTICE\",\n",
      "\"RECORD_TYPE\",\n",
      "\"PARCEL_NBR_RAW\",\n",
      "\"RECORDING_DATE\",\n",
      "\"DOCUMENT_NO\",\n",
      "\"DOC_TYPE\",\n",
      "\"DATE_ORIG_LOAN\",\n",
      "\"DOC_NBR_ORIG_LOAN\",\n",
      "\"ORIG_LOAN_AMT\",\n",
      "\"TRUSTOR_FIRST_NAME\",\n",
      "\"TRUSTOR_LAST_NAME\",\n",
      "\"TRUSTEE_NAME_FIRST\",\n",
      "\"TRUSTEE_NAME_LAST\",\n",
      "\"TRUSTEE_HOUSE_NBR\",\n",
      "\"TRUSTEE_STREET_NAME\",\n",
      "\"TRUSTEE_UNIT_NBR\",\n",
      "\"TRUSTEE_CITY\",\n",
      "\"TRUSTEE_STATE\",\n",
      "\"TRUSTEE_ZIP\",\n",
      "\"TRUSTEE_PHONE\",\n",
      "\"TRUSTEE_SALE_NBR\",\n",
      "\"TITLE_COMPANY_CODE\",\n",
      "\"TITLE_COMPANY_NAME\",\n",
      "\"PROCESS_ID\",\n",
      "\"FD_DELINQUENT_DATE\",\n",
      "\"FD_DELINQUENT_AMT\",\n",
      "\"FD_BALANCE_PRINCIPAL\",\n",
      "\"FD_BENEFICIARY_NAME_FIRST\",\n",
      "\"FD_BENEFICIARY_NAME_LAST\",\n",
      "\"FD_BENEFICIARY_HOUSE_NBR\",\n",
      "\"FD_BENEFICIARY_STREET_NAME\",\n",
      "\"FD_BENEFICIARY_UNIT_NBR\",\n",
      "\"FD_BENEFICIARY_CITY\",\n",
      "\"FD_BENEFICIARY_STATE\",\n",
      "\"FD_BENEFICIARY_ZIP\",\n",
      "\"FD_BENEFICIARY_PHONE\",\n",
      "\"FD_NOD_T_AUCT_DATE\",\n",
      "\"FD_NOD_T_SALE_TIME\",\n",
      "\"FD_NOD_T_TIME_TYPE\",\n",
      "\"FD_NOD_T_AUCT_STREET_NO\",\n",
      "\"FD_NOD_T_AUCT_STREET_NAME\",\n",
      "\"FD_NOD_T_AUCT_CITY\",\n",
      "\"FT_AMOUNT_OF_DEFAULT\",\n",
      "\"FT_BALANCE_PRINCIPAL\",\n",
      "\"FT_SITE_HOUSE_NBR\",\n",
      "\"FT_SITE_STREET_NAME\",\n",
      "\"FT_SITE_UNIT_NBR\",\n",
      "\"FT_SITE_CITY\",\n",
      "\"FT_SITE_STATE\",\n",
      "\"FT_SITE_ZIP\",\n",
      "\"FT_NOT_SALE_DATE\",\n",
      "\"FT_NOT_SALE_TIME\",\n",
      "\"FT_NOT_TIME_TYPE\",\n",
      "\"FT_NOT_SALE_STREET_NO\",\n",
      "\"FT_NOT_SALE_STREET_NAME\",\n",
      "\"FT_NOT_SALE_CITY\",\n",
      "\"FT_NTDS_AUCTION_BID_AMOUNT\",\n",
      "\"FILLER\"]"
     ],
     "language": "python",
     "metadata": {},
     "outputs": [],
     "prompt_number": 3
    },
    {
     "cell_type": "code",
     "collapsed": false,
     "input": [
      "field_lengths = [12, 12, 2, 24, 2, 3, 35, 12, 12, 1, 35, 8, 20, 1, 8, 20, 12, 50, 25, 50,\n",
      "25, 10, 50, 5, 50, 2, 5, 10, 15, 12, 30, 12, 8, 12, 12, 50, 25, 10, 50,\n",
      "5, 50, 2, 5, 10, 8, 5, 1, 10, 50, 50, 12, 12, 10, 50, 5, 50, 2, 5, 8, 5,\n",
      "1, 10, 50, 50, 12, 13]"
     ],
     "language": "python",
     "metadata": {},
     "outputs": [],
     "prompt_number": 4
    },
    {
     "cell_type": "code",
     "collapsed": false,
     "input": [
      "arr = []\n",
      "pos = 0\n",
      "\n",
      "print repr(line)\n",
      "print\n",
      "\n",
      "for flen in field_lengths:\n",
      "    arr.append(line[pos:pos+flen].rstrip(' '))\n",
      "    pos += flen\n",
      "\n",
      "for i, lab in enumerate(fields):\n",
      "    print str(i+1), fields[i], \"//\", arr[i]"
     ],
     "language": "python",
     "metadata": {},
     "outputs": [
      {
       "output_type": "stream",
       "stream": "stdout",
       "text": [
        "'27515574    65          CARIVERSIDE               06065RIVERSIDE                          212123039   304556346   T183071009                          201102280000089254          N200701110000023774          0           VITERVO                                           MARTINEZ                 CALIFORNIA RECONVEYANCE CO                                                 9200      OAKDALE AVE                                            CHATSWORTH                                        CA913117147302727439608CA       4462        SERVICE LINK                  129524                                                                                                                                                                                                                                                                                                                                                                                 0           419200      4417      BYRNE RD                                               RIVERSIDE                                         CA9250920110321 9:00A849       W SIXTH ST                                        CORONA                                            499730                   \\r\\n'\n",
        "\n",
        "1 SA_PROPERTY_ID // 27515574\n",
        "2 SCM_ID // 65\n",
        "3 MM_STATE_CODE // CA\n",
        "4 MM_MUNI_NAME // RIVERSIDE\n",
        "5 MM_FIPS_STATE_CODE // 06\n",
        "6 MM_FIPS_MUNI_CODE // 065\n",
        "7 MM_FIPS_COUNTY_NAME // RIVERSIDE\n",
        "8 SR_UNIQUE_ID // 212123039\n",
        "9 UNIQUE_ID_NOTICE // 304556346\n",
        "10 RECORD_TYPE // T\n",
        "11 PARCEL_NBR_RAW // 183071009\n",
        "12 RECORDING_DATE // 20110228\n",
        "13 DOCUMENT_NO // 0000089254\n",
        "14 DOC_TYPE // N\n",
        "15 DATE_ORIG_LOAN // 20070111\n",
        "16 DOC_NBR_ORIG_LOAN // 0000023774\n",
        "17 ORIG_LOAN_AMT // 0\n",
        "18 TRUSTOR_FIRST_NAME // VITERVO\n",
        "19 TRUSTOR_LAST_NAME // MARTINEZ\n",
        "20 TRUSTEE_NAME_FIRST // CALIFORNIA RECONVEYANCE CO\n",
        "21 TRUSTEE_NAME_LAST // \n",
        "22 TRUSTEE_HOUSE_NBR // 9200\n",
        "23 TRUSTEE_STREET_NAME // OAKDALE AVE\n",
        "24 TRUSTEE_UNIT_NBR // \n",
        "25 TRUSTEE_CITY // CHATSWORTH\n",
        "26 TRUSTEE_STATE // CA\n",
        "27 TRUSTEE_ZIP // 91311\n",
        "28 TRUSTEE_PHONE // 7147302727\n",
        "29 TRUSTEE_SALE_NBR // 439608CA\n",
        "30 TITLE_COMPANY_CODE // 4462\n",
        "31 TITLE_COMPANY_NAME // SERVICE LINK\n",
        "32 PROCESS_ID // 129524\n",
        "33 FD_DELINQUENT_DATE // \n",
        "34 FD_DELINQUENT_AMT // \n",
        "35 FD_BALANCE_PRINCIPAL // \n",
        "36 FD_BENEFICIARY_NAME_FIRST // \n",
        "37 FD_BENEFICIARY_NAME_LAST // \n",
        "38 FD_BENEFICIARY_HOUSE_NBR // \n",
        "39 FD_BENEFICIARY_STREET_NAME // \n",
        "40 FD_BENEFICIARY_UNIT_NBR // \n",
        "41 FD_BENEFICIARY_CITY // \n",
        "42 FD_BENEFICIARY_STATE // \n",
        "43 FD_BENEFICIARY_ZIP // \n",
        "44 FD_BENEFICIARY_PHONE // \n",
        "45 FD_NOD_T_AUCT_DATE // \n",
        "46 FD_NOD_T_SALE_TIME // \n",
        "47 FD_NOD_T_TIME_TYPE // \n",
        "48 FD_NOD_T_AUCT_STREET_NO // \n",
        "49 FD_NOD_T_AUCT_STREET_NAME // \n",
        "50 FD_NOD_T_AUCT_CITY // \n",
        "51 FT_AMOUNT_OF_DEFAULT // 0\n",
        "52 FT_BALANCE_PRINCIPAL // 419200\n",
        "53 FT_SITE_HOUSE_NBR // 4417\n",
        "54 FT_SITE_STREET_NAME // BYRNE RD\n",
        "55 FT_SITE_UNIT_NBR // \n",
        "56 FT_SITE_CITY // RIVERSIDE\n",
        "57 FT_SITE_STATE // CA\n",
        "58 FT_SITE_ZIP // 92509\n",
        "59 FT_NOT_SALE_DATE // 20110321\n",
        "60 FT_NOT_SALE_TIME //  9:00\n",
        "61 FT_NOT_TIME_TYPE // A\n",
        "62 FT_NOT_SALE_STREET_NO // 849\n",
        "63 FT_NOT_SALE_STREET_NAME // W SIXTH ST\n",
        "64 FT_NOT_SALE_CITY // CORONA\n",
        "65 FT_NTDS_AUCTION_BID_AMOUNT // 499730\n",
        "66 FILLER // \n"
       ]
      }
     ],
     "prompt_number": 6
    },
    {
     "cell_type": "code",
     "collapsed": false,
     "input": [
      "# Save to CSV\n",
      "\n",
      "t0 = time.time()\n",
      "data = []\n",
      "\n",
      "with zipfile.ZipFile(path+zname) as z:\n",
      "    with z.open(fname) as f:\n",
      "        for i in range(10000):\n",
      "            line = f.readline()\n",
      "            pos = 0\n",
      "            arr = []\n",
      "            for flen in field_lengths:\n",
      "                arr.append(line[pos:pos+flen].rstrip(' '))\n",
      "                pos += flen\n",
      "            data.append(arr)\n",
      "\n",
      "print time.time() - t0\n",
      "print len(data)"
     ],
     "language": "python",
     "metadata": {},
     "outputs": [
      {
       "output_type": "stream",
       "stream": "stdout",
       "text": [
        "1.39066505432\n",
        "10000\n"
       ]
      }
     ],
     "prompt_number": 11
    },
    {
     "cell_type": "code",
     "collapsed": false,
     "input": [
      "import csv\n",
      "with open(path+'ARB_FORE_SAMPLE.csv', 'wb') as f:\n",
      "    writer = csv.writer(f)\n",
      "    writer.writerow(fields)\n",
      "    writer.writerows(data)"
     ],
     "language": "python",
     "metadata": {},
     "outputs": [],
     "prompt_number": 13
    },
    {
     "cell_type": "markdown",
     "metadata": {},
     "source": [
      "### Filter by county"
     ]
    },
    {
     "cell_type": "code",
     "collapsed": false,
     "input": [
      "# Total N = 2,959,233\n",
      "\n",
      "N = 2959233\n",
      "t0 = time.time()\n",
      "\n",
      "data = {\"BAY AREA\": [], \"LOS ANGELES\": []}\n",
      "\n",
      "cats = {\"ALAMEDA\": \"BAY AREA\", \"CONTRA COSTA\": \"BAY AREA\", \"MARIN\": \"BAY AREA\", \"NAPA\": \"BAY AREA\", \n",
      "        \"SAN FRANCISCO\": \"BAY AREA\", \"SAN MATEO\": \"BAY AREA\", \"SANTA CLARA\": \"BAY AREA\", \n",
      "        \"SOLANO\": \"BAY AREA\", \"SONOMA\": \"BAY AREA\", \"LOS ANGELES\": \"LOS ANGELES\"}\n",
      "\n",
      "with zipfile.ZipFile(path+zname) as z:\n",
      "    with z.open(fname) as f:\n",
      "        for i in range(N):\n",
      "            line = f.readline()\n",
      "            pos = 0\n",
      "            arr = []\n",
      "            for flen in field_lengths:\n",
      "                arr.append(line[pos:pos+flen].rstrip(' '))\n",
      "                pos += flen\n",
      "            county = arr[3]\n",
      "            if (county in cats.keys()):\n",
      "                data[cats[county]].append(arr)\n",
      "\n",
      "print time.time() - t0"
     ],
     "language": "python",
     "metadata": {},
     "outputs": [
      {
       "output_type": "stream",
       "stream": "stdout",
       "text": [
        "223.12092495\n"
       ]
      }
     ],
     "prompt_number": 16
    },
    {
     "cell_type": "code",
     "collapsed": false,
     "input": [
      "import csv\n",
      "\n",
      "for k in data.keys():\n",
      "    outname = \"Processed/ARB_FORE_\" + k.replace(\" \", \"_\") + \".csv\"\n",
      "    print k, \"//\", len(data[k])\n",
      "    with open(path+outname, 'wb') as f:\n",
      "        writer = csv.writer(f)\n",
      "        writer.writerow(fields)\n",
      "        writer.writerows(data[k])"
     ],
     "language": "python",
     "metadata": {},
     "outputs": [
      {
       "output_type": "stream",
       "stream": "stdout",
       "text": [
        "LOS ANGELES // 624335\n",
        "BAY AREA"
       ]
      },
      {
       "output_type": "stream",
       "stream": "stdout",
       "text": [
        " // 444290\n"
       ]
      }
     ],
     "prompt_number": 17
    },
    {
     "cell_type": "code",
     "collapsed": false,
     "input": [
      "# WHAT WE SHOULD GET:\n",
      "\n",
      "# Bay Area = 444,290\n",
      "# Los Angeles = 624,335"
     ],
     "language": "python",
     "metadata": {},
     "outputs": [],
     "prompt_number": 5
    },
    {
     "cell_type": "markdown",
     "metadata": {},
     "source": [
      "### Extra counties"
     ]
    },
    {
     "cell_type": "code",
     "collapsed": false,
     "input": [
      "# Total N = 2,959,233\n",
      "\n",
      "N = 2959233\n",
      "# N = 10000\n",
      "t0 = time.time()\n",
      "\n",
      "data = {\"SAN DIEGO\": [], \"STANISLAUS\": []}\n",
      "\n",
      "\n",
      "with zipfile.ZipFile(path+zname) as z:\n",
      "    with z.open(fname) as f:\n",
      "        for i in range(N):\n",
      "            line = f.readline()\n",
      "            pos = 0\n",
      "            arr = []\n",
      "            for flen in field_lengths:\n",
      "                arr.append(line[pos:pos+flen].rstrip(' '))\n",
      "                pos += flen\n",
      "            county = arr[3]\n",
      "            if (county in data.keys()):\n",
      "                data[county].append(arr)\n",
      "\n",
      "print time.time() - t0"
     ],
     "language": "python",
     "metadata": {},
     "outputs": [
      {
       "output_type": "stream",
       "stream": "stdout",
       "text": [
        "202.565453053\n"
       ]
      }
     ],
     "prompt_number": 10
    },
    {
     "cell_type": "code",
     "collapsed": false,
     "input": [
      "import csv\n",
      "\n",
      "for k in data.keys():\n",
      "    outname = \"Processed/ARB_FORE_\" + k.replace(\" \", \"_\") + \".csv\"\n",
      "    print k, \"//\", len(data[k])\n",
      "    with open(path+outname, 'wb') as f:\n",
      "        writer = csv.writer(f)\n",
      "        writer.writerow(fields)\n",
      "        writer.writerows(data[k])"
     ],
     "language": "python",
     "metadata": {},
     "outputs": [
      {
       "output_type": "stream",
       "stream": "stdout",
       "text": [
        "STANISLAUS // 61255\n",
        "SAN DIEGO"
       ]
      },
      {
       "output_type": "stream",
       "stream": "stdout",
       "text": [
        " // 217042\n"
       ]
      }
     ],
     "prompt_number": 11
    },
    {
     "cell_type": "code",
     "collapsed": false,
     "input": [
      "# San Diego - 217,042\n",
      "# Stanislaus - 61,255"
     ],
     "language": "python",
     "metadata": {},
     "outputs": []
    }
   ],
   "metadata": {}
  }
 ]
}