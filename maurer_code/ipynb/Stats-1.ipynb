{
 "metadata": {
  "name": ""
 },
 "nbformat": 3,
 "nbformat_minor": 0,
 "worksheets": [
  {
   "cells": [
    {
     "cell_type": "markdown",
     "metadata": {},
     "source": [
      "### Dataquick sales and assessor data - County-level descriptive statistics for Bay Area\n",
      "\n",
      "Sam Maurer - maurer@berkeley.edu - last updated Aug 5, 2014\n",
      "\n",
      "."
     ]
    },
    {
     "cell_type": "code",
     "collapsed": false,
     "input": [
      "import psycopg2\n",
      "import json\n",
      "import numpy as np\n",
      "import time"
     ],
     "language": "python",
     "metadata": {},
     "outputs": [],
     "prompt_number": 1
    },
    {
     "cell_type": "code",
     "collapsed": false,
     "input": [
      "# Connect to the database\n",
      "conn_string = \"host='localhost' dbname='dataquick' user='smmaurer' password=''\"\n",
      "conn = psycopg2.connect(conn_string)\n",
      "cur = conn.cursor()"
     ],
     "language": "python",
     "metadata": {},
     "outputs": [],
     "prompt_number": 20
    },
    {
     "cell_type": "code",
     "collapsed": false,
     "input": [
      "# County name and mm_fips_muni_code\n",
      "\n",
      "cty = [{'fips': 1,  'name': 'Alameda'},\n",
      "       {'fips': 13, 'name': 'Contra Costa'},\n",
      "       {'fips': 41, 'name': 'Marin'},\n",
      "       {'fips': 55, 'name': 'Napa'},\n",
      "       {'fips': 75, 'name': 'San Francisco'},\n",
      "       {'fips': 81, 'name': 'San Mateo'},\n",
      "       {'fips': 85, 'name': 'Santa Clara'},\n",
      "       {'fips': 95, 'name': 'Solano'},\n",
      "       {'fips': 97, 'name': 'Sonoma'}]"
     ],
     "language": "python",
     "metadata": {},
     "outputs": [],
     "prompt_number": 3
    },
    {
     "cell_type": "code",
     "collapsed": false,
     "input": [],
     "language": "python",
     "metadata": {},
     "outputs": [],
     "prompt_number": 52
    },
    {
     "cell_type": "code",
     "collapsed": false,
     "input": [
      "# Function for printing full stats\n",
      "# - for numeric data types\n",
      "\n",
      "def full_stats(var, title, table=\"assessor\"):\n",
      "\n",
      "    t0 = time.time()\n",
      "    conn.commit()\n",
      "    \n",
      "    print title + \" - \" + var.upper()\n",
      "    print\n",
      "    \n",
      "    for c in cty:\n",
      "        cur.execute(\"SELECT \"+var+\" FROM master.\"+table+\" \" +\n",
      "                    \"WHERE mm_fips_muni_code = %s\", (c['fips'],))\n",
      "        out1 = np.array(cur.fetchall())\n",
      "        out2 = out1[out1>0]\n",
      "        pct = round(np.shape(out2)[0]*100.0/np.shape(out1)[0],1)\n",
      "        \n",
      "        print c['name'].upper()\n",
      "        print \"nonzero values:\", np.shape(out2)[0], \"or\", pct, \"%\"\n",
      "        print \"min:\", np.amin(out2), \"// 25th pct:\", np.percentile(out2, 25), \\\n",
      "            \"// median:\", np.median(out2), \"// 75th pct:\", np.percentile(out2, 75), \\\n",
      "            \"// max:\", np.amax(out2)\n",
      "        print\n",
      "    \n",
      "    print int(round(time.time()-t0)), \"seconds\""
     ],
     "language": "python",
     "metadata": {},
     "outputs": [],
     "prompt_number": 9
    },
    {
     "cell_type": "code",
     "collapsed": false,
     "input": [
      "# Function for printing abbreviated stats\n",
      "# - for string data types\n",
      "\n",
      "def basic_stats(var, title, table=\"assessor\"):\n",
      "\n",
      "    t0 = time.time()\n",
      "    conn.commit()\n",
      "    \n",
      "    print title + \" - \" + var.upper()\n",
      "    print\n",
      "    \n",
      "    for c in cty:\n",
      "        cur.execute(\"SELECT \"+var+\" FROM master.\"+table+\" \" +\n",
      "                    \"WHERE mm_fips_muni_code = %s\", (c['fips'],))\n",
      "        out1 = np.array(cur.fetchall())\n",
      "        out2 = out1[out1!='']\n",
      "        \n",
      "        # one field uses 'U' for unknown rather than a missing value\n",
      "        if var == \"sa_site_mail_same\":\n",
      "            out2 = out1[out1!='U']\n",
      "            \n",
      "        pct = round(np.shape(out2)[0]*100.0/np.shape(out1)[0],1)\n",
      "        \n",
      "        print c['name'].upper()\n",
      "        print \"non-missing values:\", np.shape(out2)[0], \"or\", pct, \"%\"\n",
      "        print\n",
      "    \n",
      "    print int(round(time.time()-t0)), \"seconds\"\n"
     ],
     "language": "python",
     "metadata": {},
     "outputs": [],
     "prompt_number": 10
    },
    {
     "cell_type": "markdown",
     "metadata": {},
     "source": [
      "### Stats for current assessor table"
     ]
    },
    {
     "cell_type": "code",
     "collapsed": false,
     "input": [
      "t0 = time.time()\n",
      "conn.commit()\n",
      "\n",
      "print \"Total record counts for current assessor table\"\n",
      "print\n",
      "\n",
      "for c in cty:\n",
      "    cur.execute(\"SELECT count(sa_property_id) FROM master.assessor \" +\n",
      "                \"WHERE mm_fips_muni_code=%s\", (c['fips'],))\n",
      "    count = cur.fetchall()[0][0]\n",
      "    print c['name'], \"=\", count\n",
      "    c['count'] = count\n",
      "\n",
      "print \"//\", int(round(time.time()-t0)), \"seconds\""
     ],
     "language": "python",
     "metadata": {},
     "outputs": [
      {
       "output_type": "stream",
       "stream": "stdout",
       "text": [
        "Total record counts for current assessor table\n",
        "\n",
        "Alameda"
       ]
      },
      {
       "output_type": "stream",
       "stream": "stdout",
       "text": [
        " = 448183\n",
        "Contra Costa"
       ]
      },
      {
       "output_type": "stream",
       "stream": "stdout",
       "text": [
        " = 371421\n",
        "Marin"
       ]
      },
      {
       "output_type": "stream",
       "stream": "stdout",
       "text": [
        " = 96739\n",
        "Napa"
       ]
      },
      {
       "output_type": "stream",
       "stream": "stdout",
       "text": [
        " = 51867\n",
        "San Francisco"
       ]
      },
      {
       "output_type": "stream",
       "stream": "stdout",
       "text": [
        " = 206396\n",
        "San Mateo"
       ]
      },
      {
       "output_type": "stream",
       "stream": "stdout",
       "text": [
        " = 221791\n",
        "Santa Clara"
       ]
      },
      {
       "output_type": "stream",
       "stream": "stdout",
       "text": [
        " = 478210\n",
        "Solano"
       ]
      },
      {
       "output_type": "stream",
       "stream": "stdout",
       "text": [
        " = 143335\n",
        "Sonoma"
       ]
      },
      {
       "output_type": "stream",
       "stream": "stdout",
       "text": [
        " = 188567\n",
        "// 36 seconds\n"
       ]
      }
     ],
     "prompt_number": 52
    },
    {
     "cell_type": "code",
     "collapsed": false,
     "input": [
      "full_stats(\"SA_NBR_RMS\", \"Number of rooms\")"
     ],
     "language": "python",
     "metadata": {},
     "outputs": [
      {
       "output_type": "stream",
       "stream": "stdout",
       "text": [
        "Number of rooms - SA_NBR_RMS\n",
        "\n",
        "ALAMEDA"
       ]
      },
      {
       "output_type": "stream",
       "stream": "stdout",
       "text": [
        "\n",
        "nonzero values: 363776 or 81.2 %\n",
        "min: 1 // 25th pct: 5.0 // median: 6.0 // 75th pct: "
       ]
      },
      {
       "output_type": "stream",
       "stream": "stdout",
       "text": [
        "8.0 // max: 999\n",
        "\n",
        "CONTRA COSTA"
       ]
      },
      {
       "output_type": "stream",
       "stream": "stdout",
       "text": [
        "\n",
        "nonzero values: 331338 or 89.2 %\n",
        "min: 1 // 25th pct: 6.0 // median: 8.0 // 75th pct: "
       ]
      },
      {
       "output_type": "stream",
       "stream": "stdout",
       "text": [
        "10.0 // max: 1408\n",
        "\n",
        "MARIN"
       ]
      },
      {
       "output_type": "stream",
       "stream": "stdout",
       "text": [
        "\n",
        "nonzero values: 20758 or 21.5 %\n",
        "min: 1 // 25th pct: 5.0 // median: 6.0 // 75th pct: 7.0 // max: 77\n",
        "\n",
        "NAPA"
       ]
      },
      {
       "output_type": "stream",
       "stream": "stdout",
       "text": [
        "\n",
        "nonzero values: 31143 or 60.0 %\n",
        "min: 1 // 25th pct: 5.0 // median: 6.0 // 75th pct: 7.0 // max: 96\n",
        "\n",
        "SAN FRANCISCO"
       ]
      },
      {
       "output_type": "stream",
       "stream": "stdout",
       "text": [
        "\n",
        "nonzero values: 176601 or 85.6 %\n",
        "min: 1 // 25th pct: 5.0 // median: 6.0 // 75th pct: 9.0 // max: 3606\n",
        "\n",
        "SAN MATEO"
       ]
      },
      {
       "output_type": "stream",
       "stream": "stdout",
       "text": [
        "\n",
        "nonzero values: 193517 or 87.3 %\n",
        "min: 1 // 25th pct: 5.0 // median: 6.0 // 75th pct: 8.0 // max: 3606\n",
        "\n",
        "SANTA CLARA"
       ]
      },
      {
       "output_type": "stream",
       "stream": "stdout",
       "text": [
        "\n",
        "nonzero values: 414231 or 86.6 %\n",
        "min: 1 // 25th pct: 6.0 // median: 7.0 // 75th pct: "
       ]
      },
      {
       "output_type": "stream",
       "stream": "stdout",
       "text": [
        "8.0 // max: 99\n",
        "\n",
        "SOLANO"
       ]
      },
      {
       "output_type": "stream",
       "stream": "stdout",
       "text": [
        "\n",
        "nonzero values: 106978 or 74.6 %\n",
        "min: 1 // 25th pct: 6.0 // median: 7.0 // 75th pct: 9.0 // max: 60\n",
        "\n",
        "SONOMA"
       ]
      },
      {
       "output_type": "stream",
       "stream": "stdout",
       "text": [
        "\n",
        "nonzero values: 135941 or 72.1 %\n",
        "min: 1 // 25th pct: 4.0 // median: 6.0 // 75th pct: 7.0 // max: 97\n",
        "\n",
        "19 seconds\n"
       ]
      }
     ],
     "prompt_number": 15
    },
    {
     "cell_type": "code",
     "collapsed": false,
     "input": [
      "full_stats(\"SA_NBR_BEDRMS\", \"Number of bedrooms\")"
     ],
     "language": "python",
     "metadata": {},
     "outputs": [
      {
       "output_type": "stream",
       "stream": "stdout",
       "text": [
        "Number of bedrooms - SA_NBR_BEDRMS\n",
        "\n",
        "ALAMEDA"
       ]
      },
      {
       "output_type": "stream",
       "stream": "stdout",
       "text": [
        "\n",
        "nonzero values: 380186 or 84.8 %\n",
        "min: 1 // 25th pct: 2.0 // median: 3.0 // 75th pct: 4.0 // max: "
       ]
      },
      {
       "output_type": "stream",
       "stream": "stdout",
       "text": [
        "980\n",
        "\n",
        "CONTRA COSTA"
       ]
      },
      {
       "output_type": "stream",
       "stream": "stdout",
       "text": [
        "\n",
        "nonzero values: 322462 or 86.8 %\n",
        "min: 1 // 25th pct: 3.0 // median: 3.0 // 75th pct: 4.0 // max: 33\n",
        "\n",
        "MARIN"
       ]
      },
      {
       "output_type": "stream",
       "stream": "stdout",
       "text": [
        "\n",
        "nonzero values: 78913 or 81.6 %\n",
        "min: 1 // 25th pct: 3.0 // median: 3.0 // 75th pct: 4.0 // max: 84\n",
        "\n",
        "NAPA"
       ]
      },
      {
       "output_type": "stream",
       "stream": "stdout",
       "text": [
        "\n",
        "nonzero values: 37629 or 72.5 %\n",
        "min: 1 // 25th pct: 3.0 // median: 3.0 // 75th pct: 4.0 // max: 182\n",
        "\n",
        "SAN FRANCISCO"
       ]
      },
      {
       "output_type": "stream",
       "stream": "stdout",
       "text": [
        "\n",
        "nonzero values: 93685 or 45.4 %\n",
        "min: 1 // 25th pct: 2.0 // median: 2.0 // 75th pct: 3.0 // max: 3800\n",
        "\n",
        "SAN MATEO"
       ]
      },
      {
       "output_type": "stream",
       "stream": "stdout",
       "text": [
        "\n",
        "nonzero values: 192669 or 86.9 %\n",
        "min: 1 // 25th pct: 2.0 // median: 3.0 // 75th pct: 4.0 // max: 1589\n",
        "\n",
        "SANTA CLARA"
       ]
      },
      {
       "output_type": "stream",
       "stream": "stdout",
       "text": [
        "\n",
        "nonzero values: 414171 or 86.6 %\n",
        "min: 1 // 25th pct: 3.0 // median: 3.0 // 75th pct: 4.0 // max: "
       ]
      },
      {
       "output_type": "stream",
       "stream": "stdout",
       "text": [
        "99\n",
        "\n",
        "SOLANO"
       ]
      },
      {
       "output_type": "stream",
       "stream": "stdout",
       "text": [
        "\n",
        "nonzero values: 118156 or 82.4 %\n",
        "min: 1 // 25th pct: 3.0 // median: 3.0 // 75th pct: 4.0 // max: 10\n",
        "\n",
        "SONOMA"
       ]
      },
      {
       "output_type": "stream",
       "stream": "stdout",
       "text": [
        "\n",
        "nonzero values: 136578 or 72.4 %\n",
        "min: 1 // 25th pct: 2.0 // median: 3.0 // 75th pct: 3.0 // max: 176\n",
        "\n",
        "19 seconds\n"
       ]
      }
     ],
     "prompt_number": 16
    },
    {
     "cell_type": "code",
     "collapsed": false,
     "input": [
      "full_stats(\"SA_NBR_UNITS\", \"Number of units\")"
     ],
     "language": "python",
     "metadata": {},
     "outputs": [
      {
       "output_type": "stream",
       "stream": "stdout",
       "text": [
        "Number of units - SA_NBR_UNITS\n",
        "\n",
        "ALAMEDA"
       ]
      },
      {
       "output_type": "stream",
       "stream": "stdout",
       "text": [
        "\n",
        "nonzero values: 390202 or 87.1 %\n",
        "min: 1 // 25th pct: 1.0 // median: 1.0 // 75th pct: 1.0 // max: 7126\n",
        "\n",
        "CONTRA COSTA"
       ]
      },
      {
       "output_type": "stream",
       "stream": "stdout",
       "text": [
        "\n",
        "nonzero values: 308734 or 83.1 %\n",
        "min: 1 // 25th pct: 1.0 // median: 1.0 // 75th pct: 1.0 // max: 8000\n",
        "\n",
        "MARIN"
       ]
      },
      {
       "output_type": "stream",
       "stream": "stdout",
       "text": [
        "\n",
        "nonzero values: 76445 or 79.0 %\n",
        "min: 1 // 25th pct: 1.0 // median: 1.0 // 75th pct: 1.0 // max: 254\n",
        "\n",
        "NAPA"
       ]
      },
      {
       "output_type": "stream",
       "stream": "stdout",
       "text": [
        "\n",
        "nonzero values: 29805 or 57.5 %\n",
        "min: 1 // 25th pct: 1.0 // median: 1.0 // 75th pct: 1.0 // max: 99\n",
        "\n",
        "SAN FRANCISCO"
       ]
      },
      {
       "output_type": "stream",
       "stream": "stdout",
       "text": [
        "\n",
        "nonzero values: 173832 or 84.2 %\n",
        "min: 1 // 25th pct: 1.0 // median: 1.0 // 75th pct: 1.0 // max: 4000\n",
        "\n",
        "SAN MATEO"
       ]
      },
      {
       "output_type": "stream",
       "stream": "stdout",
       "text": [
        "\n",
        "nonzero values: 189040 or 85.2 %\n",
        "min: 1 // 25th pct: 1.0 // median: 1.0 // 75th pct: 1.0 // max: 6515\n",
        "\n",
        "SANTA CLARA"
       ]
      },
      {
       "output_type": "stream",
       "stream": "stdout",
       "text": [
        "\n",
        "nonzero values: 427126 or 89.3 %\n",
        "min: 1 // 25th pct: 1.0 // median: 1.0 // 75th pct: 1.0 // max: 9100\n",
        "\n",
        "SOLANO"
       ]
      },
      {
       "output_type": "stream",
       "stream": "stdout",
       "text": [
        "\n",
        "nonzero values: 111989 or 78.1 %\n",
        "min: 1 // 25th pct: 1.0 // median: 1.0 // 75th pct: 1.0 // max: 396\n",
        "\n",
        "SONOMA"
       ]
      },
      {
       "output_type": "stream",
       "stream": "stdout",
       "text": [
        "\n",
        "nonzero values: 151804 or 80.5 %\n",
        "min: 1 // 25th pct: 1.0 // median: 1.0 // 75th pct: 1.0 // max: 988\n",
        "\n",
        "19 seconds\n"
       ]
      }
     ],
     "prompt_number": 17
    },
    {
     "cell_type": "code",
     "collapsed": false,
     "input": [
      "full_stats(\"sa_sqft\", \"Square footage\")"
     ],
     "language": "python",
     "metadata": {},
     "outputs": [
      {
       "output_type": "stream",
       "stream": "stdout",
       "text": [
        "Square footage - SA_SQFT\n",
        "\n",
        "ALAMEDA"
       ]
      },
      {
       "output_type": "stream",
       "stream": "stdout",
       "text": [
        "\n",
        "nonzero values: 411525 or 91.8 %\n",
        "min: 1 // 25th pct: "
       ]
      },
      {
       "output_type": "stream",
       "stream": "stdout",
       "text": [
        "1162.0 // median: "
       ]
      },
      {
       "output_type": "stream",
       "stream": "stdout",
       "text": [
        "1541.0 // 75th pct: "
       ]
      },
      {
       "output_type": "stream",
       "stream": "stdout",
       "text": [
        "2139.0 // max: 4363392\n",
        "\n",
        "CONTRA COSTA"
       ]
      },
      {
       "output_type": "stream",
       "stream": "stdout",
       "text": [
        "\n",
        "nonzero values: 339236 or 91.3 %\n",
        "min: 100 // 25th pct: "
       ]
      },
      {
       "output_type": "stream",
       "stream": "stdout",
       "text": [
        "1261.0 // median: "
       ]
      },
      {
       "output_type": "stream",
       "stream": "stdout",
       "text": [
        "1709.0 // 75th pct: "
       ]
      },
      {
       "output_type": "stream",
       "stream": "stdout",
       "text": [
        "2352.0 // max: 8944000\n",
        "\n",
        "MARIN"
       ]
      },
      {
       "output_type": "stream",
       "stream": "stdout",
       "text": [
        "\n",
        "nonzero values: 78835 or 81.5 %\n",
        "min: 10 // 25th pct: 1342.0 // median: 1778.0 // 75th pct: "
       ]
      },
      {
       "output_type": "stream",
       "stream": "stdout",
       "text": [
        "2364.0 // max: 75896\n",
        "\n",
        "NAPA"
       ]
      },
      {
       "output_type": "stream",
       "stream": "stdout",
       "text": [
        "\n",
        "nonzero values: 39593 or 76.3 %\n",
        "min: 100 // 25th pct: 1238.0 // median: 1638.0 // 75th pct: 2230.0 // max: 648238\n",
        "\n",
        "SAN FRANCISCO"
       ]
      },
      {
       "output_type": "stream",
       "stream": "stdout",
       "text": [
        "\n",
        "nonzero values: 188640 or 91.4 %\n",
        "min: 1 // 25th pct: "
       ]
      },
      {
       "output_type": "stream",
       "stream": "stdout",
       "text": [
        "1115.0 // median: "
       ]
      },
      {
       "output_type": "stream",
       "stream": "stdout",
       "text": [
        "1504.0 // 75th pct: "
       ]
      },
      {
       "output_type": "stream",
       "stream": "stdout",
       "text": [
        "2375.0 // max: 3015837\n",
        "\n",
        "SAN MATEO"
       ]
      },
      {
       "output_type": "stream",
       "stream": "stdout",
       "text": [
        "\n",
        "nonzero values: 197248 or 88.9 %\n",
        "min: 20 // 25th pct: "
       ]
      },
      {
       "output_type": "stream",
       "stream": "stdout",
       "text": [
        "1150.0 // median: 1515.0 // 75th pct: "
       ]
      },
      {
       "output_type": "stream",
       "stream": "stdout",
       "text": [
        "2140.0 // max: 15280000\n",
        "\n",
        "SANTA CLARA"
       ]
      },
      {
       "output_type": "stream",
       "stream": "stdout",
       "text": [
        "\n",
        "nonzero values: 450887 or 94.3 %\n",
        "min: 1 // 25th pct: "
       ]
      },
      {
       "output_type": "stream",
       "stream": "stdout",
       "text": [
        "1254.0 // median: "
       ]
      },
      {
       "output_type": "stream",
       "stream": "stdout",
       "text": [
        "1616.0 // 75th pct: "
       ]
      },
      {
       "output_type": "stream",
       "stream": "stdout",
       "text": [
        "2183.0 // max: 2142800\n",
        "\n",
        "SOLANO"
       ]
      },
      {
       "output_type": "stream",
       "stream": "stdout",
       "text": [
        "\n",
        "nonzero values: 122574 or 85.5 %\n",
        "min: 1 // 25th pct: 1282.0 // median: "
       ]
      },
      {
       "output_type": "stream",
       "stream": "stdout",
       "text": [
        "1619.0 // 75th pct: 2117.0 // max: 1536263\n",
        "\n",
        "SONOMA"
       ]
      },
      {
       "output_type": "stream",
       "stream": "stdout",
       "text": [
        "\n",
        "nonzero values: 142131 or 75.4 %\n",
        "min: 1 // 25th pct: 1201.0 // median: "
       ]
      },
      {
       "output_type": "stream",
       "stream": "stdout",
       "text": [
        "1545.0 // 75th pct: 2044.0 // max: 850894\n",
        "\n",
        "21 seconds\n"
       ]
      }
     ],
     "prompt_number": 19
    },
    {
     "cell_type": "code",
     "collapsed": false,
     "input": [
      "full_stats(\"sa_yr_blt\", \"Year built\")"
     ],
     "language": "python",
     "metadata": {},
     "outputs": [
      {
       "output_type": "stream",
       "stream": "stdout",
       "text": [
        "Year built - SA_YR_BLT\n",
        "\n",
        "ALAMEDA"
       ]
      },
      {
       "output_type": "stream",
       "stream": "stdout",
       "text": [
        "\n",
        "nonzero values: 409157 or 91.3 %\n",
        "min: 1850 // 25th pct: "
       ]
      },
      {
       "output_type": "stream",
       "stream": "stdout",
       "text": [
        "1940.0 // median: "
       ]
      },
      {
       "output_type": "stream",
       "stream": "stdout",
       "text": [
        "1962.0 // 75th pct: "
       ]
      },
      {
       "output_type": "stream",
       "stream": "stdout",
       "text": [
        "1984.0 // max: 2013\n",
        "\n",
        "CONTRA COSTA"
       ]
      },
      {
       "output_type": "stream",
       "stream": "stdout",
       "text": [
        "\n",
        "nonzero values: 338112 or 91.0 %\n",
        "min: 1657 // 25th pct: "
       ]
      },
      {
       "output_type": "stream",
       "stream": "stdout",
       "text": [
        "1957.0 // median: 1975.0 // 75th pct: "
       ]
      },
      {
       "output_type": "stream",
       "stream": "stdout",
       "text": [
        "1990.0 // max: 2011\n",
        "\n",
        "MARIN"
       ]
      },
      {
       "output_type": "stream",
       "stream": "stdout",
       "text": [
        "\n",
        "nonzero values: 81883 or 84.6 %\n",
        "min: 1820 // 25th pct: 1951.0 // median: 1963.0 // 75th pct: 1976.0 // max: 2013\n",
        "\n",
        "NAPA"
       ]
      },
      {
       "output_type": "stream",
       "stream": "stdout",
       "text": [
        "\n",
        "nonzero values: 39247 or 75.7 %\n",
        "min: 58 // 25th pct: 1954.0 // median: 1972.0 // 75th pct: 1989.0 // max: 2014\n",
        "\n",
        "SAN FRANCISCO"
       ]
      },
      {
       "output_type": "stream",
       "stream": "stdout",
       "text": [
        "\n",
        "nonzero values: 194033 or 94.0 %\n",
        "min: 1791 // 25th pct: 1912.0 // median: "
       ]
      },
      {
       "output_type": "stream",
       "stream": "stdout",
       "text": [
        "1932.0 // 75th pct: 1961.0 // max: 2013\n",
        "\n",
        "SAN MATEO"
       ]
      },
      {
       "output_type": "stream",
       "stream": "stdout",
       "text": [
        "\n",
        "nonzero values: 196624 or 88.7 %\n",
        "min: 1850 // 25th pct: 1949.0 // median: "
       ]
      },
      {
       "output_type": "stream",
       "stream": "stdout",
       "text": [
        "1958.0 // 75th pct: 1973.0 // max: 2013\n",
        "\n",
        "SANTA CLARA"
       ]
      },
      {
       "output_type": "stream",
       "stream": "stdout",
       "text": [
        "\n",
        "nonzero values: 454702 or 95.1 %\n",
        "min: 1840 // 25th pct: "
       ]
      },
      {
       "output_type": "stream",
       "stream": "stdout",
       "text": [
        "1958.0 // median: "
       ]
      },
      {
       "output_type": "stream",
       "stream": "stdout",
       "text": [
        "1969.0 // 75th pct: "
       ]
      },
      {
       "output_type": "stream",
       "stream": "stdout",
       "text": [
        "1983.0 // max: 2013\n",
        "\n",
        "SOLANO"
       ]
      },
      {
       "output_type": "stream",
       "stream": "stdout",
       "text": [
        "\n",
        "nonzero values: 122729 or 85.6 %\n",
        "min: 1800 // 25th pct: 1966.0 // median: 1981.0 // 75th pct: "
       ]
      },
      {
       "output_type": "stream",
       "stream": "stdout",
       "text": [
        "1991.0 // max: 2013\n",
        "\n",
        "SONOMA"
       ]
      },
      {
       "output_type": "stream",
       "stream": "stdout",
       "text": [
        "\n",
        "nonzero values: 141188 or 74.9 %\n",
        "min: 1810 // 25th pct: 1958.0 // median: 1975.0 // 75th pct: "
       ]
      },
      {
       "output_type": "stream",
       "stream": "stdout",
       "text": [
        "1987.0 // max: 2013\n",
        "\n",
        "21 seconds\n"
       ]
      }
     ],
     "prompt_number": 21
    },
    {
     "cell_type": "code",
     "collapsed": false,
     "input": [
      "full_stats(\"sa_val_assd\", \"Assessed value\")"
     ],
     "language": "python",
     "metadata": {},
     "outputs": [
      {
       "output_type": "stream",
       "stream": "stdout",
       "text": [
        "Assessed value - SA_VAL_ASSD\n",
        "\n",
        "ALAMEDA"
       ]
      },
      {
       "output_type": "stream",
       "stream": "stdout",
       "text": [
        "\n",
        "nonzero values: 425296 or 94.9 %\n",
        "min: 14 // 25th pct: "
       ]
      },
      {
       "output_type": "stream",
       "stream": "stdout",
       "text": [
        "151864.0 // median: "
       ]
      },
      {
       "output_type": "stream",
       "stream": "stdout",
       "text": [
        "294122.5 // 75th pct: "
       ]
      },
      {
       "output_type": "stream",
       "stream": "stdout",
       "text": [
        "483891.25 // max: 886085479\n",
        "\n",
        "CONTRA COSTA"
       ]
      },
      {
       "output_type": "stream",
       "stream": "stdout",
       "text": [
        "\n",
        "nonzero values: 361912 or 97.4 %\n",
        "min: 1 // 25th pct: "
       ]
      },
      {
       "output_type": "stream",
       "stream": "stdout",
       "text": [
        "130922.75 // median: "
       ]
      },
      {
       "output_type": "stream",
       "stream": "stdout",
       "text": [
        "234500.0 // 75th pct: "
       ]
      },
      {
       "output_type": "stream",
       "stream": "stdout",
       "text": [
        "411500.0 // max: 896398236\n",
        "\n",
        "MARIN"
       ]
      },
      {
       "output_type": "stream",
       "stream": "stdout",
       "text": [
        "\n",
        "nonzero values: 92418 or 95.5 %\n",
        "min: 1 // 25th pct: 185491.75 // median: "
       ]
      },
      {
       "output_type": "stream",
       "stream": "stdout",
       "text": [
        "419190.5 // 75th pct: 737779.5 // max: 132397198\n",
        "\n",
        "NAPA"
       ]
      },
      {
       "output_type": "stream",
       "stream": "stdout",
       "text": [
        "\n",
        "nonzero values: 49489 or 95.4 %\n",
        "min: 45 // 25th pct: 142800.0 // median: 278287.0 // 75th pct: 457800.0 // max: "
       ]
      },
      {
       "output_type": "stream",
       "stream": "stdout",
       "text": [
        "192683054\n",
        "\n",
        "SAN FRANCISCO"
       ]
      },
      {
       "output_type": "stream",
       "stream": "stdout",
       "text": [
        "\n",
        "nonzero values: 201834 or 97.8 %\n",
        "min: 1 // 25th pct: "
       ]
      },
      {
       "output_type": "stream",
       "stream": "stdout",
       "text": [
        "178122.25 // median: "
       ]
      },
      {
       "output_type": "stream",
       "stream": "stdout",
       "text": [
        "424760.0 // 75th pct: "
       ]
      },
      {
       "output_type": "stream",
       "stream": "stdout",
       "text": [
        "758000.0 // max: 941009633\n",
        "\n",
        "SAN MATEO"
       ]
      },
      {
       "output_type": "stream",
       "stream": "stdout",
       "text": [
        "\n",
        "nonzero values: 215970 or 97.4 %\n",
        "min: 8 // 25th pct: "
       ]
      },
      {
       "output_type": "stream",
       "stream": "stdout",
       "text": [
        "185611.0 // median: "
       ]
      },
      {
       "output_type": "stream",
       "stream": "stdout",
       "text": [
        "406876.5 // 75th pct: "
       ]
      },
      {
       "output_type": "stream",
       "stream": "stdout",
       "text": [
        "686466.0 // max: 217535326\n",
        "\n",
        "SANTA CLARA"
       ]
      },
      {
       "output_type": "stream",
       "stream": "stdout",
       "text": [
        "\n",
        "nonzero values: 468689 or 98.0 %\n",
        "min: 1 // 25th pct: "
       ]
      },
      {
       "output_type": "stream",
       "stream": "stdout",
       "text": [
        "208398.0 // median: "
       ]
      },
      {
       "output_type": "stream",
       "stream": "stdout",
       "text": [
        "396198.0 // 75th pct: "
       ]
      },
      {
       "output_type": "stream",
       "stream": "stdout",
       "text": [
        "655000.0 // max: 571735319\n",
        "\n",
        "SOLANO"
       ]
      },
      {
       "output_type": "stream",
       "stream": "stdout",
       "text": [
        "\n",
        "nonzero values: 135093 or 94.2 %\n",
        "min: 1 // 25th pct: 121000.0 // median: "
       ]
      },
      {
       "output_type": "stream",
       "stream": "stdout",
       "text": [
        "190000.0 // 75th pct: 280183.0 // max: 936855469\n",
        "\n",
        "SONOMA"
       ]
      },
      {
       "output_type": "stream",
       "stream": "stdout",
       "text": [
        "\n",
        "nonzero values: 175969 or 93.3 %\n",
        "min: 1 // 25th pct: "
       ]
      },
      {
       "output_type": "stream",
       "stream": "stdout",
       "text": [
        "137500.0 // median: "
       ]
      },
      {
       "output_type": "stream",
       "stream": "stdout",
       "text": [
        "256559.0 // 75th pct: "
       ]
      },
      {
       "output_type": "stream",
       "stream": "stdout",
       "text": [
        "384498.0 // max: 175744516\n",
        "\n",
        "19 seconds\n"
       ]
      }
     ],
     "prompt_number": 22
    },
    {
     "cell_type": "code",
     "collapsed": false,
     "input": [
      "full_stats(\"sa_val_assd_land\", \"Assessed value of land\")"
     ],
     "language": "python",
     "metadata": {},
     "outputs": [
      {
       "output_type": "stream",
       "stream": "stdout",
       "text": [
        "Assessed value of land - SA_VAL_ASSD_LAND\n",
        "\n",
        "ALAMEDA"
       ]
      },
      {
       "output_type": "stream",
       "stream": "stdout",
       "text": [
        "\n",
        "nonzero values: 425105 or 94.9 %\n",
        "min: 14 // 25th pct: "
       ]
      },
      {
       "output_type": "stream",
       "stream": "stdout",
       "text": [
        "53196.0 // median: "
       ]
      },
      {
       "output_type": "stream",
       "stream": "stdout",
       "text": [
        "94500.0 // 75th pct: "
       ]
      },
      {
       "output_type": "stream",
       "stream": "stdout",
       "text": [
        "152767.0 // max: 85328100\n",
        "\n",
        "CONTRA COSTA"
       ]
      },
      {
       "output_type": "stream",
       "stream": "stdout",
       "text": [
        "\n",
        "nonzero values: 361910 or 97.4 %\n",
        "min: 1 // 25th pct: "
       ]
      },
      {
       "output_type": "stream",
       "stream": "stdout",
       "text": [
        "41244.25 // median: "
       ]
      },
      {
       "output_type": "stream",
       "stream": "stdout",
       "text": [
        "86667.0 // 75th pct: "
       ]
      },
      {
       "output_type": "stream",
       "stream": "stdout",
       "text": [
        "197207.0 // max: 124730654\n",
        "\n",
        "MARIN"
       ]
      },
      {
       "output_type": "stream",
       "stream": "stdout",
       "text": [
        "\n",
        "nonzero values: 91771 or 94.9 %\n",
        "min: 1 // 25th pct: 60636.5 // median: "
       ]
      },
      {
       "output_type": "stream",
       "stream": "stdout",
       "text": [
        "178500.0 // 75th pct: 391787.5 // max: 36600900\n",
        "\n",
        "NAPA"
       ]
      },
      {
       "output_type": "stream",
       "stream": "stdout",
       "text": [
        "\n",
        "nonzero values: 47787 or 92.1 %\n",
        "min: 45 // 25th pct: 61200.0 // median: 107468.0 // 75th pct: 204000.0 // max: 36686606\n",
        "\n",
        "SAN FRANCISCO"
       ]
      },
      {
       "output_type": "stream",
       "stream": "stdout",
       "text": [
        "\n",
        "nonzero values: 201766 or 97.8 %\n",
        "min: 1 // 25th pct: "
       ]
      },
      {
       "output_type": "stream",
       "stream": "stdout",
       "text": [
        "63100.0 // median: "
       ]
      },
      {
       "output_type": "stream",
       "stream": "stdout",
       "text": [
        "215842.0 // 75th pct: "
       ]
      },
      {
       "output_type": "stream",
       "stream": "stdout",
       "text": [
        "420468.0 // max: 277907376\n",
        "\n",
        "SAN MATEO"
       ]
      },
      {
       "output_type": "stream",
       "stream": "stdout",
       "text": [
        "\n",
        "nonzero values: 215543 or 97.2 %\n",
        "min: 8 // 25th pct: "
       ]
      },
      {
       "output_type": "stream",
       "stream": "stdout",
       "text": [
        "56574.0 // median: "
       ]
      },
      {
       "output_type": "stream",
       "stream": "stdout",
       "text": [
        "171433.0 // 75th pct: "
       ]
      },
      {
       "output_type": "stream",
       "stream": "stdout",
       "text": [
        "330000.0 // max: 125599789\n",
        "\n",
        "SANTA CLARA"
       ]
      },
      {
       "output_type": "stream",
       "stream": "stdout",
       "text": [
        "\n",
        "nonzero values: 468566 or 98.0 %\n",
        "min: 1 // 25th pct: "
       ]
      },
      {
       "output_type": "stream",
       "stream": "stdout",
       "text": [
        "76185.0 // median: "
       ]
      },
      {
       "output_type": "stream",
       "stream": "stdout",
       "text": [
        "186745.0 // 75th pct: "
       ]
      },
      {
       "output_type": "stream",
       "stream": "stdout",
       "text": [
        "367500.0 // max: 400554000\n",
        "\n",
        "SOLANO"
       ]
      },
      {
       "output_type": "stream",
       "stream": "stdout",
       "text": [
        "\n",
        "nonzero values: 133865 or 93.4 %\n",
        "min: 1 // 25th pct: 33000.0 // median: "
       ]
      },
      {
       "output_type": "stream",
       "stream": "stdout",
       "text": [
        "50259.0 // 75th pct: 73000.0 // max: 36979280\n",
        "\n",
        "SONOMA"
       ]
      },
      {
       "output_type": "stream",
       "stream": "stdout",
       "text": [
        "\n",
        "nonzero values: 175839 or 93.3 %\n",
        "min: 1 // 25th pct: "
       ]
      },
      {
       "output_type": "stream",
       "stream": "stdout",
       "text": [
        "49115.0 // median: "
       ]
      },
      {
       "output_type": "stream",
       "stream": "stdout",
       "text": [
        "98000.0 // 75th pct: "
       ]
      },
      {
       "output_type": "stream",
       "stream": "stdout",
       "text": [
        "152000.0 // max: 122715441\n",
        "\n",
        "19 seconds\n"
       ]
      }
     ],
     "prompt_number": 23
    },
    {
     "cell_type": "code",
     "collapsed": false,
     "input": [
      "full_stats(\"sa_val_assd_imprv\", \"Assessed value of improvements\")"
     ],
     "language": "python",
     "metadata": {},
     "outputs": [
      {
       "output_type": "stream",
       "stream": "stdout",
       "text": [
        "Assessed value of improvements - SA_VAL_ASSD_IMPRV\n",
        "\n",
        "ALAMEDA"
       ]
      },
      {
       "output_type": "stream",
       "stream": "stdout",
       "text": [
        "\n",
        "nonzero values: 411595 or 91.8 %\n",
        "min: 100 // 25th pct: "
       ]
      },
      {
       "output_type": "stream",
       "stream": "stdout",
       "text": [
        "99842.0 // median: "
       ]
      },
      {
       "output_type": "stream",
       "stream": "stdout",
       "text": [
        "205256.0 // 75th pct: "
       ]
      },
      {
       "output_type": "stream",
       "stream": "stdout",
       "text": [
        "338650.0 // max: 865500000\n",
        "\n",
        "CONTRA COSTA"
       ]
      },
      {
       "output_type": "stream",
       "stream": "stdout",
       "text": [
        "\n",
        "nonzero values: 340543 or 91.7 %\n",
        "min: 1 // 25th pct: "
       ]
      },
      {
       "output_type": "stream",
       "stream": "stdout",
       "text": [
        "76709.0 // median: "
       ]
      },
      {
       "output_type": "stream",
       "stream": "stdout",
       "text": [
        "138624.0 // 75th pct: "
       ]
      },
      {
       "output_type": "stream",
       "stream": "stdout",
       "text": [
        "234600.0 // max: 868028440\n",
        "\n",
        "MARIN"
       ]
      },
      {
       "output_type": "stream",
       "stream": "stdout",
       "text": [
        "\n",
        "nonzero values: 85516 or 88.4 %\n",
        "min: 1 // 25th pct: 130398.75 // median: "
       ]
      },
      {
       "output_type": "stream",
       "stream": "stdout",
       "text": [
        "226477.0 // 75th pct: 374281.0 // max: 100570950\n",
        "\n",
        "NAPA"
       ]
      },
      {
       "output_type": "stream",
       "stream": "stdout",
       "text": [
        "\n",
        "nonzero values: 45045 or 86.8 %\n",
        "min: 82 // 25th pct: 90652.0 // median: 168000.0 // 75th pct: 287875.0 // max: 190811478\n",
        "\n",
        "SAN FRANCISCO"
       ]
      },
      {
       "output_type": "stream",
       "stream": "stdout",
       "text": [
        "\n",
        "nonzero values: 198530 or 96.2 %\n",
        "min: 1 // 25th pct: "
       ]
      },
      {
       "output_type": "stream",
       "stream": "stdout",
       "text": [
        "98483.0 // median: "
       ]
      },
      {
       "output_type": "stream",
       "stream": "stdout",
       "text": [
        "200000.0 // 75th pct: "
       ]
      },
      {
       "output_type": "stream",
       "stream": "stdout",
       "text": [
        "337541.25 // max: 663102257\n",
        "\n",
        "SAN MATEO"
       ]
      },
      {
       "output_type": "stream",
       "stream": "stdout",
       "text": [
        "\n",
        "nonzero values: 205349 or 92.6 %\n",
        "min: 60 // 25th pct: "
       ]
      },
      {
       "output_type": "stream",
       "stream": "stdout",
       "text": [
        "126174.0 // median: "
       ]
      },
      {
       "output_type": "stream",
       "stream": "stdout",
       "text": [
        "231877.0 // 75th pct: "
       ]
      },
      {
       "output_type": "stream",
       "stream": "stdout",
       "text": [
        "365076.0 // max: 198068320\n",
        "\n",
        "SANTA CLARA"
       ]
      },
      {
       "output_type": "stream",
       "stream": "stdout",
       "text": [
        "\n",
        "nonzero values: 455665 or 95.3 %\n",
        "min: 19 // 25th pct: "
       ]
      },
      {
       "output_type": "stream",
       "stream": "stdout",
       "text": [
        "110041.0 // median: "
       ]
      },
      {
       "output_type": "stream",
       "stream": "stdout",
       "text": [
        "183016.0 // 75th pct: "
       ]
      },
      {
       "output_type": "stream",
       "stream": "stdout",
       "text": [
        "292367.0 // max: 407310094\n",
        "\n",
        "SOLANO"
       ]
      },
      {
       "output_type": "stream",
       "stream": "stdout",
       "text": [
        "\n",
        "nonzero values: 128106 or 89.4 %\n",
        "min: 172 // 25th pct: 91000.0 // median: "
       ]
      },
      {
       "output_type": "stream",
       "stream": "stdout",
       "text": [
        "142000.0 // 75th pct: 210000.0 // max: 932114612\n",
        "\n",
        "SONOMA"
       ]
      },
      {
       "output_type": "stream",
       "stream": "stdout",
       "text": [
        "\n",
        "nonzero values: 157490 or 83.5 %\n",
        "min: 10 // 25th pct: "
       ]
      },
      {
       "output_type": "stream",
       "stream": "stdout",
       "text": [
        "101666.25 // median: "
       ]
      },
      {
       "output_type": "stream",
       "stream": "stdout",
       "text": [
        "164142.0 // 75th pct: "
       ]
      },
      {
       "output_type": "stream",
       "stream": "stdout",
       "text": [
        "247149.0 // max: 135098000\n",
        "\n",
        "19 seconds\n"
       ]
      }
     ],
     "prompt_number": 24
    },
    {
     "cell_type": "code",
     "collapsed": false,
     "input": [
      "basic_stats(\"sa_census_tract\", \"Census tract ids\")"
     ],
     "language": "python",
     "metadata": {},
     "outputs": [
      {
       "output_type": "stream",
       "stream": "stdout",
       "text": [
        "Census tract ids - SA_CENSUS_TRACT\n",
        "\n",
        "ALAMEDA"
       ]
      },
      {
       "output_type": "stream",
       "stream": "stdout",
       "text": [
        "\n",
        "non-missing values: 448131 or 100.0 %\n",
        "\n",
        "CONTRA COSTA"
       ]
      },
      {
       "output_type": "stream",
       "stream": "stdout",
       "text": [
        "\n",
        "non-missing values: 371397 or 100.0 %\n",
        "\n",
        "MARIN"
       ]
      },
      {
       "output_type": "stream",
       "stream": "stdout",
       "text": [
        "\n",
        "non-missing values: 96739 or 100.0 %\n",
        "\n",
        "NAPA"
       ]
      },
      {
       "output_type": "stream",
       "stream": "stdout",
       "text": [
        "\n",
        "non-missing values: 51795 or 99.9 %\n",
        "\n",
        "SAN FRANCISCO"
       ]
      },
      {
       "output_type": "stream",
       "stream": "stdout",
       "text": [
        "\n",
        "non-missing values: 206304 or 100.0 %\n",
        "\n",
        "SAN MATEO"
       ]
      },
      {
       "output_type": "stream",
       "stream": "stdout",
       "text": [
        "\n",
        "non-missing values: 221782 or 100.0 %\n",
        "\n",
        "SANTA CLARA"
       ]
      },
      {
       "output_type": "stream",
       "stream": "stdout",
       "text": [
        "\n",
        "non-missing values: 478179 or 100.0 %\n",
        "\n",
        "SOLANO"
       ]
      },
      {
       "output_type": "stream",
       "stream": "stdout",
       "text": [
        "\n",
        "non-missing values: 143335 or 100.0 %\n",
        "\n",
        "SONOMA"
       ]
      },
      {
       "output_type": "stream",
       "stream": "stdout",
       "text": [
        "\n",
        "non-missing values: 188559 or 100.0 %\n",
        "\n",
        "20 seconds\n"
       ]
      }
     ],
     "prompt_number": 41
    },
    {
     "cell_type": "code",
     "collapsed": false,
     "input": [
      "basic_stats(\"sa_zoning\", \"Zoning\")"
     ],
     "language": "python",
     "metadata": {},
     "outputs": [
      {
       "output_type": "stream",
       "stream": "stdout",
       "text": [
        "Zoning - SA_ZONING\n",
        "\n",
        "ALAMEDA"
       ]
      },
      {
       "output_type": "stream",
       "stream": "stdout",
       "text": [
        "\n",
        "non-missing values: 0 or 0.0 %\n",
        "\n",
        "CONTRA COSTA"
       ]
      },
      {
       "output_type": "stream",
       "stream": "stdout",
       "text": [
        "\n",
        "non-missing values: 263299 or 70.9 %\n",
        "\n",
        "MARIN"
       ]
      },
      {
       "output_type": "stream",
       "stream": "stdout",
       "text": [
        "\n",
        "non-missing values: 0 or 0.0 %\n",
        "\n",
        "NAPA"
       ]
      },
      {
       "output_type": "stream",
       "stream": "stdout",
       "text": [
        "\n",
        "non-missing values: 0 or 0.0 %\n",
        "\n",
        "SAN FRANCISCO"
       ]
      },
      {
       "output_type": "stream",
       "stream": "stdout",
       "text": [
        "\n",
        "non-missing values: 205657 or 99.6 %\n",
        "\n",
        "SAN MATEO"
       ]
      },
      {
       "output_type": "stream",
       "stream": "stdout",
       "text": [
        "\n",
        "non-missing values: 200188 or 90.3 %\n",
        "\n",
        "SANTA CLARA"
       ]
      },
      {
       "output_type": "stream",
       "stream": "stdout",
       "text": [
        "\n",
        "non-missing values: 476522 or 99.6 %\n",
        "\n",
        "SOLANO"
       ]
      },
      {
       "output_type": "stream",
       "stream": "stdout",
       "text": [
        "\n",
        "non-missing values: 8902 or 6.2 %\n",
        "\n",
        "SONOMA"
       ]
      },
      {
       "output_type": "stream",
       "stream": "stdout",
       "text": [
        "\n",
        "non-missing values: 0 or 0.0 %\n",
        "\n",
        "16 seconds\n"
       ]
      }
     ],
     "prompt_number": 42
    },
    {
     "cell_type": "code",
     "collapsed": false,
     "input": [
      "basic_stats(\"use_code_std\", \"Dataquick land use code\")"
     ],
     "language": "python",
     "metadata": {},
     "outputs": [
      {
       "output_type": "stream",
       "stream": "stdout",
       "text": [
        "Dataquick land use code - USE_CODE_STD\n",
        "\n",
        "ALAMEDA"
       ]
      },
      {
       "output_type": "stream",
       "stream": "stdout",
       "text": [
        "\n",
        "non-missing values: 447389 or 99.8 %\n",
        "\n",
        "CONTRA COSTA"
       ]
      },
      {
       "output_type": "stream",
       "stream": "stdout",
       "text": [
        "\n",
        "non-missing values: 369433 or 99.5 %\n",
        "\n",
        "MARIN"
       ]
      },
      {
       "output_type": "stream",
       "stream": "stdout",
       "text": [
        "\n",
        "non-missing values: 96702 or 100.0 %\n",
        "\n",
        "NAPA"
       ]
      },
      {
       "output_type": "stream",
       "stream": "stdout",
       "text": [
        "\n",
        "non-missing values: 51568 or 99.4 %\n",
        "\n",
        "SAN FRANCISCO"
       ]
      },
      {
       "output_type": "stream",
       "stream": "stdout",
       "text": [
        "\n",
        "non-missing values: 205693 or 99.7 %\n",
        "\n",
        "SAN MATEO"
       ]
      },
      {
       "output_type": "stream",
       "stream": "stdout",
       "text": [
        "\n",
        "non-missing values: 221105 or 99.7 %\n",
        "\n",
        "SANTA CLARA"
       ]
      },
      {
       "output_type": "stream",
       "stream": "stdout",
       "text": [
        "\n",
        "non-missing values: 472500 or 98.8 %\n",
        "\n",
        "SOLANO"
       ]
      },
      {
       "output_type": "stream",
       "stream": "stdout",
       "text": [
        "\n",
        "non-missing values: 143013 or 99.8 %\n",
        "\n",
        "SONOMA"
       ]
      },
      {
       "output_type": "stream",
       "stream": "stdout",
       "text": [
        "\n",
        "non-missing values: 188167 or 99.8 %\n",
        "\n",
        "16 seconds\n"
       ]
      }
     ],
     "prompt_number": 43
    },
    {
     "cell_type": "code",
     "collapsed": false,
     "input": [
      "basic_stats(\"sa_exemp_flag_3\", \"Senior tax exemption\")"
     ],
     "language": "python",
     "metadata": {},
     "outputs": [
      {
       "output_type": "stream",
       "stream": "stdout",
       "text": [
        "Senior tax exemption - SA_EXEMP_FLAG_3\n",
        "\n",
        "ALAMEDA"
       ]
      },
      {
       "output_type": "stream",
       "stream": "stdout",
       "text": [
        "\n",
        "non-missing values: 0 or 0.0 %\n",
        "\n",
        "CONTRA COSTA"
       ]
      },
      {
       "output_type": "stream",
       "stream": "stdout",
       "text": [
        "\n",
        "non-missing values: 0 or 0.0 %\n",
        "\n",
        "MARIN"
       ]
      },
      {
       "output_type": "stream",
       "stream": "stdout",
       "text": [
        "\n",
        "non-missing values: 0 or 0.0 %\n",
        "\n",
        "NAPA"
       ]
      },
      {
       "output_type": "stream",
       "stream": "stdout",
       "text": [
        "\n",
        "non-missing values: 0 or 0.0 %\n",
        "\n",
        "SAN FRANCISCO"
       ]
      },
      {
       "output_type": "stream",
       "stream": "stdout",
       "text": [
        "\n",
        "non-missing values: 0 or 0.0 %\n",
        "\n",
        "SAN MATEO"
       ]
      },
      {
       "output_type": "stream",
       "stream": "stdout",
       "text": [
        "\n",
        "non-missing values: 0 or 0.0 %\n",
        "\n",
        "SANTA CLARA"
       ]
      },
      {
       "output_type": "stream",
       "stream": "stdout",
       "text": [
        "\n",
        "non-missing values: 0 or 0.0 %\n",
        "\n",
        "SOLANO"
       ]
      },
      {
       "output_type": "stream",
       "stream": "stdout",
       "text": [
        "\n",
        "non-missing values: 0 or 0.0 %\n",
        "\n",
        "SONOMA"
       ]
      },
      {
       "output_type": "stream",
       "stream": "stdout",
       "text": [
        "\n",
        "non-missing values: 0 or 0.0 %\n",
        "\n",
        "17 seconds\n"
       ]
      }
     ],
     "prompt_number": 44
    },
    {
     "cell_type": "code",
     "collapsed": false,
     "input": [
      "basic_stats(\"sa_site_mail_same\", \"Owner-occupied\")"
     ],
     "language": "python",
     "metadata": {},
     "outputs": [
      {
       "output_type": "stream",
       "stream": "stdout",
       "text": [
        "Owner-occupied - SA_SITE_MAIL_SAME\n",
        "\n",
        "ALAMEDA"
       ]
      },
      {
       "output_type": "stream",
       "stream": "stdout",
       "text": [
        "\n",
        "non-missing values: 445132 or 99.3 %\n",
        "\n",
        "CONTRA COSTA"
       ]
      },
      {
       "output_type": "stream",
       "stream": "stdout",
       "text": [
        "\n",
        "non-missing values: 363559 or 97.9 %\n",
        "\n",
        "MARIN"
       ]
      },
      {
       "output_type": "stream",
       "stream": "stdout",
       "text": [
        "\n",
        "non-missing values: 86903 or 89.8 %\n",
        "\n",
        "NAPA"
       ]
      },
      {
       "output_type": "stream",
       "stream": "stdout",
       "text": [
        "\n",
        "non-missing values: 44919 or 86.6 %\n",
        "\n",
        "SAN FRANCISCO"
       ]
      },
      {
       "output_type": "stream",
       "stream": "stdout",
       "text": [
        "\n",
        "non-missing values: 202356 or 98.0 %\n",
        "\n",
        "SAN MATEO"
       ]
      },
      {
       "output_type": "stream",
       "stream": "stdout",
       "text": [
        "\n",
        "non-missing values: 208141 or 93.8 %\n",
        "\n",
        "SANTA CLARA"
       ]
      },
      {
       "output_type": "stream",
       "stream": "stdout",
       "text": [
        "\n",
        "non-missing values: 468848 or 98.0 %\n",
        "\n",
        "SOLANO"
       ]
      },
      {
       "output_type": "stream",
       "stream": "stdout",
       "text": [
        "\n",
        "non-missing values: 129387 or 90.3 %\n",
        "\n",
        "SONOMA"
       ]
      },
      {
       "output_type": "stream",
       "stream": "stdout",
       "text": [
        "\n",
        "non-missing values: 175840 or 93.3 %\n",
        "\n",
        "15 seconds\n"
       ]
      }
     ],
     "prompt_number": 45
    },
    {
     "cell_type": "markdown",
     "metadata": {},
     "source": [
      "### Stats for sales history table"
     ]
    },
    {
     "cell_type": "code",
     "collapsed": false,
     "input": [
      "t0 = time.time()\n",
      "conn.commit()\n",
      "\n",
      "print \"Total record counts for sales history table\"\n",
      "print\n",
      "\n",
      "for c in cty:\n",
      "    cur.execute(\"SELECT count(sr_property_id) FROM master.sales \" +\n",
      "                \"WHERE mm_fips_muni_code=%s\", (c['fips'],))\n",
      "    count = cur.fetchall()[0][0]\n",
      "    print c['name'], \"=\", count\n",
      "    c['count'] = count\n",
      "\n",
      "print \"//\", int(round(time.time()-t0)), \"seconds\""
     ],
     "language": "python",
     "metadata": {},
     "outputs": [
      {
       "output_type": "stream",
       "stream": "stdout",
       "text": [
        "Total record counts for sales history table\n",
        "\n",
        "Alameda"
       ]
      },
      {
       "output_type": "stream",
       "stream": "stdout",
       "text": [
        " = 1255979\n",
        "Contra Costa"
       ]
      },
      {
       "output_type": "stream",
       "stream": "stdout",
       "text": [
        " = 1126258\n",
        "Marin"
       ]
      },
      {
       "output_type": "stream",
       "stream": "stdout",
       "text": [
        " = 282399\n",
        "Napa"
       ]
      },
      {
       "output_type": "stream",
       "stream": "stdout",
       "text": [
        " = 157343\n",
        "San Francisco"
       ]
      },
      {
       "output_type": "stream",
       "stream": "stdout",
       "text": [
        " = 565042\n",
        "San Mateo"
       ]
      },
      {
       "output_type": "stream",
       "stream": "stdout",
       "text": [
        " = 638484\n",
        "Santa Clara"
       ]
      },
      {
       "output_type": "stream",
       "stream": "stdout",
       "text": [
        " = 1398430\n",
        "Solano"
       ]
      },
      {
       "output_type": "stream",
       "stream": "stdout",
       "text": [
        " = 438545\n",
        "Sonoma"
       ]
      },
      {
       "output_type": "stream",
       "stream": "stdout",
       "text": [
        " = 541994\n",
        "// 294 seconds\n"
       ]
      }
     ],
     "prompt_number": 18
    },
    {
     "cell_type": "code",
     "collapsed": false,
     "input": [
      "full_stats(\"sr_val_transfer\", \"Sale amount\", \"sales\")"
     ],
     "language": "python",
     "metadata": {},
     "outputs": [
      {
       "output_type": "stream",
       "stream": "stdout",
       "text": [
        "Sale amount - SR_VAL_TRANSFER\n",
        "\n",
        "ALAMEDA"
       ]
      },
      {
       "output_type": "stream",
       "stream": "stdout",
       "text": [
        "\n",
        "nonzero values: 712409 or 53.0 %\n",
        "min: 1 // 25th pct: 170000.0 // median: "
       ]
      },
      {
       "output_type": "stream",
       "stream": "stdout",
       "text": [
        "290500.0 // 75th pct: 485000.0 // max: 364000000\n",
        "\n",
        "CONTRA COSTA"
       ]
      },
      {
       "output_type": "stream",
       "stream": "stdout",
       "text": [
        "\n",
        "nonzero values: 645509 or 53.6 %\n",
        "min: 1 // 25th pct: 157000.0 // median: "
       ]
      },
      {
       "output_type": "stream",
       "stream": "stdout",
       "text": [
        "270000.0 // 75th pct: 450000.0 // max: 1325500000\n",
        "\n",
        "MARIN"
       ]
      },
      {
       "output_type": "stream",
       "stream": "stdout",
       "text": [
        "\n",
        "nonzero values: 119492 or 39.5 %\n",
        "min: 100 // 25th pct: 264000.0 // median: 465000.0 // 75th pct: 775000.0 // max: 138000000\n",
        "\n",
        "NAPA"
       ]
      },
      {
       "output_type": "stream",
       "stream": "stdout",
       "text": [
        "\n",
        "nonzero values: 73682 or 42.4 %\n",
        "min: 3 // 25th pct: 150000.0 // median: 275000.0 // 75th pct: 482500.0 // max: 254545455\n",
        "\n",
        "SAN FRANCISCO"
       ]
      },
      {
       "output_type": "stream",
       "stream": "stdout",
       "text": [
        "\n",
        "nonzero values: 257497 or 42.7 %\n",
        "min: 2 // 25th pct: 242000.0 // median: 455000.0 // 75th pct: 765000.0 // max: 910000000\n",
        "\n",
        "SAN MATEO"
       ]
      },
      {
       "output_type": "stream",
       "stream": "stdout",
       "text": [
        "\n",
        "nonzero values: 289918 or 43.0 %\n",
        "min: 100 // 25th pct: 250000.0 // median: 425000.0 // 75th pct: 700000.0 // max: 235000000\n",
        "\n",
        "SANTA CLARA"
       ]
      },
      {
       "output_type": "stream",
       "stream": "stdout",
       "text": [
        "\n",
        "nonzero values: 742743 or 50.3 %\n",
        "min: 3 // 25th pct: "
       ]
      },
      {
       "output_type": "stream",
       "stream": "stdout",
       "text": [
        "217000.0 // median: "
       ]
      },
      {
       "output_type": "stream",
       "stream": "stdout",
       "text": [
        "375000.0 // 75th pct: "
       ]
      },
      {
       "output_type": "stream",
       "stream": "stdout",
       "text": [
        "610000.0 // max: 634845881\n",
        "\n",
        "SOLANO"
       ]
      },
      {
       "output_type": "stream",
       "stream": "stdout",
       "text": [
        "\n",
        "nonzero values: 267096 or 58.1 %\n",
        "min: 1 // 25th pct: 132000.0 // median: 202000.0 // 75th pct: 338000.0 // max: 148181818\n",
        "\n",
        "SONOMA"
       ]
      },
      {
       "output_type": "stream",
       "stream": "stdout",
       "text": [
        "\n",
        "nonzero values: 277133 or 46.4 %\n",
        "min: 81 // 25th pct: 163000.0 // median: 264000.0 // 75th pct: 435000.0 // max: 400000000\n",
        "\n",
        "264 seconds\n"
       ]
      }
     ],
     "prompt_number": 21
    },
    {
     "cell_type": "code",
     "collapsed": false,
     "input": [
      "full_stats(\"sr_date_transfer\", \"Sale date\", \"sales\")"
     ],
     "language": "python",
     "metadata": {},
     "outputs": [
      {
       "output_type": "stream",
       "stream": "stdout",
       "text": [
        "Sale date - SR_DATE_TRANSFER\n",
        "\n",
        "ALAMEDA"
       ]
      },
      {
       "output_type": "stream",
       "stream": "stdout",
       "text": [
        "\n",
        "nonzero values: 1345155 or 100.0 %\n",
        "min: 19590911 // 25th pct: 19970226.0 // median: "
       ]
      },
      {
       "output_type": "stream",
       "stream": "stdout",
       "text": [
        "20021115.0 // 75th pct: 20071212.0 // max: 20140623\n",
        "\n",
        "CONTRA COSTA"
       ]
      },
      {
       "output_type": "stream",
       "stream": "stdout",
       "text": [
        "\n",
        "nonzero values: 1203720 or 100.0 %\n",
        "min: 19710702 // 25th pct: 19970509.0 // median: "
       ]
      },
      {
       "output_type": "stream",
       "stream": "stdout",
       "text": [
        "20030619.0 // 75th pct: 20080602.0 // max: 20140630\n",
        "\n",
        "MARIN"
       ]
      },
      {
       "output_type": "stream",
       "stream": "stdout",
       "text": [
        "\n",
        "nonzero values: 302749 or 100.0 %\n",
        "min: 19560918 // 25th pct: 19970904.0 // median: 20030115.0 // 75th pct: 20080118.0 // max: 20140630\n",
        "\n",
        "NAPA"
       ]
      },
      {
       "output_type": "stream",
       "stream": "stdout",
       "text": [
        "\n",
        "nonzero values: 173891 or 100.0 %\n",
        "min: 19880101 // 25th pct: 19970404.0 // median: 20020805.0 // 75th pct: 20071005.0 // max: 20140701\n",
        "\n",
        "SAN FRANCISCO"
       ]
      },
      {
       "output_type": "stream",
       "stream": "stdout",
       "text": [
        "\n",
        "nonzero values: 603336 or 100.0 %\n",
        "min: 19530702 // 25th pct: 19970626.0 // median: 20030424.0 // 75th pct: "
       ]
      },
      {
       "output_type": "stream",
       "stream": "stdout",
       "text": [
        "20080903.0 // max: 20140620\n",
        "\n",
        "SAN MATEO"
       ]
      },
      {
       "output_type": "stream",
       "stream": "stdout",
       "text": [
        "\n",
        "nonzero values: 674280 or 100.0 %\n",
        "min: 19620727 // 25th pct: 19960823.0 // median: 20020507.0 // 75th pct: "
       ]
      },
      {
       "output_type": "stream",
       "stream": "stdout",
       "text": [
        "20070910.0 // max: 20140617\n",
        "\n",
        "SANTA CLARA"
       ]
      },
      {
       "output_type": "stream",
       "stream": "stdout",
       "text": [
        "\n",
        "nonzero values: 1475648 or 100.0 %\n",
        "min: 19000009 // 25th pct: 19970206.0 // median: "
       ]
      },
      {
       "output_type": "stream",
       "stream": "stdout",
       "text": [
        "20021106.0 // 75th pct: 20080131.0 // max: 20140630\n",
        "\n",
        "SOLANO"
       ]
      },
      {
       "output_type": "stream",
       "stream": "stdout",
       "text": [
        "\n",
        "nonzero values: 459471 or 100.0 %\n",
        "min: 19880104 // 25th pct: 19971229.0 // median: 20031027.0 // 75th pct: 20080812.0 // max: 20140630\n",
        "\n",
        "SONOMA"
       ]
      },
      {
       "output_type": "stream",
       "stream": "stdout",
       "text": [
        "\n",
        "nonzero values: 596979 or 100.0 %\n",
        "min: 19601123 // 25th pct: 19970702.0 // median: 20021206.0 // 75th pct: "
       ]
      },
      {
       "output_type": "stream",
       "stream": "stdout",
       "text": [
        "20071218.0 // max: 20140624\n",
        "\n",
        "252 seconds\n"
       ]
      }
     ],
     "prompt_number": 58
    },
    {
     "cell_type": "code",
     "collapsed": false,
     "input": [
      "basic_stats(\"sr_site_addr_raw\", \"Site address\", \"sales\")"
     ],
     "language": "python",
     "metadata": {},
     "outputs": [
      {
       "output_type": "stream",
       "stream": "stdout",
       "text": [
        "Site address - SR_SITE_ADDR_RAW\n",
        "\n",
        "ALAMEDA"
       ]
      },
      {
       "output_type": "stream",
       "stream": "stdout",
       "text": [
        "\n",
        "non-missing values: 468922 or 34.9 %\n",
        "\n",
        "CONTRA COSTA"
       ]
      },
      {
       "output_type": "stream",
       "stream": "stdout",
       "text": [
        "\n",
        "non-missing values: 402134 or 33.4 %\n",
        "\n",
        "MARIN"
       ]
      },
      {
       "output_type": "stream",
       "stream": "stdout",
       "text": [
        "\n",
        "non-missing values: 94264 or 31.1 %\n",
        "\n",
        "NAPA"
       ]
      },
      {
       "output_type": "stream",
       "stream": "stdout",
       "text": [
        "\n",
        "non-missing values: 43226 or 24.9 %\n",
        "\n",
        "SAN FRANCISCO"
       ]
      },
      {
       "output_type": "stream",
       "stream": "stdout",
       "text": [
        "\n",
        "non-missing values: 322154 or 53.4 %\n",
        "\n",
        "SAN MATEO"
       ]
      },
      {
       "output_type": "stream",
       "stream": "stdout",
       "text": [
        "\n",
        "non-missing values: 215946 or 32.0 %\n",
        "\n",
        "SANTA CLARA"
       ]
      },
      {
       "output_type": "stream",
       "stream": "stdout",
       "text": [
        "\n",
        "non-missing values: 492965 or 33.4 %\n",
        "\n",
        "SOLANO"
       ]
      },
      {
       "output_type": "stream",
       "stream": "stdout",
       "text": [
        "\n",
        "non-missing values: 150705 or 32.8 %\n",
        "\n",
        "SONOMA"
       ]
      },
      {
       "output_type": "stream",
       "stream": "stdout",
       "text": [
        "\n",
        "non-missing values: 168993 or 28.3 %\n",
        "\n",
        "250 seconds\n"
       ]
      }
     ],
     "prompt_number": 59
    },
    {
     "cell_type": "code",
     "collapsed": false,
     "input": [
      "basic_stats(\"sr_mail_addr_raw\", \"Mailing address of the buyer\", \"sales\")"
     ],
     "language": "python",
     "metadata": {},
     "outputs": [
      {
       "output_type": "stream",
       "stream": "stdout",
       "text": [
        "Mailing address of the buyer - SR_MAIL_ADDR_RAW\n",
        "\n",
        "ALAMEDA"
       ]
      },
      {
       "output_type": "stream",
       "stream": "stdout",
       "text": [
        "\n",
        "non-missing values: 734066 or 54.6 %\n",
        "\n",
        "CONTRA COSTA"
       ]
      },
      {
       "output_type": "stream",
       "stream": "stdout",
       "text": [
        "\n",
        "non-missing values: 665102 or 55.3 %\n",
        "\n",
        "MARIN"
       ]
      },
      {
       "output_type": "stream",
       "stream": "stdout",
       "text": [
        "\n",
        "non-missing values: 171194 or 56.5 %\n",
        "\n",
        "NAPA"
       ]
      },
      {
       "output_type": "stream",
       "stream": "stdout",
       "text": [
        "\n",
        "non-missing values: 94194 or 54.2 %\n",
        "\n",
        "SAN FRANCISCO"
       ]
      },
      {
       "output_type": "stream",
       "stream": "stdout",
       "text": [
        "\n",
        "non-missing values: 346668 or 57.5 %\n",
        "\n",
        "SAN MATEO"
       ]
      },
      {
       "output_type": "stream",
       "stream": "stdout",
       "text": [
        "\n",
        "non-missing values: 359056 or 53.3 %\n",
        "\n",
        "SANTA CLARA"
       ]
      },
      {
       "output_type": "stream",
       "stream": "stdout",
       "text": [
        "\n",
        "non-missing values: 804770 or 54.5 %\n",
        "\n",
        "SOLANO"
       ]
      },
      {
       "output_type": "stream",
       "stream": "stdout",
       "text": [
        "\n",
        "non-missing values: 258952 or 56.4 %\n",
        "\n",
        "SONOMA"
       ]
      },
      {
       "output_type": "stream",
       "stream": "stdout",
       "text": [
        "\n",
        "non-missing values: 323822 or 54.2 %\n",
        "\n",
        "321 seconds\n"
       ]
      }
     ],
     "prompt_number": 11
    },
    {
     "cell_type": "code",
     "collapsed": false,
     "input": [
      "t0 = time.time()\n",
      "conn.commit()\n",
      "\n",
      "print \"Sales records successfully matched to current assessor records\"\n",
      "print\n",
      "\n",
      "for c in cty:\n",
      "    cur.execute(\"SELECT count(sales.sr_property_id) \" +\n",
      "                \"FROM master.sales \" +\n",
      "                \"INNER JOIN master.assessor ON sa_property_id = sr_property_id \" +\n",
      "                \"WHERE sales.mm_fips_muni_code=%s \", (c['fips'],))\n",
      "    \n",
      "    matched = cur.fetchall()[0][0]\n",
      "    total = c['count']\n",
      "    pct = round(matched*100.0/total,1)\n",
      "    \n",
      "    print c['name'].upper()\n",
      "    print \"successful matches:\", matched, \"or\", pct, \"%\"\n",
      "    print\n",
      "\n",
      "print \"//\", int(round(time.time()-t0)), \"seconds\""
     ],
     "language": "python",
     "metadata": {},
     "outputs": [
      {
       "output_type": "stream",
       "stream": "stdout",
       "text": [
        "Sales records successfully matched to current assessor records\n",
        "\n",
        "ALAMEDA"
       ]
      },
      {
       "output_type": "stream",
       "stream": "stdout",
       "text": [
        "\n",
        "successful matches: 1253879 or 99.8 %\n",
        "\n",
        "CONTRA COSTA"
       ]
      },
      {
       "output_type": "stream",
       "stream": "stdout",
       "text": [
        "\n",
        "successful matches: 1125099 or 99.9 %\n",
        "\n",
        "MARIN"
       ]
      },
      {
       "output_type": "stream",
       "stream": "stdout",
       "text": [
        "\n",
        "successful matches: 281867 or 99.8 %\n",
        "\n",
        "NAPA"
       ]
      },
      {
       "output_type": "stream",
       "stream": "stdout",
       "text": [
        "\n",
        "successful matches: 155804 or 99.0 %\n",
        "\n",
        "SAN FRANCISCO"
       ]
      },
      {
       "output_type": "stream",
       "stream": "stdout",
       "text": [
        "\n",
        "successful matches: 555503 or 98.3 %\n",
        "\n",
        "SAN MATEO"
       ]
      },
      {
       "output_type": "stream",
       "stream": "stdout",
       "text": [
        "\n",
        "successful matches: 637846 or 99.9 %\n",
        "\n",
        "SANTA CLARA"
       ]
      },
      {
       "output_type": "stream",
       "stream": "stdout",
       "text": [
        "\n",
        "successful matches: 1396704 or 99.9 %\n",
        "\n",
        "SOLANO"
       ]
      },
      {
       "output_type": "stream",
       "stream": "stdout",
       "text": [
        "\n",
        "successful matches: 438161 or 99.9 %\n",
        "\n",
        "SONOMA"
       ]
      },
      {
       "output_type": "stream",
       "stream": "stdout",
       "text": [
        "\n",
        "successful matches: 541045 or 99.8 %\n",
        "\n",
        "// 1168 seconds\n"
       ]
      }
     ],
     "prompt_number": 19
    },
    {
     "cell_type": "code",
     "collapsed": false,
     "input": [],
     "language": "python",
     "metadata": {},
     "outputs": []
    },
    {
     "cell_type": "code",
     "collapsed": false,
     "input": [],
     "language": "python",
     "metadata": {},
     "outputs": []
    },
    {
     "cell_type": "code",
     "collapsed": false,
     "input": [],
     "language": "python",
     "metadata": {},
     "outputs": []
    },
    {
     "cell_type": "code",
     "collapsed": false,
     "input": [],
     "language": "python",
     "metadata": {},
     "outputs": []
    },
    {
     "cell_type": "code",
     "collapsed": false,
     "input": [],
     "language": "python",
     "metadata": {},
     "outputs": []
    },
    {
     "cell_type": "markdown",
     "metadata": {},
     "source": [
      "### Queries to pull sample data values"
     ]
    },
    {
     "cell_type": "code",
     "collapsed": false,
     "input": [
      "conn.commit()\n",
      "cur.execute(\"SELECT sa_site_mail_same FROM master.assessor \" +\n",
      "            \"WHERE mm_fips_muni_code = 97\")\n",
      "print(cur.fetchall()[:100])"
     ],
     "language": "python",
     "metadata": {},
     "outputs": [
      {
       "output_type": "stream",
       "stream": "stdout",
       "text": [
        "[('U',), ('Y',), ('U',), ('N',), ('Y',), ('Y',), ('N',), ('N',), ('N',), ('Y',), ('Y',), ('Y',), ('N',), ('Y',), ('Y',), ('Y',), ('N',), ('Y',), ('Y',), ('Y',), ('N',), ('N',), ('Y',), ('N',), ('N',), ('Y',), ('N',), ('Y',), ('N',), ('N',), ('Y',), ('Y',), ('N',), ('N',), ('Y',), ('N',), ('Y',), ('Y',), ('N',), ('Y',), ('Y',), ('Y',), ('Y',), ('Y',), ('U',), ('U',), ('U',), ('Y',), ('Y',), ('Y',), ('N',), ('Y',), ('Y',), ('Y',), ('Y',), ('N',), ('Y',), ('Y',), ('Y',), ('Y',), ('Y',), ('Y',), ('Y',), ('Y',), ('Y',), ('N',), ('Y',), ('Y',), ('N',), ('Y',), ('Y',), ('Y',), ('Y',), ('Y',), ('Y',), ('Y',), ('N',), ('N',), ('N',), ('N',), ('N',), ('N',), ('Y',), ('Y',), ('Y',), ('Y',), ('Y',), ('Y',), ('Y',), ('N',), ('N',), ('Y',), ('Y',), ('Y',), ('Y',), ('Y',), ('Y',), ('Y',), ('Y',), ('Y',)]\n"
       ]
      }
     ],
     "prompt_number": 37
    },
    {
     "cell_type": "code",
     "collapsed": false,
     "input": [
      "conn.commit()\n",
      "cur.execute(\"SELECT sr_date_transfer FROM master.sales \" +\n",
      "            \"WHERE mm_fips_muni_code = 97 LIMIT 100\")\n",
      "print(cur.fetchall())"
     ],
     "language": "python",
     "metadata": {},
     "outputs": [
      {
       "output_type": "stream",
       "stream": "stdout",
       "text": [
        "[(20070409,), (20070409,), (20070411,), (20070410,), (20070410,), (20070410,), (20070410,), (20070411,), (20070410,), (20070412,), (20070413,), (20070416,), (20070416,), (20070405,), (20070327,), (20070406,), (20070406,), (20070406,), (20021115,), (20021119,), (20021127,), (20031017,), (20010828,), (20040805,), (20020529,), (20021001,), (20130131,), (20130131,), (20130401,), (20020801,), (20040805,), (20040805,), (20010815,), (20010824,), (20070514,), (20070405,), (20070420,), (20031120,), (20030110,), (20030408,), (20040608,), (20040610,), (20021119,), (20021119,), (20021119,), (20021119,), (20021119,), (20070604,), (20070817,), (20070928,), (20020529,), (20120920,), (20130429,), (20140422,), (20080128,), (20080128,), (20050930,), (20060420,), (20021118,), (20051110,), (20051116,), (20040709,), (20040630,), (20040702,), (20040714,), (20040715,), (20070129,), (20070717,), (20020912,), (20040728,), (20040729,), (20040805,), (20040806,), (20050812,), (20101208,), (20101209,), (20101209,), (20101209,), (20071129,), (20071129,), (20060629,), (20110822,), (20021107,), (20070629,), (20070831,), (20071031,), (20060531,), (20060703,), (20061012,), (20120316,), (20100528,), (20040429,), (20070430,), (20051212,), (20050602,), (20070510,), (20070807,), (20051212,), (20021004,), (20071016,)]\n"
       ]
      }
     ],
     "prompt_number": 57
    },
    {
     "cell_type": "code",
     "collapsed": false,
     "input": [
      "conn.commit()\n",
      "cur.execute(\"SELECT sales.sr_property_id, assessor.sa_property_id \" +\n",
      "            \"FROM master.sales \" +\n",
      "            \"INNER JOIN master.assessor ON sa_property_id = sr_property_id \" + \n",
      "            \"WHERE sales.mm_fips_muni_code = 97 \" + \n",
      "            \"LIMIT 10000\")\n",
      "\n",
      "out1 = np.array(cur.fetchall())[:,1]\n",
      "count = np.shape(out1[out1>0])[0]\n",
      "\n",
      "print(count)"
     ],
     "language": "python",
     "metadata": {},
     "outputs": [
      {
       "output_type": "stream",
       "stream": "stdout",
       "text": [
        "10000\n"
       ]
      }
     ],
     "prompt_number": 13
    },
    {
     "cell_type": "code",
     "collapsed": false,
     "input": [
      "conn.commit()\n",
      "cur.execute(\"SELECT count(sales.sr_property_id) \" +\n",
      "            \"FROM master.sales \" +\n",
      "            \"INNER JOIN master.assessor ON sa_property_id = sr_property_id \" + \n",
      "            \"WHERE sales.mm_fips_muni_code = 97 \" + \n",
      "            \"LIMIT 10000\")\n",
      "\n",
      "print(cur.fetchall())"
     ],
     "language": "python",
     "metadata": {},
     "outputs": [
      {
       "output_type": "stream",
       "stream": "stdout",
       "text": [
        "[(541045L,)]\n"
       ]
      }
     ],
     "prompt_number": 15
    },
    {
     "cell_type": "code",
     "collapsed": false,
     "input": [],
     "language": "python",
     "metadata": {},
     "outputs": []
    }
   ],
   "metadata": {}
  }
 ]
}