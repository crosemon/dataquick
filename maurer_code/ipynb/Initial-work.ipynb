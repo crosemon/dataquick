{
 "metadata": {
  "name": ""
 },
 "nbformat": 3,
 "nbformat_minor": 0,
 "worksheets": [
  {
   "cells": [
    {
     "cell_type": "code",
     "collapsed": false,
     "input": [
      "import time\n",
      "import zipfile"
     ],
     "language": "python",
     "metadata": {},
     "outputs": [],
     "prompt_number": 8
    },
    {
     "cell_type": "markdown",
     "metadata": {},
     "source": [
      "### Assessor History"
     ]
    },
    {
     "cell_type": "code",
     "collapsed": false,
     "input": [
      "path = '/Volumes/StorEDGE/DataQuick/Assessor History/'\n",
      "fname = 'AH_2014.TXT'\n",
      "\n",
      "t0 = time.time()\n",
      "count = 0\n",
      "\n",
      "with open(path+fname, 'r') as f:\n",
      "    for line in f:   \n",
      "        if (count == 1):\n",
      "            temp = line\n",
      "        count += 1\n",
      "\n",
      "print time.time() - t0\n",
      "print count"
     ],
     "language": "python",
     "metadata": {},
     "outputs": [
      {
       "output_type": "stream",
       "stream": "stdout",
       "text": [
        "2.49136590958\n",
        "1242289\n"
       ]
      }
     ],
     "prompt_number": 11
    },
    {
     "cell_type": "code",
     "collapsed": false,
     "input": [
      "print temp"
     ],
     "language": "python",
     "metadata": {},
     "outputs": [
      {
       "output_type": "stream",
       "stream": "stdout",
       "text": [
        "29129595    47          00109306                           0010930600                         WILLIAMS,JENNIFER D                               JENNIFER                                          D                   WILLIAMS                                                                                                             0                                                                                                                                                                                                                JTBAKERSFIELD                   C018            2617                1804     BAY                                     ST                  93301       BAKERSFIELD                                       C018            2617                1804     CABAY                                               ST                  93301       YRSFR7           2013   156060      41616       114444      0           0           0           0           0           0           Y7000         0            0            0            0           T7000        2012   1824.90                                   0      1327       0      0      Y   1327        0           0           0           0           Y   Y 360    9 6660.0000                                1.75                                     0      0      0      0      0      0      3      5      1    1             1327        1327        1             1948   1948   20101221    159000      0000178190          0                               146479      0    0  2014        1           2014-01-14 163982      163982\r\n",
        "\n"
       ]
      }
     ],
     "prompt_number": 12
    },
    {
     "cell_type": "code",
     "collapsed": false,
     "input": [
      "print temp.count(' ')*1.0/len(temp)\n",
      "print len(temp)"
     ],
     "language": "python",
     "metadata": {},
     "outputs": [
      {
       "output_type": "stream",
       "stream": "stdout",
       "text": [
        "0.804130162703\n",
        "1598\n"
       ]
      }
     ],
     "prompt_number": 15
    },
    {
     "cell_type": "code",
     "collapsed": false,
     "input": [
      "import zipfile\n",
      "with zipfile.ZipFile(...) as z:\n",
      "    with z.open(...) as f:\n",
      "        for line in f:\n",
      "            print line"
     ],
     "language": "python",
     "metadata": {},
     "outputs": []
    },
    {
     "cell_type": "code",
     "collapsed": false,
     "input": [
      "import zipfile\n",
      "\n",
      "path = '/Volumes/StorEDGE/DataQuick/Assessor History/'\n",
      "zname = 'AH_2014.ZIP'\n",
      "fname = 'AH_2014.TXT'\n",
      "\n",
      "t0 = time.time()\n",
      "count = 0\n",
      "\n",
      "with zipfile.ZipFile(path+zname) as z:\n",
      "    with z.open(fname) as f:\n",
      "        for line in f:   \n",
      "            if (count == 1):\n",
      "                temp = line\n",
      "            count += 1\n",
      "\n",
      "print time.time() - t0\n",
      "print count"
     ],
     "language": "python",
     "metadata": {},
     "outputs": [
      {
       "output_type": "stream",
       "stream": "stdout",
       "text": [
        "26.2718410492\n",
        "1242289\n"
       ]
      }
     ],
     "prompt_number": 13
    },
    {
     "cell_type": "code",
     "collapsed": false,
     "input": [
      "print temp"
     ],
     "language": "python",
     "metadata": {},
     "outputs": [
      {
       "output_type": "stream",
       "stream": "stdout",
       "text": [
        "29129595    47          00109306                           0010930600                         WILLIAMS,JENNIFER D                               JENNIFER                                          D                   WILLIAMS                                                                                                             0                                                                                                                                                                                                                JTBAKERSFIELD                   C018            2617                1804     BAY                                     ST                  93301       BAKERSFIELD                                       C018            2617                1804     CABAY                                               ST                  93301       YRSFR7           2013   156060      41616       114444      0           0           0           0           0           0           Y7000         0            0            0            0           T7000        2012   1824.90                                   0      1327       0      0      Y   1327        0           0           0           0           Y   Y 360    9 6660.0000                                1.75                                     0      0      0      0      0      0      3      5      1    1             1327        1327        1             1948   1948   20101221    159000      0000178190          0                               146479      0    0  2014        1           2014-01-14 163982      163982\r\n",
        "\n"
       ]
      }
     ],
     "prompt_number": 14
    },
    {
     "cell_type": "markdown",
     "metadata": {},
     "source": [
      "### Sales History"
     ]
    },
    {
     "cell_type": "code",
     "collapsed": false,
     "input": [
      "path = '/Volumes/Seagate1/DataQuick/Sales History/Tab Delimited/'\n",
      "zname = 'ARB_HIST_01.zip'\n",
      "fname = 'ARB_HIST_01.txt'\n",
      "\n",
      "t0 = time.time()\n",
      "data = []\n",
      "\n",
      "with zipfile.ZipFile(path+zname) as z:\n",
      "    with z.open(fname) as f:\n",
      "        for line in f:   \n",
      "            data.append(line)\n",
      "\n",
      "print time.time() - t0\n",
      "print len(data)"
     ],
     "language": "python",
     "metadata": {},
     "outputs": [
      {
       "output_type": "stream",
       "stream": "stdout",
       "text": [
        "35.8464391232\n",
        "574\n"
       ]
      }
     ],
     "prompt_number": 47
    },
    {
     "cell_type": "code",
     "collapsed": false,
     "input": [
      "print data[1]"
     ],
     "language": "python",
     "metadata": {},
     "outputs": [
      {
       "output_type": "stream",
       "stream": "stdout",
       "text": [
        "220113863    38704928     62           CA ORANGE                   06    059     ORANGE                              123   371   13                           35086 CAMINO CAPISTRANO                                                                              35086 CAMINO CAPISTRANO                                                                              35086                              CAMINO CAPISTRANO                                                            CAPISTRANO BEACH                                   CA 92624 1731 C004 13    4     883  27    1                                                                                                                                                                                                                                        4      13     27     1                                                                     883                                     JENKINS,WALKER J & VICKI A                         JENKINS,WALKER J & VICKI A                         0            0.00         340136               0000340136           20070525     20070517     Q     R  1 0 P                                                            0                  0                                                                                                                                                0                  0                                                                                                                            0                0                                                                           113639          2566\r\n",
        "\n"
       ]
      }
     ],
     "prompt_number": 48
    },
    {
     "cell_type": "code",
     "collapsed": false,
     "input": [
      "print data[1].split('\\t')"
     ],
     "language": "python",
     "metadata": {},
     "outputs": [
      {
       "output_type": "stream",
       "stream": "stdout",
       "text": [
        "['220113863    38704928     62           CA ORANGE                   06    059     ORANGE                              123   371   13                           35086 CAMINO CAPISTRANO                                                                              35086 CAMINO CAPISTRANO                                                                              35086                              CAMINO CAPISTRANO                                                            CAPISTRANO BEACH                                   CA 92624 1731 C004 13    4     883  27    1                                                                                                                                                                                                                                        4      13     27     1                                                                     883                                     JENKINS,WALKER J & VICKI A                         JENKINS,WALKER J & VICKI A                         0            0.00         340136               0000340136           20070525     20070517     Q     R  1 0 P                                                            0                  0                                                                                                                                                0                  0                                                                                                                            0                0                                                                           113639          2566\\r\\n']\n"
       ]
      }
     ],
     "prompt_number": 49
    },
    {
     "cell_type": "code",
     "collapsed": false,
     "input": [
      "print temp[0:12].strip()"
     ],
     "language": "python",
     "metadata": {},
     "outputs": [
      {
       "output_type": "stream",
       "stream": "stdout",
       "text": [
        "220113863\n"
       ]
      }
     ],
     "prompt_number": 31
    },
    {
     "cell_type": "code",
     "collapsed": false,
     "input": [
      "fields = [\"SR_UNIQUE_ID\",\n",
      "\"SR_PROPERTY_ID\",\n",
      "\"SR_SCM_ID\",\n",
      "\"MM_STATE_CODE\",\n",
      "\"MM_MUNI_NAME\",\n",
      "\"MM_FIPS_STATE_CODE\",\n",
      "\"MM_FIPS_MUNI_CODE\",\n",
      "\"MM_FIPS_COUNTY_NAME\",\n",
      "\"SR_PARCEL_NBR_RAW\",\n",
      "\"SR_SITE_ADDR_RAW\",\n",
      "\"SR_MAIL_ADDR_RAW\",\n",
      "\"SR_MAIL_HOUSE_NBR\",\n",
      "\"SR_MAIL_FRACTION\",\n",
      "\"SR_MAIL_DIR\",\n",
      "\"SR_MAIL_STREET_NAME\",\n",
      "\"SR_MAIL_SUF\",\n",
      "\"SR_MAIL_POST_DIR\",\n",
      "\"SR_MAIL_UNIT_PRE\",\n",
      "\"SR_MAIL_UNIT_VAL\",\n",
      "\"SR_MAIL_CITY\",\n",
      "\"SR_MAIL_STATE\",\n",
      "\"SR_MAIL_ZIP\",\n",
      "\"SR_MAIL_PLUS_4\",\n",
      "\"SR_MAIL_CRRT\",\n",
      "\"SR_LGL_DSCRPTN\",\n",
      "\"SR_LGL_KEYED_BLOCK\",\n",
      "\"SR_LGL_KEYED_LOT\",\n",
      "\"SR_LGL_KEYED_PLAT_BOOK\",\n",
      "\"SR_LGL_KEYED_PLAT_PAGE\",\n",
      "\"SR_LGL_KEYED_RANGE\",\n",
      "\"SR_LGL_KEYED_SECTION\",\n",
      "\"SR_LGL_KEYED_SUB_NAME\",\n",
      "\"SR_LGL_KEYED_TOWNSHIP\",\n",
      "\"SR_LGL_KEYED_TRACT\",\n",
      "\"SR_LGL_KEYED_UNIT\",\n",
      "\"SR_BUYER\",\n",
      "\"SR_SELLER\",\n",
      "\"SR_VAL_TRANSFER\",\n",
      "\"SR_TAX_TRANSFER\",\n",
      "\"SR_DOC_NBR_RAW\",\n",
      "\"SR_DOC_NBR_FMT\",\n",
      "\"SR_DATE_TRANSFER\",\n",
      "\"SR_DATE_FILING\",\n",
      "\"SR_DOC_TYPE\",\n",
      "\"SR_DEED_TYPE\",\n",
      "\"SR_TRAN_TYPE\",\n",
      "\"SR_QUITCLAIM\",\n",
      "\"SR_ARMS_LENGTH_FLAG\",\n",
      "\"SR_FULL_PART_CODE\",\n",
      "\"SR_MULT_APN_FLAG_KEYED\",\n",
      "\"SR_MULT_PORT_CODE\",\n",
      "\"SR_LNDR_SELLER_FLAG\",\n",
      "\"SR_TD_DOC_NBR_1\",\n",
      "\"SR_LOAN_ID_1\",\n",
      "\"SR_LOAN_ID_1_EXT\",\n",
      "\"SR_LOAN_VAL_1\",\n",
      "\"SR_LOAN_TYPE_1\",\n",
      "\"SR_INT_RATE_TYPE_1\",\n",
      "\"SR_LNDR_CREDIT_LINE_1\",\n",
      "\"SR_LNDR_CODE_1\",\n",
      "\"SR_LNDR_FIRST_NAME_1\",\n",
      "\"SR_LNDR_LAST_NAME_1\",\n",
      "\"SR_LENDER_TYPE_1\",\n",
      "\"SR_TD_DOC_NBR_2\",\n",
      "\"SR_LOAN_ID_2\",\n",
      "\"SR_LOAN_ID_2_EXT\",\n",
      "\"SR_LOAN_VAL_2\",\n",
      "\"SR_LOAN_TYPE_2\",\n",
      "\"SR_INT_RATE_TYPE_2\",\n",
      "\"SR_LNDR_CREDIT_LINE_2\",\n",
      "\"SR_LNDR_CODE_2\",\n",
      "\"SR_LNDR_FIRST_NAME_2\",\n",
      "\"SR_LNDR_LAST_NAME_2\",\n",
      "\"SR_LENDER_TYPE_2\",\n",
      "\"SR_TD_DOC_NBR_3\",\n",
      "\"SR_LOAN_ID_3\",\n",
      "\"SR_LOAN_ID_3_EXT\",\n",
      "\"SR_LOAN_VAL_3\",\n",
      "\"SR_LOAN_TYPE_3\",\n",
      "\"SR_INT_RATE_TYPE_3\",\n",
      "\"SR_LNDR_CODE_3\",\n",
      "\"SR_LNDR_CREDIT_LINE_3\",\n",
      "\"SR_LNDR_FIRST_NAME_3\",\n",
      "\"SR_LNDR_LAST_NAME_3\",\n",
      "\"SR_LENDER_TYPE_3\",\n",
      "\"DISTRESS_INDICATOR\",\n",
      "\"PROCESS_ID\",\n",
      "\"FILLER\"]"
     ],
     "language": "python",
     "metadata": {},
     "outputs": [],
     "prompt_number": 83
    },
    {
     "cell_type": "code",
     "collapsed": false,
     "input": [
      "field_lengths = [12, 12, 12, 2, 24, 5, 7, 35, 40, 100, 100, 20, 10, 2, 50, 4, 2, 10, 6,\n",
      "50, 2, 5, 4, 4, 255, 6, 6, 6, 6, 3, 3, 50, 3, 30, 8, 50, 50, 12, 12, 20,\n",
      "20, 12, 12, 2, 2, 2, 1, 1, 1, 1, 1, 1, 20, 20, 10, 12, 1, 1, 1, 12, 50,\n",
      "25, 1, 20, 20, 10, 12, 1, 1, 1, 12, 30, 25, 1, 20, 20, 10, 12, 1, 1, 12,\n",
      "1, 30, 25, 1, 1, 12, 2]"
     ],
     "language": "python",
     "metadata": {},
     "outputs": [],
     "prompt_number": 118
    },
    {
     "cell_type": "code",
     "collapsed": false,
     "input": [
      "line = data[10]\n",
      "arr = []\n",
      "pos = 0\n",
      "\n",
      "print repr(line)\n",
      "print\n",
      "\n",
      "for flen in field_lengths:\n",
      "    arr.append(line[pos:pos+flen].rstrip(' '))\n",
      "    pos += flen+1\n",
      "\n",
      "for i, lab in enumerate(fields):\n",
      "    print str(i+1), fields[i], \"//\", arr[i]"
     ],
     "language": "python",
     "metadata": {},
     "outputs": [
      {
       "output_type": "stream",
       "stream": "stdout",
       "text": [
        "'371228080    24607411     79           CA SANTA BARBARA            06    083     SANTA BARBARA                       00315117                                                                                                                                      1095 HOLLY LN CARPINTERIA CA 930131852                                                               1095                               HOLLY                                              LN                        CARPINTERIA                                        CA 93013 1852 C008   25    88                                                                                                                                                                                                                                                                    25     88                                                                                                            MEDEL,BARBARA A 2012 TRUST                         MEDEL L & B A FAMILY TRUST                         0            0.00         71539                0000071539           20131106     20131031     Q     R  1 0   M                                                                                                                                                                                                                                                                                                                                                                                                                                                                           145718          2255\\r\\n'\n",
        "\n",
        "1 SR_UNIQUE_ID // 371228080\n",
        "2 SR_PROPERTY_ID // 24607411\n",
        "3 SR_SCM_ID // 79\n",
        "4 MM_STATE_CODE // CA\n",
        "5 MM_MUNI_NAME // SANTA BARBARA\n",
        "6 MM_FIPS_STATE_CODE // 06\n",
        "7 MM_FIPS_MUNI_CODE // 083\n",
        "8 MM_FIPS_COUNTY_NAME // SANTA BARBARA\n",
        "9 SR_PARCEL_NBR_RAW // 00315117\n",
        "10 SR_SITE_ADDR_RAW // \n",
        "11 SR_MAIL_ADDR_RAW // 1095 HOLLY LN CARPINTERIA CA 930131852\n",
        "12 SR_MAIL_HOUSE_NBR // 1095\n",
        "13 SR_MAIL_FRACTION // \n",
        "14 SR_MAIL_DIR // \n",
        "15 SR_MAIL_STREET_NAME // HOLLY\n",
        "16 SR_MAIL_SUF // LN\n",
        "17 SR_MAIL_POST_DIR // \n",
        "18 SR_MAIL_UNIT_PRE // \n",
        "19 SR_MAIL_UNIT_VAL // \n",
        "20 SR_MAIL_CITY // CARPINTERIA\n",
        "21 SR_MAIL_STATE // CA\n",
        "22 SR_MAIL_ZIP // 93013\n",
        "23 SR_MAIL_PLUS_4 // 1852\n",
        "24 SR_MAIL_CRRT // C008\n",
        "25 SR_LGL_DSCRPTN //   25    88\n",
        "26 SR_LGL_KEYED_BLOCK // \n",
        "27 SR_LGL_KEYED_LOT // \n",
        "28 SR_LGL_KEYED_PLAT_BOOK // 25\n",
        "29 SR_LGL_KEYED_PLAT_PAGE // 88\n",
        "30 SR_LGL_KEYED_RANGE // \n",
        "31 SR_LGL_KEYED_SECTION // \n",
        "32 SR_LGL_KEYED_SUB_NAME // \n",
        "33 SR_LGL_KEYED_TOWNSHIP // \n",
        "34 SR_LGL_KEYED_TRACT // \n",
        "35 SR_LGL_KEYED_UNIT // \n",
        "36 SR_BUYER // MEDEL,BARBARA A 2012 TRUST\n",
        "37 SR_SELLER // MEDEL L & B A FAMILY TRUST\n",
        "38 SR_VAL_TRANSFER // 0\n",
        "39 SR_TAX_TRANSFER // 0.00\n",
        "40 SR_DOC_NBR_RAW // 71539\n",
        "41 SR_DOC_NBR_FMT // 0000071539\n",
        "42 SR_DATE_TRANSFER // 20131106\n",
        "43 SR_DATE_FILING // 20131031\n",
        "44 SR_DOC_TYPE // Q\n",
        "45 SR_DEED_TYPE // \n",
        "46 SR_TRAN_TYPE // R\n",
        "47 SR_QUITCLAIM // 1\n",
        "48 SR_ARMS_LENGTH_FLAG // 0\n",
        "49 SR_FULL_PART_CODE // \n",
        "50 SR_MULT_APN_FLAG_KEYED // M\n",
        "51 SR_MULT_PORT_CODE // \n",
        "52 SR_LNDR_SELLER_FLAG // \n",
        "53 SR_TD_DOC_NBR_1 // \n",
        "54 SR_LOAN_ID_1 // \n",
        "55 SR_LOAN_ID_1_EXT // \n",
        "56 SR_LOAN_VAL_1 // \n",
        "57 SR_LOAN_TYPE_1 // \n",
        "58 SR_INT_RATE_TYPE_1 // \n",
        "59 SR_LNDR_CREDIT_LINE_1 // \n",
        "60 SR_LNDR_CODE_1 // \n",
        "61 SR_LNDR_FIRST_NAME_1 // \n",
        "62 SR_LNDR_LAST_NAME_1 // \n",
        "63 SR_LENDER_TYPE_1 // \n",
        "64 SR_TD_DOC_NBR_2 // \n",
        "65 SR_LOAN_ID_2 // \n",
        "66 SR_LOAN_ID_2_EXT // \n",
        "67 SR_LOAN_VAL_2 // \n",
        "68 SR_LOAN_TYPE_2 // \n",
        "69 SR_INT_RATE_TYPE_2 // \n",
        "70 SR_LNDR_CREDIT_LINE_2 // \n",
        "71 SR_LNDR_CODE_2 // \n",
        "72 SR_LNDR_FIRST_NAME_2 // \n",
        "73 SR_LNDR_LAST_NAME_2 // \n",
        "74 SR_LENDER_TYPE_2 // \n",
        "75 SR_TD_DOC_NBR_3 // \n",
        "76 SR_LOAN_ID_3 // \n",
        "77 SR_LOAN_ID_3_EXT // \n",
        "78 SR_LOAN_VAL_3 // \n",
        "79 SR_LOAN_TYPE_3 // \n",
        "80 SR_INT_RATE_TYPE_3 // \n",
        "81 SR_LNDR_CODE_3 // \n",
        "82 SR_LNDR_CREDIT_LINE_3 // \n",
        "83 SR_LNDR_FIRST_NAME_3 // \n",
        "84 SR_LNDR_LAST_NAME_3 // \n",
        "85 SR_LENDER_TYPE_3 // \n",
        "86 DISTRESS_INDICATOR // \n",
        "87 PROCESS_ID // 145718\n",
        "88 FILLER // 2255\n"
       ]
      }
     ],
     "prompt_number": 85
    },
    {
     "cell_type": "code",
     "collapsed": false,
     "input": [
      "print len(data[10])\n",
      "print 1530+87+5"
     ],
     "language": "python",
     "metadata": {},
     "outputs": [
      {
       "output_type": "stream",
       "stream": "stdout",
       "text": [
        "1622\n",
        "1622\n"
       ]
      }
     ],
     "prompt_number": 74
    },
    {
     "cell_type": "markdown",
     "metadata": {},
     "source": [
      "### Clean version"
     ]
    },
    {
     "cell_type": "code",
     "collapsed": false,
     "input": [
      "path = '/Volumes/Seagate1/DataQuick/Sales History/Tab Delimited/'\n",
      "zname = 'ARB_HIST_01.zip'\n",
      "fname = 'ARB_HIST_01.txt'"
     ],
     "language": "python",
     "metadata": {},
     "outputs": [],
     "prompt_number": 113
    },
    {
     "cell_type": "code",
     "collapsed": false,
     "input": [
      "path = '/Volumes/Seagate1/DataQuick/Sales History/'\n",
      "zname = 'ARB_HIST.zip'\n",
      "fname = 'ARB_HIST.txt'"
     ],
     "language": "python",
     "metadata": {},
     "outputs": [],
     "prompt_number": 115
    },
    {
     "cell_type": "code",
     "collapsed": false,
     "input": [
      "# USING ZIP FILE\n",
      "\n",
      "t0 = time.time()\n",
      "data = []\n",
      "\n",
      "with zipfile.ZipFile(path+zname) as z:\n",
      "    with z.open(fname) as f:\n",
      "        for i in range(800000):\n",
      "            line = f.readline()\n",
      "            pos = 0\n",
      "            arr = []\n",
      "            for flen in field_lengths:\n",
      "                arr.append(line[pos:pos+flen].rstrip(' '))\n",
      "                pos += flen\n",
      "            if (arr[4] == \"ALAMEDA\"):\n",
      "                data.append(arr)\n",
      "\n",
      "print time.time() - t0\n",
      "print len(data)"
     ],
     "language": "python",
     "metadata": {},
     "outputs": [
      {
       "output_type": "stream",
       "stream": "stdout",
       "text": [
        "69.6723120213\n",
        "50238\n"
       ]
      }
     ],
     "prompt_number": 126
    },
    {
     "cell_type": "code",
     "collapsed": false,
     "input": [],
     "language": "python",
     "metadata": {},
     "outputs": [
      {
       "output_type": "stream",
       "stream": "stdout",
       "text": [
        "16.3159921169\n",
        "49\n"
       ]
      }
     ],
     "prompt_number": 106
    },
    {
     "cell_type": "code",
     "collapsed": false,
     "input": [],
     "language": "python",
     "metadata": {},
     "outputs": []
    },
    {
     "cell_type": "code",
     "collapsed": false,
     "input": [],
     "language": "python",
     "metadata": {},
     "outputs": [],
     "prompt_number": 98
    },
    {
     "cell_type": "code",
     "collapsed": false,
     "input": [],
     "language": "python",
     "metadata": {},
     "outputs": [
      {
       "output_type": "stream",
       "stream": "stdout",
       "text": [
        "4.00847482681\n",
        "574\n"
       ]
      }
     ],
     "prompt_number": 93
    },
    {
     "cell_type": "code",
     "collapsed": false,
     "input": [
      "import csv\n",
      "with open(path+'ARB_HIST_ALAMEDA.csv', 'wb') as f:\n",
      "    writer = csv.writer(f)\n",
      "    writer.writerow(fields)\n",
      "    writer.writerows(data[:50000])"
     ],
     "language": "python",
     "metadata": {},
     "outputs": [],
     "prompt_number": 127
    },
    {
     "cell_type": "code",
     "collapsed": false,
     "input": [
      "with zipfile.ZipFile(path+zname) as z:\n",
      "    with z.open(fname) as f:\n",
      "        print f.readline()\n"
     ],
     "language": "python",
     "metadata": {},
     "outputs": [
      {
       "output_type": "stream",
       "stream": "stdout",
       "text": [
        "220113861    38974507     62           CA ORANGE                   06    059     ORANGE                              410   451   03                                                                                                                                PO BOX 607                                                                                                                              PO BOX 607                                                                   KAILUA KONA                                        HI 96745 0607 B006 3           9622  405   21                                                                                                                                                                                                                                             3      405    21                                                                    9622                                    VESTAL WILLIAM H TRUST                             VESTAL,WILLIAM H                                   0            0.00         340119               0000340119           20070525     20070426     Q     R  1 0 P                                                            0                  0                                                                                                                                                0                  0                                                                                                                            0                0                                                                           113639          2565\r\n",
        "\n"
       ]
      }
     ],
     "prompt_number": 107
    },
    {
     "cell_type": "code",
     "collapsed": false,
     "input": [],
     "language": "python",
     "metadata": {},
     "outputs": [],
     "prompt_number": 127
    },
    {
     "cell_type": "code",
     "collapsed": false,
     "input": [],
     "language": "python",
     "metadata": {},
     "outputs": []
    },
    {
     "cell_type": "code",
     "collapsed": false,
     "input": [],
     "language": "python",
     "metadata": {},
     "outputs": []
    },
    {
     "cell_type": "code",
     "collapsed": false,
     "input": [],
     "language": "python",
     "metadata": {},
     "outputs": []
    },
    {
     "cell_type": "markdown",
     "metadata": {},
     "source": [
      "### Pre Foreclosure, delimited vs not"
     ]
    },
    {
     "cell_type": "code",
     "collapsed": false,
     "input": [
      "path = '/Volumes/Seagate1/DataQuick/Pre Foreclosure/Tab Delimited/'\n",
      "zname = 'ARB_FORE.zip'\n",
      "fname = 'ARB_FORE.txt'\n",
      "\n",
      "t0 = time.time()\n",
      "count = 0\n",
      "\n",
      "with zipfile.ZipFile(path+zname) as z:\n",
      "    with z.open(fname) as f:\n",
      "        for line in f:   \n",
      "            if (count == 1):\n",
      "                temp = line\n",
      "            count += 1\n",
      "\n",
      "print time.time() - t0\n",
      "print count"
     ],
     "language": "python",
     "metadata": {},
     "outputs": [
      {
       "output_type": "stream",
       "stream": "stdout",
       "text": [
        "50.3075129986\n",
        "2959233\n"
       ]
      }
     ],
     "prompt_number": 19
    },
    {
     "cell_type": "code",
     "collapsed": false,
     "input": [
      "print temp"
     ],
     "language": "python",
     "metadata": {},
     "outputs": [
      {
       "output_type": "stream",
       "stream": "stdout",
       "text": [
        "27516767     65           CA RIVERSIDE                06 065 RIVERSIDE                           220665260    320082326    T 185061003                           20111207 0000540608           N 20070606 0000371671           0            CARTER                                             MOSSMAN                   QUALITY LOAN SERVICE CORP                                                    2141       5TH AVE                                                  SAN DIEGO                                          CA 92101 7145731965 CA-11-434574-VF 4462         SERVICE LINK                   133694                                                                                                                                                                                                                                                                                                                                                                                                    0            346000       5711       CAMINO REAL                                              RIVERSIDE                                          CA 92509 20111228  9:00 A 849        W SIXTH ST                                         CORONA                                             379969                    \r\n",
        "\n"
       ]
      }
     ],
     "prompt_number": 20
    },
    {
     "cell_type": "code",
     "collapsed": false,
     "input": [],
     "language": "python",
     "metadata": {},
     "outputs": []
    }
   ],
   "metadata": {}
  }
 ]
}