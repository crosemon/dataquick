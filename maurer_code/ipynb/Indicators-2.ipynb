{
 "metadata": {
  "name": ""
 },
 "nbformat": 3,
 "nbformat_minor": 0,
 "worksheets": [
  {
   "cells": [
    {
     "cell_type": "markdown",
     "metadata": {},
     "source": [
      "### Stats for the ratio of improvement value to land value..."
     ]
    },
    {
     "cell_type": "code",
     "collapsed": false,
     "input": [
      "import psycopg2\n",
      "import numpy as np\n",
      "import time\n",
      "import math\n",
      "import csv"
     ],
     "language": "python",
     "metadata": {},
     "outputs": [],
     "prompt_number": 1
    },
    {
     "cell_type": "code",
     "collapsed": false,
     "input": [
      "# Connect to the database\n",
      "conn_string = \"host='paris.ual.berkeley.edu' dbname='california' user='urbanvision' password='Visua1ization'\"\n",
      "conn = psycopg2.connect(conn_string)\n",
      "cur = conn.cursor()"
     ],
     "language": "python",
     "metadata": {},
     "outputs": [],
     "prompt_number": 74
    },
    {
     "cell_type": "code",
     "collapsed": false,
     "input": [
      "# County name and mm_fips_muni_code\n",
      "\n",
      "cty = [{'fips': 1,  'name': 'Alameda      '},\n",
      "       {'fips': 13, 'name': 'Contra Costa '},\n",
      "       {'fips': 41, 'name': 'Marin        '},\n",
      "       {'fips': 55, 'name': 'Napa         '},\n",
      "       {'fips': 75, 'name': 'San Francisco'},\n",
      "       {'fips': 81, 'name': 'San Mateo    '},\n",
      "       {'fips': 85, 'name': 'Santa Clara  '},\n",
      "       {'fips': 95, 'name': 'Solano       '},\n",
      "       {'fips': 97, 'name': 'Sonoma       '}]"
     ],
     "language": "python",
     "metadata": {},
     "outputs": [],
     "prompt_number": 3
    },
    {
     "cell_type": "code",
     "collapsed": false,
     "input": [],
     "language": "python",
     "metadata": {},
     "outputs": [],
     "prompt_number": "*"
    },
    {
     "cell_type": "markdown",
     "metadata": {},
     "source": [
      "### What do the data values look like for the fields we might use?"
     ]
    },
    {
     "cell_type": "code",
     "collapsed": false,
     "input": [
      "t0 = time.time()\n",
      "conn.commit()\n",
      "\n",
      "print \"ASSR_YEAR\"\n",
      "print\n",
      "\n",
      "for c in cty:\n",
      "    cur.execute(\"\"\" SELECT min(assr_year), max(assr_year) \n",
      "                    FROM dataquick.assessor \n",
      "                    WHERE mm_fips_muni_code = %s \n",
      "                        AND assr_year != '0' \n",
      "                        AND substring(use_code_std from 1 for 1) = 'R' \n",
      "                        AND sa_census_tract != '' \"\"\", (c['fips'],))\n",
      "    \n",
      "    out = cur.fetchall()\n",
      "    for r in out:\n",
      "        print c['name'], \"// min\", r[0], \"// max\", r[1]\n",
      "\n",
      "print round(time.time() - t0), \"sec\""
     ],
     "language": "python",
     "metadata": {},
     "outputs": [
      {
       "output_type": "stream",
       "stream": "stdout",
       "text": [
        "ASSR_YEAR\n",
        "\n",
        "Alameda      "
       ]
      },
      {
       "output_type": "stream",
       "stream": "stdout",
       "text": [
        " // min 2011 // max 2013\n",
        "Contra Costa "
       ]
      },
      {
       "output_type": "stream",
       "stream": "stdout",
       "text": [
        " // min 2011 // max 2013\n",
        "Marin        "
       ]
      },
      {
       "output_type": "stream",
       "stream": "stdout",
       "text": [
        " // min 2011 // max 2013\n",
        "Napa         "
       ]
      },
      {
       "output_type": "stream",
       "stream": "stdout",
       "text": [
        " // min 2011 // max 2013\n",
        "San Francisco"
       ]
      },
      {
       "output_type": "stream",
       "stream": "stdout",
       "text": [
        " // min 2011 // max 2013\n",
        "San Mateo    "
       ]
      },
      {
       "output_type": "stream",
       "stream": "stdout",
       "text": [
        " // min 2011 // max 2013\n",
        "Santa Clara  "
       ]
      },
      {
       "output_type": "stream",
       "stream": "stdout",
       "text": [
        " // min 2011 // max 2013\n",
        "Solano       "
       ]
      },
      {
       "output_type": "stream",
       "stream": "stdout",
       "text": [
        " // min 2011 // max 2013\n",
        "Sonoma       "
       ]
      },
      {
       "output_type": "stream",
       "stream": "stdout",
       "text": [
        " // min 2011 // max 2013\n",
        "8.0 sec\n"
       ]
      }
     ],
     "prompt_number": 4
    },
    {
     "cell_type": "code",
     "collapsed": false,
     "input": [
      "t0 = time.time()\n",
      "conn.commit()\n",
      "\n",
      "print \"SA_APPRAISE_YR\"\n",
      "print\n",
      "\n",
      "for c in cty:\n",
      "    cur.execute(\"\"\" SELECT min(sa_appraise_yr), max(sa_appraise_yr) \n",
      "                    FROM dataquick.assessor \n",
      "                    WHERE mm_fips_muni_code = %s \n",
      "                        AND sa_appraise_yr > 0 \n",
      "                        AND substring(use_code_std from 1 for 1) = 'R' \n",
      "                        AND sa_census_tract != '' \"\"\", (c['fips'],))\n",
      "    \n",
      "    out = cur.fetchall()\n",
      "    for r in out:\n",
      "        print c['name'], \"// min\", r[0], \"// max\", r[1]\n",
      "\n",
      "print round(time.time() - t0), \"sec\""
     ],
     "language": "python",
     "metadata": {},
     "outputs": [
      {
       "output_type": "stream",
       "stream": "stdout",
       "text": [
        "SA_APPRAISE_YR\n",
        "\n",
        "Alameda      "
       ]
      },
      {
       "output_type": "stream",
       "stream": "stdout",
       "text": [
        " // min 2006 // max 2013\n",
        "Contra Costa "
       ]
      },
      {
       "output_type": "stream",
       "stream": "stdout",
       "text": [
        " // min 2005 // max 2013\n",
        "Marin        "
       ]
      },
      {
       "output_type": "stream",
       "stream": "stdout",
       "text": [
        " // min 2005 // max 2013\n",
        "Napa         "
       ]
      },
      {
       "output_type": "stream",
       "stream": "stdout",
       "text": [
        " // min 2004 // max 2013\n",
        "San Francisco"
       ]
      },
      {
       "output_type": "stream",
       "stream": "stdout",
       "text": [
        " // min 2004 // max 2013\n",
        "San Mateo    "
       ]
      },
      {
       "output_type": "stream",
       "stream": "stdout",
       "text": [
        " // min 2004 // max 2013\n",
        "Santa Clara  "
       ]
      },
      {
       "output_type": "stream",
       "stream": "stdout",
       "text": [
        " // min 2004 // max 2013\n",
        "Solano       "
       ]
      },
      {
       "output_type": "stream",
       "stream": "stdout",
       "text": [
        " // min 2004 // max 2013\n",
        "Sonoma       "
       ]
      },
      {
       "output_type": "stream",
       "stream": "stdout",
       "text": [
        " // min 2004 // max 2013\n",
        "6.0 sec\n"
       ]
      }
     ],
     "prompt_number": 5
    },
    {
     "cell_type": "code",
     "collapsed": false,
     "input": [
      "t0 = time.time()\n",
      "conn.commit()\n",
      "\n",
      "print \"SA_YEAR_LAND_APPRAISE\"\n",
      "print\n",
      "\n",
      "for c in cty:\n",
      "    cur.execute(\"\"\" SELECT min(sa_yr_land_appraise), max(sa_yr_land_appraise) \n",
      "                    FROM dataquick.assessor \n",
      "                    WHERE mm_fips_muni_code = %s \n",
      "                        AND sa_yr_land_appraise > 0 \n",
      "                        AND substring(use_code_std from 1 for 1) = 'R' \n",
      "                        AND sa_census_tract != '' \"\"\", (c['fips'],))\n",
      "    \n",
      "    out = cur.fetchall()\n",
      "    for r in out:\n",
      "        print c['name'], \"// min\", r[0], \"// max\", r[1]\n",
      "\n",
      "print round(time.time() - t0), \"sec\""
     ],
     "language": "python",
     "metadata": {},
     "outputs": [
      {
       "output_type": "stream",
       "stream": "stdout",
       "text": [
        "SA_YEAR_LAND_APPRAISE\n",
        "\n",
        "Alameda      "
       ]
      },
      {
       "output_type": "stream",
       "stream": "stdout",
       "text": [
        " // min 2004 // max 2013\n",
        "Contra Costa "
       ]
      },
      {
       "output_type": "stream",
       "stream": "stdout",
       "text": [
        " // min 2005 // max 2013\n",
        "Marin        "
       ]
      },
      {
       "output_type": "stream",
       "stream": "stdout",
       "text": [
        " // min 2005 // max 2013\n",
        "Napa         "
       ]
      },
      {
       "output_type": "stream",
       "stream": "stdout",
       "text": [
        " // min 2004 // max 2013\n",
        "San Francisco"
       ]
      },
      {
       "output_type": "stream",
       "stream": "stdout",
       "text": [
        " // min 2004 // max 2013\n",
        "San Mateo    "
       ]
      },
      {
       "output_type": "stream",
       "stream": "stdout",
       "text": [
        " // min 2004 // max 2013\n",
        "Santa Clara  "
       ]
      },
      {
       "output_type": "stream",
       "stream": "stdout",
       "text": [
        " // min 2004 // max 2013\n",
        "Solano       "
       ]
      },
      {
       "output_type": "stream",
       "stream": "stdout",
       "text": [
        " // min 2004 // max 2013\n",
        "Sonoma       "
       ]
      },
      {
       "output_type": "stream",
       "stream": "stdout",
       "text": [
        " // min 2004 // max 2013\n",
        "7.0 sec\n"
       ]
      }
     ],
     "prompt_number": 6
    },
    {
     "cell_type": "code",
     "collapsed": false,
     "input": [
      "t0 = time.time()\n",
      "conn.commit()\n",
      "\n",
      "print \"SA_IMPRV_PCT\"\n",
      "print\n",
      "\n",
      "for c in cty:\n",
      "    cur.execute(\"\"\" SELECT min(sa_imprv_pct), max(sa_imprv_pct) \n",
      "                    FROM dataquick.assessor \n",
      "                    WHERE mm_fips_muni_code = %s \n",
      "                        AND sa_imprv_pct > 0 \n",
      "                        AND substring(use_code_std from 1 for 1) = 'R' \n",
      "                        AND sa_census_tract != '' \"\"\", (c['fips'],))\n",
      "    \n",
      "    out = cur.fetchall()\n",
      "    for r in out:\n",
      "        print c['name'], \"// min\", r[0], \"// max\", r[1]\n",
      "\n",
      "print round(time.time() - t0), \"sec\""
     ],
     "language": "python",
     "metadata": {},
     "outputs": [
      {
       "output_type": "stream",
       "stream": "stdout",
       "text": [
        "SA_IMPRV_PCT\n",
        "\n",
        "Alameda      "
       ]
      },
      {
       "output_type": "stream",
       "stream": "stdout",
       "text": [
        " // min 0.04 // max 100.00\n",
        "Contra Costa "
       ]
      },
      {
       "output_type": "stream",
       "stream": "stdout",
       "text": [
        " // min 0.01 // max 99.33\n",
        "Marin        "
       ]
      },
      {
       "output_type": "stream",
       "stream": "stdout",
       "text": [
        " // min 0.02 // max 100.00\n",
        "Napa         "
       ]
      },
      {
       "output_type": "stream",
       "stream": "stdout",
       "text": [
        " // min 0.07 // max 100.00\n",
        "San Francisco"
       ]
      },
      {
       "output_type": "stream",
       "stream": "stdout",
       "text": [
        " // min 0.55 // max 100.00\n",
        "San Mateo    "
       ]
      },
      {
       "output_type": "stream",
       "stream": "stdout",
       "text": [
        " // min 0.04 // max 100.00\n",
        "Santa Clara  "
       ]
      },
      {
       "output_type": "stream",
       "stream": "stdout",
       "text": [
        " // min 0.01 // max 99.97\n",
        "Solano       "
       ]
      },
      {
       "output_type": "stream",
       "stream": "stdout",
       "text": [
        " // min 1.25 // max 100.00\n",
        "Sonoma       "
       ]
      },
      {
       "output_type": "stream",
       "stream": "stdout",
       "text": [
        " // min 0.20 // max 100.00\n",
        "7.0 sec\n"
       ]
      }
     ],
     "prompt_number": 9
    },
    {
     "cell_type": "code",
     "collapsed": false,
     "input": [
      "t0 = time.time()\n",
      "conn.commit()\n",
      "\n",
      "print \"SA_IMPRV_PCT_APPRAISE\"\n",
      "print\n",
      "\n",
      "for c in cty:\n",
      "    cur.execute(\"\"\" SELECT min(sa_imprv_pct_appraise), max(sa_imprv_pct_appraise) \n",
      "                    FROM dataquick.assessor \n",
      "                    WHERE mm_fips_muni_code = %s \n",
      "                        AND sa_imprv_pct_appraise > 0 \n",
      "                        AND substring(use_code_std from 1 for 1) = 'R' \n",
      "                        AND sa_census_tract != '' \"\"\", (c['fips'],))\n",
      "    \n",
      "    out = cur.fetchall()\n",
      "    for r in out:\n",
      "        print c['name'], \"// min\", r[0], \"// max\", r[1]\n",
      "\n",
      "print round(time.time() - t0), \"sec\""
     ],
     "language": "python",
     "metadata": {},
     "outputs": [
      {
       "output_type": "stream",
       "stream": "stdout",
       "text": [
        "SA_IMPRV_PCT_APPRAISE\n",
        "\n",
        "Alameda      "
       ]
      },
      {
       "output_type": "stream",
       "stream": "stdout",
       "text": [
        " // min None // max None\n",
        "Contra Costa "
       ]
      },
      {
       "output_type": "stream",
       "stream": "stdout",
       "text": [
        " // min None // max None\n",
        "Marin        "
       ]
      },
      {
       "output_type": "stream",
       "stream": "stdout",
       "text": [
        " // min None // max None\n",
        "Napa         "
       ]
      },
      {
       "output_type": "stream",
       "stream": "stdout",
       "text": [
        " // min None // max None\n",
        "San Francisco"
       ]
      },
      {
       "output_type": "stream",
       "stream": "stdout",
       "text": [
        " // min None // max None\n",
        "San Mateo    "
       ]
      },
      {
       "output_type": "stream",
       "stream": "stdout",
       "text": [
        " // min None // max None\n",
        "Santa Clara  "
       ]
      },
      {
       "output_type": "stream",
       "stream": "stdout",
       "text": [
        " // min None // max None\n",
        "Solano       "
       ]
      },
      {
       "output_type": "stream",
       "stream": "stdout",
       "text": [
        " // min None // max None\n",
        "Sonoma       "
       ]
      },
      {
       "output_type": "stream",
       "stream": "stdout",
       "text": [
        " // min None // max None\n",
        "1.0 sec\n"
       ]
      }
     ],
     "prompt_number": 10
    },
    {
     "cell_type": "code",
     "collapsed": false,
     "input": [
      "t0 = time.time()\n",
      "conn.commit()\n",
      "\n",
      "print \"SA_APPRAISE_VAL\"\n",
      "print\n",
      "\n",
      "for c in cty:\n",
      "    cur.execute(\"\"\" SELECT min(sa_appraise_val), max(sa_appraise_val) \n",
      "                    FROM dataquick.assessor \n",
      "                    WHERE mm_fips_muni_code = %s \n",
      "                        AND sa_appraise_val > 0 \n",
      "                        AND substring(use_code_std from 1 for 1) = 'R' \n",
      "                        AND sa_census_tract != '' \"\"\", (c['fips'],))\n",
      "    \n",
      "    out = cur.fetchall()\n",
      "    for r in out:\n",
      "        print c['name'], \"// min\", r[0], \"// max\", r[1]\n",
      "\n",
      "print round(time.time() - t0), \"sec\""
     ],
     "language": "python",
     "metadata": {},
     "outputs": [
      {
       "output_type": "stream",
       "stream": "stdout",
       "text": [
        "SA_APPRAISE_VAL\n",
        "\n",
        "Alameda      "
       ]
      },
      {
       "output_type": "stream",
       "stream": "stdout",
       "text": [
        " // min None // max None\n",
        "Contra Costa "
       ]
      },
      {
       "output_type": "stream",
       "stream": "stdout",
       "text": [
        " // min None // max None\n",
        "Marin        "
       ]
      },
      {
       "output_type": "stream",
       "stream": "stdout",
       "text": [
        " // min None // max None\n",
        "Napa         "
       ]
      },
      {
       "output_type": "stream",
       "stream": "stdout",
       "text": [
        " // min None // max None\n",
        "San Francisco"
       ]
      },
      {
       "output_type": "stream",
       "stream": "stdout",
       "text": [
        " // min None // max None\n",
        "San Mateo    "
       ]
      },
      {
       "output_type": "stream",
       "stream": "stdout",
       "text": [
        " // min None // max None\n",
        "Santa Clara  "
       ]
      },
      {
       "output_type": "stream",
       "stream": "stdout",
       "text": [
        " // min None // max None\n",
        "Solano       "
       ]
      },
      {
       "output_type": "stream",
       "stream": "stdout",
       "text": [
        " // min None // max None\n",
        "Sonoma       "
       ]
      },
      {
       "output_type": "stream",
       "stream": "stdout",
       "text": [
        " // min None // max None\n",
        "3.0 sec\n"
       ]
      }
     ],
     "prompt_number": 11
    },
    {
     "cell_type": "markdown",
     "metadata": {},
     "source": [
      "#### Upshot is that although it had looked like the 'appraisal' fields were a better bet than the 'assessment' fields, it turns out there's no value data in those fields"
     ]
    },
    {
     "cell_type": "markdown",
     "metadata": {},
     "source": [
      "### Try calculating tract medians"
     ]
    },
    {
     "cell_type": "code",
     "collapsed": false,
     "input": [
      "# Pull the raw values\n",
      "\n",
      "t0 = time.time()\n",
      "conn.commit()\n",
      "\n",
      "cur.execute(\"\"\" SELECT sa_census_tract, \n",
      "                    sa_imprv_pct \n",
      "                FROM dataquick.assessor \n",
      "                WHERE mm_fips_muni_code IN (1, 13, 41, 55, 75, 81, 85, 95, 97) \n",
      "                    AND substring(use_code_std from 1 for 1) = 'R' \n",
      "                    AND sa_census_tract != '' \"\"\")\n",
      "\n",
      "out = cur.fetchall()\n",
      "print \"sample output //\", out[0]\n",
      "print \"number of records //\", len(out)\n",
      "\n",
      "print round(time.time() - t0), \"sec\""
     ],
     "language": "python",
     "metadata": {},
     "outputs": [
      {
       "output_type": "stream",
       "stream": "stdout",
       "text": [
        "sample output // ('441401', Decimal('70.00'))\n",
        "number of records // 1937629\n",
        "31.0 sec\n"
       ]
      }
     ],
     "prompt_number": 64
    },
    {
     "cell_type": "code",
     "collapsed": false,
     "input": [
      "# Aggregate by census tract\n",
      "\n",
      "t0 = time.time()\n",
      "\n",
      "tract = np.array([r[0] for r in out])\n",
      "pct = np.array([float(r[1]) for r in out])\n",
      "\n",
      "filtr = {t: (tract==t) for t in np.unique(tract)}\n",
      "\n",
      "def my_stats(t):\n",
      "    med_pct = round(np.median(pct[filtr[t]]), 2)\n",
      "    count = len(pct[filtr[t]])\n",
      "    return [t, med_pct, count]\n",
      "\n",
      "table = [my_stats(t) for t in np.unique(tract)]\n",
      "labels = ['tract', 'imprv_pct', 'count']\n",
      "\n",
      "print \"sample table row //\", table[0]\n",
      "\n",
      "print round(time.time() - t0), \"sec\""
     ],
     "language": "python",
     "metadata": {},
     "outputs": [
      {
       "output_type": "stream",
       "stream": "stdout",
       "text": [
        "sample table row // ['001300', 67.19, 3]\n",
        "60.0 sec\n"
       ]
      }
     ],
     "prompt_number": 65
    },
    {
     "cell_type": "code",
     "collapsed": false,
     "input": [
      "outname = '../output/improvement_value_all.csv'\n",
      "\n",
      "with open(outname, 'wb') as f:\n",
      "    writer = csv.writer(f)\n",
      "    writer.writerow(labels)\n",
      "    writer.writerows(table)"
     ],
     "language": "python",
     "metadata": {},
     "outputs": [],
     "prompt_number": 66
    },
    {
     "cell_type": "markdown",
     "metadata": {},
     "source": [
      "### Try separate query for each census tract"
     ]
    },
    {
     "cell_type": "code",
     "collapsed": false,
     "input": [
      "t0 = time.time()\n",
      "conn.commit()\n",
      "\n",
      "cur.execute(\"\"\" SELECT distinct(sa_census_tract) \n",
      "                FROM dataquick.assessor \n",
      "                WHERE mm_fips_muni_code = 1 \n",
      "                    AND substring(use_code_std from 1 for 1) = 'R' \n",
      "                    AND sa_census_tract != '' \"\"\")\n",
      "\n",
      "out = cur.fetchall()\n",
      "tracts = [str(r[0]) for r in out]\n",
      "\n",
      "print \"sample output //\", tracts[:5]\n",
      "print \"number of records //\", len(out)\n",
      "\n",
      "print round(time.time() - t0), \"sec\""
     ],
     "language": "python",
     "metadata": {},
     "outputs": [
      {
       "output_type": "stream",
       "stream": "stdout",
       "text": [
        "sample output // ['430400', '409400', '428200', '405902', '438300']\n",
        "number of records // 364\n",
        "1.0 sec\n"
       ]
      }
     ],
     "prompt_number": 47
    },
    {
     "cell_type": "code",
     "collapsed": false,
     "input": [
      "t0 = time.time()\n",
      "conn.commit()\n",
      "\n",
      "table = []\n",
      "\n",
      "for t in tracts:\n",
      "    cur.execute(\"\"\" SELECT sa_imprv_pct \n",
      "                    FROM dataquick.assessor \n",
      "                    WHERE sa_census_tract = %s \n",
      "                        AND substring(use_code_std from 1 for 1) = 'R' \"\"\", (t,))   \n",
      "    out = cur.fetchall()\n",
      "    pct = np.array([float(r[0]) for r in out])\n",
      "    med_pct = round(np.median(pct), 2)\n",
      "    \n",
      "    cur.execute(\"\"\" SELECT count(sa_property_id)\n",
      "                    FROM dataquick.assessor \n",
      "                    WHERE sa_census_tract = %s \n",
      "                        AND substring(use_code_std from 1 for 1) = 'R' \"\"\", (t,))   \n",
      "    out = cur.fetchall()\n",
      "    count = out[0][0]\n",
      "\n",
      "    table.append([t, med_pct, count])\n",
      "    \n",
      "labels = ['tract', 'imprv_pct', 'count']\n",
      "print \"sample table row //\", table[0]\n",
      "print \"number of rows //\", len(table)\n",
      "\n",
      "print round(time.time() - t0), \"sec\""
     ],
     "language": "python",
     "metadata": {},
     "outputs": [
      {
       "output_type": "stream",
       "stream": "stdout",
       "text": [
        "sample table row // ['430400', 52.69, 2240L]\n",
        "number of rows // 364\n",
        "35.0 sec\n"
       ]
      }
     ],
     "prompt_number": 52
    },
    {
     "cell_type": "code",
     "collapsed": false,
     "input": [
      "outname = '../output/improvement_value_all.csv'\n",
      "\n",
      "with open(outname, 'wb') as f:\n",
      "    writer = csv.writer(f)\n",
      "    writer.writerow(labels)\n",
      "    writer.writerows(table)"
     ],
     "language": "python",
     "metadata": {},
     "outputs": [],
     "prompt_number": 53
    },
    {
     "cell_type": "markdown",
     "metadata": {},
     "source": [
      "### Same thing but filter for properties that were recently sold"
     ]
    },
    {
     "cell_type": "code",
     "collapsed": false,
     "input": [
      "# test the subquery\n",
      "\n",
      "t0 = time.time()\n",
      "conn.commit()\n",
      "cur.execute(\"\"\" SELECT distinct(sr_property_id)\n",
      "                FROM dataquick.sales\n",
      "                WHERE mm_fips_muni_code = 1 \n",
      "                    AND sr_arms_length_flag = '1' \n",
      "                    AND (sr_date_transfer/10000) = 2012 \"\"\")\n",
      "\n",
      "out = cur.fetchall()\n",
      "print \"sample output //\", out[0]\n",
      "print round(time.time() - t0), \"sec\""
     ],
     "language": "python",
     "metadata": {},
     "outputs": [
      {
       "output_type": "stream",
       "stream": "stdout",
       "text": [
        "sample output // (38270008,)\n",
        "75.0 sec\n"
       ]
      }
     ],
     "prompt_number": 57
    },
    {
     "cell_type": "code",
     "collapsed": false,
     "input": [
      "# Pull the raw values\n",
      "\n",
      "t0 = time.time()\n",
      "conn.commit()\n",
      "\n",
      "cur.execute(\"\"\" SELECT sa_census_tract, \n",
      "                    sa_imprv_pct \n",
      "                FROM dataquick.assessor \n",
      "                WHERE mm_fips_muni_code IN (1, 13, 41, 55, 75, 81, 85, 95, 97) \n",
      "                    AND substring(use_code_std from 1 for 1) = 'R' \n",
      "                    AND sa_census_tract != '' \n",
      "                    AND sa_property_id IN (\n",
      "                    \n",
      "                        SELECT distinct(sr_property_id)\n",
      "                        FROM dataquick.sales\n",
      "                        WHERE mm_fips_muni_code IN (1, 13, 41, 55, 75, 81, 85, 95, 97) \n",
      "                            AND sr_arms_length_flag = '1' \n",
      "                            AND (sr_date_transfer/10000) = 2012\n",
      "                        ) \"\"\")\n",
      "\n",
      "out = cur.fetchall()\n",
      "print \"sample output //\", out[0]\n",
      "print \"number of records //\", len(out)\n",
      "\n",
      "print round(time.time() - t0), \"sec\""
     ],
     "language": "python",
     "metadata": {},
     "outputs": [
      {
       "output_type": "stream",
       "stream": "stdout",
       "text": [
        "sample output // ('502202', Decimal('50.01'))\n",
        "number of records // 91107\n",
        "544.0 sec\n"
       ]
      }
     ],
     "prompt_number": 75
    },
    {
     "cell_type": "code",
     "collapsed": false,
     "input": [
      "# Aggregate by census tract\n",
      "\n",
      "t0 = time.time()\n",
      "\n",
      "tract = np.array([r[0] for r in out])\n",
      "pct = np.array([float(r[1]) for r in out])\n",
      "\n",
      "filtr = {t: (tract==t) for t in np.unique(tract)}\n",
      "\n",
      "def my_stats(t):\n",
      "    med_pct = round(np.median(pct[filtr[t]]), 2)\n",
      "    stdev_pct = round(np.std(pct[filtr[t]]), 1)\n",
      "    count = len(pct[filtr[t]])\n",
      "    return [t, med_pct, stdev_pct, count]\n",
      "\n",
      "table = [my_stats(t) for t in np.unique(tract)]\n",
      "labels = ['tract', 'imprv_pct', 'imprv_pct_stdev', 'count']\n",
      "\n",
      "print \"sample table row //\", table[0]\n",
      "\n",
      "print round(time.time() - t0), \"sec\""
     ],
     "language": "python",
     "metadata": {},
     "outputs": [
      {
       "output_type": "stream",
       "stream": "stdout",
       "text": [
        "sample table row // ['010100', 50.0, 5.9, 31]\n",
        "3.0 sec\n"
       ]
      }
     ],
     "prompt_number": 76
    },
    {
     "cell_type": "code",
     "collapsed": false,
     "input": [
      "outname = '../output/improvement_value_recent.csv'\n",
      "\n",
      "with open(outname, 'wb') as f:\n",
      "    writer = csv.writer(f)\n",
      "    writer.writerow(labels)\n",
      "    writer.writerows(table)"
     ],
     "language": "python",
     "metadata": {},
     "outputs": [],
     "prompt_number": 77
    },
    {
     "cell_type": "code",
     "collapsed": false,
     "input": [],
     "language": "python",
     "metadata": {},
     "outputs": []
    },
    {
     "cell_type": "code",
     "collapsed": false,
     "input": [
      "### Look at the raw "
     ],
     "language": "python",
     "metadata": {},
     "outputs": []
    },
    {
     "cell_type": "code",
     "collapsed": false,
     "input": [
      "# Pull 100 records for each county, to see what the raw values look like\n",
      "\n",
      "t0 = time.time()\n",
      "conn.commit()\n",
      "\n",
      "for c in cty:\n",
      "\n",
      "    cur.execute(\"\"\" SELECT sa_census_tract, \n",
      "                        sa_imprv_pct \n",
      "                    FROM dataquick.assessor \n",
      "                    WHERE mm_fips_muni_code = %s \n",
      "                        AND substring(use_code_std from 1 for 1) = 'R' \n",
      "                        AND sa_census_tract != '' \n",
      "                        AND sa_property_id IN (\n",
      "                        \n",
      "                            SELECT distinct(sr_property_id)\n",
      "                            FROM dataquick.sales\n",
      "                            WHERE mm_fips_muni_code IN (1, 13, 41, 55, 75, 81, 85, 95, 97) \n",
      "                                AND sr_arms_length_flag = '1' \n",
      "                                AND (sr_date_transfer/10000) = 2012\n",
      "                            ) \n",
      "                    LIMIT 100 \"\"\", (c['fips'], ))\n",
      "    \n",
      "    out = cur.fetchall()\n",
      "    print c['name']\n",
      "    print(out)\n",
      "    print\n",
      "\n",
      "print round(time.time() - t0), \"sec\"\n"
     ],
     "language": "python",
     "metadata": {},
     "outputs": [
      {
       "output_type": "stream",
       "stream": "stdout",
       "text": [
        "Alameda      \n",
        "[('400500', Decimal('74.43')), ('437701', Decimal('70.00')), ('427700', Decimal('70.00')), ('428301', Decimal('70.00')), ('440307', Decimal('70.00')), ('420600', Decimal('70.00')), ('450607', Decimal('70.00')), ('430300', Decimal('70.00')), ('435400', Decimal('70.00')), ('440200', Decimal('70.00')), ('408000', Decimal('70.00')), ('436300', Decimal('70.00')), ('441503', Decimal('69.99')), ('405100', Decimal('68.77')), ('403300', Decimal('70.01')), ('403702', Decimal('70.00')), ('410000', Decimal('70.00')), ('428400', Decimal('70.00')), ('407101', Decimal('70.00')), ('450400', Decimal('70.00')), ('442400', Decimal('70.00')), ('432200', Decimal('72.90')), ('444500', Decimal('70.00')), ('444200', Decimal('70.00')), ('407700', Decimal('70.00')), ('436401', Decimal('70.00')), ('408700', Decimal('70.00')), ('434000', Decimal('70.00')), ('451602', Decimal('70.00')), ('400100', Decimal('70.00')), ('407700', Decimal('70.00')), ('422100', Decimal('70.00')), ('436401', Decimal('70.00')), ('430800', Decimal('70.00')), ('432100', Decimal('70.00')), ('433800', Decimal('70.00')), ('404502', Decimal('70.00')), ('428700', Decimal('70.02')), ('406800', Decimal('70.01')), ('400700', Decimal('70.00')), ('428200', Decimal('70.00')), ('442700', Decimal('70.00')), ('440308', Decimal('70.01')), ('404800', Decimal('70.00')), ('441503', Decimal('70.00')), ('433800', Decimal('70.00')), ('410100', Decimal('70.00')), ('407700', Decimal('70.00')), ('437600', Decimal('70.00')), ('435104', Decimal('70.00')), ('408800', Decimal('70.00')), ('442800', Decimal('70.00')), ('437400', Decimal('70.00')), ('435800', Decimal('70.00')), ('450751', Decimal('70.00')), ('403600', Decimal('70.00')), ('430101', Decimal('70.00')), ('422500', Decimal('70.00')), ('408100', Decimal('70.00')), ('441401', Decimal('6.43')), ('450751', Decimal('70.00')), ('408300', Decimal('70.02')), ('450751', Decimal('70.00')), ('441926', Decimal('70.00')), ('444601', Decimal('70.23')), ('451505', Decimal('70.00')), ('403300', Decimal('70.02')), ('450751', Decimal('70.00')), ('430101', Decimal('70.00')), ('410300', Decimal('70.00')), ('406602', Decimal('74.71')), ('409300', Decimal('70.00')), ('403701', Decimal('70.08')), ('423000', Decimal('70.00')), ('443002', Decimal('70.00')), ('451704', Decimal('70.00')), ('442800', Decimal('70.00')), ('451703', Decimal('70.00')), ('435104', Decimal('70.00')), ('431200', Decimal('70.00')), ('408200', Decimal('70.00')), ('441522', Decimal('70.00')), ('407200', Decimal('70.00')), ('450744', Decimal('70.00')), ('450300', Decimal('70.00')), ('406601', Decimal('70.00')), ('450751', Decimal('70.00')), ('404600', Decimal('70.00')), ('450502', Decimal('70.00')), ('435601', Decimal('70.00')), ('428301', Decimal('70.00')), ('437101', Decimal('70.00')), ('401300', Decimal('70.00')), ('408100', Decimal('70.00')), ('444500', Decimal('70.00')), ('401200', Decimal('70.00')), ('406500', Decimal('70.00')), ('404600', Decimal('70.00')), ('401400', Decimal('70.00')), ('450751', Decimal('70.00'))]\n",
        "\n",
        "Contra Costa "
       ]
      },
      {
       "output_type": "stream",
       "stream": "stdout",
       "text": [
        "\n",
        "[('317000', Decimal('33.33')), ('303205', Decimal('79.55')), ('302009', Decimal('78.37')), ('321102', Decimal('57.98')), ('315000', Decimal('76.74')), ('355304', Decimal('33.47')), ('345202', Decimal('41.00')), ('303204', Decimal('75.55')), ('307101', Decimal('80.85')), ('320004', Decimal('51.69')), ('339002', Decimal('37.21')), ('307204', Decimal('76.92')), ('376000', Decimal('75.80')), ('333101', Decimal('69.87')), ('387000', Decimal('23.48')), ('304001', Decimal('88.77')), ('302006', Decimal('79.71')), ('304005', Decimal('89.41')), ('358000', Decimal('55.00')), ('356002', Decimal('59.45')), ('355301', Decimal('54.71')), ('355114', Decimal('42.73')), ('351101', Decimal('46.68')), ('302009', Decimal('76.47')), ('354001', Decimal('2.38')), ('314200', Decimal('62.50')), ('303203', Decimal('89.97')), ('332000', Decimal('20.00')), ('330000', Decimal('38.46')), ('338204', Decimal('38.46')), ('373000', Decimal('25.40')), ('338301', Decimal('20.17')), ('355112', Decimal('35.54')), ('307205', Decimal('72.22')), ('306003', Decimal('86.25')), ('371000', Decimal('13.22')), ('345102', Decimal('27.14')), ('380000', Decimal('71.15')), ('340002', Decimal('16.48')), ('303201', Decimal('84.90')), ('333101', Decimal('21.40')), ('355301', Decimal('63.90')), ('390200', Decimal('38.23')), ('302006', Decimal('87.03')), ('330000', Decimal('52.38')), ('329000', Decimal('48.09')), ('339002', Decimal('38.98')), ('302009', Decimal('84.00')), ('338201', Decimal('73.18')), ('355110', Decimal('77.27')), ('319000', Decimal('16.18')), ('359203', Decimal('45.45')), ('303204', Decimal('63.63')), ('314102', Decimal('67.10')), ('303205', Decimal('84.28')), ('369002', Decimal('83.33')), ('302009', Decimal('84.00')), ('337100', Decimal('22.72')), ('359104', Decimal('76.56')), ('302008', Decimal('86.30')), ('352101', Decimal('29.64')), ('355107', Decimal('73.68')), ('304003', Decimal('74.06')), ('303203', Decimal('90.62')), ('302010', Decimal('88.33')), ('369002', Decimal('65.15')), ('338201', Decimal('51.92')), ('302009', Decimal('82.47')), ('392200', Decimal('69.60')), ('345108', Decimal('52.09')), ('355200', Decimal('81.24')), ('304001', Decimal('87.54')), ('321102', Decimal('25.92')), ('333101', Decimal('64.00')), ('334200', Decimal('72.72')), ('345108', Decimal('46.68')), ('360101', Decimal('53.08')), ('355200', Decimal('89.15')), ('355109', Decimal('83.66')), ('384000', Decimal('12.48')), ('308001', Decimal('82.97')), ('321101', Decimal('59.18')), ('303201', Decimal('87.30')), ('354002', Decimal('7.22')), ('354001', Decimal('61.53')), ('308002', Decimal('75.75')), ('334004', Decimal('72.08')), ('346201', Decimal('50.00')), ('307204', Decimal('80.00')), ('304005', Decimal('92.42')), ('383000', Decimal('18.97')), ('359104', Decimal('81.63')), ('322000', Decimal('20.45')), ('345202', Decimal('34.11')), ('307102', Decimal('59.09')), ('313204', Decimal('62.50')), ('338301', Decimal('32.09')), ('324002', Decimal('84.36')), ('324001', Decimal('38.90')), ('303201', Decimal('84.31'))]\n",
        "\n",
        "Marin        "
       ]
      },
      {
       "output_type": "stream",
       "stream": "stdout",
       "text": [
        "\n",
        "[('102203', Decimal('41.17')), ('106002', Decimal('31.25')), ('128100', Decimal('50.30')), ('108100', Decimal('38.48')), ('106002', Decimal('51.72')), ('117000', Decimal('32.84')), ('124100', Decimal('49.87')), ('112202', Decimal('58.82')), ('107000', Decimal('57.08')), ('110200', Decimal('42.30')), ('104200', Decimal('75.00')), ('128100', Decimal('40.00')), ('119201', Decimal('59.57')), ('120000', Decimal('36.45')), ('121100', Decimal('30.55')), ('130201', Decimal('60.39')), ('111000', Decimal('31.02')), ('127000', Decimal('35.49')), ('108100', Decimal('52.39')), ('123000', Decimal('32.53')), ('115000', Decimal('48.88')), ('128100', Decimal('55.02')), ('102203', Decimal('72.97')), ('124100', Decimal('47.69')), ('108100', Decimal('38.31')), ('104200', Decimal('61.29')), ('130202', Decimal('39.89')), ('114200', Decimal('50.00')), ('107000', Decimal('39.87')), ('102202', Decimal('41.66')), ('130201', Decimal('35.55')), ('102203', Decimal('50.00')), ('114100', Decimal('28.60')), ('124200', Decimal('45.26')), ('111000', Decimal('38.88')), ('128100', Decimal('38.94')), ('110100', Decimal('53.19')), ('114100', Decimal('38.04')), ('101200', Decimal('63.63')), ('120000', Decimal('23.80')), ('112100', Decimal('56.65')), ('126100', Decimal('66.62')), ('115000', Decimal('57.57')), ('133000', Decimal('67.56')), ('119201', Decimal('59.13')), ('119100', Decimal('6.95')), ('102203', Decimal('56.52')), ('102203', Decimal('77.52')), ('113000', Decimal('30.05')), ('104102', Decimal('51.38')), ('130202', Decimal('55.71')), ('114100', Decimal('34.20')), ('123000', Decimal('37.73')), ('128200', Decimal('43.18')), ('124200', Decimal('56.54')), ('124200', Decimal('31.37')), ('104102', Decimal('54.00')), ('108200', Decimal('38.46')), ('107000', Decimal('39.24')), ('125000', Decimal('55.00')), ('124100', Decimal('57.72')), ('106001', Decimal('62.16')), ('101200', Decimal('35.73')), ('130202', Decimal('54.93')), ('118100', Decimal('34.94')), ('133000', Decimal('55.00')), ('126200', Decimal('61.90')), ('114100', Decimal('29.41')), ('128100', Decimal('42.40')), ('126200', Decimal('68.80')), ('121200', Decimal('39.17')), ('106001', Decimal('50.00')), ('120000', Decimal('27.65')), ('128100', Decimal('50.48')), ('102203', Decimal('78.94')), ('101200', Decimal('57.14')), ('126200', Decimal('47.67')), ('121200', Decimal('37.86')), ('132100', Decimal('25.47')), ('107000', Decimal('40.68')), ('104200', Decimal('67.14')), ('119100', Decimal('21.48')), ('117000', Decimal('30.26')), ('105000', Decimal('60.17')), ('128200', Decimal('38.19')), ('102202', Decimal('39.78')), ('108200', Decimal('50.00')), ('126100', Decimal('43.74')), ('119100', Decimal('51.69')), ('112202', Decimal('61.14')), ('109002', Decimal('39.68')), ('124200', Decimal('37.50')), ('130202', Decimal('41.26')), ('126200', Decimal('55.41')), ('110100', Decimal('36.17')), ('119100', Decimal('18.94')), ('126200', Decimal('46.89')), ('109001', Decimal('59.01')), ('119202', Decimal('38.16')), ('102203', Decimal('73.68'))]\n",
        "\n",
        "Napa         "
       ]
      },
      {
       "output_type": "stream",
       "stream": "stdout",
       "text": [
        "\n",
        "[('201004', Decimal('75.36')), ('202000', Decimal('52.38')), ('201700', Decimal('22.79')), ('201003', Decimal('77.75')), ('200504', Decimal('63.85')), ('200301', Decimal('62.14')), ('200202', Decimal('70.33')), ('200601', Decimal('63.87')), ('200202', Decimal('57.31')), ('200504', Decimal('72.60')), ('200707', Decimal('70.25')), ('201004', Decimal('72.64')), ('201500', Decimal('0.00')), ('201003', Decimal('75.60')), ('200707', Decimal('65.78')), ('201300', Decimal('47.36')), ('200802', Decimal('65.21')), ('201401', Decimal('66.38')), ('201006', Decimal('75.67')), ('201700', Decimal('58.90')), ('201003', Decimal('74.43')), ('201900', Decimal('31.55')), ('201004', Decimal('76.00')), ('201005', Decimal('73.76')), ('201602', Decimal('11.76')), ('200501', Decimal('73.68')), ('201003', Decimal('80.54')), ('201900', Decimal('54.51')), ('201800', Decimal('80.00')), ('201200', Decimal('51.23')), ('200704', Decimal('64.42')), ('201401', Decimal('71.07')), ('201003', Decimal('77.02')), ('200802', Decimal('46.04')), ('201800', Decimal('78.26')), ('201004', Decimal('74.46')), ('201005', Decimal('78.75')), ('201401', Decimal('83.33')), ('201007', Decimal('69.09')), ('201401', Decimal('60.85')), ('200802', Decimal('59.34')), ('201401', Decimal('72.01')), ('200703', Decimal('68.51')), ('201003', Decimal('78.08')), ('200703', Decimal('71.71')), ('201800', Decimal('84.04')), ('201004', Decimal('78.20')), ('201700', Decimal('45.41')), ('200804', Decimal('55.35')), ('201200', Decimal('7.40')), ('200705', Decimal('71.69')), ('200201', Decimal('60.52')), ('201200', Decimal('8.00')), ('200203', Decimal('61.11')), ('200400', Decimal('43.66')), ('200203', Decimal('50.81')), ('201004', Decimal('69.23')), ('201006', Decimal('65.90')), ('201800', Decimal('3.63')), ('200504', Decimal('77.29')), ('201006', Decimal('74.28')), ('201402', Decimal('3.88')), ('200802', Decimal('58.33')), ('201300', Decimal('51.45')), ('201602', Decimal('55.00')), ('201602', Decimal('33.33')), ('200400', Decimal('34.28')), ('201402', Decimal('37.88')), ('201500', Decimal('36.84')), ('200804', Decimal('63.82')), ('200400', Decimal('55.05')), ('201300', Decimal('20.05')), ('201004', Decimal('65.38')), ('202000', Decimal('37.50')), ('200802', Decimal('74.93')), ('201500', Decimal('37.00')), ('200504', Decimal('71.96')), ('201700', Decimal('50.00')), ('200703', Decimal('72.83')), ('200505', Decimal('69.33')), ('201003', Decimal('82.17')), ('201004', Decimal('72.72')), ('201401', Decimal('60.56')), ('201800', Decimal('76.47')), ('200803', Decimal('24.18')), ('201401', Decimal('55.42')), ('202000', Decimal('58.82')), ('200302', Decimal('66.66')), ('200505', Decimal('64.28')), ('201101', Decimal('53.84')), ('200301', Decimal('76.41')), ('200203', Decimal('67.39')), ('201300', Decimal('63.77')), ('200501', Decimal('35.48')), ('200703', Decimal('68.75')), ('201007', Decimal('77.65')), ('201800', Decimal('75.80')), ('200804', Decimal('65.35')), ('200804', Decimal('67.42')), ('201200', Decimal('70.23'))]\n",
        "\n",
        "San Francisco"
       ]
      },
      {
       "output_type": "stream",
       "stream": "stdout",
       "text": [
        "\n",
        "[('010100', Decimal('50.00')), ('010100', Decimal('50.00')), ('025402', Decimal('42.30')), ('025402', Decimal('50.00')), ('061500', Decimal('40.00')), ('061500', Decimal('50.00')), ('020700', Decimal('50.00')), ('025402', Decimal('40.00')), ('020500', Decimal('40.00')), ('032700', Decimal('30.00')), ('047702', Decimal('30.00')), ('016600', Decimal('50.00')), ('061500', Decimal('91.29')), ('026100', Decimal('59.04')), ('030600', Decimal('82.93')), ('061500', Decimal('39.99')), ('030800', Decimal('50.00')), ('030201', Decimal('50.85')), ('020600', Decimal('41.50')), ('031000', Decimal('30.00')), ('022901', Decimal('39.99')), ('026200', Decimal('29.99')), ('032601', Decimal('40.00')), ('060700', Decimal('50.00')), ('021400', Decimal('30.00')), ('023300', Decimal('82.76')), ('016900', Decimal('39.99')), ('023102', Decimal('30.00')), ('021700', Decimal('30.00')), ('047902', Decimal('50.49')), ('060700', Decimal('50.00')), ('040200', Decimal('67.67')), ('011700', Decimal('50.00')), ('015801', Decimal('50.00')), ('020300', Decimal('50.00')), ('013200', Decimal('40.00')), ('026001', Decimal('30.00')), ('012800', Decimal('30.00')), ('030900', Decimal('30.00')), ('030500', Decimal('30.00')), ('010200', Decimal('50.00')), ('013400', Decimal('50.00')), ('016000', Decimal('50.00')), ('025401', Decimal('29.99')), ('061500', Decimal('50.00')), ('016300', Decimal('45.90')), ('012901', Decimal('30.00')), ('020500', Decimal('30.00')), ('018000', Decimal('40.00')), ('010900', Decimal('50.50')), ('060700', Decimal('50.00')), ('030301', Decimal('30.00')), ('021400', Decimal('50.00')), ('031302', Decimal('32.72')), ('025500', Decimal('40.00')), ('016100', Decimal('40.00')), ('047902', Decimal('30.00')), ('060700', Decimal('50.00')), ('015700', Decimal('40.00')), ('025600', Decimal('36.66')), ('061500', Decimal('50.00')), ('030700', Decimal('58.04')), ('011902', Decimal('50.00')), ('013101', Decimal('40.00')), ('033000', Decimal('20.94')), ('060700', Decimal('50.00')), ('011700', Decimal('50.00')), ('030900', Decimal('39.99')), ('030700', Decimal('30.00')), ('032802', Decimal('33.71')), ('060700', Decimal('50.00')), ('031302', Decimal('30.00')), ('020700', Decimal('40.00')), ('020401', Decimal('30.00')), ('060700', Decimal('40.00')), ('030900', Decimal('30.00')), ('026301', Decimal('29.99')), ('061500', Decimal('40.00')), ('030301', Decimal('35.38')), ('047902', Decimal('40.00')), ('061500', Decimal('50.00')), ('021800', Decimal('56.53')), ('010400', Decimal('30.00')), ('032602', Decimal('30.00')), ('023102', Decimal('45.05')), ('060700', Decimal('50.00')), ('025600', Decimal('40.00')), ('032801', Decimal('29.99')), ('025701', Decimal('40.00')), ('013000', Decimal('30.00')), ('015700', Decimal('50.00')), ('060700', Decimal('39.99')), ('013400', Decimal('30.00')), ('023300', Decimal('50.00')), ('061500', Decimal('50.00')), ('022704', Decimal('50.00')), ('016000', Decimal('50.00')), ('030400', Decimal('30.00')), ('011901', Decimal('50.00')), ('015500', Decimal('50.00'))]\n",
        "\n",
        "San Mateo    "
       ]
      },
      {
       "output_type": "stream",
       "stream": "stdout",
       "text": [
        "\n",
        "[('605700', Decimal('30.61')), ('601603', Decimal('50.00')), ('600500', Decimal('70.00')), ('610700', Decimal('50.00')), ('613502', Decimal('50.00')), ('605600', Decimal('29.41')), ('603400', Decimal('50.00')), ('609603', Decimal('70.00')), ('613502', Decimal('50.00')), ('600700', Decimal('50.00')), ('601200', Decimal('50.00')), ('613502', Decimal('50.00')), ('600500', Decimal('50.00')), ('611100', Decimal('56.58')), ('610700', Decimal('70.00')), ('612500', Decimal('70.01')), ('614000', Decimal('50.00')), ('600200', Decimal('50.00')), ('602200', Decimal('50.00')), ('610303', Decimal('70.00')), ('609603', Decimal('44.18')), ('604101', Decimal('50.00')), ('601800', Decimal('50.00')), ('605400', Decimal('50.00')), ('609700', Decimal('50.00')), ('605100', Decimal('7.69')), ('606600', Decimal('70.00')), ('609601', Decimal('50.00')), ('605700', Decimal('34.42')), ('606500', Decimal('50.00')), ('603400', Decimal('50.00')), ('609500', Decimal('50.00')), ('613400', Decimal('50.00')), ('601604', Decimal('70.00')), ('607100', Decimal('50.00')), ('612000', Decimal('50.00')), ('605900', Decimal('50.00')), ('613200', Decimal('12.50')), ('608100', Decimal('50.00')), ('612500', Decimal('50.00')), ('610602', Decimal('50.00')), ('603700', Decimal('50.00')), ('605000', Decimal('50.00')), ('606100', Decimal('50.00')), ('607300', Decimal('50.00')), ('609400', Decimal('14.28')), ('613600', Decimal('50.00')), ('607400', Decimal('70.00')), ('611100', Decimal('50.00')), ('602600', Decimal('50.47')), ('603900', Decimal('50.00')), ('612100', Decimal('70.00')), ('605500', Decimal('70.00')), ('611300', Decimal('70.00')), ('605400', Decimal('50.00')), ('600401', Decimal('54.03')), ('601902', Decimal('50.00')), ('608700', Decimal('50.00')), ('611700', Decimal('50.00')), ('601800', Decimal('50.00')), ('601000', Decimal('50.00')), ('601901', Decimal('50.00')), ('600100', Decimal('70.00')), ('602000', Decimal('52.70')), ('607300', Decimal('50.00')), ('607701', Decimal('50.00')), ('612600', Decimal('5.71')), ('602500', Decimal('50.00')), ('609300', Decimal('13.24')), ('609202', Decimal('70.00')), ('601200', Decimal('50.00')), ('608002', Decimal('50.00')), ('604000', Decimal('50.00')), ('613600', Decimal('29.41')), ('606400', Decimal('22.58')), ('611500', Decimal('10.00')), ('613700', Decimal('50.00')), ('610500', Decimal('46.72')), ('608400', Decimal('50.00')), ('604700', Decimal('50.00')), ('607000', Decimal('50.00')), ('605600', Decimal('25.13')), ('611300', Decimal('50.00')), ('602400', Decimal('50.00')), ('605400', Decimal('50.00')), ('605700', Decimal('29.78')), ('601200', Decimal('50.00')), ('608800', Decimal('50.00')), ('601502', Decimal('50.00')), ('600300', Decimal('50.00')), ('603802', Decimal('50.00')), ('607900', Decimal('57.48')), ('612900', Decimal('50.00')), ('602800', Decimal('50.00')), ('600100', Decimal('50.00')), ('613700', Decimal('70.00')), ('610602', Decimal('50.00')), ('608900', Decimal('54.84')), ('611900', Decimal('33.33')), ('609603', Decimal('25.00'))]\n",
        "\n",
        "Santa Clara  "
       ]
      },
      {
       "output_type": "stream",
       "stream": "stdout",
       "text": [
        "\n",
        "[('502202', Decimal('50.01')), ('502604', Decimal('31.27')), ('512029', Decimal('30.00')), ('501000', Decimal('49.89')), ('511100', Decimal('10.00')), ('504416', Decimal('50.00')), ('511905', Decimal('70.02')), ('504314', Decimal('31.59')), ('512402', Decimal('41.21')), ('512037', Decimal('30.00')), ('512305', Decimal('53.12')), ('508004', Decimal('10.00')), ('507001', Decimal('50.00')), ('502909', Decimal('50.00')), ('503115', Decimal('50.00')), ('505006', Decimal('50.00')), ('502902', Decimal('30.00')), ('504321', Decimal('35.00')), ('500200', Decimal('44.23')), ('512034', Decimal('30.27')), ('502500', Decimal('37.93')), ('506401', Decimal('50.00')), ('506202', Decimal('25.00')), ('503334', Decimal('50.00')), ('506802', Decimal('30.00')), ('502701', Decimal('40.00')), ('510300', Decimal('15.00')), ('512506', Decimal('66.66')), ('509000', Decimal('50.02')), ('509000', Decimal('20.00')), ('512307', Decimal('60.01')), ('511800', Decimal('38.00')), ('506305', Decimal('25.00')), ('506402', Decimal('30.00')), ('506502', Decimal('50.00')), ('504414', Decimal('50.00')), ('512029', Decimal('39.75')), ('508204', Decimal('50.00')), ('503217', Decimal('50.00')), ('511905', Decimal('35.00')), ('506204', Decimal('25.00')), ('512023', Decimal('50.00')), ('500800', Decimal('90.47')), ('504201', Decimal('30.00')), ('512503', Decimal('71.22')), ('511800', Decimal('38.46')), ('505401', Decimal('25.00')), ('506101', Decimal('25.00')), ('504504', Decimal('40.00')), ('501700', Decimal('34.28')), ('501800', Decimal('25.00')), ('506402', Decimal('30.00')), ('511100', Decimal('14.58')), ('502702', Decimal('50.02')), ('512034', Decimal('40.00')), ('509304', Decimal('50.00')), ('503327', Decimal('40.00')), ('508403', Decimal('20.00')), ('506502', Decimal('50.00')), ('500800', Decimal('85.82')), ('503902', Decimal('71.23')), ('504315', Decimal('30.00')), ('512026', Decimal('50.00')), ('504802', Decimal('40.00')), ('507904', Decimal('20.00')), ('510500', Decimal('50.00')), ('504416', Decimal('30.00')), ('500300', Decimal('50.00')), ('505202', Decimal('50.00')), ('504315', Decimal('30.00')), ('507301', Decimal('25.00')), ('507206', Decimal('29.41')), ('512510', Decimal('43.29')), ('507702', Decimal('20.00')), ('503002', Decimal('25.00')), ('504901', Decimal('60.00')), ('512506', Decimal('65.00')), ('512005', Decimal('30.01')), ('503902', Decimal('29.15')), ('505001', Decimal('40.00')), ('502500', Decimal('25.00')), ('511701', Decimal('9.50')), ('504803', Decimal('50.00')), ('512034', Decimal('40.00')), ('503903', Decimal('35.01')), ('512307', Decimal('40.00')), ('512503', Decimal('60.00')), ('511200', Decimal('9.52')), ('504505', Decimal('45.01')), ('500300', Decimal('50.00')), ('503323', Decimal('30.00')), ('505401', Decimal('25.00')), ('511000', Decimal('30.49')), ('512505', Decimal('49.44')), ('511800', Decimal('34.09')), ('512510', Decimal('40.00')), ('510200', Decimal('61.90')), ('503334', Decimal('50.00')), ('506501', Decimal('50.02')), ('509403', Decimal('50.00'))]\n",
        "\n",
        "Solano       "
       ]
      },
      {
       "output_type": "stream",
       "stream": "stdout",
       "text": [
        "\n",
        "[('252106', Decimal('67.91')), ('252611', Decimal('73.91')), ('252913', Decimal('76.08')), ('251600', Decimal('79.16')), ('250103', Decimal('76.33')), ('251600', Decimal('79.48')), ('253108', Decimal('68.75')), ('252107', Decimal('76.00')), ('252201', Decimal('70.00')), ('252611', Decimal('77.27')), ('252909', Decimal('70.37')), ('250701', Decimal('81.67')), ('252102', Decimal('66.66')), ('252310', Decimal('75.72')), ('252610', Decimal('77.14')), ('252604', Decimal('40.00')), ('251803', Decimal('73.33')), ('251901', Decimal('74.02')), ('250400', Decimal('77.27')), ('250105', Decimal('75.00')), ('250105', Decimal('79.36')), ('252316', Decimal('68.75')), ('250300', Decimal('72.72')), ('252317', Decimal('77.94')), ('250300', Decimal('75.60')), ('252000', Decimal('73.01')), ('250400', Decimal('59.09')), ('252317', Decimal('72.97')), ('252402', Decimal('66.44')), ('252502', Decimal('66.94')), ('251702', Decimal('77.27')), ('252104', Decimal('72.97')), ('253403', Decimal('71.56')), ('250200', Decimal('72.67')), ('252913', Decimal('78.26')), ('252313', Decimal('71.87')), ('250900', Decimal('56.39')), ('251702', Decimal('70.00')), ('252911', Decimal('80.48')), ('251701', Decimal('74.42')), ('252910', Decimal('75.00')), ('250601', Decimal('76.47')), ('251901', Decimal('70.07')), ('252315', Decimal('60.71')), ('253404', Decimal('77.29')), ('251804', Decimal('67.01')), ('252707', Decimal('72.86')), ('252104', Decimal('74.28')), ('252606', Decimal('72.70')), ('252106', Decimal('65.90')), ('252703', Decimal('76.47')), ('253105', Decimal('72.97')), ('252103', Decimal('66.66')), ('250900', Decimal('33.33')), ('252903', Decimal('75.32')), ('252201', Decimal('76.19')), ('251902', Decimal('80.00')), ('252313', Decimal('69.15')), ('252911', Decimal('72.22')), ('252611', Decimal('73.33')), ('250103', Decimal('80.00')), ('252103', Decimal('78.00')), ('253101', Decimal('71.40')), ('252313', Decimal('71.28')), ('252317', Decimal('72.41')), ('251702', Decimal('72.72')), ('252911', Decimal('75.83')), ('252315', Decimal('68.29')), ('252702', Decimal('79.48')), ('253404', Decimal('77.29')), ('250300', Decimal('67.21')), ('253500', Decimal('78.37')), ('250502', Decimal('71.01')), ('252103', Decimal('74.00')), ('252104', Decimal('75.40')), ('252706', Decimal('73.68')), ('251901', Decimal('74.46')), ('252702', Decimal('68.94')), ('252305', Decimal('78.94')), ('252911', Decimal('70.00')), ('253500', Decimal('75.51')), ('253404', Decimal('75.00')), ('251702', Decimal('72.72')), ('251901', Decimal('71.79')), ('252317', Decimal('77.77')), ('251000', Decimal('73.52')), ('252904', Decimal('68.10')), ('252106', Decimal('56.67')), ('252311', Decimal('72.97')), ('252000', Decimal('62.96')), ('252910', Decimal('66.88')), ('251701', Decimal('73.61')), ('251903', Decimal('78.36')), ('252103', Decimal('77.55')), ('251903', Decimal('79.10')), ('251300', Decimal('75.00')), ('251901', Decimal('73.91')), ('252401', Decimal('79.16')), ('252317', Decimal('75.66')), ('252316', Decimal('71.11'))]\n",
        "\n",
        "Sonoma       "
       ]
      },
      {
       "output_type": "stream",
       "stream": "stdout",
       "text": [
        "\n",
        "[('151502', Decimal('60.04')), ('151309', Decimal('60.00')), ('151311', Decimal('59.96')), ('151601', Decimal('67.21')), ('153404', Decimal('60.00')), ('150305', Decimal('81.13')), ('153801', Decimal('60.05')), ('152701', Decimal('47.05')), ('152400', Decimal('60.00')), ('150702', Decimal('60.01')), ('154100', Decimal('46.42')), ('151601', Decimal('65.95')), ('150603', Decimal('57.35')), ('151310', Decimal('71.89')), ('152400', Decimal('60.00')), ('153401', Decimal('59.94')), ('152905', Decimal('60.00')), ('153903', Decimal('60.56')), ('153703', Decimal('60.00')), ('152201', Decimal('56.52')), ('151310', Decimal('60.03')), ('153501', Decimal('59.98')), ('153600', Decimal('38.59')), ('150610', Decimal('60.03')), ('153005', Decimal('59.91')), ('152600', Decimal('57.35')), ('153103', Decimal('60.00')), ('151308', Decimal('60.00')), ('150603', Decimal('70.09')), ('151401', Decimal('60.05')), ('152000', Decimal('60.05')), ('154100', Decimal('76.05')), ('153704', Decimal('76.08')), ('153003', Decimal('60.00')), ('152300', Decimal('59.95')), ('153903', Decimal('47.18')), ('152701', Decimal('59.95')), ('153801', Decimal('69.92')), ('151309', Decimal('59.95')), ('154202', Decimal('64.02')), ('152201', Decimal('60.00')), ('153403', Decimal('60.71')), ('150304', Decimal('60.00')), ('150609', Decimal('60.00')), ('152802', Decimal('59.21')), ('152400', Decimal('60.00')), ('151700', Decimal('65.85')), ('153300', Decimal('71.42')), ('150612', Decimal('59.95')), ('153501', Decimal('60.03')), ('153600', Decimal('63.06')), ('152202', Decimal('60.97')), ('151504', Decimal('60.00')), ('154202', Decimal('68.67')), ('153002', Decimal('60.00')), ('151602', Decimal('69.87')), ('153103', Decimal('35.71')), ('150702', Decimal('60.00')), ('152202', Decimal('60.00')), ('153806', Decimal('75.92')), ('153901', Decimal('60.00')), ('150305', Decimal('60.00')), ('153300', Decimal('60.03')), ('153300', Decimal('60.00')), ('152400', Decimal('61.53')), ('151402', Decimal('64.70')), ('153703', Decimal('75.72')), ('151203', Decimal('60.00')), ('150500', Decimal('60.00')), ('153502', Decimal('60.00')), ('150607', Decimal('76.99')), ('153104', Decimal('60.00')), ('153704', Decimal('76.11')), ('154302', Decimal('60.00')), ('153005', Decimal('65.72')), ('151602', Decimal('64.07')), ('153903', Decimal('60.00')), ('154202', Decimal('60.00')), ('153804', Decimal('61.11')), ('151502', Decimal('64.74')), ('150702', Decimal('60.00')), ('150202', Decimal('61.36')), ('154100', Decimal('41.85')), ('153502', Decimal('60.00')), ('150902', Decimal('60.00')), ('153200', Decimal('59.21')), ('151402', Decimal('24.79')), ('153705', Decimal('53.00')), ('152702', Decimal('60.00')), ('150303', Decimal('47.61')), ('152202', Decimal('60.00')), ('153300', Decimal('60.00')), ('153403', Decimal('60.00')), ('150612', Decimal('60.07')), ('153804', Decimal('64.97')), ('151307', Decimal('60.00')), ('150603', Decimal('60.00')), ('152905', Decimal('67.79')), ('152400', Decimal('70.20')), ('152906', Decimal('66.66'))]\n",
        "\n",
        "61.0 sec\n"
       ]
      }
     ],
     "prompt_number": 70
    },
    {
     "cell_type": "code",
     "collapsed": false,
     "input": [],
     "language": "python",
     "metadata": {},
     "outputs": []
    }
   ],
   "metadata": {}
  }
 ]
}