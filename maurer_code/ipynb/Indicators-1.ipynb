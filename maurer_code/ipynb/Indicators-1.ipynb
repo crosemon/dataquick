{
 "metadata": {
  "name": ""
 },
 "nbformat": 3,
 "nbformat_minor": 0,
 "worksheets": [
  {
   "cells": [
    {
     "cell_type": "code",
     "collapsed": false,
     "input": [],
     "language": "python",
     "metadata": {},
     "outputs": []
    },
    {
     "cell_type": "code",
     "collapsed": false,
     "input": [
      "import psycopg2\n",
      "import numpy as np\n",
      "import time\n",
      "import math\n",
      "import csv\n",
      "import json"
     ],
     "language": "python",
     "metadata": {},
     "outputs": [],
     "prompt_number": 1
    },
    {
     "cell_type": "code",
     "collapsed": false,
     "input": [
      "# Connect to the database\n",
      "conn_string = \"host='localhost' dbname='dataquick' user='smmaurer' password=''\"\n",
      "conn = psycopg2.connect(conn_string)\n",
      "cur = conn.cursor()"
     ],
     "language": "python",
     "metadata": {},
     "outputs": [],
     "prompt_number": 44
    },
    {
     "cell_type": "code",
     "collapsed": false,
     "input": [
      "# County name and mm_fips_muni_code\n",
      "\n",
      "cty = [{'fips': 1,  'name': 'Alameda'},\n",
      "       {'fips': 13, 'name': 'Contra Costa'},\n",
      "       {'fips': 41, 'name': 'Marin'},\n",
      "       {'fips': 55, 'name': 'Napa'},\n",
      "       {'fips': 75, 'name': 'San Francisco'},\n",
      "       {'fips': 81, 'name': 'San Mateo'},\n",
      "       {'fips': 85, 'name': 'Santa Clara'},\n",
      "       {'fips': 95, 'name': 'Solano'},\n",
      "       {'fips': 97, 'name': 'Sonoma'}]"
     ],
     "language": "python",
     "metadata": {},
     "outputs": [],
     "prompt_number": 3
    },
    {
     "cell_type": "markdown",
     "metadata": {},
     "source": [
      "### Median price per square foot by census tract"
     ]
    },
    {
     "cell_type": "markdown",
     "metadata": {},
     "source": [
      "Median price per square foot for arms-length sales of residential properties in each calendar year, by census tract\n",
      "\n",
      "**SALES TABLE**\n",
      "\n",
      "- id:  SR_PROPERTY_ID (join)\n",
      "- sale price:  SR_VAL_TRANSFER\n",
      "- arms length:  SR_ARMS_LENGTH_FLAG = 1\n",
      "- calendar year:  SR_DATE_TRANSFER\n",
      "- county: MM_FIPS_MUNI_CODE = some value\n",
      "\n",
      "**ASSESSOR TABLE**\n",
      "\n",
      "- id:  SA_PROPERTY_ID (join)\n",
      "- square footage: SA_SQFT\n",
      "- use code:  USE_CODE_STD\n",
      "- census tract:  SA_CENSUS_TRACT\n"
     ]
    },
    {
     "cell_type": "code",
     "collapsed": false,
     "input": [
      "t0 = time.time()\n",
      "conn.commit()\n",
      "\n",
      "print \"pull data for calculating median price per square foot\"\n",
      "print\n",
      "\n",
      "cur.execute(\"SELECT sales.sr_property_id, \" +\n",
      "                \"sales.sr_val_transfer, \" +\n",
      "                \"sales.sr_arms_length_flag, \" +\n",
      "                \"(sales.sr_date_transfer / 10000) AS sr_year, \" +\n",
      "                \"sales.mm_fips_muni_code, \" +\n",
      "                \"assessor.sa_sqft, \" +\n",
      "                \"assessor.use_code_std, \" +\n",
      "                \"assessor.sa_census_tract \" +\n",
      "            \"FROM master.sales \" +\n",
      "            \"LEFT JOIN master.assessor \" +\n",
      "                \"ON sa_property_id = sr_property_id \" +\n",
      "            \"WHERE sales.mm_fips_muni_code IN (1, 13, 41, 55, 75, 81, 85, 95, 97) \" +\n",
      "                \"AND sales.sr_arms_length_flag = '1' \" +\n",
      "                \"AND sales.sr_val_transfer > 0 \" +\n",
      "                \"AND (sales.sr_date_transfer / 10000) IN (2004, 2014) \" +\n",
      "                \"AND assessor.sa_sqft > 0 \" +\n",
      "                \"AND assessor.use_code_std != '' \" +\n",
      "                \"AND assessor.sa_census_tract != '' \")\n",
      "\n",
      "out = cur.fetchall()\n",
      "\n",
      "print \"typical output //\", out[0]\n",
      "print \"number of records //\", len(out)\n",
      "\n",
      "print\n",
      "print int(round(time.time()-t0)), \"seconds\""
     ],
     "language": "python",
     "metadata": {},
     "outputs": [
      {
       "output_type": "stream",
       "stream": "stdout",
       "text": [
        "pull data for calculating median price per square foot\n",
        "\n",
        "typical output //"
       ]
      },
      {
       "output_type": "stream",
       "stream": "stdout",
       "text": [
        " (30318173, 1770000, '1', 2004, 85, 9116, 'RMFD', '502002')\n",
        "number of records // 176888\n",
        "\n",
        "1788 seconds\n"
       ]
      }
     ],
     "prompt_number": 41
    },
    {
     "cell_type": "code",
     "collapsed": false,
     "input": [
      "t0 = time.time()\n",
      "\n",
      "# Make arrays of output by variable\n",
      "price = np.array([r[1] for r in out])\n",
      "sqft = np.array([r[5] for r in out])\n",
      "price_sqft = np.divide(price, sqft) # note this gives integer output\n",
      "\n",
      "use = np.array([r[6][0] for r in out])\n",
      "tract = np.array([r[7] for r in out])\n",
      "year = np.array([r[3] for r in out])\n",
      "\n",
      "# Filters for use code and census tract\n",
      "fltr_use = (use=='R')\n",
      "fltr_2004 = (year==2004)\n",
      "fltr_2014 = (year==2014)\n",
      "fltr_tract = {t: (tract==t) for t in np.unique(tract)}\n",
      "\n",
      "# Function to calculate stats for a given tract\n",
      "def my_stats(t):\n",
      "    fltr = fltr_tract[t] * fltr_use * fltr_2004\n",
      "    price_sqft_2004 = np.median(price_sqft[fltr])\n",
      "    count_2004 = np.count_nonzero(fltr)\n",
      "    \n",
      "    fltr = fltr_tract[t] * fltr_use * fltr_2014\n",
      "    price_sqft_2014 = np.median(price_sqft[fltr])\n",
      "    count_2014 = np.count_nonzero(fltr)\n",
      "    \n",
      "    price_apprec = np.subtract(np.divide(price_sqft_2014, price_sqft_2004), 1)\n",
      "    return [price_sqft_2004, count_2004, price_sqft_2014, count_2014, price_apprec]\n",
      "\n",
      "table = [[t] + my_stats(t) for t in np.unique(tract)]\n",
      "labels = ['tract', 'price_sqft_2004', 'count_2004', 'price_sqft_2014', 'count_2014', 'apprec']\n",
      "\n",
      "print table[0]\n",
      "\n",
      "print\n",
      "print int(round(time.time()-t0)), \"seconds\""
     ],
     "language": "python",
     "metadata": {},
     "outputs": [
      {
       "output_type": "stream",
       "stream": "stdout",
       "text": [
        "['010100', 651.0, 47, 977.0, 13, 0.50076804915514583]\n",
        "\n",
        "7 seconds\n"
       ]
      }
     ],
     "prompt_number": 42
    },
    {
     "cell_type": "code",
     "collapsed": false,
     "input": [
      "outname = '../Descriptive stats/price_sqft_v2.csv'\n",
      "\n",
      "with open(outname, 'wb') as f:\n",
      "    writer = csv.writer(f)\n",
      "    writer.writerow(labels)\n",
      "    writer.writerows(table)"
     ],
     "language": "python",
     "metadata": {},
     "outputs": [],
     "prompt_number": 43
    },
    {
     "cell_type": "code",
     "collapsed": false,
     "input": [
      "# TO DO\n",
      "# - -"
     ],
     "language": "python",
     "metadata": {},
     "outputs": []
    },
    {
     "cell_type": "code",
     "collapsed": false,
     "input": [],
     "language": "python",
     "metadata": {},
     "outputs": []
    },
    {
     "cell_type": "code",
     "collapsed": false,
     "input": [
      "a = np.array([1,2,3,4,5,6,7,8,9,10])\n",
      "b = np.array([2,2,2,2,2,2,2,2,2,2])\n",
      "print np.median(a[a<6])\n",
      "print np.divide(a,b)\n",
      "print np.subtract(a, 1)"
     ],
     "language": "python",
     "metadata": {},
     "outputs": [
      {
       "output_type": "stream",
       "stream": "stdout",
       "text": [
        "3.0\n",
        "[0 1 1 2 2 3 3 4 4 5]\n",
        "[0 1 2 3 4 5 6 7 8 9]\n"
       ]
      }
     ],
     "prompt_number": 25
    },
    {
     "cell_type": "code",
     "collapsed": false,
     "input": [],
     "language": "python",
     "metadata": {},
     "outputs": []
    },
    {
     "cell_type": "code",
     "collapsed": false,
     "input": [],
     "language": "python",
     "metadata": {},
     "outputs": []
    },
    {
     "cell_type": "code",
     "collapsed": false,
     "input": [
      "# old code\n",
      "\n",
      "t0 = time.time()\n",
      "\n",
      "tract = np.array([r[1] for r in out])\n",
      "year = np.array([int(math.floor(r[0]/10000)) for r in out])\n",
      "use = np.array([r[2][0] for r in out])\n",
      "f = '001' # county fips\n",
      "\n",
      "use_fltr = (use=='R')\n",
      "year_fltr = {y: (year==y) for y in range(1999,2015)}\n",
      "tract_fltr = {t: (tract==t) for t in np.unique(tract)}\n",
      "\n",
      "def my_count(t,y):\n",
      "    return np.count_nonzero(tract_fltr[t] * year_fltr[y] * use_fltr)\n",
      "\n",
      "table = [[f, t] + [my_count(t,y) for y in range(1999,2015)] for t in np.unique(tract)]\n",
      "        \n",
      "print time.time() - t0"
     ],
     "language": "python",
     "metadata": {},
     "outputs": []
    },
    {
     "cell_type": "code",
     "collapsed": false,
     "input": [],
     "language": "python",
     "metadata": {},
     "outputs": []
    },
    {
     "cell_type": "code",
     "collapsed": false,
     "input": [],
     "language": "python",
     "metadata": {},
     "outputs": []
    },
    {
     "cell_type": "code",
     "collapsed": false,
     "input": [],
     "language": "python",
     "metadata": {},
     "outputs": []
    },
    {
     "cell_type": "code",
     "collapsed": false,
     "input": [],
     "language": "python",
     "metadata": {},
     "outputs": []
    },
    {
     "cell_type": "markdown",
     "metadata": {},
     "source": [
      "### Working code"
     ]
    },
    {
     "cell_type": "code",
     "collapsed": false,
     "input": [
      "# Try to fix the problems with sales table indexing\n",
      "\n",
      "t0 = time.time()\n",
      "\n",
      "conn.commit()\n",
      "cur.execute(\"SET enable_seqscan=false; \" +\n",
      "            \"SELECT mm_fips_muni_code FROM master.sales \" +\n",
      "            \"WHERE mm_fips_muni_code = 95\")\n",
      "\n",
      "print(cur.fetchall()[:100])\n",
      "print(time.time() - t0)"
     ],
     "language": "python",
     "metadata": {},
     "outputs": [
      {
       "output_type": "stream",
       "stream": "stdout",
       "text": [
        "[(95,), (95,), (95,), (95,), (95,), (95,), (95,), (95,), (95,), (95,), (95,), (95,), (95,), (95,), (95,), (95,), (95,), (95,), (95,), (95,), (95,), (95,), (95,), (95,), (95,), (95,), (95,), (95,), (95,), (95,), (95,), (95,), (95,), (95,), (95,), (95,), (95,), (95,), (95,), (95,), (95,), (95,), (95,), (95,), (95,), (95,), (95,), (95,), (95,), (95,), (95,), (95,), (95,), (95,), (95,), (95,), (95,), (95,), (95,), (95,), (95,), (95,), (95,), (95,), (95,), (95,), (95,), (95,), (95,), (95,), (95,), (95,), (95,), (95,), (95,), (95,), (95,), (95,), (95,), (95,), (95,), (95,), (95,), (95,), (95,), (95,), (95,), (95,), (95,), (95,), (95,), (95,), (95,), (95,), (95,), (95,), (95,), (95,), (95,), (95,)]\n",
        "0.364159822464\n"
       ]
      }
     ],
     "prompt_number": 23
    },
    {
     "cell_type": "code",
     "collapsed": false,
     "input": [
      "conn.commit()"
     ],
     "language": "python",
     "metadata": {},
     "outputs": [],
     "prompt_number": 11
    },
    {
     "cell_type": "code",
     "collapsed": false,
     "input": [
      "t0 = time.time()\n",
      "conn.commit()\n",
      "\n",
      "cur.execute(\"SELECT sales.sr_property_id, sales.sr_date_transfer, \" +\n",
      "            \"assessor.sa_property_id, assessor.sa_census_tract, assessor.use_code_std \" + \n",
      "            \"FROM master.sales \" +\n",
      "            \"LEFT OUTER JOIN master.assessor ON sa_property_id = sr_property_id \" +\n",
      "            \"WHERE sales.mm_fips_muni_code=65 \" +\n",
      "            \"LIMIT 20\")\n",
      "\n",
      "out = np.array(cur.fetchall())\n",
      "print out\n",
      "print time.time() - t0"
     ],
     "language": "python",
     "metadata": {},
     "outputs": [
      {
       "output_type": "stream",
       "stream": "stdout",
       "text": [
        "[[27573238 20100324 27573238 042212 RSFR]\n",
        " [27717577 20100324 27717577 043310 RSFR]\n",
        " [27771587 20100324 27771587 048902 RSFR]\n",
        " [27760664 20100324 27760664 042521 RSFR]\n",
        " [27732255 20100324 27732255 043312 RSFR]\n",
        " [27782760 20100324 27782760 044605 RCON]\n",
        " [27737159 20100324 27737159 043503 RSFR]\n",
        " [27732725 20100324 27732725 043310 RSFR]\n",
        " [27766592 20100324 27766592 042509 RSFR]\n",
        " [27715990 20100324 27715990 043601 RSFR]\n",
        " [101298318 20100115 101298318 042732 RSFR]\n",
        " [27592365 20100326 27592365 042506 RSFR]\n",
        " [27601900 20100326 27601900 049000 RSFR]\n",
        " [0 20100326 None None None]\n",
        " [0 20100326 None None None]\n",
        " [0 20100326 None None None]\n",
        " [0 20100326 None None None]\n",
        " [0 20100326 None None None]\n",
        " [27720904 20100326 27720904 043505 RSFR]\n",
        " [27754187 20100326 27754187 042407 RSFR]]\n",
        "0.00318098068237\n"
       ]
      }
     ],
     "prompt_number": 32
    },
    {
     "cell_type": "code",
     "collapsed": false,
     "input": [
      "t0 = time.time()\n",
      "conn.commit()\n",
      "\n",
      "cur.execute(\"SELECT sales.sr_date_transfer, \" +\n",
      "            \"assessor.sa_census_tract, assessor.use_code_std \" + \n",
      "            \"FROM master.sales \" +\n",
      "            \"INNER JOIN master.assessor ON sa_property_id = sr_property_id \" +\n",
      "            \"WHERE sales.mm_fips_muni_code=65 \" +\n",
      "            \"LIMIT 20\")\n",
      "\n",
      "out = cur.fetchall()\n",
      "tract = np.array([r[1] for r in out])\n",
      "year = np.array([math.floor(r[0]/10000) for r in out])\n",
      "use = np.array([r[2][0] for r in out])\n",
      "\n",
      "print tract\n",
      "print np.unique(tract)\n",
      "print year\n",
      "print np.unique(year)\n",
      "print use\n",
      "print tract[(year==2010)*(use =='R')]\n",
      "print time.time() - t0"
     ],
     "language": "python",
     "metadata": {},
     "outputs": [
      {
       "output_type": "stream",
       "stream": "stdout",
       "text": [
        "['042212' '043310' '048902' '042521' '043312' '044605' '043503' '043310'\n",
        " '042509' '043601' '042732' '042506' '049000' '043505' '042407' '043240'\n",
        " '042624' '040609' '043229' '043229']\n",
        "['040609' '042212' '042407' '042506' '042509' '042521' '042624' '042732'\n",
        " '043229' '043240' '043310' '043312' '043503' '043505' '043601' '044605'\n",
        " '048902' '049000']\n",
        "[ 2010.  2010.  2010.  2010.  2010.  2010.  2010.  2010.  2010.  2010.\n",
        "  2010.  2010.  2010.  2010.  2010.  2010.  2010.  2010.  2010.  2010.]\n",
        "[ 2010.]\n",
        "['R' 'R' 'R' 'R' 'R' 'R' 'R' 'R' 'R' 'R' 'R' 'R' 'R' 'R' 'R' 'R' 'R' 'R'\n",
        " 'R' 'R']\n",
        "['042212' '043310' '048902' '042521' '043312' '044605' '043503' '043310'\n",
        " '042509' '043601' '042732' '042506' '049000' '043505' '042407' '043240'\n",
        " '042624' '040609' '043229' '043229']\n",
        "0.00427794456482\n"
       ]
      }
     ],
     "prompt_number": 41
    },
    {
     "cell_type": "code",
     "collapsed": false,
     "input": [
      "conn.commit()\n",
      "cur.execute(\"SELECT assr_year FROM master.assessor \" +\n",
      "            \"WHERE mm_fips_muni_code = 75 LIMIT 100\")\n",
      "print(cur.fetchall())"
     ],
     "language": "python",
     "metadata": {},
     "outputs": [
      {
       "output_type": "stream",
       "stream": "stdout",
       "text": [
        "[('2013',), ('2013',), ('0',), ('2013',), ('2013',), ('2013',), ('2013',), ('2013',), ('2013',), ('2013',), ('2013',), ('2013',), ('2013',), ('2013',), ('2013',), ('2013',), ('2013',), ('2013',), ('2013',), ('2013',), ('2013',), ('2013',), ('2013',), ('2013',), ('2013',), ('2013',), ('2013',), ('2013',), ('2013',), ('2013',), ('2013',), ('2013',), ('2013',), ('2013',), ('2013',), ('2013',), ('2013',), ('2013',), ('2013',), ('2013',), ('2013',), ('2013',), ('2013',), ('2013',), ('2013',), ('2013',), ('2013',), ('2013',), ('2013',), ('2013',), ('2013',), ('2013',), ('2013',), ('2013',), ('2013',), ('0',), ('2013',), ('0',), ('0',), ('0',), ('2013',), ('2013',), ('2013',), ('0',), ('2013',), ('2013',), ('2013',), ('2013',), ('2013',), ('2013',), ('2013',), ('2013',), ('2013',), ('2013',), ('2013',), ('0',), ('2013',), ('2013',), ('2013',), ('2013',), ('2013',), ('2013',), ('2011',), ('2013',), ('2013',), ('2013',), ('2013',), ('2013',), ('2013',), ('2013',), ('2013',), ('2013',), ('2013',), ('2013',), ('2013',), ('2013',), ('2013',), ('2013',), ('0',), ('0',)]\n"
       ]
      }
     ],
     "prompt_number": 45
    },
    {
     "cell_type": "code",
     "collapsed": false,
     "input": [],
     "language": "python",
     "metadata": {},
     "outputs": []
    },
    {
     "cell_type": "code",
     "collapsed": false,
     "input": [],
     "language": "python",
     "metadata": {},
     "outputs": []
    },
    {
     "cell_type": "code",
     "collapsed": false,
     "input": [],
     "language": "python",
     "metadata": {},
     "outputs": []
    },
    {
     "cell_type": "markdown",
     "metadata": {},
     "source": [
      "### Original indicators output"
     ]
    },
    {
     "cell_type": "code",
     "collapsed": false,
     "input": [
      "t0 = time.time()\n",
      "conn.commit()\n",
      "\n",
      "cur.execute(\"SELECT sales.sr_date_transfer, \" +\n",
      "            \"assessor.sa_census_tract, assessor.use_code_std \" + \n",
      "            \"FROM master.sales \" +\n",
      "            \"INNER JOIN master.assessor ON sa_property_id = sr_property_id \" +\n",
      "            \"WHERE sales.mm_fips_muni_code = 1 AND sales.sr_date_transfer > 0 AND \" +\n",
      "            \"assessor.use_code_std != '' AND assessor.sa_census_tract != '' \")\n",
      "\n",
      "out = cur.fetchall()\n",
      "print time.time() - t0"
     ],
     "language": "python",
     "metadata": {},
     "outputs": [
      {
       "output_type": "stream",
       "stream": "stdout",
       "text": [
        "616.02315402\n"
       ]
      }
     ],
     "prompt_number": 45
    },
    {
     "cell_type": "code",
     "collapsed": false,
     "input": [
      "t0 = time.time()\n",
      "\n",
      "tract = np.array([r[1] for r in out])\n",
      "year = np.array([int(math.floor(r[0]/10000)) for r in out])\n",
      "use = np.array([r[2][0] for r in out])\n",
      "f = '001' # county fips\n",
      "\n",
      "use_fltr = (use=='R')\n",
      "year_fltr = {y: (year==y) for y in range(1999,2015)}\n",
      "tract_fltr = {t: (tract==t) for t in np.unique(tract)}\n",
      "\n",
      "def my_count(t,y):\n",
      "    return np.count_nonzero(tract_fltr[t] * year_fltr[y] * use_fltr)\n",
      "\n",
      "table = [[f, t] + [my_count(t,y) for y in range(1999,2015)] for t in np.unique(tract)]\n",
      "        \n",
      "print time.time() - t0"
     ],
     "language": "python",
     "metadata": {},
     "outputs": [
      {
       "output_type": "stream",
       "stream": "stdout",
       "text": [
        "36.6030099392\n"
       ]
      }
     ],
     "prompt_number": 72
    },
    {
     "cell_type": "code",
     "collapsed": false,
     "input": [
      "labels = ['fips', 'tract'] + ['sales_' + str(y) for y in range(1999, 2015)]\n",
      "print labels"
     ],
     "language": "python",
     "metadata": {},
     "outputs": [
      {
       "output_type": "stream",
       "stream": "stdout",
       "text": [
        "['fips', 'tract', 'sales_1999', 'sales_2000', 'sales_2001', 'sales_2002', 'sales_2003', 'sales_2004', 'sales_2005', 'sales_2006', 'sales_2007', 'sales_2008', 'sales_2009', 'sales_2010', 'sales_2011', 'sales_2012', 'sales_2013', 'sales_2014']\n"
       ]
      }
     ],
     "prompt_number": 58
    },
    {
     "cell_type": "code",
     "collapsed": false,
     "input": [
      "path = '/Volumes/Seagate1/DataQuick/Descriptive Stats/'\n",
      "outname = '../Descriptive stats/out2.csv'\n",
      "\n",
      "with open(outname, 'wb') as f:\n",
      "    writer = csv.writer(f)\n",
      "    writer.writerow(labels)\n",
      "    writer.writerows(table)"
     ],
     "language": "python",
     "metadata": {},
     "outputs": [],
     "prompt_number": 73
    },
    {
     "cell_type": "code",
     "collapsed": false,
     "input": [
      "print np.count_nonzero(tract==t)"
     ],
     "language": "python",
     "metadata": {},
     "outputs": [
      {
       "output_type": "stream",
       "stream": "stdout",
       "text": [
        "14\n"
       ]
      }
     ],
     "prompt_number": 62
    },
    {
     "cell_type": "code",
     "collapsed": false,
     "input": [
      "print [1,2] + [3,4]"
     ],
     "language": "python",
     "metadata": {},
     "outputs": [
      {
       "output_type": "stream",
       "stream": "stdout",
       "text": [
        "[1, 2, 3, 4]\n"
       ]
      }
     ],
     "prompt_number": 70
    },
    {
     "cell_type": "code",
     "collapsed": false,
     "input": [
      "# Old code - it's faster to calculate each filter once\n",
      "# and then generate arrays with list comprehension\n",
      "\n",
      "for t in np.unique(tract):\n",
      "    row = [f, t]\n",
      "    for y in range(1999, 2015):\n",
      "        count = np.size(tract[(tract==t)*(year==y)*(use=='R')])\n",
      "        row.append(count)\n",
      "    table.append(row)\n"
     ],
     "language": "python",
     "metadata": {},
     "outputs": [],
     "prompt_number": 23
    },
    {
     "cell_type": "code",
     "collapsed": false,
     "input": [],
     "language": "python",
     "metadata": {},
     "outputs": []
    }
   ],
   "metadata": {}
  }
 ]
}